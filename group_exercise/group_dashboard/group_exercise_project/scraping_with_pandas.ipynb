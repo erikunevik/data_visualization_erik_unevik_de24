{
 "cells": [
  {
   "cell_type": "markdown",
   "id": "321a435f",
   "metadata": {},
   "source": [
    "# Scpraping tables with pandas"
   ]
  },
  {
   "cell_type": "code",
   "execution_count": 4,
   "id": "4c0ea054",
   "metadata": {},
   "outputs": [
    {
     "data": {
      "text/plain": [
       "(4, list)"
      ]
     },
     "execution_count": 4,
     "metadata": {},
     "output_type": "execute_result"
    }
   ],
   "source": [
    "import pandas as pd\n",
    "\n",
    "df_list = pd.read_html(\"https://en.wikipedia.org/wiki/List_of_largest_Nordic_companies\")\n",
    "len(df_list), type(df_list)"
   ]
  },
  {
   "cell_type": "code",
   "execution_count": 5,
   "id": "fc4cefbf",
   "metadata": {},
   "outputs": [
    {
     "data": {
      "text/html": [
       "<div>\n",
       "<style scoped>\n",
       "    .dataframe tbody tr th:only-of-type {\n",
       "        vertical-align: middle;\n",
       "    }\n",
       "\n",
       "    .dataframe tbody tr th {\n",
       "        vertical-align: top;\n",
       "    }\n",
       "\n",
       "    .dataframe thead th {\n",
       "        text-align: right;\n",
       "    }\n",
       "</style>\n",
       "<table border=\"1\" class=\"dataframe\">\n",
       "  <thead>\n",
       "    <tr style=\"text-align: right;\">\n",
       "      <th></th>\n",
       "      <th>Rank</th>\n",
       "      <th>Company</th>\n",
       "      <th>Headquarters</th>\n",
       "      <th>Industry</th>\n",
       "      <th>Revenue (billion $)</th>\n",
       "      <th>Profits (billion $)</th>\n",
       "      <th>Assets (billion $)</th>\n",
       "      <th>Market value (billion $)</th>\n",
       "    </tr>\n",
       "  </thead>\n",
       "  <tbody>\n",
       "    <tr>\n",
       "      <th>0</th>\n",
       "      <td>01 (41)</td>\n",
       "      <td>Equinor</td>\n",
       "      <td>Stavanger, Norway</td>\n",
       "      <td>Oil and gas</td>\n",
       "      <td>111.6</td>\n",
       "      <td>13.1</td>\n",
       "      <td>127.8</td>\n",
       "      <td>81.4[2]</td>\n",
       "    </tr>\n",
       "    <tr>\n",
       "      <th>1</th>\n",
       "      <td>02 (135)</td>\n",
       "      <td>Nordea</td>\n",
       "      <td>Helsinki, Finland</td>\n",
       "      <td>Banking</td>\n",
       "      <td>21.7</td>\n",
       "      <td>3.4</td>\n",
       "      <td>933.8</td>\n",
       "      <td>39.7[3]</td>\n",
       "    </tr>\n",
       "    <tr>\n",
       "      <th>2</th>\n",
       "      <td>03 (152)</td>\n",
       "      <td>A.P. Møller-Maersk</td>\n",
       "      <td>Copenhagen, Denmark</td>\n",
       "      <td>Transportation</td>\n",
       "      <td>56.1</td>\n",
       "      <td>2.6</td>\n",
       "      <td>69.8</td>\n",
       "      <td>33.7[4][5]</td>\n",
       "    </tr>\n",
       "    <tr>\n",
       "      <th>3</th>\n",
       "      <td>04 (183)</td>\n",
       "      <td>Volvo</td>\n",
       "      <td>Gothenburg, Sweden</td>\n",
       "      <td>Automotive</td>\n",
       "      <td>45.0</td>\n",
       "      <td>2.6</td>\n",
       "      <td>49.7</td>\n",
       "      <td>30.2[6][7]</td>\n",
       "    </tr>\n",
       "    <tr>\n",
       "      <th>4</th>\n",
       "      <td>05 (239)</td>\n",
       "      <td>Ericsson</td>\n",
       "      <td>Stockholm, Sweden</td>\n",
       "      <td>Telecommunication</td>\n",
       "      <td>32.9</td>\n",
       "      <td>1.8</td>\n",
       "      <td>19.0</td>\n",
       "      <td>19.4[8][9]</td>\n",
       "    </tr>\n",
       "    <tr>\n",
       "      <th>5</th>\n",
       "      <td>06 (260)</td>\n",
       "      <td>DNB</td>\n",
       "      <td>Oslo, Norway</td>\n",
       "      <td>Diversified financial</td>\n",
       "      <td>11.6</td>\n",
       "      <td>2.2</td>\n",
       "      <td>356.1</td>\n",
       "      <td>21.1[10]</td>\n",
       "    </tr>\n",
       "    <tr>\n",
       "      <th>6</th>\n",
       "      <td>07 (280)</td>\n",
       "      <td>SEB</td>\n",
       "      <td>Stockholm, Sweden</td>\n",
       "      <td>Banking</td>\n",
       "      <td>13.5</td>\n",
       "      <td>1.6</td>\n",
       "      <td>344.5</td>\n",
       "      <td>19.2[11][12]</td>\n",
       "    </tr>\n",
       "    <tr>\n",
       "      <th>7</th>\n",
       "      <td>08 (282)</td>\n",
       "      <td>Handelsbanken</td>\n",
       "      <td>Stockholm, Sweden</td>\n",
       "      <td>Banking</td>\n",
       "      <td>10.9</td>\n",
       "      <td>1.8</td>\n",
       "      <td>358.0</td>\n",
       "      <td>23.2[13][14]</td>\n",
       "    </tr>\n",
       "    <tr>\n",
       "      <th>8</th>\n",
       "      <td>09 (294)</td>\n",
       "      <td>Telia</td>\n",
       "      <td>Stockholm, Sweden</td>\n",
       "      <td>Telecommunications</td>\n",
       "      <td>15.1</td>\n",
       "      <td>2.7</td>\n",
       "      <td>35.9</td>\n",
       "      <td>30.0[15]</td>\n",
       "    </tr>\n",
       "    <tr>\n",
       "      <th>9</th>\n",
       "      <td>10 (311)</td>\n",
       "      <td>Swedbank</td>\n",
       "      <td>Stockholm, Sweden</td>\n",
       "      <td>Banking</td>\n",
       "      <td>10.3</td>\n",
       "      <td>1.7</td>\n",
       "      <td>270.8</td>\n",
       "      <td>19.1[16]</td>\n",
       "    </tr>\n",
       "    <tr>\n",
       "      <th>10</th>\n",
       "      <td>11 (353)</td>\n",
       "      <td>Telenor</td>\n",
       "      <td>Fornebu, Norway</td>\n",
       "      <td>Telecommunication</td>\n",
       "      <td>16.4</td>\n",
       "      <td>1.3</td>\n",
       "      <td>27.8</td>\n",
       "      <td>33.9[17]</td>\n",
       "    </tr>\n",
       "    <tr>\n",
       "      <th>11</th>\n",
       "      <td>12 (432)</td>\n",
       "      <td>Fortum</td>\n",
       "      <td>Espoo, Finland</td>\n",
       "      <td>Utilities</td>\n",
       "      <td>3.9</td>\n",
       "      <td>0.9</td>\n",
       "      <td>29.7</td>\n",
       "      <td>16.8[18]</td>\n",
       "    </tr>\n",
       "    <tr>\n",
       "      <th>12</th>\n",
       "      <td>13 (466)</td>\n",
       "      <td>Novo Nordisk</td>\n",
       "      <td>Copenhagen, Denmark</td>\n",
       "      <td>Health care</td>\n",
       "      <td>11.6</td>\n",
       "      <td>3.0</td>\n",
       "      <td>10.9</td>\n",
       "      <td>90.3[19]</td>\n",
       "    </tr>\n",
       "    <tr>\n",
       "      <th>13</th>\n",
       "      <td>14 (489)</td>\n",
       "      <td>H&amp;M</td>\n",
       "      <td>Stockholm, Sweden</td>\n",
       "      <td>Retailing</td>\n",
       "      <td>16.3</td>\n",
       "      <td>2.3</td>\n",
       "      <td>8.7</td>\n",
       "      <td>61.6</td>\n",
       "    </tr>\n",
       "    <tr>\n",
       "      <th>14</th>\n",
       "      <td>15 (498)</td>\n",
       "      <td>Danske Bank</td>\n",
       "      <td>Copenhagen, Denmark</td>\n",
       "      <td>Banking</td>\n",
       "      <td>20.0</td>\n",
       "      <td>0.3</td>\n",
       "      <td>597.8</td>\n",
       "      <td>15.8</td>\n",
       "    </tr>\n",
       "    <tr>\n",
       "      <th>15</th>\n",
       "      <td>16 (503)</td>\n",
       "      <td>Sampo Group</td>\n",
       "      <td>Helsinki, Finland</td>\n",
       "      <td>Insurance</td>\n",
       "      <td>7.2</td>\n",
       "      <td>1.3</td>\n",
       "      <td>38.3</td>\n",
       "      <td>16.3</td>\n",
       "    </tr>\n",
       "    <tr>\n",
       "      <th>16</th>\n",
       "      <td>17 (504)</td>\n",
       "      <td>Norsk Hydro</td>\n",
       "      <td>Oslo, Norway</td>\n",
       "      <td>Industrial</td>\n",
       "      <td>16.3</td>\n",
       "      <td>1.1</td>\n",
       "      <td>22.2</td>\n",
       "      <td>11.7</td>\n",
       "    </tr>\n",
       "    <tr>\n",
       "      <th>17</th>\n",
       "      <td>18 (528)</td>\n",
       "      <td>Atlas Copco</td>\n",
       "      <td>Stockholm, Sweden</td>\n",
       "      <td>Capital goods</td>\n",
       "      <td>13.6</td>\n",
       "      <td>0.8</td>\n",
       "      <td>14.4</td>\n",
       "      <td>19.0</td>\n",
       "    </tr>\n",
       "    <tr>\n",
       "      <th>18</th>\n",
       "      <td>19 (563)</td>\n",
       "      <td>Carlsberg Group</td>\n",
       "      <td>Copenhagen, Denmark</td>\n",
       "      <td>Brewery</td>\n",
       "      <td>11.1</td>\n",
       "      <td>0.9</td>\n",
       "      <td>25.6</td>\n",
       "      <td>12.8</td>\n",
       "    </tr>\n",
       "    <tr>\n",
       "      <th>19</th>\n",
       "      <td>20 (573)</td>\n",
       "      <td>Nokia</td>\n",
       "      <td>Espoo, Finland</td>\n",
       "      <td>Technology</td>\n",
       "      <td>50.1</td>\n",
       "      <td>-1.5</td>\n",
       "      <td>44.6</td>\n",
       "      <td>32.8</td>\n",
       "    </tr>\n",
       "    <tr>\n",
       "      <th>20</th>\n",
       "      <td>21 (574)</td>\n",
       "      <td>Yara International</td>\n",
       "      <td>Oslo, Norway</td>\n",
       "      <td>Chemical industry</td>\n",
       "      <td>13.0</td>\n",
       "      <td>2.0</td>\n",
       "      <td>12.1</td>\n",
       "      <td>13.3</td>\n",
       "    </tr>\n",
       "    <tr>\n",
       "      <th>21</th>\n",
       "      <td>22 (578)</td>\n",
       "      <td>Sandvik</td>\n",
       "      <td>Sandviken, Sweden</td>\n",
       "      <td>Capital goods</td>\n",
       "      <td>13.6</td>\n",
       "      <td>0.8</td>\n",
       "      <td>14.4</td>\n",
       "      <td>19.0</td>\n",
       "    </tr>\n",
       "    <tr>\n",
       "      <th>22</th>\n",
       "      <td>23 (707)</td>\n",
       "      <td>Skanska</td>\n",
       "      <td>Stockholm, Sweden</td>\n",
       "      <td>Construction</td>\n",
       "      <td>17.2</td>\n",
       "      <td>1.1</td>\n",
       "      <td>11.8</td>\n",
       "      <td>7.5</td>\n",
       "    </tr>\n",
       "    <tr>\n",
       "      <th>23</th>\n",
       "      <td>24 (765)</td>\n",
       "      <td>UPM-Kymmene</td>\n",
       "      <td>Helsinki, Finland</td>\n",
       "      <td>Materials</td>\n",
       "      <td>13.0</td>\n",
       "      <td>0.6</td>\n",
       "      <td>19.3</td>\n",
       "      <td>7.2</td>\n",
       "    </tr>\n",
       "    <tr>\n",
       "      <th>24</th>\n",
       "      <td>25 (845)</td>\n",
       "      <td>SKF</td>\n",
       "      <td>Gothenburg, Sweden</td>\n",
       "      <td>Manufacturing</td>\n",
       "      <td>9.6</td>\n",
       "      <td>0.9</td>\n",
       "      <td>8.5</td>\n",
       "      <td>11.5</td>\n",
       "    </tr>\n",
       "    <tr>\n",
       "      <th>25</th>\n",
       "      <td>26 (902)</td>\n",
       "      <td>Stora Enso</td>\n",
       "      <td>Helsinki, Finland</td>\n",
       "      <td>Manufacturing</td>\n",
       "      <td>14.2</td>\n",
       "      <td>0.4</td>\n",
       "      <td>16.7</td>\n",
       "      <td>6.0</td>\n",
       "    </tr>\n",
       "    <tr>\n",
       "      <th>26</th>\n",
       "      <td>27 (904)</td>\n",
       "      <td>Svenska Cellulosa Aktiebolaget</td>\n",
       "      <td>Stockholm, Sweden</td>\n",
       "      <td>Consumer Goods</td>\n",
       "      <td>11.8</td>\n",
       "      <td>0.1</td>\n",
       "      <td>20.2</td>\n",
       "      <td>12.5</td>\n",
       "    </tr>\n",
       "    <tr>\n",
       "      <th>27</th>\n",
       "      <td>28 (937)</td>\n",
       "      <td>Kone</td>\n",
       "      <td>Espoo, Finland</td>\n",
       "      <td>Engineering</td>\n",
       "      <td>9.5</td>\n",
       "      <td>1.2</td>\n",
       "      <td>8.4</td>\n",
       "      <td>14.9</td>\n",
       "    </tr>\n",
       "    <tr>\n",
       "      <th>28</th>\n",
       "      <td>29 (1098)</td>\n",
       "      <td>Electrolux</td>\n",
       "      <td>Stockholm, Sweden</td>\n",
       "      <td>Manufacturing</td>\n",
       "      <td>14.7</td>\n",
       "      <td>0.3</td>\n",
       "      <td>10.7</td>\n",
       "      <td>6.8</td>\n",
       "    </tr>\n",
       "    <tr>\n",
       "      <th>29</th>\n",
       "      <td>30 (1101)</td>\n",
       "      <td>Assa Abloy</td>\n",
       "      <td>Stockholm, Sweden</td>\n",
       "      <td>Manufacturing</td>\n",
       "      <td>6.1</td>\n",
       "      <td>0.6</td>\n",
       "      <td>8.1</td>\n",
       "      <td>11.2</td>\n",
       "    </tr>\n",
       "    <tr>\n",
       "      <th>30</th>\n",
       "      <td>32 (1131)</td>\n",
       "      <td>Investor</td>\n",
       "      <td>Stockholm, Sweden</td>\n",
       "      <td>Diversified financials</td>\n",
       "      <td>2.8</td>\n",
       "      <td>-1.3</td>\n",
       "      <td>31.2</td>\n",
       "      <td>17.0</td>\n",
       "    </tr>\n",
       "    <tr>\n",
       "      <th>31</th>\n",
       "      <td>32 (1170)</td>\n",
       "      <td>Tele2</td>\n",
       "      <td>Stockholm, Sweden</td>\n",
       "      <td>Telecommunications</td>\n",
       "      <td>5.9</td>\n",
       "      <td>0.7</td>\n",
       "      <td>6.4</td>\n",
       "      <td>8.6</td>\n",
       "    </tr>\n",
       "    <tr>\n",
       "      <th>32</th>\n",
       "      <td>33 (1175)</td>\n",
       "      <td>Metso</td>\n",
       "      <td>Helsinki, Finland</td>\n",
       "      <td>Capital goods</td>\n",
       "      <td>8.6</td>\n",
       "      <td>0.5</td>\n",
       "      <td>8.4</td>\n",
       "      <td>7.3</td>\n",
       "    </tr>\n",
       "    <tr>\n",
       "      <th>33</th>\n",
       "      <td>34 (1226)</td>\n",
       "      <td>Autoliv</td>\n",
       "      <td>Stockholm, Sweden</td>\n",
       "      <td>Automotive</td>\n",
       "      <td>8.2</td>\n",
       "      <td>0.6</td>\n",
       "      <td>6.1</td>\n",
       "      <td>6.2</td>\n",
       "    </tr>\n",
       "    <tr>\n",
       "      <th>34</th>\n",
       "      <td>35 (1254)</td>\n",
       "      <td>Orkla Group</td>\n",
       "      <td>Oslo, Norway</td>\n",
       "      <td>Media</td>\n",
       "      <td>10.2</td>\n",
       "      <td>-0.1</td>\n",
       "      <td>11.1</td>\n",
       "      <td>8.2</td>\n",
       "    </tr>\n",
       "    <tr>\n",
       "      <th>35</th>\n",
       "      <td>36 (1297)</td>\n",
       "      <td>Kinnevik</td>\n",
       "      <td>Stockholm, Sweden</td>\n",
       "      <td>Investment</td>\n",
       "      <td>1.3</td>\n",
       "      <td>1.0</td>\n",
       "      <td>10.2</td>\n",
       "      <td>6.3</td>\n",
       "    </tr>\n",
       "    <tr>\n",
       "      <th>36</th>\n",
       "      <td>37 (1363)</td>\n",
       "      <td>Storebrand</td>\n",
       "      <td>Oslo, Norway</td>\n",
       "      <td>Insurance</td>\n",
       "      <td>5.6</td>\n",
       "      <td>0.1</td>\n",
       "      <td>67.2</td>\n",
       "      <td>2.4</td>\n",
       "    </tr>\n",
       "    <tr>\n",
       "      <th>37</th>\n",
       "      <td>38 (1373)</td>\n",
       "      <td>TDC A/S</td>\n",
       "      <td>Copenhagen, Denmark</td>\n",
       "      <td>Telecommunications</td>\n",
       "      <td>4.6</td>\n",
       "      <td>0.5</td>\n",
       "      <td>11.4</td>\n",
       "      <td>6.0</td>\n",
       "    </tr>\n",
       "    <tr>\n",
       "      <th>38</th>\n",
       "      <td>39 (1376)</td>\n",
       "      <td>OP-Pohjola Group</td>\n",
       "      <td>Helsinki, Finland</td>\n",
       "      <td>Financial services</td>\n",
       "      <td>4.9</td>\n",
       "      <td>0.3</td>\n",
       "      <td>53.3</td>\n",
       "      <td>3.7</td>\n",
       "    </tr>\n",
       "    <tr>\n",
       "      <th>39</th>\n",
       "      <td>40 (1388)</td>\n",
       "      <td>Aker Solutions</td>\n",
       "      <td>Oslo, Norway</td>\n",
       "      <td>Engineering</td>\n",
       "      <td>6.1</td>\n",
       "      <td>0.9</td>\n",
       "      <td>5.6</td>\n",
       "      <td>4.5</td>\n",
       "    </tr>\n",
       "    <tr>\n",
       "      <th>40</th>\n",
       "      <td>41 (1416)</td>\n",
       "      <td>Gjensidige</td>\n",
       "      <td>Oslo, Norway</td>\n",
       "      <td>Insurance</td>\n",
       "      <td>3.6</td>\n",
       "      <td>0.5</td>\n",
       "      <td>14.7</td>\n",
       "      <td>5.9</td>\n",
       "    </tr>\n",
       "    <tr>\n",
       "      <th>41</th>\n",
       "      <td>42 (1481)</td>\n",
       "      <td>L E Lundbergföretagen</td>\n",
       "      <td>Stockholm, Sweden</td>\n",
       "      <td>Investment</td>\n",
       "      <td>3.3</td>\n",
       "      <td>0.7</td>\n",
       "      <td>12.5</td>\n",
       "      <td>4.2</td>\n",
       "    </tr>\n",
       "    <tr>\n",
       "      <th>42</th>\n",
       "      <td>43 (1488)</td>\n",
       "      <td>Alfa Laval</td>\n",
       "      <td>Lund, Sweden</td>\n",
       "      <td>Manufacturing</td>\n",
       "      <td>4.2</td>\n",
       "      <td>0.5</td>\n",
       "      <td>4.8</td>\n",
       "      <td>8.7</td>\n",
       "    </tr>\n",
       "    <tr>\n",
       "      <th>43</th>\n",
       "      <td>44 (1495)</td>\n",
       "      <td>Neste</td>\n",
       "      <td>Espoo, Finland</td>\n",
       "      <td>Oil refining</td>\n",
       "      <td>20.0</td>\n",
       "      <td>0.2</td>\n",
       "      <td>9.4</td>\n",
       "      <td>3.1</td>\n",
       "    </tr>\n",
       "    <tr>\n",
       "      <th>44</th>\n",
       "      <td>45 (1506)</td>\n",
       "      <td>Wärtsilä</td>\n",
       "      <td>Helsinki, Finland</td>\n",
       "      <td>Manufacturing</td>\n",
       "      <td>5.6</td>\n",
       "      <td>0.6</td>\n",
       "      <td>5.8</td>\n",
       "      <td>7.2</td>\n",
       "    </tr>\n",
       "    <tr>\n",
       "      <th>45</th>\n",
       "      <td>46 (1619)</td>\n",
       "      <td>Boliden AB</td>\n",
       "      <td>Stockholm, Sweden</td>\n",
       "      <td>Mining</td>\n",
       "      <td>5.8</td>\n",
       "      <td>0.5</td>\n",
       "      <td>5.5</td>\n",
       "      <td>4.6</td>\n",
       "    </tr>\n",
       "    <tr>\n",
       "      <th>46</th>\n",
       "      <td>47 (1686)</td>\n",
       "      <td>Jyske Bank</td>\n",
       "      <td>Silkeborg, Denmark</td>\n",
       "      <td>Banking</td>\n",
       "      <td>1.6</td>\n",
       "      <td>0.1</td>\n",
       "      <td>47.2</td>\n",
       "      <td>2.4</td>\n",
       "    </tr>\n",
       "    <tr>\n",
       "      <th>47</th>\n",
       "      <td>48 (1750)</td>\n",
       "      <td>Swedish Match</td>\n",
       "      <td>Stockholm, Sweden</td>\n",
       "      <td>Tobacco</td>\n",
       "      <td>1.7</td>\n",
       "      <td>0.4</td>\n",
       "      <td>2.1</td>\n",
       "      <td>8.1</td>\n",
       "    </tr>\n",
       "    <tr>\n",
       "      <th>48</th>\n",
       "      <td>49 (1816)</td>\n",
       "      <td>Hexagon AB</td>\n",
       "      <td>Stockholm, Sweden</td>\n",
       "      <td>Technology</td>\n",
       "      <td>2.8</td>\n",
       "      <td>0.4</td>\n",
       "      <td>6.8</td>\n",
       "      <td>7.0</td>\n",
       "    </tr>\n",
       "    <tr>\n",
       "      <th>49</th>\n",
       "      <td>50 (1868)</td>\n",
       "      <td>Nokian Tyres</td>\n",
       "      <td>Nokia, Finland</td>\n",
       "      <td>Manufacturing</td>\n",
       "      <td>1.9</td>\n",
       "      <td>0.4</td>\n",
       "      <td>2.4</td>\n",
       "      <td>6.4</td>\n",
       "    </tr>\n",
       "    <tr>\n",
       "      <th>50</th>\n",
       "      <td>51 (1883)</td>\n",
       "      <td>Kesko</td>\n",
       "      <td>Helsinki, Finland</td>\n",
       "      <td>Retail</td>\n",
       "      <td>12.3</td>\n",
       "      <td>0.2</td>\n",
       "      <td>5.4</td>\n",
       "      <td>3.2</td>\n",
       "    </tr>\n",
       "    <tr>\n",
       "      <th>51</th>\n",
       "      <td>52 (1889)</td>\n",
       "      <td>Novozymes</td>\n",
       "      <td>Copenhagen, Denmark</td>\n",
       "      <td>Health care</td>\n",
       "      <td>1.8</td>\n",
       "      <td>0.3</td>\n",
       "      <td>2.4</td>\n",
       "      <td>7.9</td>\n",
       "    </tr>\n",
       "    <tr>\n",
       "      <th>52</th>\n",
       "      <td>53 (1929)</td>\n",
       "      <td>Sydbank</td>\n",
       "      <td>Aabenraa, Denmark</td>\n",
       "      <td>Banking</td>\n",
       "      <td>1.0</td>\n",
       "      <td>0.0</td>\n",
       "      <td>26.8</td>\n",
       "      <td>1.4</td>\n",
       "    </tr>\n",
       "    <tr>\n",
       "      <th>53</th>\n",
       "      <td>54 (1935)</td>\n",
       "      <td>Getinge Group</td>\n",
       "      <td>Getinge, Sweden</td>\n",
       "      <td>Medical technology</td>\n",
       "      <td>3.2</td>\n",
       "      <td>0.4</td>\n",
       "      <td>6.0</td>\n",
       "      <td>6.6</td>\n",
       "    </tr>\n",
       "    <tr>\n",
       "      <th>54</th>\n",
       "      <td>55 (1937)</td>\n",
       "      <td>Coloplast</td>\n",
       "      <td>Copenhagen, Denmark</td>\n",
       "      <td>Medical equipment</td>\n",
       "      <td>1.8</td>\n",
       "      <td>0.3</td>\n",
       "      <td>1.6</td>\n",
       "      <td>7.3</td>\n",
       "    </tr>\n",
       "    <tr>\n",
       "      <th>55</th>\n",
       "      <td>56 (1948)</td>\n",
       "      <td>Vestas</td>\n",
       "      <td>Aarhus, Denmark</td>\n",
       "      <td>Manufacturing</td>\n",
       "      <td>7.6</td>\n",
       "      <td>-0.2</td>\n",
       "      <td>9.6</td>\n",
       "      <td>2.3</td>\n",
       "    </tr>\n",
       "  </tbody>\n",
       "</table>\n",
       "</div>"
      ],
      "text/plain": [
       "         Rank                         Company         Headquarters  \\\n",
       "0     01 (41)                         Equinor    Stavanger, Norway   \n",
       "1    02 (135)                          Nordea    Helsinki, Finland   \n",
       "2    03 (152)              A.P. Møller-Maersk  Copenhagen, Denmark   \n",
       "3    04 (183)                           Volvo   Gothenburg, Sweden   \n",
       "4    05 (239)                        Ericsson    Stockholm, Sweden   \n",
       "5    06 (260)                             DNB         Oslo, Norway   \n",
       "6    07 (280)                             SEB    Stockholm, Sweden   \n",
       "7    08 (282)                   Handelsbanken    Stockholm, Sweden   \n",
       "8    09 (294)                           Telia    Stockholm, Sweden   \n",
       "9    10 (311)                        Swedbank    Stockholm, Sweden   \n",
       "10   11 (353)                         Telenor      Fornebu, Norway   \n",
       "11   12 (432)                          Fortum       Espoo, Finland   \n",
       "12   13 (466)                    Novo Nordisk  Copenhagen, Denmark   \n",
       "13   14 (489)                             H&M    Stockholm, Sweden   \n",
       "14   15 (498)                     Danske Bank  Copenhagen, Denmark   \n",
       "15   16 (503)                     Sampo Group    Helsinki, Finland   \n",
       "16   17 (504)                     Norsk Hydro         Oslo, Norway   \n",
       "17   18 (528)                     Atlas Copco    Stockholm, Sweden   \n",
       "18   19 (563)                 Carlsberg Group  Copenhagen, Denmark   \n",
       "19   20 (573)                           Nokia       Espoo, Finland   \n",
       "20   21 (574)              Yara International         Oslo, Norway   \n",
       "21   22 (578)                         Sandvik    Sandviken, Sweden   \n",
       "22   23 (707)                         Skanska    Stockholm, Sweden   \n",
       "23   24 (765)                     UPM-Kymmene    Helsinki, Finland   \n",
       "24   25 (845)                             SKF   Gothenburg, Sweden   \n",
       "25   26 (902)                      Stora Enso    Helsinki, Finland   \n",
       "26   27 (904)  Svenska Cellulosa Aktiebolaget    Stockholm, Sweden   \n",
       "27   28 (937)                            Kone       Espoo, Finland   \n",
       "28  29 (1098)                      Electrolux    Stockholm, Sweden   \n",
       "29  30 (1101)                      Assa Abloy    Stockholm, Sweden   \n",
       "30  32 (1131)                        Investor    Stockholm, Sweden   \n",
       "31  32 (1170)                           Tele2    Stockholm, Sweden   \n",
       "32  33 (1175)                           Metso    Helsinki, Finland   \n",
       "33  34 (1226)                         Autoliv    Stockholm, Sweden   \n",
       "34  35 (1254)                     Orkla Group         Oslo, Norway   \n",
       "35  36 (1297)                        Kinnevik    Stockholm, Sweden   \n",
       "36  37 (1363)                      Storebrand         Oslo, Norway   \n",
       "37  38 (1373)                         TDC A/S  Copenhagen, Denmark   \n",
       "38  39 (1376)                OP-Pohjola Group    Helsinki, Finland   \n",
       "39  40 (1388)                  Aker Solutions         Oslo, Norway   \n",
       "40  41 (1416)                      Gjensidige         Oslo, Norway   \n",
       "41  42 (1481)           L E Lundbergföretagen    Stockholm, Sweden   \n",
       "42  43 (1488)                      Alfa Laval         Lund, Sweden   \n",
       "43  44 (1495)                           Neste       Espoo, Finland   \n",
       "44  45 (1506)                        Wärtsilä    Helsinki, Finland   \n",
       "45  46 (1619)                      Boliden AB    Stockholm, Sweden   \n",
       "46  47 (1686)                      Jyske Bank   Silkeborg, Denmark   \n",
       "47  48 (1750)                   Swedish Match    Stockholm, Sweden   \n",
       "48  49 (1816)                      Hexagon AB    Stockholm, Sweden   \n",
       "49  50 (1868)                    Nokian Tyres       Nokia, Finland   \n",
       "50  51 (1883)                           Kesko    Helsinki, Finland   \n",
       "51  52 (1889)                       Novozymes  Copenhagen, Denmark   \n",
       "52  53 (1929)                         Sydbank    Aabenraa, Denmark   \n",
       "53  54 (1935)                   Getinge Group      Getinge, Sweden   \n",
       "54  55 (1937)                       Coloplast  Copenhagen, Denmark   \n",
       "55  56 (1948)                          Vestas      Aarhus, Denmark   \n",
       "\n",
       "                  Industry  Revenue (billion $)  Profits (billion $)  \\\n",
       "0              Oil and gas                111.6                 13.1   \n",
       "1                  Banking                 21.7                  3.4   \n",
       "2           Transportation                 56.1                  2.6   \n",
       "3               Automotive                 45.0                  2.6   \n",
       "4        Telecommunication                 32.9                  1.8   \n",
       "5    Diversified financial                 11.6                  2.2   \n",
       "6                  Banking                 13.5                  1.6   \n",
       "7                  Banking                 10.9                  1.8   \n",
       "8       Telecommunications                 15.1                  2.7   \n",
       "9                  Banking                 10.3                  1.7   \n",
       "10       Telecommunication                 16.4                  1.3   \n",
       "11               Utilities                  3.9                  0.9   \n",
       "12             Health care                 11.6                  3.0   \n",
       "13               Retailing                 16.3                  2.3   \n",
       "14                 Banking                 20.0                  0.3   \n",
       "15               Insurance                  7.2                  1.3   \n",
       "16              Industrial                 16.3                  1.1   \n",
       "17           Capital goods                 13.6                  0.8   \n",
       "18                 Brewery                 11.1                  0.9   \n",
       "19              Technology                 50.1                 -1.5   \n",
       "20       Chemical industry                 13.0                  2.0   \n",
       "21           Capital goods                 13.6                  0.8   \n",
       "22            Construction                 17.2                  1.1   \n",
       "23               Materials                 13.0                  0.6   \n",
       "24           Manufacturing                  9.6                  0.9   \n",
       "25           Manufacturing                 14.2                  0.4   \n",
       "26          Consumer Goods                 11.8                  0.1   \n",
       "27             Engineering                  9.5                  1.2   \n",
       "28           Manufacturing                 14.7                  0.3   \n",
       "29           Manufacturing                  6.1                  0.6   \n",
       "30  Diversified financials                  2.8                 -1.3   \n",
       "31      Telecommunications                  5.9                  0.7   \n",
       "32           Capital goods                  8.6                  0.5   \n",
       "33              Automotive                  8.2                  0.6   \n",
       "34                   Media                 10.2                 -0.1   \n",
       "35              Investment                  1.3                  1.0   \n",
       "36               Insurance                  5.6                  0.1   \n",
       "37      Telecommunications                  4.6                  0.5   \n",
       "38      Financial services                  4.9                  0.3   \n",
       "39             Engineering                  6.1                  0.9   \n",
       "40               Insurance                  3.6                  0.5   \n",
       "41              Investment                  3.3                  0.7   \n",
       "42           Manufacturing                  4.2                  0.5   \n",
       "43            Oil refining                 20.0                  0.2   \n",
       "44           Manufacturing                  5.6                  0.6   \n",
       "45                  Mining                  5.8                  0.5   \n",
       "46                 Banking                  1.6                  0.1   \n",
       "47                 Tobacco                  1.7                  0.4   \n",
       "48              Technology                  2.8                  0.4   \n",
       "49           Manufacturing                  1.9                  0.4   \n",
       "50                  Retail                 12.3                  0.2   \n",
       "51             Health care                  1.8                  0.3   \n",
       "52                 Banking                  1.0                  0.0   \n",
       "53      Medical technology                  3.2                  0.4   \n",
       "54       Medical equipment                  1.8                  0.3   \n",
       "55           Manufacturing                  7.6                 -0.2   \n",
       "\n",
       "    Assets (billion $) Market value (billion $)  \n",
       "0                127.8                  81.4[2]  \n",
       "1                933.8                  39.7[3]  \n",
       "2                 69.8               33.7[4][5]  \n",
       "3                 49.7               30.2[6][7]  \n",
       "4                 19.0               19.4[8][9]  \n",
       "5                356.1                 21.1[10]  \n",
       "6                344.5             19.2[11][12]  \n",
       "7                358.0             23.2[13][14]  \n",
       "8                 35.9                 30.0[15]  \n",
       "9                270.8                 19.1[16]  \n",
       "10                27.8                 33.9[17]  \n",
       "11                29.7                 16.8[18]  \n",
       "12                10.9                 90.3[19]  \n",
       "13                 8.7                     61.6  \n",
       "14               597.8                     15.8  \n",
       "15                38.3                     16.3  \n",
       "16                22.2                     11.7  \n",
       "17                14.4                     19.0  \n",
       "18                25.6                     12.8  \n",
       "19                44.6                     32.8  \n",
       "20                12.1                     13.3  \n",
       "21                14.4                     19.0  \n",
       "22                11.8                      7.5  \n",
       "23                19.3                      7.2  \n",
       "24                 8.5                     11.5  \n",
       "25                16.7                      6.0  \n",
       "26                20.2                     12.5  \n",
       "27                 8.4                     14.9  \n",
       "28                10.7                      6.8  \n",
       "29                 8.1                     11.2  \n",
       "30                31.2                     17.0  \n",
       "31                 6.4                      8.6  \n",
       "32                 8.4                      7.3  \n",
       "33                 6.1                      6.2  \n",
       "34                11.1                      8.2  \n",
       "35                10.2                      6.3  \n",
       "36                67.2                      2.4  \n",
       "37                11.4                      6.0  \n",
       "38                53.3                      3.7  \n",
       "39                 5.6                      4.5  \n",
       "40                14.7                      5.9  \n",
       "41                12.5                      4.2  \n",
       "42                 4.8                      8.7  \n",
       "43                 9.4                      3.1  \n",
       "44                 5.8                      7.2  \n",
       "45                 5.5                      4.6  \n",
       "46                47.2                      2.4  \n",
       "47                 2.1                      8.1  \n",
       "48                 6.8                      7.0  \n",
       "49                 2.4                      6.4  \n",
       "50                 5.4                      3.2  \n",
       "51                 2.4                      7.9  \n",
       "52                26.8                      1.4  \n",
       "53                 6.0                      6.6  \n",
       "54                 1.6                      7.3  \n",
       "55                 9.6                      2.3  "
      ]
     },
     "execution_count": 5,
     "metadata": {},
     "output_type": "execute_result"
    }
   ],
   "source": [
    "df_rank = df_list[1]\n",
    "df_rank"
   ]
  },
  {
   "cell_type": "code",
   "execution_count": 6,
   "id": "2f5fceef",
   "metadata": {},
   "outputs": [
    {
     "data": {
      "text/html": [
       "<div>\n",
       "<style scoped>\n",
       "    .dataframe tbody tr th:only-of-type {\n",
       "        vertical-align: middle;\n",
       "    }\n",
       "\n",
       "    .dataframe tbody tr th {\n",
       "        vertical-align: top;\n",
       "    }\n",
       "\n",
       "    .dataframe thead th {\n",
       "        text-align: right;\n",
       "    }\n",
       "</style>\n",
       "<table border=\"1\" class=\"dataframe\">\n",
       "  <thead>\n",
       "    <tr style=\"text-align: right;\">\n",
       "      <th></th>\n",
       "      <th>Country</th>\n",
       "      <th>2008-list</th>\n",
       "      <th>2009-list</th>\n",
       "      <th>2010-list</th>\n",
       "      <th>2011-list</th>\n",
       "      <th>2012-list</th>\n",
       "    </tr>\n",
       "  </thead>\n",
       "  <tbody>\n",
       "    <tr>\n",
       "      <th>0</th>\n",
       "      <td>Sweden</td>\n",
       "      <td>20</td>\n",
       "      <td>22</td>\n",
       "      <td>27</td>\n",
       "      <td>22</td>\n",
       "      <td>25</td>\n",
       "    </tr>\n",
       "    <tr>\n",
       "      <th>1</th>\n",
       "      <td>Finland</td>\n",
       "      <td>16</td>\n",
       "      <td>13</td>\n",
       "      <td>11</td>\n",
       "      <td>12</td>\n",
       "      <td>12</td>\n",
       "    </tr>\n",
       "    <tr>\n",
       "      <th>2</th>\n",
       "      <td>Norway</td>\n",
       "      <td>14</td>\n",
       "      <td>9</td>\n",
       "      <td>10</td>\n",
       "      <td>10</td>\n",
       "      <td>9</td>\n",
       "    </tr>\n",
       "    <tr>\n",
       "      <th>3</th>\n",
       "      <td>Denmark</td>\n",
       "      <td>9</td>\n",
       "      <td>12</td>\n",
       "      <td>13</td>\n",
       "      <td>10</td>\n",
       "      <td>10</td>\n",
       "    </tr>\n",
       "    <tr>\n",
       "      <th>4</th>\n",
       "      <td>Iceland</td>\n",
       "      <td>4</td>\n",
       "      <td>0</td>\n",
       "      <td>0</td>\n",
       "      <td>0</td>\n",
       "      <td>0</td>\n",
       "    </tr>\n",
       "  </tbody>\n",
       "</table>\n",
       "</div>"
      ],
      "text/plain": [
       "   Country  2008-list  2009-list  2010-list  2011-list  2012-list\n",
       "0   Sweden         20         22         27         22         25\n",
       "1  Finland         16         13         11         12         12\n",
       "2   Norway         14          9         10         10          9\n",
       "3  Denmark          9         12         13         10         10\n",
       "4  Iceland          4          0          0          0          0"
      ]
     },
     "execution_count": 6,
     "metadata": {},
     "output_type": "execute_result"
    }
   ],
   "source": [
    "df_country = df_list[2]\n",
    "df_country"
   ]
  },
  {
   "cell_type": "code",
   "execution_count": 7,
   "id": "b420a847",
   "metadata": {},
   "outputs": [
    {
     "data": {
      "text/html": [
       "<div>\n",
       "<style scoped>\n",
       "    .dataframe tbody tr th:only-of-type {\n",
       "        vertical-align: middle;\n",
       "    }\n",
       "\n",
       "    .dataframe tbody tr th {\n",
       "        vertical-align: top;\n",
       "    }\n",
       "\n",
       "    .dataframe thead th {\n",
       "        text-align: right;\n",
       "    }\n",
       "</style>\n",
       "<table border=\"1\" class=\"dataframe\">\n",
       "  <thead>\n",
       "    <tr style=\"text-align: right;\">\n",
       "      <th></th>\n",
       "      <th>Rank</th>\n",
       "      <th>Company</th>\n",
       "      <th>Headquarters</th>\n",
       "      <th>Industry</th>\n",
       "      <th>Employees</th>\n",
       "      <th>Reference date</th>\n",
       "    </tr>\n",
       "  </thead>\n",
       "  <tbody>\n",
       "    <tr>\n",
       "      <th>0</th>\n",
       "      <td>1</td>\n",
       "      <td>ISS</td>\n",
       "      <td>Copenhagen, Denmark</td>\n",
       "      <td>Facility Management</td>\n",
       "      <td>534500</td>\n",
       "      <td>2011[21]</td>\n",
       "    </tr>\n",
       "    <tr>\n",
       "      <th>1</th>\n",
       "      <td>2</td>\n",
       "      <td>Securitas</td>\n",
       "      <td>Stockholm, Sweden</td>\n",
       "      <td>Security Services</td>\n",
       "      <td>335945</td>\n",
       "      <td>2016[22]</td>\n",
       "    </tr>\n",
       "    <tr>\n",
       "      <th>2</th>\n",
       "      <td>3</td>\n",
       "      <td>Nokia</td>\n",
       "      <td>Espoo, Finland</td>\n",
       "      <td>Technology</td>\n",
       "      <td>130050</td>\n",
       "      <td>2011[23]</td>\n",
       "    </tr>\n",
       "    <tr>\n",
       "      <th>3</th>\n",
       "      <td>4</td>\n",
       "      <td>A.P. Møller-Maersk</td>\n",
       "      <td>Copenhagen, Denmark</td>\n",
       "      <td>Transportation</td>\n",
       "      <td>117080</td>\n",
       "      <td>2011[24]</td>\n",
       "    </tr>\n",
       "    <tr>\n",
       "      <th>4</th>\n",
       "      <td>5</td>\n",
       "      <td>Ericsson</td>\n",
       "      <td>Stockholm, Sweden</td>\n",
       "      <td>Telecommunication</td>\n",
       "      <td>104525</td>\n",
       "      <td>2011[25]</td>\n",
       "    </tr>\n",
       "    <tr>\n",
       "      <th>5</th>\n",
       "      <td>6</td>\n",
       "      <td>Volvo</td>\n",
       "      <td>Gothenburg, Sweden</td>\n",
       "      <td>Automotive</td>\n",
       "      <td>98162</td>\n",
       "      <td>2011[26]</td>\n",
       "    </tr>\n",
       "    <tr>\n",
       "      <th>6</th>\n",
       "      <td>7</td>\n",
       "      <td>H&amp;M</td>\n",
       "      <td>Stockholm, Sweden</td>\n",
       "      <td>Retailing</td>\n",
       "      <td>64874</td>\n",
       "      <td>2011[27]</td>\n",
       "    </tr>\n",
       "    <tr>\n",
       "      <th>7</th>\n",
       "      <td>8</td>\n",
       "      <td>Electrolux</td>\n",
       "      <td>Stockholm, Sweden</td>\n",
       "      <td>Manufacturing</td>\n",
       "      <td>52916</td>\n",
       "      <td>2011[28]</td>\n",
       "    </tr>\n",
       "    <tr>\n",
       "      <th>8</th>\n",
       "      <td>9</td>\n",
       "      <td>Skanska</td>\n",
       "      <td>Stockholm, Sweden</td>\n",
       "      <td>Construction</td>\n",
       "      <td>52557</td>\n",
       "      <td>2011[29]</td>\n",
       "    </tr>\n",
       "    <tr>\n",
       "      <th>9</th>\n",
       "      <td>10</td>\n",
       "      <td>Sandvik</td>\n",
       "      <td>Sandviken, Sweden</td>\n",
       "      <td>Capital goods</td>\n",
       "      <td>50030</td>\n",
       "      <td>2011[30]</td>\n",
       "    </tr>\n",
       "  </tbody>\n",
       "</table>\n",
       "</div>"
      ],
      "text/plain": [
       "   Rank             Company         Headquarters             Industry  \\\n",
       "0     1                 ISS  Copenhagen, Denmark  Facility Management   \n",
       "1     2           Securitas    Stockholm, Sweden    Security Services   \n",
       "2     3               Nokia       Espoo, Finland           Technology   \n",
       "3     4  A.P. Møller-Maersk  Copenhagen, Denmark       Transportation   \n",
       "4     5            Ericsson    Stockholm, Sweden    Telecommunication   \n",
       "5     6               Volvo   Gothenburg, Sweden           Automotive   \n",
       "6     7                 H&M    Stockholm, Sweden            Retailing   \n",
       "7     8          Electrolux    Stockholm, Sweden        Manufacturing   \n",
       "8     9             Skanska    Stockholm, Sweden         Construction   \n",
       "9    10             Sandvik    Sandviken, Sweden        Capital goods   \n",
       "\n",
       "   Employees Reference date  \n",
       "0     534500       2011[21]  \n",
       "1     335945       2016[22]  \n",
       "2     130050       2011[23]  \n",
       "3     117080       2011[24]  \n",
       "4     104525       2011[25]  \n",
       "5      98162       2011[26]  \n",
       "6      64874       2011[27]  \n",
       "7      52916       2011[28]  \n",
       "8      52557       2011[29]  \n",
       "9      50030       2011[30]  "
      ]
     },
     "execution_count": 7,
     "metadata": {},
     "output_type": "execute_result"
    }
   ],
   "source": [
    "df_size = df_list[3]\n",
    "df_size"
   ]
  },
  {
   "cell_type": "code",
   "execution_count": 25,
   "id": "6597725c",
   "metadata": {},
   "outputs": [],
   "source": [
    "df_size.to_csv(\"nordic_size.csv\", index=False)"
   ]
  },
  {
   "cell_type": "code",
   "execution_count": 8,
   "id": "12547588",
   "metadata": {},
   "outputs": [],
   "source": [
    "df_rank.to_csv(\"nordic_company_rankings.csv\", index=False)"
   ]
  },
  {
   "cell_type": "markdown",
   "id": "c4ba8878",
   "metadata": {},
   "source": [
    "#hur många företag per land top 10(slider)"
   ]
  },
  {
   "cell_type": "markdown",
   "id": "6562c7b9",
   "metadata": {},
   "source": [
    "Group focus\n",
    "- bar chart over top ten most employees\n",
    "- df_rank with industry drop down\n",
    "- how many companies per country with slider filter"
   ]
  },
  {
   "cell_type": "markdown",
   "id": "ef5b5d30",
   "metadata": {},
   "source": [
    "# Barchart"
   ]
  },
  {
   "cell_type": "code",
   "execution_count": 17,
   "id": "8b0ca996",
   "metadata": {},
   "outputs": [
    {
     "data": {
      "application/vnd.plotly.v1+json": {
       "config": {
        "plotlyServerURL": "https://plot.ly"
       },
       "data": [
        {
         "hovertemplate": "Company=%{x}<br>Employees=%{y}<extra></extra>",
         "legendgroup": "ISS",
         "marker": {
          "color": "#636efa",
          "pattern": {
           "shape": ""
          }
         },
         "name": "ISS",
         "orientation": "v",
         "showlegend": true,
         "textposition": "auto",
         "type": "bar",
         "x": [
          "ISS"
         ],
         "xaxis": "x",
         "y": {
          "bdata": "5CcIAA==",
          "dtype": "i4"
         },
         "yaxis": "y"
        },
        {
         "hovertemplate": "Company=%{x}<br>Employees=%{y}<extra></extra>",
         "legendgroup": "Securitas",
         "marker": {
          "color": "#EF553B",
          "pattern": {
           "shape": ""
          }
         },
         "name": "Securitas",
         "orientation": "v",
         "showlegend": true,
         "textposition": "auto",
         "type": "bar",
         "x": [
          "Securitas"
         ],
         "xaxis": "x",
         "y": {
          "bdata": "SSAFAA==",
          "dtype": "i4"
         },
         "yaxis": "y"
        },
        {
         "hovertemplate": "Company=%{x}<br>Employees=%{y}<extra></extra>",
         "legendgroup": "Nokia",
         "marker": {
          "color": "#00cc96",
          "pattern": {
           "shape": ""
          }
         },
         "name": "Nokia",
         "orientation": "v",
         "showlegend": true,
         "textposition": "auto",
         "type": "bar",
         "x": [
          "Nokia"
         ],
         "xaxis": "x",
         "y": {
          "bdata": "AvwBAA==",
          "dtype": "i4"
         },
         "yaxis": "y"
        },
        {
         "hovertemplate": "Company=%{x}<br>Employees=%{y}<extra></extra>",
         "legendgroup": "A.P. Møller-Maersk",
         "marker": {
          "color": "#ab63fa",
          "pattern": {
           "shape": ""
          }
         },
         "name": "A.P. Møller-Maersk",
         "orientation": "v",
         "showlegend": true,
         "textposition": "auto",
         "type": "bar",
         "x": [
          "A.P. Møller-Maersk"
         ],
         "xaxis": "x",
         "y": {
          "bdata": "WMkBAA==",
          "dtype": "i4"
         },
         "yaxis": "y"
        },
        {
         "hovertemplate": "Company=%{x}<br>Employees=%{y}<extra></extra>",
         "legendgroup": "Ericsson",
         "marker": {
          "color": "#FFA15A",
          "pattern": {
           "shape": ""
          }
         },
         "name": "Ericsson",
         "orientation": "v",
         "showlegend": true,
         "textposition": "auto",
         "type": "bar",
         "x": [
          "Ericsson"
         ],
         "xaxis": "x",
         "y": {
          "bdata": "TZgBAA==",
          "dtype": "i4"
         },
         "yaxis": "y"
        },
        {
         "hovertemplate": "Company=%{x}<br>Employees=%{y}<extra></extra>",
         "legendgroup": "Volvo",
         "marker": {
          "color": "#19d3f3",
          "pattern": {
           "shape": ""
          }
         },
         "name": "Volvo",
         "orientation": "v",
         "showlegend": true,
         "textposition": "auto",
         "type": "bar",
         "x": [
          "Volvo"
         ],
         "xaxis": "x",
         "y": {
          "bdata": "cn8BAA==",
          "dtype": "i4"
         },
         "yaxis": "y"
        },
        {
         "hovertemplate": "Company=%{x}<br>Employees=%{y}<extra></extra>",
         "legendgroup": "H&M",
         "marker": {
          "color": "#FF6692",
          "pattern": {
           "shape": ""
          }
         },
         "name": "H&M",
         "orientation": "v",
         "showlegend": true,
         "textposition": "auto",
         "type": "bar",
         "x": [
          "H&M"
         ],
         "xaxis": "x",
         "y": {
          "bdata": "av0AAA==",
          "dtype": "i4"
         },
         "yaxis": "y"
        },
        {
         "hovertemplate": "Company=%{x}<br>Employees=%{y}<extra></extra>",
         "legendgroup": "Electrolux",
         "marker": {
          "color": "#B6E880",
          "pattern": {
           "shape": ""
          }
         },
         "name": "Electrolux",
         "orientation": "v",
         "showlegend": true,
         "textposition": "auto",
         "type": "bar",
         "x": [
          "Electrolux"
         ],
         "xaxis": "x",
         "y": {
          "bdata": "tM4AAA==",
          "dtype": "i4"
         },
         "yaxis": "y"
        },
        {
         "hovertemplate": "Company=%{x}<br>Employees=%{y}<extra></extra>",
         "legendgroup": "Skanska",
         "marker": {
          "color": "#FF97FF",
          "pattern": {
           "shape": ""
          }
         },
         "name": "Skanska",
         "orientation": "v",
         "showlegend": true,
         "textposition": "auto",
         "type": "bar",
         "x": [
          "Skanska"
         ],
         "xaxis": "x",
         "y": {
          "bdata": "Tc0AAA==",
          "dtype": "i4"
         },
         "yaxis": "y"
        },
        {
         "hovertemplate": "Company=%{x}<br>Employees=%{y}<extra></extra>",
         "legendgroup": "Sandvik",
         "marker": {
          "color": "#FECB52",
          "pattern": {
           "shape": ""
          }
         },
         "name": "Sandvik",
         "orientation": "v",
         "showlegend": true,
         "textposition": "auto",
         "type": "bar",
         "x": [
          "Sandvik"
         ],
         "xaxis": "x",
         "y": {
          "bdata": "bsMAAA==",
          "dtype": "i4"
         },
         "yaxis": "y"
        }
       ],
       "layout": {
        "barmode": "relative",
        "legend": {
         "title": {
          "text": "Company"
         },
         "tracegroupgap": 0
        },
        "template": {
         "data": {
          "bar": [
           {
            "error_x": {
             "color": "#2a3f5f"
            },
            "error_y": {
             "color": "#2a3f5f"
            },
            "marker": {
             "line": {
              "color": "#E5ECF6",
              "width": 0.5
             },
             "pattern": {
              "fillmode": "overlay",
              "size": 10,
              "solidity": 0.2
             }
            },
            "type": "bar"
           }
          ],
          "barpolar": [
           {
            "marker": {
             "line": {
              "color": "#E5ECF6",
              "width": 0.5
             },
             "pattern": {
              "fillmode": "overlay",
              "size": 10,
              "solidity": 0.2
             }
            },
            "type": "barpolar"
           }
          ],
          "carpet": [
           {
            "aaxis": {
             "endlinecolor": "#2a3f5f",
             "gridcolor": "white",
             "linecolor": "white",
             "minorgridcolor": "white",
             "startlinecolor": "#2a3f5f"
            },
            "baxis": {
             "endlinecolor": "#2a3f5f",
             "gridcolor": "white",
             "linecolor": "white",
             "minorgridcolor": "white",
             "startlinecolor": "#2a3f5f"
            },
            "type": "carpet"
           }
          ],
          "choropleth": [
           {
            "colorbar": {
             "outlinewidth": 0,
             "ticks": ""
            },
            "type": "choropleth"
           }
          ],
          "contour": [
           {
            "colorbar": {
             "outlinewidth": 0,
             "ticks": ""
            },
            "colorscale": [
             [
              0,
              "#0d0887"
             ],
             [
              0.1111111111111111,
              "#46039f"
             ],
             [
              0.2222222222222222,
              "#7201a8"
             ],
             [
              0.3333333333333333,
              "#9c179e"
             ],
             [
              0.4444444444444444,
              "#bd3786"
             ],
             [
              0.5555555555555556,
              "#d8576b"
             ],
             [
              0.6666666666666666,
              "#ed7953"
             ],
             [
              0.7777777777777778,
              "#fb9f3a"
             ],
             [
              0.8888888888888888,
              "#fdca26"
             ],
             [
              1,
              "#f0f921"
             ]
            ],
            "type": "contour"
           }
          ],
          "contourcarpet": [
           {
            "colorbar": {
             "outlinewidth": 0,
             "ticks": ""
            },
            "type": "contourcarpet"
           }
          ],
          "heatmap": [
           {
            "colorbar": {
             "outlinewidth": 0,
             "ticks": ""
            },
            "colorscale": [
             [
              0,
              "#0d0887"
             ],
             [
              0.1111111111111111,
              "#46039f"
             ],
             [
              0.2222222222222222,
              "#7201a8"
             ],
             [
              0.3333333333333333,
              "#9c179e"
             ],
             [
              0.4444444444444444,
              "#bd3786"
             ],
             [
              0.5555555555555556,
              "#d8576b"
             ],
             [
              0.6666666666666666,
              "#ed7953"
             ],
             [
              0.7777777777777778,
              "#fb9f3a"
             ],
             [
              0.8888888888888888,
              "#fdca26"
             ],
             [
              1,
              "#f0f921"
             ]
            ],
            "type": "heatmap"
           }
          ],
          "histogram": [
           {
            "marker": {
             "pattern": {
              "fillmode": "overlay",
              "size": 10,
              "solidity": 0.2
             }
            },
            "type": "histogram"
           }
          ],
          "histogram2d": [
           {
            "colorbar": {
             "outlinewidth": 0,
             "ticks": ""
            },
            "colorscale": [
             [
              0,
              "#0d0887"
             ],
             [
              0.1111111111111111,
              "#46039f"
             ],
             [
              0.2222222222222222,
              "#7201a8"
             ],
             [
              0.3333333333333333,
              "#9c179e"
             ],
             [
              0.4444444444444444,
              "#bd3786"
             ],
             [
              0.5555555555555556,
              "#d8576b"
             ],
             [
              0.6666666666666666,
              "#ed7953"
             ],
             [
              0.7777777777777778,
              "#fb9f3a"
             ],
             [
              0.8888888888888888,
              "#fdca26"
             ],
             [
              1,
              "#f0f921"
             ]
            ],
            "type": "histogram2d"
           }
          ],
          "histogram2dcontour": [
           {
            "colorbar": {
             "outlinewidth": 0,
             "ticks": ""
            },
            "colorscale": [
             [
              0,
              "#0d0887"
             ],
             [
              0.1111111111111111,
              "#46039f"
             ],
             [
              0.2222222222222222,
              "#7201a8"
             ],
             [
              0.3333333333333333,
              "#9c179e"
             ],
             [
              0.4444444444444444,
              "#bd3786"
             ],
             [
              0.5555555555555556,
              "#d8576b"
             ],
             [
              0.6666666666666666,
              "#ed7953"
             ],
             [
              0.7777777777777778,
              "#fb9f3a"
             ],
             [
              0.8888888888888888,
              "#fdca26"
             ],
             [
              1,
              "#f0f921"
             ]
            ],
            "type": "histogram2dcontour"
           }
          ],
          "mesh3d": [
           {
            "colorbar": {
             "outlinewidth": 0,
             "ticks": ""
            },
            "type": "mesh3d"
           }
          ],
          "parcoords": [
           {
            "line": {
             "colorbar": {
              "outlinewidth": 0,
              "ticks": ""
             }
            },
            "type": "parcoords"
           }
          ],
          "pie": [
           {
            "automargin": true,
            "type": "pie"
           }
          ],
          "scatter": [
           {
            "fillpattern": {
             "fillmode": "overlay",
             "size": 10,
             "solidity": 0.2
            },
            "type": "scatter"
           }
          ],
          "scatter3d": [
           {
            "line": {
             "colorbar": {
              "outlinewidth": 0,
              "ticks": ""
             }
            },
            "marker": {
             "colorbar": {
              "outlinewidth": 0,
              "ticks": ""
             }
            },
            "type": "scatter3d"
           }
          ],
          "scattercarpet": [
           {
            "marker": {
             "colorbar": {
              "outlinewidth": 0,
              "ticks": ""
             }
            },
            "type": "scattercarpet"
           }
          ],
          "scattergeo": [
           {
            "marker": {
             "colorbar": {
              "outlinewidth": 0,
              "ticks": ""
             }
            },
            "type": "scattergeo"
           }
          ],
          "scattergl": [
           {
            "marker": {
             "colorbar": {
              "outlinewidth": 0,
              "ticks": ""
             }
            },
            "type": "scattergl"
           }
          ],
          "scattermap": [
           {
            "marker": {
             "colorbar": {
              "outlinewidth": 0,
              "ticks": ""
             }
            },
            "type": "scattermap"
           }
          ],
          "scattermapbox": [
           {
            "marker": {
             "colorbar": {
              "outlinewidth": 0,
              "ticks": ""
             }
            },
            "type": "scattermapbox"
           }
          ],
          "scatterpolar": [
           {
            "marker": {
             "colorbar": {
              "outlinewidth": 0,
              "ticks": ""
             }
            },
            "type": "scatterpolar"
           }
          ],
          "scatterpolargl": [
           {
            "marker": {
             "colorbar": {
              "outlinewidth": 0,
              "ticks": ""
             }
            },
            "type": "scatterpolargl"
           }
          ],
          "scatterternary": [
           {
            "marker": {
             "colorbar": {
              "outlinewidth": 0,
              "ticks": ""
             }
            },
            "type": "scatterternary"
           }
          ],
          "surface": [
           {
            "colorbar": {
             "outlinewidth": 0,
             "ticks": ""
            },
            "colorscale": [
             [
              0,
              "#0d0887"
             ],
             [
              0.1111111111111111,
              "#46039f"
             ],
             [
              0.2222222222222222,
              "#7201a8"
             ],
             [
              0.3333333333333333,
              "#9c179e"
             ],
             [
              0.4444444444444444,
              "#bd3786"
             ],
             [
              0.5555555555555556,
              "#d8576b"
             ],
             [
              0.6666666666666666,
              "#ed7953"
             ],
             [
              0.7777777777777778,
              "#fb9f3a"
             ],
             [
              0.8888888888888888,
              "#fdca26"
             ],
             [
              1,
              "#f0f921"
             ]
            ],
            "type": "surface"
           }
          ],
          "table": [
           {
            "cells": {
             "fill": {
              "color": "#EBF0F8"
             },
             "line": {
              "color": "white"
             }
            },
            "header": {
             "fill": {
              "color": "#C8D4E3"
             },
             "line": {
              "color": "white"
             }
            },
            "type": "table"
           }
          ]
         },
         "layout": {
          "annotationdefaults": {
           "arrowcolor": "#2a3f5f",
           "arrowhead": 0,
           "arrowwidth": 1
          },
          "autotypenumbers": "strict",
          "coloraxis": {
           "colorbar": {
            "outlinewidth": 0,
            "ticks": ""
           }
          },
          "colorscale": {
           "diverging": [
            [
             0,
             "#8e0152"
            ],
            [
             0.1,
             "#c51b7d"
            ],
            [
             0.2,
             "#de77ae"
            ],
            [
             0.3,
             "#f1b6da"
            ],
            [
             0.4,
             "#fde0ef"
            ],
            [
             0.5,
             "#f7f7f7"
            ],
            [
             0.6,
             "#e6f5d0"
            ],
            [
             0.7,
             "#b8e186"
            ],
            [
             0.8,
             "#7fbc41"
            ],
            [
             0.9,
             "#4d9221"
            ],
            [
             1,
             "#276419"
            ]
           ],
           "sequential": [
            [
             0,
             "#0d0887"
            ],
            [
             0.1111111111111111,
             "#46039f"
            ],
            [
             0.2222222222222222,
             "#7201a8"
            ],
            [
             0.3333333333333333,
             "#9c179e"
            ],
            [
             0.4444444444444444,
             "#bd3786"
            ],
            [
             0.5555555555555556,
             "#d8576b"
            ],
            [
             0.6666666666666666,
             "#ed7953"
            ],
            [
             0.7777777777777778,
             "#fb9f3a"
            ],
            [
             0.8888888888888888,
             "#fdca26"
            ],
            [
             1,
             "#f0f921"
            ]
           ],
           "sequentialminus": [
            [
             0,
             "#0d0887"
            ],
            [
             0.1111111111111111,
             "#46039f"
            ],
            [
             0.2222222222222222,
             "#7201a8"
            ],
            [
             0.3333333333333333,
             "#9c179e"
            ],
            [
             0.4444444444444444,
             "#bd3786"
            ],
            [
             0.5555555555555556,
             "#d8576b"
            ],
            [
             0.6666666666666666,
             "#ed7953"
            ],
            [
             0.7777777777777778,
             "#fb9f3a"
            ],
            [
             0.8888888888888888,
             "#fdca26"
            ],
            [
             1,
             "#f0f921"
            ]
           ]
          },
          "colorway": [
           "#636efa",
           "#EF553B",
           "#00cc96",
           "#ab63fa",
           "#FFA15A",
           "#19d3f3",
           "#FF6692",
           "#B6E880",
           "#FF97FF",
           "#FECB52"
          ],
          "font": {
           "color": "#2a3f5f"
          },
          "geo": {
           "bgcolor": "white",
           "lakecolor": "white",
           "landcolor": "#E5ECF6",
           "showlakes": true,
           "showland": true,
           "subunitcolor": "white"
          },
          "hoverlabel": {
           "align": "left"
          },
          "hovermode": "closest",
          "mapbox": {
           "style": "light"
          },
          "paper_bgcolor": "white",
          "plot_bgcolor": "#E5ECF6",
          "polar": {
           "angularaxis": {
            "gridcolor": "white",
            "linecolor": "white",
            "ticks": ""
           },
           "bgcolor": "#E5ECF6",
           "radialaxis": {
            "gridcolor": "white",
            "linecolor": "white",
            "ticks": ""
           }
          },
          "scene": {
           "xaxis": {
            "backgroundcolor": "#E5ECF6",
            "gridcolor": "white",
            "gridwidth": 2,
            "linecolor": "white",
            "showbackground": true,
            "ticks": "",
            "zerolinecolor": "white"
           },
           "yaxis": {
            "backgroundcolor": "#E5ECF6",
            "gridcolor": "white",
            "gridwidth": 2,
            "linecolor": "white",
            "showbackground": true,
            "ticks": "",
            "zerolinecolor": "white"
           },
           "zaxis": {
            "backgroundcolor": "#E5ECF6",
            "gridcolor": "white",
            "gridwidth": 2,
            "linecolor": "white",
            "showbackground": true,
            "ticks": "",
            "zerolinecolor": "white"
           }
          },
          "shapedefaults": {
           "line": {
            "color": "#2a3f5f"
           }
          },
          "ternary": {
           "aaxis": {
            "gridcolor": "white",
            "linecolor": "white",
            "ticks": ""
           },
           "baxis": {
            "gridcolor": "white",
            "linecolor": "white",
            "ticks": ""
           },
           "bgcolor": "#E5ECF6",
           "caxis": {
            "gridcolor": "white",
            "linecolor": "white",
            "ticks": ""
           }
          },
          "title": {
           "x": 0.05
          },
          "xaxis": {
           "automargin": true,
           "gridcolor": "white",
           "linecolor": "white",
           "ticks": "",
           "title": {
            "standoff": 15
           },
           "zerolinecolor": "white",
           "zerolinewidth": 2
          },
          "yaxis": {
           "automargin": true,
           "gridcolor": "white",
           "linecolor": "white",
           "ticks": "",
           "title": {
            "standoff": 15
           },
           "zerolinecolor": "white",
           "zerolinewidth": 2
          }
         }
        },
        "title": {
         "text": "Top Nordic companies by employees"
        },
        "xaxis": {
         "anchor": "y",
         "categoryarray": [
          "ISS",
          "Securitas",
          "Nokia",
          "A.P. Møller-Maersk",
          "Ericsson",
          "Volvo",
          "H&M",
          "Electrolux",
          "Skanska",
          "Sandvik"
         ],
         "categoryorder": "array",
         "domain": [
          0,
          1
         ],
         "title": {
          "text": "Company"
         }
        },
        "yaxis": {
         "anchor": "x",
         "domain": [
          0,
          1
         ],
         "title": {
          "text": "Employees"
         }
        }
       }
      }
     },
     "metadata": {},
     "output_type": "display_data"
    }
   ],
   "source": [
    "import plotly.express as px\n",
    "\n",
    "px.bar(\n",
    "    df_size,\n",
    "    y = \"Employees\",\n",
    "    x = \"Company\",\n",
    "    color = \"Company\",\n",
    "    title = \"Top Nordic companies by employees\"\n",
    ")\n",
    "\n"
   ]
  },
  {
   "cell_type": "markdown",
   "id": "0bd281be",
   "metadata": {},
   "source": [
    "#df_rank with industry drop down "
   ]
  },
  {
   "cell_type": "code",
   "execution_count": 24,
   "id": "76a8ef3c",
   "metadata": {},
   "outputs": [
    {
     "data": {
      "text/html": [
       "<div>\n",
       "<style scoped>\n",
       "    .dataframe tbody tr th:only-of-type {\n",
       "        vertical-align: middle;\n",
       "    }\n",
       "\n",
       "    .dataframe tbody tr th {\n",
       "        vertical-align: top;\n",
       "    }\n",
       "\n",
       "    .dataframe thead th {\n",
       "        text-align: right;\n",
       "    }\n",
       "</style>\n",
       "<table border=\"1\" class=\"dataframe\">\n",
       "  <thead>\n",
       "    <tr style=\"text-align: right;\">\n",
       "      <th></th>\n",
       "      <th>Company</th>\n",
       "      <th>Revenue</th>\n",
       "      <th>Industry</th>\n",
       "    </tr>\n",
       "  </thead>\n",
       "  <tbody>\n",
       "    <tr>\n",
       "      <th>0</th>\n",
       "      <td>Equinor</td>\n",
       "      <td>111.6</td>\n",
       "      <td>Oil and gas</td>\n",
       "    </tr>\n",
       "    <tr>\n",
       "      <th>1</th>\n",
       "      <td>A.P. Møller-Maersk</td>\n",
       "      <td>56.1</td>\n",
       "      <td>Transportation</td>\n",
       "    </tr>\n",
       "    <tr>\n",
       "      <th>2</th>\n",
       "      <td>Nokia</td>\n",
       "      <td>50.1</td>\n",
       "      <td>Technology</td>\n",
       "    </tr>\n",
       "    <tr>\n",
       "      <th>3</th>\n",
       "      <td>Volvo</td>\n",
       "      <td>45.0</td>\n",
       "      <td>Automotive</td>\n",
       "    </tr>\n",
       "    <tr>\n",
       "      <th>4</th>\n",
       "      <td>Ericsson</td>\n",
       "      <td>32.9</td>\n",
       "      <td>Telecommunication</td>\n",
       "    </tr>\n",
       "    <tr>\n",
       "      <th>5</th>\n",
       "      <td>Nordea</td>\n",
       "      <td>21.7</td>\n",
       "      <td>Banking</td>\n",
       "    </tr>\n",
       "    <tr>\n",
       "      <th>6</th>\n",
       "      <td>Danske Bank</td>\n",
       "      <td>20.0</td>\n",
       "      <td>Banking</td>\n",
       "    </tr>\n",
       "    <tr>\n",
       "      <th>7</th>\n",
       "      <td>Neste</td>\n",
       "      <td>20.0</td>\n",
       "      <td>Oil refining</td>\n",
       "    </tr>\n",
       "    <tr>\n",
       "      <th>8</th>\n",
       "      <td>Skanska</td>\n",
       "      <td>17.2</td>\n",
       "      <td>Construction</td>\n",
       "    </tr>\n",
       "    <tr>\n",
       "      <th>9</th>\n",
       "      <td>Telenor</td>\n",
       "      <td>16.4</td>\n",
       "      <td>Telecommunication</td>\n",
       "    </tr>\n",
       "    <tr>\n",
       "      <th>10</th>\n",
       "      <td>H&amp;M</td>\n",
       "      <td>16.3</td>\n",
       "      <td>Retailing</td>\n",
       "    </tr>\n",
       "    <tr>\n",
       "      <th>11</th>\n",
       "      <td>Norsk Hydro</td>\n",
       "      <td>16.3</td>\n",
       "      <td>Industrial</td>\n",
       "    </tr>\n",
       "    <tr>\n",
       "      <th>12</th>\n",
       "      <td>Telia</td>\n",
       "      <td>15.1</td>\n",
       "      <td>Telecommunications</td>\n",
       "    </tr>\n",
       "    <tr>\n",
       "      <th>13</th>\n",
       "      <td>Electrolux</td>\n",
       "      <td>14.7</td>\n",
       "      <td>Manufacturing</td>\n",
       "    </tr>\n",
       "    <tr>\n",
       "      <th>14</th>\n",
       "      <td>Stora Enso</td>\n",
       "      <td>14.2</td>\n",
       "      <td>Manufacturing</td>\n",
       "    </tr>\n",
       "    <tr>\n",
       "      <th>15</th>\n",
       "      <td>Atlas Copco</td>\n",
       "      <td>13.6</td>\n",
       "      <td>Capital goods</td>\n",
       "    </tr>\n",
       "    <tr>\n",
       "      <th>16</th>\n",
       "      <td>Sandvik</td>\n",
       "      <td>13.6</td>\n",
       "      <td>Capital goods</td>\n",
       "    </tr>\n",
       "    <tr>\n",
       "      <th>17</th>\n",
       "      <td>SEB</td>\n",
       "      <td>13.5</td>\n",
       "      <td>Banking</td>\n",
       "    </tr>\n",
       "    <tr>\n",
       "      <th>18</th>\n",
       "      <td>Yara International</td>\n",
       "      <td>13.0</td>\n",
       "      <td>Chemical industry</td>\n",
       "    </tr>\n",
       "    <tr>\n",
       "      <th>19</th>\n",
       "      <td>UPM-Kymmene</td>\n",
       "      <td>13.0</td>\n",
       "      <td>Materials</td>\n",
       "    </tr>\n",
       "    <tr>\n",
       "      <th>20</th>\n",
       "      <td>Kesko</td>\n",
       "      <td>12.3</td>\n",
       "      <td>Retail</td>\n",
       "    </tr>\n",
       "    <tr>\n",
       "      <th>21</th>\n",
       "      <td>Svenska Cellulosa Aktiebolaget</td>\n",
       "      <td>11.8</td>\n",
       "      <td>Consumer Goods</td>\n",
       "    </tr>\n",
       "    <tr>\n",
       "      <th>22</th>\n",
       "      <td>DNB</td>\n",
       "      <td>11.6</td>\n",
       "      <td>Diversified financial</td>\n",
       "    </tr>\n",
       "    <tr>\n",
       "      <th>23</th>\n",
       "      <td>Novo Nordisk</td>\n",
       "      <td>11.6</td>\n",
       "      <td>Health care</td>\n",
       "    </tr>\n",
       "    <tr>\n",
       "      <th>24</th>\n",
       "      <td>Carlsberg Group</td>\n",
       "      <td>11.1</td>\n",
       "      <td>Brewery</td>\n",
       "    </tr>\n",
       "    <tr>\n",
       "      <th>25</th>\n",
       "      <td>Handelsbanken</td>\n",
       "      <td>10.9</td>\n",
       "      <td>Banking</td>\n",
       "    </tr>\n",
       "    <tr>\n",
       "      <th>26</th>\n",
       "      <td>Swedbank</td>\n",
       "      <td>10.3</td>\n",
       "      <td>Banking</td>\n",
       "    </tr>\n",
       "    <tr>\n",
       "      <th>27</th>\n",
       "      <td>Orkla Group</td>\n",
       "      <td>10.2</td>\n",
       "      <td>Media</td>\n",
       "    </tr>\n",
       "    <tr>\n",
       "      <th>28</th>\n",
       "      <td>SKF</td>\n",
       "      <td>9.6</td>\n",
       "      <td>Manufacturing</td>\n",
       "    </tr>\n",
       "    <tr>\n",
       "      <th>29</th>\n",
       "      <td>Kone</td>\n",
       "      <td>9.5</td>\n",
       "      <td>Engineering</td>\n",
       "    </tr>\n",
       "    <tr>\n",
       "      <th>30</th>\n",
       "      <td>Metso</td>\n",
       "      <td>8.6</td>\n",
       "      <td>Capital goods</td>\n",
       "    </tr>\n",
       "    <tr>\n",
       "      <th>31</th>\n",
       "      <td>Autoliv</td>\n",
       "      <td>8.2</td>\n",
       "      <td>Automotive</td>\n",
       "    </tr>\n",
       "    <tr>\n",
       "      <th>32</th>\n",
       "      <td>Vestas</td>\n",
       "      <td>7.6</td>\n",
       "      <td>Manufacturing</td>\n",
       "    </tr>\n",
       "    <tr>\n",
       "      <th>33</th>\n",
       "      <td>Sampo Group</td>\n",
       "      <td>7.2</td>\n",
       "      <td>Insurance</td>\n",
       "    </tr>\n",
       "    <tr>\n",
       "      <th>34</th>\n",
       "      <td>Assa Abloy</td>\n",
       "      <td>6.1</td>\n",
       "      <td>Manufacturing</td>\n",
       "    </tr>\n",
       "    <tr>\n",
       "      <th>35</th>\n",
       "      <td>Aker Solutions</td>\n",
       "      <td>6.1</td>\n",
       "      <td>Engineering</td>\n",
       "    </tr>\n",
       "    <tr>\n",
       "      <th>36</th>\n",
       "      <td>Tele2</td>\n",
       "      <td>5.9</td>\n",
       "      <td>Telecommunications</td>\n",
       "    </tr>\n",
       "    <tr>\n",
       "      <th>37</th>\n",
       "      <td>Boliden AB</td>\n",
       "      <td>5.8</td>\n",
       "      <td>Mining</td>\n",
       "    </tr>\n",
       "    <tr>\n",
       "      <th>38</th>\n",
       "      <td>Storebrand</td>\n",
       "      <td>5.6</td>\n",
       "      <td>Insurance</td>\n",
       "    </tr>\n",
       "    <tr>\n",
       "      <th>39</th>\n",
       "      <td>Wärtsilä</td>\n",
       "      <td>5.6</td>\n",
       "      <td>Manufacturing</td>\n",
       "    </tr>\n",
       "    <tr>\n",
       "      <th>40</th>\n",
       "      <td>OP-Pohjola Group</td>\n",
       "      <td>4.9</td>\n",
       "      <td>Financial services</td>\n",
       "    </tr>\n",
       "    <tr>\n",
       "      <th>41</th>\n",
       "      <td>TDC A/S</td>\n",
       "      <td>4.6</td>\n",
       "      <td>Telecommunications</td>\n",
       "    </tr>\n",
       "    <tr>\n",
       "      <th>42</th>\n",
       "      <td>Alfa Laval</td>\n",
       "      <td>4.2</td>\n",
       "      <td>Manufacturing</td>\n",
       "    </tr>\n",
       "    <tr>\n",
       "      <th>43</th>\n",
       "      <td>Fortum</td>\n",
       "      <td>3.9</td>\n",
       "      <td>Utilities</td>\n",
       "    </tr>\n",
       "    <tr>\n",
       "      <th>44</th>\n",
       "      <td>Gjensidige</td>\n",
       "      <td>3.6</td>\n",
       "      <td>Insurance</td>\n",
       "    </tr>\n",
       "    <tr>\n",
       "      <th>45</th>\n",
       "      <td>L E Lundbergföretagen</td>\n",
       "      <td>3.3</td>\n",
       "      <td>Investment</td>\n",
       "    </tr>\n",
       "    <tr>\n",
       "      <th>46</th>\n",
       "      <td>Getinge Group</td>\n",
       "      <td>3.2</td>\n",
       "      <td>Medical technology</td>\n",
       "    </tr>\n",
       "    <tr>\n",
       "      <th>47</th>\n",
       "      <td>Investor</td>\n",
       "      <td>2.8</td>\n",
       "      <td>Diversified financials</td>\n",
       "    </tr>\n",
       "    <tr>\n",
       "      <th>48</th>\n",
       "      <td>Hexagon AB</td>\n",
       "      <td>2.8</td>\n",
       "      <td>Technology</td>\n",
       "    </tr>\n",
       "    <tr>\n",
       "      <th>49</th>\n",
       "      <td>Nokian Tyres</td>\n",
       "      <td>1.9</td>\n",
       "      <td>Manufacturing</td>\n",
       "    </tr>\n",
       "    <tr>\n",
       "      <th>50</th>\n",
       "      <td>Novozymes</td>\n",
       "      <td>1.8</td>\n",
       "      <td>Health care</td>\n",
       "    </tr>\n",
       "    <tr>\n",
       "      <th>51</th>\n",
       "      <td>Coloplast</td>\n",
       "      <td>1.8</td>\n",
       "      <td>Medical equipment</td>\n",
       "    </tr>\n",
       "    <tr>\n",
       "      <th>52</th>\n",
       "      <td>Swedish Match</td>\n",
       "      <td>1.7</td>\n",
       "      <td>Tobacco</td>\n",
       "    </tr>\n",
       "    <tr>\n",
       "      <th>53</th>\n",
       "      <td>Jyske Bank</td>\n",
       "      <td>1.6</td>\n",
       "      <td>Banking</td>\n",
       "    </tr>\n",
       "    <tr>\n",
       "      <th>54</th>\n",
       "      <td>Kinnevik</td>\n",
       "      <td>1.3</td>\n",
       "      <td>Investment</td>\n",
       "    </tr>\n",
       "    <tr>\n",
       "      <th>55</th>\n",
       "      <td>Sydbank</td>\n",
       "      <td>1.0</td>\n",
       "      <td>Banking</td>\n",
       "    </tr>\n",
       "  </tbody>\n",
       "</table>\n",
       "</div>"
      ],
      "text/plain": [
       "                           Company  Revenue                Industry\n",
       "0                          Equinor    111.6             Oil and gas\n",
       "1               A.P. Møller-Maersk     56.1          Transportation\n",
       "2                            Nokia     50.1              Technology\n",
       "3                            Volvo     45.0              Automotive\n",
       "4                         Ericsson     32.9       Telecommunication\n",
       "5                           Nordea     21.7                 Banking\n",
       "6                      Danske Bank     20.0                 Banking\n",
       "7                            Neste     20.0            Oil refining\n",
       "8                          Skanska     17.2            Construction\n",
       "9                          Telenor     16.4       Telecommunication\n",
       "10                             H&M     16.3               Retailing\n",
       "11                     Norsk Hydro     16.3              Industrial\n",
       "12                           Telia     15.1      Telecommunications\n",
       "13                      Electrolux     14.7           Manufacturing\n",
       "14                      Stora Enso     14.2           Manufacturing\n",
       "15                     Atlas Copco     13.6           Capital goods\n",
       "16                         Sandvik     13.6           Capital goods\n",
       "17                             SEB     13.5                 Banking\n",
       "18              Yara International     13.0       Chemical industry\n",
       "19                     UPM-Kymmene     13.0               Materials\n",
       "20                           Kesko     12.3                  Retail\n",
       "21  Svenska Cellulosa Aktiebolaget     11.8          Consumer Goods\n",
       "22                             DNB     11.6   Diversified financial\n",
       "23                    Novo Nordisk     11.6             Health care\n",
       "24                 Carlsberg Group     11.1                 Brewery\n",
       "25                   Handelsbanken     10.9                 Banking\n",
       "26                        Swedbank     10.3                 Banking\n",
       "27                     Orkla Group     10.2                   Media\n",
       "28                             SKF      9.6           Manufacturing\n",
       "29                            Kone      9.5             Engineering\n",
       "30                           Metso      8.6           Capital goods\n",
       "31                         Autoliv      8.2              Automotive\n",
       "32                          Vestas      7.6           Manufacturing\n",
       "33                     Sampo Group      7.2               Insurance\n",
       "34                      Assa Abloy      6.1           Manufacturing\n",
       "35                  Aker Solutions      6.1             Engineering\n",
       "36                           Tele2      5.9      Telecommunications\n",
       "37                      Boliden AB      5.8                  Mining\n",
       "38                      Storebrand      5.6               Insurance\n",
       "39                        Wärtsilä      5.6           Manufacturing\n",
       "40                OP-Pohjola Group      4.9      Financial services\n",
       "41                         TDC A/S      4.6      Telecommunications\n",
       "42                      Alfa Laval      4.2           Manufacturing\n",
       "43                          Fortum      3.9               Utilities\n",
       "44                      Gjensidige      3.6               Insurance\n",
       "45           L E Lundbergföretagen      3.3              Investment\n",
       "46                   Getinge Group      3.2      Medical technology\n",
       "47                        Investor      2.8  Diversified financials\n",
       "48                      Hexagon AB      2.8              Technology\n",
       "49                    Nokian Tyres      1.9           Manufacturing\n",
       "50                       Novozymes      1.8             Health care\n",
       "51                       Coloplast      1.8       Medical equipment\n",
       "52                   Swedish Match      1.7                 Tobacco\n",
       "53                      Jyske Bank      1.6                 Banking\n",
       "54                        Kinnevik      1.3              Investment\n",
       "55                         Sydbank      1.0                 Banking"
      ]
     },
     "execution_count": 24,
     "metadata": {},
     "output_type": "execute_result"
    }
   ],
   "source": [
    "import duckdb\n",
    "\n",
    "df_ranking = duckdb.query(\n",
    "    \"\"\"--sql\n",
    "\n",
    "    SELECT  \n",
    "\n",
    "    Company,\n",
    "    \"Revenue (billion $)\" AS Revenue,\n",
    "    Industry,\n",
    "    \n",
    "    FROM df_rank\n",
    "\n",
    "    ORDER BY Revenue DESC\n",
    "\n",
    "\n",
    "\"\"\"\n",
    ").df()\n",
    "\n",
    "df_ranking"
   ]
  }
 ],
 "metadata": {
  "kernelspec": {
   "display_name": "data_visualization_erik_unevik_de24",
   "language": "python",
   "name": "python3"
  },
  "language_info": {
   "codemirror_mode": {
    "name": "ipython",
    "version": 3
   },
   "file_extension": ".py",
   "mimetype": "text/x-python",
   "name": "python",
   "nbconvert_exporter": "python",
   "pygments_lexer": "ipython3",
   "version": "3.12.6"
  }
 },
 "nbformat": 4,
 "nbformat_minor": 5
}
