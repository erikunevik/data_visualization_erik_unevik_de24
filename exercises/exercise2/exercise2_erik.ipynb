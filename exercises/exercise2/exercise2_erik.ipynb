{
 "cells": [
  {
   "cell_type": "markdown",
   "id": "255485b5",
   "metadata": {},
   "source": [
    "#1)"
   ]
  },
  {
   "cell_type": "code",
   "execution_count": 1,
   "id": "7cd9561c",
   "metadata": {},
   "outputs": [
    {
     "data": {
      "text/html": [
       "<div>\n",
       "<style scoped>\n",
       "    .dataframe tbody tr th:only-of-type {\n",
       "        vertical-align: middle;\n",
       "    }\n",
       "\n",
       "    .dataframe tbody tr th {\n",
       "        vertical-align: top;\n",
       "    }\n",
       "\n",
       "    .dataframe thead th {\n",
       "        text-align: right;\n",
       "    }\n",
       "</style>\n",
       "<table border=\"1\" class=\"dataframe\">\n",
       "  <thead>\n",
       "    <tr style=\"text-align: right;\">\n",
       "      <th></th>\n",
       "      <th>Entity</th>\n",
       "      <th>Code</th>\n",
       "      <th>Year</th>\n",
       "      <th>Individuals using the Internet (% of population)</th>\n",
       "    </tr>\n",
       "  </thead>\n",
       "  <tbody>\n",
       "    <tr>\n",
       "      <th>0</th>\n",
       "      <td>Afghanistan</td>\n",
       "      <td>AFG</td>\n",
       "      <td>1990</td>\n",
       "      <td>0.0000</td>\n",
       "    </tr>\n",
       "    <tr>\n",
       "      <th>1</th>\n",
       "      <td>Afghanistan</td>\n",
       "      <td>AFG</td>\n",
       "      <td>1991</td>\n",
       "      <td>0.0000</td>\n",
       "    </tr>\n",
       "    <tr>\n",
       "      <th>2</th>\n",
       "      <td>Afghanistan</td>\n",
       "      <td>AFG</td>\n",
       "      <td>1992</td>\n",
       "      <td>0.0000</td>\n",
       "    </tr>\n",
       "    <tr>\n",
       "      <th>3</th>\n",
       "      <td>Afghanistan</td>\n",
       "      <td>AFG</td>\n",
       "      <td>1993</td>\n",
       "      <td>0.0000</td>\n",
       "    </tr>\n",
       "    <tr>\n",
       "      <th>4</th>\n",
       "      <td>Afghanistan</td>\n",
       "      <td>AFG</td>\n",
       "      <td>1994</td>\n",
       "      <td>0.0000</td>\n",
       "    </tr>\n",
       "    <tr>\n",
       "      <th>...</th>\n",
       "      <td>...</td>\n",
       "      <td>...</td>\n",
       "      <td>...</td>\n",
       "      <td>...</td>\n",
       "    </tr>\n",
       "    <tr>\n",
       "      <th>7179</th>\n",
       "      <td>Zimbabwe</td>\n",
       "      <td>ZWE</td>\n",
       "      <td>2018</td>\n",
       "      <td>25.0000</td>\n",
       "    </tr>\n",
       "    <tr>\n",
       "      <th>7180</th>\n",
       "      <td>Zimbabwe</td>\n",
       "      <td>ZWE</td>\n",
       "      <td>2019</td>\n",
       "      <td>26.5883</td>\n",
       "    </tr>\n",
       "    <tr>\n",
       "      <th>7181</th>\n",
       "      <td>Zimbabwe</td>\n",
       "      <td>ZWE</td>\n",
       "      <td>2020</td>\n",
       "      <td>29.2986</td>\n",
       "    </tr>\n",
       "    <tr>\n",
       "      <th>7182</th>\n",
       "      <td>Zimbabwe</td>\n",
       "      <td>ZWE</td>\n",
       "      <td>2021</td>\n",
       "      <td>32.4616</td>\n",
       "    </tr>\n",
       "    <tr>\n",
       "      <th>7183</th>\n",
       "      <td>Zimbabwe</td>\n",
       "      <td>ZWE</td>\n",
       "      <td>2022</td>\n",
       "      <td>32.5615</td>\n",
       "    </tr>\n",
       "  </tbody>\n",
       "</table>\n",
       "<p>7184 rows × 4 columns</p>\n",
       "</div>"
      ],
      "text/plain": [
       "           Entity Code  Year  Individuals using the Internet (% of population)\n",
       "0     Afghanistan  AFG  1990                                            0.0000\n",
       "1     Afghanistan  AFG  1991                                            0.0000\n",
       "2     Afghanistan  AFG  1992                                            0.0000\n",
       "3     Afghanistan  AFG  1993                                            0.0000\n",
       "4     Afghanistan  AFG  1994                                            0.0000\n",
       "...           ...  ...   ...                                               ...\n",
       "7179     Zimbabwe  ZWE  2018                                           25.0000\n",
       "7180     Zimbabwe  ZWE  2019                                           26.5883\n",
       "7181     Zimbabwe  ZWE  2020                                           29.2986\n",
       "7182     Zimbabwe  ZWE  2021                                           32.4616\n",
       "7183     Zimbabwe  ZWE  2022                                           32.5615\n",
       "\n",
       "[7184 rows x 4 columns]"
      ]
     },
     "execution_count": 1,
     "metadata": {},
     "output_type": "execute_result"
    }
   ],
   "source": [
    "import plotly.express as px\n",
    "\n",
    "import pandas as pd\n",
    "\n",
    "df = pd.read_csv(\"data/share-of-individuals-using-the-internet.csv\")\n",
    "\n",
    "df"
   ]
  },
  {
   "cell_type": "code",
   "execution_count": 2,
   "id": "6b3ca8c7",
   "metadata": {},
   "outputs": [
    {
     "data": {
      "text/plain": [
       "Index(['Entity', 'Code', 'Year',\n",
       "       'Individuals using the Internet (% of population)'],\n",
       "      dtype='object')"
      ]
     },
     "execution_count": 2,
     "metadata": {},
     "output_type": "execute_result"
    }
   ],
   "source": [
    "df.columns"
   ]
  },
  {
   "cell_type": "code",
   "execution_count": 3,
   "id": "20f3fb6a",
   "metadata": {},
   "outputs": [
    {
     "data": {
      "text/plain": [
       "Entity                                               object\n",
       "Code                                                 object\n",
       "Year                                                  int64\n",
       "Individuals using the Internet (% of population)    float64\n",
       "dtype: object"
      ]
     },
     "execution_count": 3,
     "metadata": {},
     "output_type": "execute_result"
    }
   ],
   "source": [
    "df.dtypes"
   ]
  },
  {
   "cell_type": "code",
   "execution_count": 4,
   "id": "4654ae6a",
   "metadata": {},
   "outputs": [
    {
     "name": "stdout",
     "output_type": "stream",
     "text": [
      "['Afghanistan' 'Albania' 'Algeria' 'American Samoa' 'Andorra' 'Angola'\n",
      " 'Antigua and Barbuda' 'Argentina' 'Armenia' 'Aruba' 'Australia' 'Austria'\n",
      " 'Azerbaijan' 'Bahamas' 'Bahrain' 'Bangladesh' 'Barbados' 'Belarus'\n",
      " 'Belgium' 'Belize' 'Benin' 'Bermuda' 'Bhutan' 'Bolivia'\n",
      " 'Bosnia and Herzegovina' 'Botswana' 'Brazil' 'British Virgin Islands'\n",
      " 'Brunei' 'Bulgaria' 'Burkina Faso' 'Burundi' 'Cambodia' 'Cameroon'\n",
      " 'Canada' 'Cape Verde' 'Cayman Islands' 'Central African Republic' 'Chad'\n",
      " 'Chile' 'China' 'Colombia' 'Comoros' 'Congo' 'Costa Rica' \"Cote d'Ivoire\"\n",
      " 'Croatia' 'Cuba' 'Curacao' 'Cyprus' 'Czechia'\n",
      " 'Democratic Republic of Congo' 'Denmark' 'Djibouti' 'Dominica'\n",
      " 'Dominican Republic' 'East Asia and Pacific (WB)' 'East Timor' 'Ecuador'\n",
      " 'Egypt' 'El Salvador' 'Equatorial Guinea' 'Eritrea' 'Estonia' 'Eswatini'\n",
      " 'Ethiopia' 'Europe and Central Asia (WB)' 'European Union (27)'\n",
      " 'Faeroe Islands' 'Fiji' 'Finland' 'France' 'French Polynesia' 'Gabon'\n",
      " 'Gambia' 'Georgia' 'Germany' 'Ghana' 'Gibraltar' 'Greece' 'Greenland'\n",
      " 'Grenada' 'Guam' 'Guatemala' 'Guinea' 'Guinea-Bissau' 'Guyana' 'Haiti'\n",
      " 'High-income countries' 'Honduras' 'Hong Kong' 'Hungary' 'Iceland'\n",
      " 'India' 'Indonesia' 'Iran' 'Iraq' 'Ireland' 'Israel' 'Italy' 'Jamaica'\n",
      " 'Japan' 'Jordan' 'Kazakhstan' 'Kenya' 'Kiribati' 'Kosovo' 'Kuwait'\n",
      " 'Kyrgyzstan' 'Laos' 'Latin America and Caribbean (WB)' 'Latvia' 'Lebanon'\n",
      " 'Lesotho' 'Liberia' 'Libya' 'Liechtenstein' 'Lithuania'\n",
      " 'Low-income countries' 'Lower-middle-income countries' 'Luxembourg'\n",
      " 'Macao' 'Madagascar' 'Malawi' 'Malaysia' 'Maldives' 'Mali' 'Malta'\n",
      " 'Marshall Islands' 'Mauritania' 'Mauritius' 'Mexico'\n",
      " 'Micronesia (country)' 'Middle East and North Africa (WB)'\n",
      " 'Middle-income countries' 'Moldova' 'Monaco' 'Mongolia' 'Montenegro'\n",
      " 'Morocco' 'Mozambique' 'Myanmar' 'Namibia' 'Nauru' 'Nepal' 'Netherlands'\n",
      " 'New Caledonia' 'New Zealand' 'Nicaragua' 'Niger' 'Nigeria'\n",
      " 'North America (WB)' 'North Korea' 'North Macedonia'\n",
      " 'Northern Mariana Islands' 'Norway' 'Oman' 'Pakistan' 'Palau' 'Palestine'\n",
      " 'Panama' 'Papua New Guinea' 'Paraguay' 'Peru' 'Philippines' 'Poland'\n",
      " 'Portugal' 'Puerto Rico' 'Qatar' 'Romania' 'Russia' 'Rwanda'\n",
      " 'Saint Kitts and Nevis' 'Saint Lucia' 'Saint Vincent and the Grenadines'\n",
      " 'Samoa' 'San Marino' 'Sao Tome and Principe' 'Saudi Arabia' 'Senegal'\n",
      " 'Serbia' 'Seychelles' 'Sierra Leone' 'Singapore' 'Slovakia' 'Slovenia'\n",
      " 'Solomon Islands' 'Somalia' 'South Africa' 'South Asia (WB)'\n",
      " 'South Korea' 'South Sudan' 'Spain' 'Sri Lanka' 'Sub-Saharan Africa (WB)'\n",
      " 'Sudan' 'Suriname' 'Sweden' 'Switzerland' 'Syria' 'Tajikistan' 'Tanzania'\n",
      " 'Thailand' 'Togo' 'Tonga' 'Trinidad and Tobago' 'Tunisia' 'Turkey'\n",
      " 'Turkmenistan' 'Turks and Caicos Islands' 'Tuvalu' 'Uganda' 'Ukraine'\n",
      " 'United Arab Emirates' 'United Kingdom' 'United States'\n",
      " 'United States Virgin Islands' 'Upper-middle-income countries' 'Uruguay'\n",
      " 'Uzbekistan' 'Vanuatu' 'Venezuela' 'Vietnam' 'World' 'Yemen' 'Zambia'\n",
      " 'Zimbabwe']\n"
     ]
    }
   ],
   "source": [
    "print(df['Entity'].unique())"
   ]
  },
  {
   "cell_type": "code",
   "execution_count": 5,
   "id": "78125f65",
   "metadata": {},
   "outputs": [
    {
     "data": {
      "text/html": [
       "<div>\n",
       "<style scoped>\n",
       "    .dataframe tbody tr th:only-of-type {\n",
       "        vertical-align: middle;\n",
       "    }\n",
       "\n",
       "    .dataframe tbody tr th {\n",
       "        vertical-align: top;\n",
       "    }\n",
       "\n",
       "    .dataframe thead th {\n",
       "        text-align: right;\n",
       "    }\n",
       "</style>\n",
       "<table border=\"1\" class=\"dataframe\">\n",
       "  <thead>\n",
       "    <tr style=\"text-align: right;\">\n",
       "      <th></th>\n",
       "      <th>Entity</th>\n",
       "      <th>Code</th>\n",
       "      <th>Year</th>\n",
       "      <th>Individuals using the Internet (% of population)</th>\n",
       "    </tr>\n",
       "  </thead>\n",
       "  <tbody>\n",
       "    <tr>\n",
       "      <th>1761</th>\n",
       "      <td>East Asia and Pacific (WB)</td>\n",
       "      <td>NaN</td>\n",
       "      <td>1990</td>\n",
       "      <td>0.007348</td>\n",
       "    </tr>\n",
       "    <tr>\n",
       "      <th>1762</th>\n",
       "      <td>East Asia and Pacific (WB)</td>\n",
       "      <td>NaN</td>\n",
       "      <td>1991</td>\n",
       "      <td>0.015138</td>\n",
       "    </tr>\n",
       "    <tr>\n",
       "      <th>1763</th>\n",
       "      <td>East Asia and Pacific (WB)</td>\n",
       "      <td>NaN</td>\n",
       "      <td>1992</td>\n",
       "      <td>0.031765</td>\n",
       "    </tr>\n",
       "    <tr>\n",
       "      <th>1764</th>\n",
       "      <td>East Asia and Pacific (WB)</td>\n",
       "      <td>NaN</td>\n",
       "      <td>1993</td>\n",
       "      <td>0.063062</td>\n",
       "    </tr>\n",
       "    <tr>\n",
       "      <th>1765</th>\n",
       "      <td>East Asia and Pacific (WB)</td>\n",
       "      <td>NaN</td>\n",
       "      <td>1994</td>\n",
       "      <td>0.109100</td>\n",
       "    </tr>\n",
       "    <tr>\n",
       "      <th>...</th>\n",
       "      <td>...</td>\n",
       "      <td>...</td>\n",
       "      <td>...</td>\n",
       "      <td>...</td>\n",
       "    </tr>\n",
       "    <tr>\n",
       "      <th>7082</th>\n",
       "      <td>World</td>\n",
       "      <td>OWID_WRL</td>\n",
       "      <td>2019</td>\n",
       "      <td>53.200000</td>\n",
       "    </tr>\n",
       "    <tr>\n",
       "      <th>7083</th>\n",
       "      <td>World</td>\n",
       "      <td>OWID_WRL</td>\n",
       "      <td>2020</td>\n",
       "      <td>59.300000</td>\n",
       "    </tr>\n",
       "    <tr>\n",
       "      <th>7084</th>\n",
       "      <td>World</td>\n",
       "      <td>OWID_WRL</td>\n",
       "      <td>2021</td>\n",
       "      <td>62.200000</td>\n",
       "    </tr>\n",
       "    <tr>\n",
       "      <th>7085</th>\n",
       "      <td>World</td>\n",
       "      <td>OWID_WRL</td>\n",
       "      <td>2022</td>\n",
       "      <td>64.400000</td>\n",
       "    </tr>\n",
       "    <tr>\n",
       "      <th>7086</th>\n",
       "      <td>World</td>\n",
       "      <td>OWID_WRL</td>\n",
       "      <td>2023</td>\n",
       "      <td>67.400000</td>\n",
       "    </tr>\n",
       "  </tbody>\n",
       "</table>\n",
       "<p>270 rows × 4 columns</p>\n",
       "</div>"
      ],
      "text/plain": [
       "                          Entity      Code  Year  \\\n",
       "1761  East Asia and Pacific (WB)       NaN  1990   \n",
       "1762  East Asia and Pacific (WB)       NaN  1991   \n",
       "1763  East Asia and Pacific (WB)       NaN  1992   \n",
       "1764  East Asia and Pacific (WB)       NaN  1993   \n",
       "1765  East Asia and Pacific (WB)       NaN  1994   \n",
       "...                          ...       ...   ...   \n",
       "7082                       World  OWID_WRL  2019   \n",
       "7083                       World  OWID_WRL  2020   \n",
       "7084                       World  OWID_WRL  2021   \n",
       "7085                       World  OWID_WRL  2022   \n",
       "7086                       World  OWID_WRL  2023   \n",
       "\n",
       "      Individuals using the Internet (% of population)  \n",
       "1761                                          0.007348  \n",
       "1762                                          0.015138  \n",
       "1763                                          0.031765  \n",
       "1764                                          0.063062  \n",
       "1765                                          0.109100  \n",
       "...                                                ...  \n",
       "7082                                         53.200000  \n",
       "7083                                         59.300000  \n",
       "7084                                         62.200000  \n",
       "7085                                         64.400000  \n",
       "7086                                         67.400000  \n",
       "\n",
       "[270 rows x 4 columns]"
      ]
     },
     "execution_count": 5,
     "metadata": {},
     "output_type": "execute_result"
    }
   ],
   "source": [
    "df_regions = df[df['Entity'].isin([\n",
    "    \"North America (WB)\",\n",
    "    \"Europe and Central Asia (WB)\",\n",
    "    \"Latin America and Caribbean (WB)\",\n",
    "    \"East Asia and Pacific (WB)\",\n",
    "    \"Middle East and North Africa (WB)\",\n",
    "    \"World\",\n",
    "    \"South Asia (WB)\",\n",
    "    \"Sub-Saharan Africa (WB)\"\n",
    "])]\n",
    "\n",
    "\n",
    "df_regions"
   ]
  },
  {
   "cell_type": "code",
   "execution_count": 6,
   "id": "e548b62c",
   "metadata": {},
   "outputs": [
    {
     "data": {
      "text/html": [
       "<div>\n",
       "<style scoped>\n",
       "    .dataframe tbody tr th:only-of-type {\n",
       "        vertical-align: middle;\n",
       "    }\n",
       "\n",
       "    .dataframe tbody tr th {\n",
       "        vertical-align: top;\n",
       "    }\n",
       "\n",
       "    .dataframe thead th {\n",
       "        text-align: right;\n",
       "    }\n",
       "</style>\n",
       "<table border=\"1\" class=\"dataframe\">\n",
       "  <thead>\n",
       "    <tr style=\"text-align: right;\">\n",
       "      <th></th>\n",
       "      <th>Entity</th>\n",
       "      <th>Code</th>\n",
       "      <th>Year</th>\n",
       "      <th>Individuals using the Internet (% of population)</th>\n",
       "    </tr>\n",
       "  </thead>\n",
       "  <tbody>\n",
       "    <tr>\n",
       "      <th>6136</th>\n",
       "      <td>Sub-Saharan Africa (WB)</td>\n",
       "      <td>NaN</td>\n",
       "      <td>2023</td>\n",
       "      <td>36.7</td>\n",
       "    </tr>\n",
       "    <tr>\n",
       "      <th>7086</th>\n",
       "      <td>World</td>\n",
       "      <td>OWID_WRL</td>\n",
       "      <td>2023</td>\n",
       "      <td>67.4</td>\n",
       "    </tr>\n",
       "    <tr>\n",
       "      <th>4286</th>\n",
       "      <td>Middle East and North Africa (WB)</td>\n",
       "      <td>NaN</td>\n",
       "      <td>2023</td>\n",
       "      <td>77.7</td>\n",
       "    </tr>\n",
       "    <tr>\n",
       "      <th>1794</th>\n",
       "      <td>East Asia and Pacific (WB)</td>\n",
       "      <td>NaN</td>\n",
       "      <td>2023</td>\n",
       "      <td>79.0</td>\n",
       "    </tr>\n",
       "    <tr>\n",
       "      <th>3521</th>\n",
       "      <td>Latin America and Caribbean (WB)</td>\n",
       "      <td>NaN</td>\n",
       "      <td>2023</td>\n",
       "      <td>81.0</td>\n",
       "    </tr>\n",
       "    <tr>\n",
       "      <th>2115</th>\n",
       "      <td>Europe and Central Asia (WB)</td>\n",
       "      <td>NaN</td>\n",
       "      <td>2023</td>\n",
       "      <td>90.1</td>\n",
       "    </tr>\n",
       "    <tr>\n",
       "      <th>4828</th>\n",
       "      <td>North America (WB)</td>\n",
       "      <td>NaN</td>\n",
       "      <td>2023</td>\n",
       "      <td>97.3</td>\n",
       "    </tr>\n",
       "  </tbody>\n",
       "</table>\n",
       "</div>"
      ],
      "text/plain": [
       "                                 Entity      Code  Year  \\\n",
       "6136            Sub-Saharan Africa (WB)       NaN  2023   \n",
       "7086                              World  OWID_WRL  2023   \n",
       "4286  Middle East and North Africa (WB)       NaN  2023   \n",
       "1794         East Asia and Pacific (WB)       NaN  2023   \n",
       "3521   Latin America and Caribbean (WB)       NaN  2023   \n",
       "2115       Europe and Central Asia (WB)       NaN  2023   \n",
       "4828                 North America (WB)       NaN  2023   \n",
       "\n",
       "      Individuals using the Internet (% of population)  \n",
       "6136                                              36.7  \n",
       "7086                                              67.4  \n",
       "4286                                              77.7  \n",
       "1794                                              79.0  \n",
       "3521                                              81.0  \n",
       "2115                                              90.1  \n",
       "4828                                              97.3  "
      ]
     },
     "execution_count": 6,
     "metadata": {},
     "output_type": "execute_result"
    }
   ],
   "source": [
    "df_2023 = df_regions[df_regions[\"Year\"] == 2023]\n",
    "\n",
    "df_2023_sorted = df_2023.sort_values(by=\"Individuals using the Internet (% of population)\", ascending=True)\n",
    "\n",
    "df_2023_sorted"
   ]
  },
  {
   "cell_type": "code",
   "execution_count": 7,
   "id": "80144a6d",
   "metadata": {},
   "outputs": [
    {
     "ename": "SyntaxError",
     "evalue": "positional argument follows keyword argument (2012053211.py, line 58)",
     "output_type": "error",
     "traceback": [
      "\u001b[1;36m  Cell \u001b[1;32mIn[7], line 58\u001b[1;36m\u001b[0m\n\u001b[1;33m    )\u001b[0m\n\u001b[1;37m    ^\u001b[0m\n\u001b[1;31mSyntaxError\u001b[0m\u001b[1;31m:\u001b[0m positional argument follows keyword argument\n"
     ]
    }
   ],
   "source": [
    "fig = px.bar(\n",
    "    df_2023_sorted,\n",
    "    y=\"Entity\",\n",
    "    x=\"Individuals using the Internet (% of population)\",\n",
    ")\n",
    "\n",
    "fig.update_traces(\n",
    "    marker_color=\"steelblue\",\n",
    "    marker_line_width=1.5,\n",
    "    opacity=1,\n",
    "    textposition=\"outside\",  # Makes bar text outside the bar\n",
    "    texttemplate=\"%{x:.0f}%\",  # Gives percentage at the bars\n",
    ")\n",
    "\n",
    "fig.update_layout(\n",
    "    title=dict(\n",
    "        text=(\n",
    "            \"<b>Share of the population using the Internet, 2023</b><br>\"\n",
    "            \"<span style='font-size:12px; font-weight:normal'>\"\n",
    "            \"Share of the population who used the Internet in the last three months\"\n",
    "            \"</span>\"\n",
    "        ),\n",
    "        x=0.025,\n",
    "        xanchor='left',\n",
    "        yanchor='top',\n",
    "        font=dict(family=\"Georgia\", size=18, color=\"black\"),\n",
    "        pad=dict(b=20)  # Space below the title\n",
    "    ),\n",
    "    height=400,\n",
    "    width=750,\n",
    "    bargap=0.3,\n",
    "    plot_bgcolor=\"white\",\n",
    "    font=dict(size=14, family=\"Georgia\", color=\"black\"),\n",
    "    yaxis=dict(\n",
    "        tickfont=dict(family=\"Georgia\", size=11, color=\"black\")\n",
    "    ),\n",
    "\n",
    "    # yaxis_title=None,\n",
    "    #   xaxis=dict(\n",
    "    #   title=dict(\n",
    "    #       text=\"<b>Data source</b><br>\" \"<span style='font-weight:normal'>\"\n",
    "    #         \"Interantional Telecommunication Union (via World Bank) (2005)\"\n",
    "    #         \"</span>\"\n",
    "    #       font=dict(family=\"Georgia\", size=10, color=\"black\")\n",
    "\n",
    "    fig.add_annotation(\n",
    "    text=(\n",
    "        \"<b>Data source:</b> International Telecommunication Union (via World Bank) (2025)\"\n",
    "        \"<span style='float:right'>OurWorldInData.org/internet | CC BY</span>\"\n",
    "    ),\n",
    "    xref=\"paper\", yref=\"paper\",\n",
    "    x=0, y=-0.25,  # position below the chart\n",
    "    showarrow=False,\n",
    "    font=dict(family=\"Georgia\", size=11, color=\"gray\"),\n",
    "    align=\"left\",\n",
    "    xanchor=\"left\"\n",
    "  )\n",
    ")\n",
    "\n",
    "      \n",
    "#   )\n",
    "# )\n",
    "\n",
    "fig.show()\n",
    "fig.write_html(\"interactive_figures/gdp_nordic_2007_bar.html\")"
   ]
  },
  {
   "cell_type": "code",
   "execution_count": null,
   "id": "2b2c7679",
   "metadata": {},
   "outputs": [
    {
     "data": {
      "application/vnd.plotly.v1+json": {
       "config": {
        "plotlyServerURL": "https://plot.ly"
       },
       "data": [
        {
         "hovertemplate": "Individuals using the Internet (% of population)=%{x}<br>Entity=%{y}<extra></extra>",
         "legendgroup": "",
         "marker": {
          "color": "#738FBE",
          "line": {
           "width": 1.5
          },
          "pattern": {
           "shape": ""
          }
         },
         "name": "",
         "opacity": 1,
         "orientation": "h",
         "showlegend": false,
         "textposition": "outside",
         "texttemplate": "%{x:.0f}%",
         "type": "bar",
         "x": {
          "bdata": "mpmZmZlZQkCamZmZmdlQQM3MzMzMbFNAAAAAAADAU0AAAAAAAEBUQGZmZmZmhlZAMzMzMzNTWEA=",
          "dtype": "f8"
         },
         "xaxis": "x",
         "y": [
          "Sub-Saharan Africa (WB)",
          "World",
          "Middle East and North Africa (WB)",
          "East Asia and Pacific (WB)",
          "Latin America and Caribbean (WB)",
          "Europe and Central Asia (WB)",
          "North America (WB)"
         ],
         "yaxis": "y"
        }
       ],
       "layout": {
        "annotations": [
         {
          "align": "left",
          "font": {
           "color": "#666666",
           "family": "Georgia",
           "size": 9
          },
          "showarrow": false,
          "text": "<b>Data source:</b> International Telecommunication Union (via World Bank) (2025) &nbsp;&nbsp;&nbsp;&nbsp;&nbsp;&nbsp;&nbsp;&nbsp;&nbsp;&nbsp;&nbsp;&nbsp;&nbsp;&nbsp;&nbsp;&nbsp;&nbsp;&nbsp;&nbsp;&nbsp;&nbsp;&nbsp;&nbsp;&nbsp;&nbsp;&nbsp;&nbsp;&nbsp;&nbsp;&nbsp;&nbsp;&nbsp;&nbsp;&nbsp;&nbsp;&nbsp;&nbsp;&nbsp;&nbsp;&nbsp;&nbsp;&nbsp;&nbsp;&nbsp;&nbsp;&nbsp;&nbsp;&nbsp;&nbsp;&nbsp;&nbsp;&nbsp;&nbsp;&nbsp;&nbsp;&nbsp;&nbsp;&nbsp;&nbsp;&nbsp;&nbsp;&nbsp;&nbsp;&nbsp;&nbsp;&nbsp;&nbsp;&nbsp;&nbsp;&nbsp;&nbsp;&nbsp;&nbsp;&nbsp;&nbsp;&nbsp;&nbsp;&nbsp;<span style='float:right'; color:#666666'>OurWorldInData.org/internet | CC BY</span>",
          "x": -0.35,
          "xanchor": "left",
          "xref": "paper",
          "y": -0.25,
          "yref": "paper"
         }
        ],
        "bargap": 0.3,
        "barmode": "relative",
        "font": {
         "color": "black",
         "family": "Georgia",
         "size": 14
        },
        "height": 400,
        "images": [
         {
          "layer": "above",
          "sizex": 0.1,
          "sizey": 0.1,
          "source": "data:image/png;base64,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",
          "x": 1.15,
          "xanchor": "right",
          "xref": "paper",
          "y": 1.15,
          "yanchor": "top",
          "yref": "paper"
         }
        ],
        "legend": {
         "tracegroupgap": 0
        },
        "margin": {
         "t": 60
        },
        "plot_bgcolor": "white",
        "template": {
         "data": {
          "bar": [
           {
            "error_x": {
             "color": "#2a3f5f"
            },
            "error_y": {
             "color": "#2a3f5f"
            },
            "marker": {
             "line": {
              "color": "#E5ECF6",
              "width": 0.5
             },
             "pattern": {
              "fillmode": "overlay",
              "size": 10,
              "solidity": 0.2
             }
            },
            "type": "bar"
           }
          ],
          "barpolar": [
           {
            "marker": {
             "line": {
              "color": "#E5ECF6",
              "width": 0.5
             },
             "pattern": {
              "fillmode": "overlay",
              "size": 10,
              "solidity": 0.2
             }
            },
            "type": "barpolar"
           }
          ],
          "carpet": [
           {
            "aaxis": {
             "endlinecolor": "#2a3f5f",
             "gridcolor": "white",
             "linecolor": "white",
             "minorgridcolor": "white",
             "startlinecolor": "#2a3f5f"
            },
            "baxis": {
             "endlinecolor": "#2a3f5f",
             "gridcolor": "white",
             "linecolor": "white",
             "minorgridcolor": "white",
             "startlinecolor": "#2a3f5f"
            },
            "type": "carpet"
           }
          ],
          "choropleth": [
           {
            "colorbar": {
             "outlinewidth": 0,
             "ticks": ""
            },
            "type": "choropleth"
           }
          ],
          "contour": [
           {
            "colorbar": {
             "outlinewidth": 0,
             "ticks": ""
            },
            "colorscale": [
             [
              0,
              "#0d0887"
             ],
             [
              0.1111111111111111,
              "#46039f"
             ],
             [
              0.2222222222222222,
              "#7201a8"
             ],
             [
              0.3333333333333333,
              "#9c179e"
             ],
             [
              0.4444444444444444,
              "#bd3786"
             ],
             [
              0.5555555555555556,
              "#d8576b"
             ],
             [
              0.6666666666666666,
              "#ed7953"
             ],
             [
              0.7777777777777778,
              "#fb9f3a"
             ],
             [
              0.8888888888888888,
              "#fdca26"
             ],
             [
              1,
              "#f0f921"
             ]
            ],
            "type": "contour"
           }
          ],
          "contourcarpet": [
           {
            "colorbar": {
             "outlinewidth": 0,
             "ticks": ""
            },
            "type": "contourcarpet"
           }
          ],
          "heatmap": [
           {
            "colorbar": {
             "outlinewidth": 0,
             "ticks": ""
            },
            "colorscale": [
             [
              0,
              "#0d0887"
             ],
             [
              0.1111111111111111,
              "#46039f"
             ],
             [
              0.2222222222222222,
              "#7201a8"
             ],
             [
              0.3333333333333333,
              "#9c179e"
             ],
             [
              0.4444444444444444,
              "#bd3786"
             ],
             [
              0.5555555555555556,
              "#d8576b"
             ],
             [
              0.6666666666666666,
              "#ed7953"
             ],
             [
              0.7777777777777778,
              "#fb9f3a"
             ],
             [
              0.8888888888888888,
              "#fdca26"
             ],
             [
              1,
              "#f0f921"
             ]
            ],
            "type": "heatmap"
           }
          ],
          "histogram": [
           {
            "marker": {
             "pattern": {
              "fillmode": "overlay",
              "size": 10,
              "solidity": 0.2
             }
            },
            "type": "histogram"
           }
          ],
          "histogram2d": [
           {
            "colorbar": {
             "outlinewidth": 0,
             "ticks": ""
            },
            "colorscale": [
             [
              0,
              "#0d0887"
             ],
             [
              0.1111111111111111,
              "#46039f"
             ],
             [
              0.2222222222222222,
              "#7201a8"
             ],
             [
              0.3333333333333333,
              "#9c179e"
             ],
             [
              0.4444444444444444,
              "#bd3786"
             ],
             [
              0.5555555555555556,
              "#d8576b"
             ],
             [
              0.6666666666666666,
              "#ed7953"
             ],
             [
              0.7777777777777778,
              "#fb9f3a"
             ],
             [
              0.8888888888888888,
              "#fdca26"
             ],
             [
              1,
              "#f0f921"
             ]
            ],
            "type": "histogram2d"
           }
          ],
          "histogram2dcontour": [
           {
            "colorbar": {
             "outlinewidth": 0,
             "ticks": ""
            },
            "colorscale": [
             [
              0,
              "#0d0887"
             ],
             [
              0.1111111111111111,
              "#46039f"
             ],
             [
              0.2222222222222222,
              "#7201a8"
             ],
             [
              0.3333333333333333,
              "#9c179e"
             ],
             [
              0.4444444444444444,
              "#bd3786"
             ],
             [
              0.5555555555555556,
              "#d8576b"
             ],
             [
              0.6666666666666666,
              "#ed7953"
             ],
             [
              0.7777777777777778,
              "#fb9f3a"
             ],
             [
              0.8888888888888888,
              "#fdca26"
             ],
             [
              1,
              "#f0f921"
             ]
            ],
            "type": "histogram2dcontour"
           }
          ],
          "mesh3d": [
           {
            "colorbar": {
             "outlinewidth": 0,
             "ticks": ""
            },
            "type": "mesh3d"
           }
          ],
          "parcoords": [
           {
            "line": {
             "colorbar": {
              "outlinewidth": 0,
              "ticks": ""
             }
            },
            "type": "parcoords"
           }
          ],
          "pie": [
           {
            "automargin": true,
            "type": "pie"
           }
          ],
          "scatter": [
           {
            "fillpattern": {
             "fillmode": "overlay",
             "size": 10,
             "solidity": 0.2
            },
            "type": "scatter"
           }
          ],
          "scatter3d": [
           {
            "line": {
             "colorbar": {
              "outlinewidth": 0,
              "ticks": ""
             }
            },
            "marker": {
             "colorbar": {
              "outlinewidth": 0,
              "ticks": ""
             }
            },
            "type": "scatter3d"
           }
          ],
          "scattercarpet": [
           {
            "marker": {
             "colorbar": {
              "outlinewidth": 0,
              "ticks": ""
             }
            },
            "type": "scattercarpet"
           }
          ],
          "scattergeo": [
           {
            "marker": {
             "colorbar": {
              "outlinewidth": 0,
              "ticks": ""
             }
            },
            "type": "scattergeo"
           }
          ],
          "scattergl": [
           {
            "marker": {
             "colorbar": {
              "outlinewidth": 0,
              "ticks": ""
             }
            },
            "type": "scattergl"
           }
          ],
          "scattermap": [
           {
            "marker": {
             "colorbar": {
              "outlinewidth": 0,
              "ticks": ""
             }
            },
            "type": "scattermap"
           }
          ],
          "scattermapbox": [
           {
            "marker": {
             "colorbar": {
              "outlinewidth": 0,
              "ticks": ""
             }
            },
            "type": "scattermapbox"
           }
          ],
          "scatterpolar": [
           {
            "marker": {
             "colorbar": {
              "outlinewidth": 0,
              "ticks": ""
             }
            },
            "type": "scatterpolar"
           }
          ],
          "scatterpolargl": [
           {
            "marker": {
             "colorbar": {
              "outlinewidth": 0,
              "ticks": ""
             }
            },
            "type": "scatterpolargl"
           }
          ],
          "scatterternary": [
           {
            "marker": {
             "colorbar": {
              "outlinewidth": 0,
              "ticks": ""
             }
            },
            "type": "scatterternary"
           }
          ],
          "surface": [
           {
            "colorbar": {
             "outlinewidth": 0,
             "ticks": ""
            },
            "colorscale": [
             [
              0,
              "#0d0887"
             ],
             [
              0.1111111111111111,
              "#46039f"
             ],
             [
              0.2222222222222222,
              "#7201a8"
             ],
             [
              0.3333333333333333,
              "#9c179e"
             ],
             [
              0.4444444444444444,
              "#bd3786"
             ],
             [
              0.5555555555555556,
              "#d8576b"
             ],
             [
              0.6666666666666666,
              "#ed7953"
             ],
             [
              0.7777777777777778,
              "#fb9f3a"
             ],
             [
              0.8888888888888888,
              "#fdca26"
             ],
             [
              1,
              "#f0f921"
             ]
            ],
            "type": "surface"
           }
          ],
          "table": [
           {
            "cells": {
             "fill": {
              "color": "#EBF0F8"
             },
             "line": {
              "color": "white"
             }
            },
            "header": {
             "fill": {
              "color": "#C8D4E3"
             },
             "line": {
              "color": "white"
             }
            },
            "type": "table"
           }
          ]
         },
         "layout": {
          "annotationdefaults": {
           "arrowcolor": "#2a3f5f",
           "arrowhead": 0,
           "arrowwidth": 1
          },
          "autotypenumbers": "strict",
          "coloraxis": {
           "colorbar": {
            "outlinewidth": 0,
            "ticks": ""
           }
          },
          "colorscale": {
           "diverging": [
            [
             0,
             "#8e0152"
            ],
            [
             0.1,
             "#c51b7d"
            ],
            [
             0.2,
             "#de77ae"
            ],
            [
             0.3,
             "#f1b6da"
            ],
            [
             0.4,
             "#fde0ef"
            ],
            [
             0.5,
             "#f7f7f7"
            ],
            [
             0.6,
             "#e6f5d0"
            ],
            [
             0.7,
             "#b8e186"
            ],
            [
             0.8,
             "#7fbc41"
            ],
            [
             0.9,
             "#4d9221"
            ],
            [
             1,
             "#276419"
            ]
           ],
           "sequential": [
            [
             0,
             "#0d0887"
            ],
            [
             0.1111111111111111,
             "#46039f"
            ],
            [
             0.2222222222222222,
             "#7201a8"
            ],
            [
             0.3333333333333333,
             "#9c179e"
            ],
            [
             0.4444444444444444,
             "#bd3786"
            ],
            [
             0.5555555555555556,
             "#d8576b"
            ],
            [
             0.6666666666666666,
             "#ed7953"
            ],
            [
             0.7777777777777778,
             "#fb9f3a"
            ],
            [
             0.8888888888888888,
             "#fdca26"
            ],
            [
             1,
             "#f0f921"
            ]
           ],
           "sequentialminus": [
            [
             0,
             "#0d0887"
            ],
            [
             0.1111111111111111,
             "#46039f"
            ],
            [
             0.2222222222222222,
             "#7201a8"
            ],
            [
             0.3333333333333333,
             "#9c179e"
            ],
            [
             0.4444444444444444,
             "#bd3786"
            ],
            [
             0.5555555555555556,
             "#d8576b"
            ],
            [
             0.6666666666666666,
             "#ed7953"
            ],
            [
             0.7777777777777778,
             "#fb9f3a"
            ],
            [
             0.8888888888888888,
             "#fdca26"
            ],
            [
             1,
             "#f0f921"
            ]
           ]
          },
          "colorway": [
           "#636efa",
           "#EF553B",
           "#00cc96",
           "#ab63fa",
           "#FFA15A",
           "#19d3f3",
           "#FF6692",
           "#B6E880",
           "#FF97FF",
           "#FECB52"
          ],
          "font": {
           "color": "#2a3f5f"
          },
          "geo": {
           "bgcolor": "white",
           "lakecolor": "white",
           "landcolor": "#E5ECF6",
           "showlakes": true,
           "showland": true,
           "subunitcolor": "white"
          },
          "hoverlabel": {
           "align": "left"
          },
          "hovermode": "closest",
          "mapbox": {
           "style": "light"
          },
          "paper_bgcolor": "white",
          "plot_bgcolor": "#E5ECF6",
          "polar": {
           "angularaxis": {
            "gridcolor": "white",
            "linecolor": "white",
            "ticks": ""
           },
           "bgcolor": "#E5ECF6",
           "radialaxis": {
            "gridcolor": "white",
            "linecolor": "white",
            "ticks": ""
           }
          },
          "scene": {
           "xaxis": {
            "backgroundcolor": "#E5ECF6",
            "gridcolor": "white",
            "gridwidth": 2,
            "linecolor": "white",
            "showbackground": true,
            "ticks": "",
            "zerolinecolor": "white"
           },
           "yaxis": {
            "backgroundcolor": "#E5ECF6",
            "gridcolor": "white",
            "gridwidth": 2,
            "linecolor": "white",
            "showbackground": true,
            "ticks": "",
            "zerolinecolor": "white"
           },
           "zaxis": {
            "backgroundcolor": "#E5ECF6",
            "gridcolor": "white",
            "gridwidth": 2,
            "linecolor": "white",
            "showbackground": true,
            "ticks": "",
            "zerolinecolor": "white"
           }
          },
          "shapedefaults": {
           "line": {
            "color": "#2a3f5f"
           }
          },
          "ternary": {
           "aaxis": {
            "gridcolor": "white",
            "linecolor": "white",
            "ticks": ""
           },
           "baxis": {
            "gridcolor": "white",
            "linecolor": "white",
            "ticks": ""
           },
           "bgcolor": "#E5ECF6",
           "caxis": {
            "gridcolor": "white",
            "linecolor": "white",
            "ticks": ""
           }
          },
          "title": {
           "x": 0.05
          },
          "xaxis": {
           "automargin": true,
           "gridcolor": "white",
           "linecolor": "white",
           "ticks": "",
           "title": {
            "standoff": 15
           },
           "zerolinecolor": "white",
           "zerolinewidth": 2
          },
          "yaxis": {
           "automargin": true,
           "gridcolor": "white",
           "linecolor": "white",
           "ticks": "",
           "title": {
            "standoff": 15
           },
           "zerolinecolor": "white",
           "zerolinewidth": 2
          }
         }
        },
        "title": {
         "font": {
          "color": "black",
          "family": "Georgia",
          "size": 18
         },
         "pad": {
          "b": 20
         },
         "text": "<b>Share of the population using the Internet, 2023</b><br><span style='font-size:12px; font-weight:normal; color:#666666'>Share of the population who used the Internet in the last three months.</span>",
         "x": 0.025,
         "xanchor": "left",
         "yanchor": "top"
        },
        "width": 700,
        "xaxis": {
         "anchor": "y",
         "domain": [
          0,
          1
         ],
         "title": {}
        },
        "yaxis": {
         "anchor": "x",
         "domain": [
          0,
          1
         ],
         "tickfont": {
          "color": "black",
          "family": "Georgia",
          "size": 11
         },
         "title": {}
        }
       }
      }
     },
     "metadata": {},
     "output_type": "display_data"
    }
   ],
   "source": [
    "from PIL import Image\n",
    "import base64\n",
    "from io import BytesIO\n",
    "\n",
    "fig = px.bar(\n",
    "    df_2023_sorted,\n",
    "    y=\"Entity\",\n",
    "    x=\"Individuals using the Internet (% of population)\",\n",
    ")\n",
    "\n",
    "fig.update_traces(\n",
    "    marker_color=\"#738FBE\",\n",
    "    marker_line_width=1.5,\n",
    "    opacity=1,\n",
    "    textposition=\"outside\",\n",
    "    texttemplate=\"%{x:.0f}%\",\n",
    ")\n",
    "\n",
    "fig.update_layout(\n",
    "    title=dict(\n",
    "        text=(\n",
    "            \"<b>Share of the population using the Internet, 2023</b><br>\"\n",
    "            \"<span style='font-size:12px; font-weight:normal; color:#666666'>\"\n",
    "            \"Share of the population who used the Internet in the last three months.\"\n",
    "            \"</span>\"\n",
    "        ),\n",
    "        x=0.025,\n",
    "        xanchor='left',\n",
    "        yanchor='top',\n",
    "        font=dict(family=\"Georgia\", size=18, color=\"black\"),\n",
    "        pad=dict(b=20)\n",
    "    ),\n",
    "    height=400,\n",
    "    width=700,\n",
    "    bargap=0.3,\n",
    "    plot_bgcolor=\"white\",\n",
    "    font=dict(size=14, family=\"Georgia\", color=\"black\"),\n",
    "    yaxis=dict(\n",
    "        tickfont=dict(family=\"Georgia\", size=11, color=\"black\")\n",
    "    ),\n",
    "\n",
    "    xaxis_title=None,\n",
    "    yaxis_title=None\n",
    ")\n",
    " \n",
    "fig.add_annotation(\n",
    "    text=(\n",
    "        \"<b>Data source:</b> International Telecommunication Union (via World Bank) (2025) \"\n",
    "        \"&nbsp;&nbsp;&nbsp;&nbsp;&nbsp;&nbsp;&nbsp;&nbsp;&nbsp;&nbsp;&nbsp;&nbsp;&nbsp;&nbsp;&nbsp;&nbsp;&nbsp;&nbsp;&nbsp;&nbsp;&nbsp;&nbsp;&nbsp;&nbsp;&nbsp;&nbsp;&nbsp;&nbsp;&nbsp;&nbsp;&nbsp;&nbsp;&nbsp;&nbsp;&nbsp;&nbsp;&nbsp;&nbsp;&nbsp;&nbsp;&nbsp;&nbsp;&nbsp;&nbsp;&nbsp;&nbsp;&nbsp;&nbsp;&nbsp;&nbsp;&nbsp;&nbsp;&nbsp;&nbsp;&nbsp;&nbsp;&nbsp;&nbsp;&nbsp;&nbsp;&nbsp;&nbsp;&nbsp;&nbsp;&nbsp;&nbsp;&nbsp;&nbsp;&nbsp;&nbsp;&nbsp;&nbsp;&nbsp;&nbsp;&nbsp;&nbsp;&nbsp;&nbsp;\"\n",
    "        \"<span style='float:right'; color:#666666'>OurWorldInData.org/internet | CC BY</span>\"\n",
    "    ),\n",
    "    xref=\"paper\", yref=\"paper\",\n",
    "    x=-0.35, y=-0.25,\n",
    "    showarrow=False,\n",
    "    font=dict(family=\"Georgia\", size=9, color=\"#666666\"),\n",
    "    align=\"left\",\n",
    "    xanchor=\"left\"\n",
    ")\n",
    "\n",
    "image_path = \"assets/world_logo.png\"\n",
    "img = Image.open(image_path)\n",
    "buffer = BytesIO()\n",
    "img.save(buffer, format=\"PNG\")\n",
    "encoded_image = \"data:image/png;base64,\" + base64.b64encode(buffer.getvalue()).decode()\n",
    "\n",
    "fig.add_layout_image(\n",
    "    dict(\n",
    "        source=encoded_image,\n",
    "        xref=\"paper\", yref=\"paper\",\n",
    "        x=1.15, y=1.15,\n",
    "        sizex=0.1, sizey=0.1,\n",
    "        xanchor=\"right\", yanchor=\"top\",\n",
    "        layer=\"above\"\n",
    "    )\n",
    ")\n",
    "\n",
    "fig.show()\n",
    "fig.write_html(\"interactive_figures/internet_use.html\")\n"
   ]
  },
  {
   "cell_type": "markdown",
   "id": "e80dfa63",
   "metadata": {},
   "source": [
    "#4) Internet data"
   ]
  },
  {
   "cell_type": "code",
   "execution_count": 10,
   "id": "f3767e88",
   "metadata": {},
   "outputs": [],
   "source": [
    "import pandas as pd\n",
    "\n",
    "df = pd.read_csv(\"data/landline-internet-subscriptions.csv\")\n",
    "df\n",
    "\n",
    "df.columns = df.columns.str.strip()  # Removes leading/trailing spaces"
   ]
  },
  {
   "cell_type": "code",
   "execution_count": 11,
   "id": "a9e80f66",
   "metadata": {},
   "outputs": [
    {
     "data": {
      "text/plain": [
       "Entity                           object\n",
       "Code                             object\n",
       "Year                              int64\n",
       "Fixed broadband subscriptions     int64\n",
       "dtype: object"
      ]
     },
     "execution_count": 11,
     "metadata": {},
     "output_type": "execute_result"
    }
   ],
   "source": [
    "df.dtypes"
   ]
  },
  {
   "cell_type": "code",
   "execution_count": 12,
   "id": "97961d24",
   "metadata": {},
   "outputs": [
    {
     "data": {
      "text/plain": [
       "Index(['Entity', 'Code', 'Year', 'Fixed broadband subscriptions'], dtype='object')"
      ]
     },
     "execution_count": 12,
     "metadata": {},
     "output_type": "execute_result"
    }
   ],
   "source": [
    "df.columns"
   ]
  },
  {
   "cell_type": "code",
   "execution_count": null,
   "id": "5bd31d39",
   "metadata": {},
   "outputs": [],
   "source": [
    "# df_2023 = df[\"Year\"] == 2023\n",
    "# df_2023"
   ]
  },
  {
   "cell_type": "code",
   "execution_count": null,
   "id": "545fd496",
   "metadata": {},
   "outputs": [],
   "source": [
    "\n"
   ]
  },
  {
   "cell_type": "code",
   "execution_count": 13,
   "id": "c638cf76",
   "metadata": {},
   "outputs": [],
   "source": [
    "import duckdb\n",
    "\n",
    "# df_2023 = duckdb.query(\n",
    "#     \"\"\"--sql\n",
    "\n",
    "#     SELECT\n",
    "#         Entity,\n",
    "#         Code,\n",
    "#         Year,\n",
    "#         \"Fixed broadband subscriptions\"\n",
    "#     FROM df\n",
    "\n",
    "#     WHERE Year ='2023';\n",
    "# \"\"\"\n",
    "# ).df()\n",
    "\n",
    "duckdb.register(\"df\", df)  \n",
    "\n",
    "df_2023 = duckdb.query(\n",
    "    \"\"\"--sql\n",
    "    SELECT\n",
    "        Entity,\n",
    "        Code,\n",
    "        Year,\n",
    "        \"Fixed broadband subscriptions\"\n",
    "    FROM df\n",
    "    WHERE Year = 2023\n",
    "    \"\"\"\n",
    ").df()\n"
   ]
  },
  {
   "cell_type": "code",
   "execution_count": 14,
   "id": "e16eb948",
   "metadata": {},
   "outputs": [
    {
     "data": {
      "text/html": [
       "<div>\n",
       "<style scoped>\n",
       "    .dataframe tbody tr th:only-of-type {\n",
       "        vertical-align: middle;\n",
       "    }\n",
       "\n",
       "    .dataframe tbody tr th {\n",
       "        vertical-align: top;\n",
       "    }\n",
       "\n",
       "    .dataframe thead th {\n",
       "        text-align: right;\n",
       "    }\n",
       "</style>\n",
       "<table border=\"1\" class=\"dataframe\">\n",
       "  <thead>\n",
       "    <tr style=\"text-align: right;\">\n",
       "      <th></th>\n",
       "      <th>Entity</th>\n",
       "      <th>Code</th>\n",
       "      <th>Year</th>\n",
       "      <th>Fixed broadband subscriptions</th>\n",
       "    </tr>\n",
       "  </thead>\n",
       "  <tbody>\n",
       "    <tr>\n",
       "      <th>0</th>\n",
       "      <td>Afghanistan</td>\n",
       "      <td>AFG</td>\n",
       "      <td>2023</td>\n",
       "      <td>33200</td>\n",
       "    </tr>\n",
       "    <tr>\n",
       "      <th>1</th>\n",
       "      <td>Albania</td>\n",
       "      <td>ALB</td>\n",
       "      <td>2023</td>\n",
       "      <td>632000</td>\n",
       "    </tr>\n",
       "    <tr>\n",
       "      <th>2</th>\n",
       "      <td>Algeria</td>\n",
       "      <td>DZA</td>\n",
       "      <td>2023</td>\n",
       "      <td>5540000</td>\n",
       "    </tr>\n",
       "    <tr>\n",
       "      <th>3</th>\n",
       "      <td>Andorra</td>\n",
       "      <td>AND</td>\n",
       "      <td>2023</td>\n",
       "      <td>41800</td>\n",
       "    </tr>\n",
       "    <tr>\n",
       "      <th>4</th>\n",
       "      <td>Angola</td>\n",
       "      <td>AGO</td>\n",
       "      <td>2023</td>\n",
       "      <td>137000</td>\n",
       "    </tr>\n",
       "    <tr>\n",
       "      <th>...</th>\n",
       "      <td>...</td>\n",
       "      <td>...</td>\n",
       "      <td>...</td>\n",
       "      <td>...</td>\n",
       "    </tr>\n",
       "    <tr>\n",
       "      <th>147</th>\n",
       "      <td>Uzbekistan</td>\n",
       "      <td>UZB</td>\n",
       "      <td>2023</td>\n",
       "      <td>10800000</td>\n",
       "    </tr>\n",
       "    <tr>\n",
       "      <th>148</th>\n",
       "      <td>Vietnam</td>\n",
       "      <td>VNM</td>\n",
       "      <td>2023</td>\n",
       "      <td>22800000</td>\n",
       "    </tr>\n",
       "    <tr>\n",
       "      <th>149</th>\n",
       "      <td>World</td>\n",
       "      <td>OWID_WRL</td>\n",
       "      <td>2023</td>\n",
       "      <td>1495600000</td>\n",
       "    </tr>\n",
       "    <tr>\n",
       "      <th>150</th>\n",
       "      <td>Zambia</td>\n",
       "      <td>ZMB</td>\n",
       "      <td>2023</td>\n",
       "      <td>99000</td>\n",
       "    </tr>\n",
       "    <tr>\n",
       "      <th>151</th>\n",
       "      <td>Zimbabwe</td>\n",
       "      <td>ZWE</td>\n",
       "      <td>2023</td>\n",
       "      <td>269000</td>\n",
       "    </tr>\n",
       "  </tbody>\n",
       "</table>\n",
       "<p>152 rows × 4 columns</p>\n",
       "</div>"
      ],
      "text/plain": [
       "          Entity      Code  Year  Fixed broadband subscriptions\n",
       "0    Afghanistan       AFG  2023                          33200\n",
       "1        Albania       ALB  2023                         632000\n",
       "2        Algeria       DZA  2023                        5540000\n",
       "3        Andorra       AND  2023                          41800\n",
       "4         Angola       AGO  2023                         137000\n",
       "..           ...       ...   ...                            ...\n",
       "147   Uzbekistan       UZB  2023                       10800000\n",
       "148      Vietnam       VNM  2023                       22800000\n",
       "149        World  OWID_WRL  2023                     1495600000\n",
       "150       Zambia       ZMB  2023                          99000\n",
       "151     Zimbabwe       ZWE  2023                         269000\n",
       "\n",
       "[152 rows x 4 columns]"
      ]
     },
     "execution_count": 14,
     "metadata": {},
     "output_type": "execute_result"
    }
   ],
   "source": [
    "df_2023"
   ]
  },
  {
   "cell_type": "code",
   "execution_count": 30,
   "id": "c69092b0",
   "metadata": {},
   "outputs": [
    {
     "data": {
      "application/vnd.plotly.v1+json": {
       "config": {
        "plotlyServerURL": "https://plot.ly"
       },
       "data": [
        {
         "colorbar": {
          "orientation": "h",
          "x": 0.5,
          "xanchor": "center",
          "y": -0.15
         },
         "colorscale": [
          [
           0,
           "rgb(255,245,235)"
          ],
          [
           0.125,
           "rgb(254,230,206)"
          ],
          [
           0.25,
           "rgb(253,208,162)"
          ],
          [
           0.375,
           "rgb(253,174,107)"
          ],
          [
           0.5,
           "rgb(253,141,60)"
          ],
          [
           0.625,
           "rgb(241,105,19)"
          ],
          [
           0.75,
           "rgb(217,72,1)"
          ],
          [
           0.875,
           "rgb(166,54,3)"
          ],
          [
           1,
           "rgb(127,39,4)"
          ]
         ],
         "locations": [
          "AFG",
          "ALB",
          "DZA",
          "AND",
          "AGO",
          "ARG",
          "ARM",
          "AUS",
          "AUT",
          "AZE",
          "BHS",
          "BHR",
          "BGD",
          "BLR",
          "BEL",
          "BEN",
          "BTN",
          "BIH",
          "BWA",
          "BRA",
          "BRN",
          "BGR",
          "BDI",
          "CAN",
          "CPV",
          "CHL",
          "CHN",
          "COL",
          "COM",
          "COG",
          "CRI",
          "CIV",
          "HRV",
          "CUB",
          "CYP",
          "CZE",
          "DNK",
          "DJI",
          "DOM",
          null,
          "TLS",
          "ECU",
          "EGY",
          "EST",
          "SWZ",
          null,
          "FIN",
          "FRA",
          "GEO",
          "DEU",
          "GHA",
          "GRC",
          "GTM",
          "GNB",
          null,
          "HND",
          "HKG",
          "HUN",
          "ISL",
          "IND",
          "IDN",
          "IRN",
          "IRQ",
          "IRL",
          "ISR",
          "ITA",
          "JAM",
          "JPN",
          "JOR",
          "KAZ",
          "KEN",
          "KIR",
          "KWT",
          "KGZ",
          null,
          "LVA",
          "LSO",
          "LIE",
          "LTU",
          null,
          null,
          "MAC",
          "MDG",
          "MWI",
          "MYS",
          "MDV",
          "MLT",
          "MUS",
          "MEX",
          null,
          "MDA",
          "MCO",
          "MNG",
          "MNE",
          "MMR",
          "NAM",
          "NLD",
          "NZL",
          "NIC",
          "NGA",
          null,
          "OMN",
          "PAK",
          "PLW",
          "PSE",
          "PAN",
          "PRY",
          "PER",
          "PHL",
          "POL",
          "PRT",
          "PRI",
          "QAT",
          "ROU",
          "RWA",
          "VCT",
          "STP",
          "SAU",
          "SEN",
          "SRB",
          "SYC",
          "SGP",
          "SVK",
          "SVN",
          "ZAF",
          null,
          "KOR",
          "SSD",
          "ESP",
          "LKA",
          null,
          "SWE",
          "CHE",
          "SYR",
          "TZA",
          "THA",
          "TGO",
          "TTO",
          "TUN",
          "TUR",
          "UGA",
          "UKR",
          "ARE",
          "GBR",
          "USA",
          null,
          "URY",
          "UZB",
          "VNM",
          "OWID_WRL",
          "ZMB",
          "ZWE"
         ],
         "marker": {
          "line": {
           "color": "white"
          }
         },
         "text": [
          "Afghanistan",
          "Albania",
          "Algeria",
          "Andorra",
          "Angola",
          "Argentina",
          "Armenia",
          "Australia",
          "Austria",
          "Azerbaijan",
          "Bahamas",
          "Bahrain",
          "Bangladesh",
          "Belarus",
          "Belgium",
          "Benin",
          "Bhutan",
          "Bosnia and Herzegovina",
          "Botswana",
          "Brazil",
          "Brunei",
          "Bulgaria",
          "Burundi",
          "Canada",
          "Cape Verde",
          "Chile",
          "China",
          "Colombia",
          "Comoros",
          "Congo",
          "Costa Rica",
          "Cote d'Ivoire",
          "Croatia",
          "Cuba",
          "Cyprus",
          "Czechia",
          "Denmark",
          "Djibouti",
          "Dominican Republic",
          "East Asia and Pacific (WB)",
          "East Timor",
          "Ecuador",
          "Egypt",
          "Estonia",
          "Eswatini",
          "Europe and Central Asia (WB)",
          "Finland",
          "France",
          "Georgia",
          "Germany",
          "Ghana",
          "Greece",
          "Guatemala",
          "Guinea-Bissau",
          "High-income countries",
          "Honduras",
          "Hong Kong",
          "Hungary",
          "Iceland",
          "India",
          "Indonesia",
          "Iran",
          "Iraq",
          "Ireland",
          "Israel",
          "Italy",
          "Jamaica",
          "Japan",
          "Jordan",
          "Kazakhstan",
          "Kenya",
          "Kiribati",
          "Kuwait",
          "Kyrgyzstan",
          "Latin America and Caribbean (WB)",
          "Latvia",
          "Lesotho",
          "Liechtenstein",
          "Lithuania",
          "Low-income countries",
          "Lower-middle-income countries",
          "Macao",
          "Madagascar",
          "Malawi",
          "Malaysia",
          "Maldives",
          "Malta",
          "Mauritius",
          "Mexico",
          "Middle East and North Africa (WB)",
          "Moldova",
          "Monaco",
          "Mongolia",
          "Montenegro",
          "Myanmar",
          "Namibia",
          "Netherlands",
          "New Zealand",
          "Nicaragua",
          "Nigeria",
          "North America (WB)",
          "Oman",
          "Pakistan",
          "Palau",
          "Palestine",
          "Panama",
          "Paraguay",
          "Peru",
          "Philippines",
          "Poland",
          "Portugal",
          "Puerto Rico",
          "Qatar",
          "Romania",
          "Rwanda",
          "Saint Vincent and the Grenadines",
          "Sao Tome and Principe",
          "Saudi Arabia",
          "Senegal",
          "Serbia",
          "Seychelles",
          "Singapore",
          "Slovakia",
          "Slovenia",
          "South Africa",
          "South Asia (WB)",
          "South Korea",
          "South Sudan",
          "Spain",
          "Sri Lanka",
          "Sub-Saharan Africa (WB)",
          "Sweden",
          "Switzerland",
          "Syria",
          "Tanzania",
          "Thailand",
          "Togo",
          "Trinidad and Tobago",
          "Tunisia",
          "Turkey",
          "Uganda",
          "Ukraine",
          "United Arab Emirates",
          "United Kingdom",
          "United States",
          "Upper-middle-income countries",
          "Uruguay",
          "Uzbekistan",
          "Vietnam",
          "World",
          "Zambia",
          "Zimbabwe"
         ],
         "type": "choropleth",
         "z": {
          "bdata": "pw2ipqgVEkCh2Z9b7zMXQHvV8aRa+RpA5LbaWxh8EkDVDq9OAYwUQNHRpZUnPhxAFx8u1uLyFkCshcG9O+8bQLwXA1hcuxlAhF7zzGpUGUCUdL5ZqekTQId9amRpthVAS2sWcD5xHEDSb00SRgUaQLX0CuNK1hpAZDYRMzSHEUB+C1IifBEQQHm5AZUU1RdANosS7KG1E0DBedYaSL0eQMpGnB/G3hNAb5a5mYGOGUA6tnyI6pALQB/DCc/66xxAkp2tBV1PEkAhKZKi3J4aQDTDLLtemyFACYrtwKzMG0BDuemfLyYMQMzWxArJkxNAwPR0rCc+GEDgf9KneIMWQBZQ4D9pLhhAYXpI9OUOFkByb8r57jUWQDtMnKN9cxpAYmvKaGexGUBMhK9/AewQQOKRZKDHZhhAEcRX8dHMIUD91U+WJ4n+P7Zyu6T11xlA7GKVbr6IHEBkf2MQwdkWQOgALLWfHRJAttY0gd32IEDbYaAOyS8ZQEHOuGNsCR5APAeT8mIqGECQD23tWlYeQPwwYYqqZBVAFVUspuiaGkC9TAcAZ9sXQMLJgwqbmg5Ail63NpNvIUBxhBDW3rUWQPRSE04a5BlA/IIaV680GkAluFBwPqUUQJE+kXGoYB5Ae61NOXaFHEBLJG8kUyYcQFruzYrKjxtAMxsZLrTeGEACOS+2fcMZQObJbgh5Nh1ABy254OiaFkDMdA3gqbgeQGmYwBiJnxdAnaX5tWo4GkD9eqHRd3sYQJ9bUGvPJwVAFXOoFcXCEkA17Ovtx6IWQKWOfK0EKiBA/AQVatrBFkBU7MqlcpUPQIQgVFWOLRFAeg44bxagF0Cj4bg0IC0aQEPwEyT/OSBAyrFihitOFUA+3mES/BoSQLEzt0C+5hBA2mTZ8bmkGkBcpcWASPkTQDoHYyDdfRVAls9FeSQkFkC2fxAtFLMdQHj0QzALWR9Atmpd2/2yF0DFErKPmVoRQBM5+xjbyhZAfSdczeA6FUBblurORbcYQOAiSkhyERRAuLRCTDaTG0B2J7cxaSQZQLfI0kIKRxZAbADTfNNFFEDdJWkKuVYgQC/6SxS7/xZAyYeot/gaGkAqQhs3CuoIQGXAdKy0iRZAXr/hZb2hF0Dl8ViOI8YXQMF/duLrMBpAXIJTxaeAG0CEAV/VbAQcQKLxhgOqphpAee1A6KeAF0Dl7Tp1TCkWQO48DNw6SRtA9UaJN9ksE0B+eSZcu/URQDteRwOVGA5AwHBTqT2lHEByb8r57jUWQNf2GXOyRRlACbespsxhEkAw47H9mcgYQMnhaQrADBlA2rQxjHJWF0CEXvPMalQZQDzMzwcbFh9AvhX3ei+HHUBXLfcN8mwCQGMJAilQCh1AvZZ7FXk2GUDABqCF2O0bQD4xNvuriBpARaxngsOLGkBSjpssi9YYQOmETRVk4RhA0dGllSc+HEDuDJZDRjoUQEFRtITvbBZAyUxobMLzGEC0zW4uRSsdQFbsGyDulhJA3YFReKOgG0D1Trtg6mIaQNS3NRsOzR1A/63T+wo8IECwRqqirtohQDwHk/JiKhhAmb/12DkiHEDlGj96hm4dQNBYW2mBWSJADKpC8Yj7E0AVbqhnEbgVQA==",
          "dtype": "f8"
         }
        }
       ],
       "layout": {
        "geo": {
         "projection": {
          "type": "natural earth"
         },
         "showcoastlines": false,
         "showframe": false
        },
        "height": 600,
        "template": {
         "data": {
          "bar": [
           {
            "error_x": {
             "color": "#2a3f5f"
            },
            "error_y": {
             "color": "#2a3f5f"
            },
            "marker": {
             "line": {
              "color": "#E5ECF6",
              "width": 0.5
             },
             "pattern": {
              "fillmode": "overlay",
              "size": 10,
              "solidity": 0.2
             }
            },
            "type": "bar"
           }
          ],
          "barpolar": [
           {
            "marker": {
             "line": {
              "color": "#E5ECF6",
              "width": 0.5
             },
             "pattern": {
              "fillmode": "overlay",
              "size": 10,
              "solidity": 0.2
             }
            },
            "type": "barpolar"
           }
          ],
          "carpet": [
           {
            "aaxis": {
             "endlinecolor": "#2a3f5f",
             "gridcolor": "white",
             "linecolor": "white",
             "minorgridcolor": "white",
             "startlinecolor": "#2a3f5f"
            },
            "baxis": {
             "endlinecolor": "#2a3f5f",
             "gridcolor": "white",
             "linecolor": "white",
             "minorgridcolor": "white",
             "startlinecolor": "#2a3f5f"
            },
            "type": "carpet"
           }
          ],
          "choropleth": [
           {
            "colorbar": {
             "outlinewidth": 0,
             "ticks": ""
            },
            "type": "choropleth"
           }
          ],
          "contour": [
           {
            "colorbar": {
             "outlinewidth": 0,
             "ticks": ""
            },
            "colorscale": [
             [
              0,
              "#0d0887"
             ],
             [
              0.1111111111111111,
              "#46039f"
             ],
             [
              0.2222222222222222,
              "#7201a8"
             ],
             [
              0.3333333333333333,
              "#9c179e"
             ],
             [
              0.4444444444444444,
              "#bd3786"
             ],
             [
              0.5555555555555556,
              "#d8576b"
             ],
             [
              0.6666666666666666,
              "#ed7953"
             ],
             [
              0.7777777777777778,
              "#fb9f3a"
             ],
             [
              0.8888888888888888,
              "#fdca26"
             ],
             [
              1,
              "#f0f921"
             ]
            ],
            "type": "contour"
           }
          ],
          "contourcarpet": [
           {
            "colorbar": {
             "outlinewidth": 0,
             "ticks": ""
            },
            "type": "contourcarpet"
           }
          ],
          "heatmap": [
           {
            "colorbar": {
             "outlinewidth": 0,
             "ticks": ""
            },
            "colorscale": [
             [
              0,
              "#0d0887"
             ],
             [
              0.1111111111111111,
              "#46039f"
             ],
             [
              0.2222222222222222,
              "#7201a8"
             ],
             [
              0.3333333333333333,
              "#9c179e"
             ],
             [
              0.4444444444444444,
              "#bd3786"
             ],
             [
              0.5555555555555556,
              "#d8576b"
             ],
             [
              0.6666666666666666,
              "#ed7953"
             ],
             [
              0.7777777777777778,
              "#fb9f3a"
             ],
             [
              0.8888888888888888,
              "#fdca26"
             ],
             [
              1,
              "#f0f921"
             ]
            ],
            "type": "heatmap"
           }
          ],
          "histogram": [
           {
            "marker": {
             "pattern": {
              "fillmode": "overlay",
              "size": 10,
              "solidity": 0.2
             }
            },
            "type": "histogram"
           }
          ],
          "histogram2d": [
           {
            "colorbar": {
             "outlinewidth": 0,
             "ticks": ""
            },
            "colorscale": [
             [
              0,
              "#0d0887"
             ],
             [
              0.1111111111111111,
              "#46039f"
             ],
             [
              0.2222222222222222,
              "#7201a8"
             ],
             [
              0.3333333333333333,
              "#9c179e"
             ],
             [
              0.4444444444444444,
              "#bd3786"
             ],
             [
              0.5555555555555556,
              "#d8576b"
             ],
             [
              0.6666666666666666,
              "#ed7953"
             ],
             [
              0.7777777777777778,
              "#fb9f3a"
             ],
             [
              0.8888888888888888,
              "#fdca26"
             ],
             [
              1,
              "#f0f921"
             ]
            ],
            "type": "histogram2d"
           }
          ],
          "histogram2dcontour": [
           {
            "colorbar": {
             "outlinewidth": 0,
             "ticks": ""
            },
            "colorscale": [
             [
              0,
              "#0d0887"
             ],
             [
              0.1111111111111111,
              "#46039f"
             ],
             [
              0.2222222222222222,
              "#7201a8"
             ],
             [
              0.3333333333333333,
              "#9c179e"
             ],
             [
              0.4444444444444444,
              "#bd3786"
             ],
             [
              0.5555555555555556,
              "#d8576b"
             ],
             [
              0.6666666666666666,
              "#ed7953"
             ],
             [
              0.7777777777777778,
              "#fb9f3a"
             ],
             [
              0.8888888888888888,
              "#fdca26"
             ],
             [
              1,
              "#f0f921"
             ]
            ],
            "type": "histogram2dcontour"
           }
          ],
          "mesh3d": [
           {
            "colorbar": {
             "outlinewidth": 0,
             "ticks": ""
            },
            "type": "mesh3d"
           }
          ],
          "parcoords": [
           {
            "line": {
             "colorbar": {
              "outlinewidth": 0,
              "ticks": ""
             }
            },
            "type": "parcoords"
           }
          ],
          "pie": [
           {
            "automargin": true,
            "type": "pie"
           }
          ],
          "scatter": [
           {
            "fillpattern": {
             "fillmode": "overlay",
             "size": 10,
             "solidity": 0.2
            },
            "type": "scatter"
           }
          ],
          "scatter3d": [
           {
            "line": {
             "colorbar": {
              "outlinewidth": 0,
              "ticks": ""
             }
            },
            "marker": {
             "colorbar": {
              "outlinewidth": 0,
              "ticks": ""
             }
            },
            "type": "scatter3d"
           }
          ],
          "scattercarpet": [
           {
            "marker": {
             "colorbar": {
              "outlinewidth": 0,
              "ticks": ""
             }
            },
            "type": "scattercarpet"
           }
          ],
          "scattergeo": [
           {
            "marker": {
             "colorbar": {
              "outlinewidth": 0,
              "ticks": ""
             }
            },
            "type": "scattergeo"
           }
          ],
          "scattergl": [
           {
            "marker": {
             "colorbar": {
              "outlinewidth": 0,
              "ticks": ""
             }
            },
            "type": "scattergl"
           }
          ],
          "scattermap": [
           {
            "marker": {
             "colorbar": {
              "outlinewidth": 0,
              "ticks": ""
             }
            },
            "type": "scattermap"
           }
          ],
          "scattermapbox": [
           {
            "marker": {
             "colorbar": {
              "outlinewidth": 0,
              "ticks": ""
             }
            },
            "type": "scattermapbox"
           }
          ],
          "scatterpolar": [
           {
            "marker": {
             "colorbar": {
              "outlinewidth": 0,
              "ticks": ""
             }
            },
            "type": "scatterpolar"
           }
          ],
          "scatterpolargl": [
           {
            "marker": {
             "colorbar": {
              "outlinewidth": 0,
              "ticks": ""
             }
            },
            "type": "scatterpolargl"
           }
          ],
          "scatterternary": [
           {
            "marker": {
             "colorbar": {
              "outlinewidth": 0,
              "ticks": ""
             }
            },
            "type": "scatterternary"
           }
          ],
          "surface": [
           {
            "colorbar": {
             "outlinewidth": 0,
             "ticks": ""
            },
            "colorscale": [
             [
              0,
              "#0d0887"
             ],
             [
              0.1111111111111111,
              "#46039f"
             ],
             [
              0.2222222222222222,
              "#7201a8"
             ],
             [
              0.3333333333333333,
              "#9c179e"
             ],
             [
              0.4444444444444444,
              "#bd3786"
             ],
             [
              0.5555555555555556,
              "#d8576b"
             ],
             [
              0.6666666666666666,
              "#ed7953"
             ],
             [
              0.7777777777777778,
              "#fb9f3a"
             ],
             [
              0.8888888888888888,
              "#fdca26"
             ],
             [
              1,
              "#f0f921"
             ]
            ],
            "type": "surface"
           }
          ],
          "table": [
           {
            "cells": {
             "fill": {
              "color": "#EBF0F8"
             },
             "line": {
              "color": "white"
             }
            },
            "header": {
             "fill": {
              "color": "#C8D4E3"
             },
             "line": {
              "color": "white"
             }
            },
            "type": "table"
           }
          ]
         },
         "layout": {
          "annotationdefaults": {
           "arrowcolor": "#2a3f5f",
           "arrowhead": 0,
           "arrowwidth": 1
          },
          "autotypenumbers": "strict",
          "coloraxis": {
           "colorbar": {
            "outlinewidth": 0,
            "ticks": ""
           }
          },
          "colorscale": {
           "diverging": [
            [
             0,
             "#8e0152"
            ],
            [
             0.1,
             "#c51b7d"
            ],
            [
             0.2,
             "#de77ae"
            ],
            [
             0.3,
             "#f1b6da"
            ],
            [
             0.4,
             "#fde0ef"
            ],
            [
             0.5,
             "#f7f7f7"
            ],
            [
             0.6,
             "#e6f5d0"
            ],
            [
             0.7,
             "#b8e186"
            ],
            [
             0.8,
             "#7fbc41"
            ],
            [
             0.9,
             "#4d9221"
            ],
            [
             1,
             "#276419"
            ]
           ],
           "sequential": [
            [
             0,
             "#0d0887"
            ],
            [
             0.1111111111111111,
             "#46039f"
            ],
            [
             0.2222222222222222,
             "#7201a8"
            ],
            [
             0.3333333333333333,
             "#9c179e"
            ],
            [
             0.4444444444444444,
             "#bd3786"
            ],
            [
             0.5555555555555556,
             "#d8576b"
            ],
            [
             0.6666666666666666,
             "#ed7953"
            ],
            [
             0.7777777777777778,
             "#fb9f3a"
            ],
            [
             0.8888888888888888,
             "#fdca26"
            ],
            [
             1,
             "#f0f921"
            ]
           ],
           "sequentialminus": [
            [
             0,
             "#0d0887"
            ],
            [
             0.1111111111111111,
             "#46039f"
            ],
            [
             0.2222222222222222,
             "#7201a8"
            ],
            [
             0.3333333333333333,
             "#9c179e"
            ],
            [
             0.4444444444444444,
             "#bd3786"
            ],
            [
             0.5555555555555556,
             "#d8576b"
            ],
            [
             0.6666666666666666,
             "#ed7953"
            ],
            [
             0.7777777777777778,
             "#fb9f3a"
            ],
            [
             0.8888888888888888,
             "#fdca26"
            ],
            [
             1,
             "#f0f921"
            ]
           ]
          },
          "colorway": [
           "#636efa",
           "#EF553B",
           "#00cc96",
           "#ab63fa",
           "#FFA15A",
           "#19d3f3",
           "#FF6692",
           "#B6E880",
           "#FF97FF",
           "#FECB52"
          ],
          "font": {
           "color": "#2a3f5f"
          },
          "geo": {
           "bgcolor": "white",
           "lakecolor": "white",
           "landcolor": "#E5ECF6",
           "showlakes": true,
           "showland": true,
           "subunitcolor": "white"
          },
          "hoverlabel": {
           "align": "left"
          },
          "hovermode": "closest",
          "mapbox": {
           "style": "light"
          },
          "paper_bgcolor": "white",
          "plot_bgcolor": "#E5ECF6",
          "polar": {
           "angularaxis": {
            "gridcolor": "white",
            "linecolor": "white",
            "ticks": ""
           },
           "bgcolor": "#E5ECF6",
           "radialaxis": {
            "gridcolor": "white",
            "linecolor": "white",
            "ticks": ""
           }
          },
          "scene": {
           "xaxis": {
            "backgroundcolor": "#E5ECF6",
            "gridcolor": "white",
            "gridwidth": 2,
            "linecolor": "white",
            "showbackground": true,
            "ticks": "",
            "zerolinecolor": "white"
           },
           "yaxis": {
            "backgroundcolor": "#E5ECF6",
            "gridcolor": "white",
            "gridwidth": 2,
            "linecolor": "white",
            "showbackground": true,
            "ticks": "",
            "zerolinecolor": "white"
           },
           "zaxis": {
            "backgroundcolor": "#E5ECF6",
            "gridcolor": "white",
            "gridwidth": 2,
            "linecolor": "white",
            "showbackground": true,
            "ticks": "",
            "zerolinecolor": "white"
           }
          },
          "shapedefaults": {
           "line": {
            "color": "#2a3f5f"
           }
          },
          "ternary": {
           "aaxis": {
            "gridcolor": "white",
            "linecolor": "white",
            "ticks": ""
           },
           "baxis": {
            "gridcolor": "white",
            "linecolor": "white",
            "ticks": ""
           },
           "bgcolor": "#E5ECF6",
           "caxis": {
            "gridcolor": "white",
            "linecolor": "white",
            "ticks": ""
           }
          },
          "title": {
           "x": 0.05
          },
          "xaxis": {
           "automargin": true,
           "gridcolor": "white",
           "linecolor": "white",
           "ticks": "",
           "title": {
            "standoff": 15
           },
           "zerolinecolor": "white",
           "zerolinewidth": 2
          },
          "yaxis": {
           "automargin": true,
           "gridcolor": "white",
           "linecolor": "white",
           "ticks": "",
           "title": {
            "standoff": 15
           },
           "zerolinecolor": "white",
           "zerolinewidth": 2
          }
         }
        },
        "title": {
         "font": {
          "family": "Georgia",
          "size": 18
         },
         "pad": {
          "b": 10
         },
         "text": "<b>Landline Internet subscriptions, 2023</b><br><span style='font-size:13px; font-weight:normal; color:#666'>Subscriptions to fixed access to the public Internet with a download speed of at least 256 kbit/s.</span>",
         "x": 0.01,
         "xanchor": "left"
        },
        "width": 900
       }
      }
     },
     "metadata": {},
     "output_type": "display_data"
    }
   ],
   "source": [
    "import plotly.graph_objects as go\n",
    "import numpy as np\n",
    "\n",
    "df_2023[\"log_subscriptions\"] = np.log10(df_2023[\"Fixed broadband subscriptions\"] + 1)\n",
    "\n",
    "fig = go.Figure(\n",
    "    data=go.Choropleth(\n",
    "        locations=df_2023[\"Code\"],  # ISO-3 country codes (e.g. SWE, USA)\n",
    "        z=df_2023[\"log_subscriptions\"],  # Values to color by\n",
    "        text=df_2023[\"Entity\"],  # Hover text\n",
    "        colorscale=\"Oranges\",\n",
    "        colorbar=dict(\n",
    "            orientation=\"h\",  # Makes the bar horizontal\n",
    "            x=0.5,  # centers it\n",
    "            xanchor=\"center\",\n",
    "            y=-0.15,\n",
    "        \n",
    "        ),\n",
    "        marker_line_color=\"white\",  # Country borders\n",
    "    )\n",
    ")\n",
    "\n",
    "fig.update_layout(\n",
    "    title=dict(\n",
    "        text=\"<b>Landline Internet subscriptions, 2023</b><br><span style='font-size:13px; font-weight:normal; color:#666'>Subscriptions to fixed access to the public Internet with a download speed of at least 256 kbit/s.</span>\",\n",
    "        x=0.01,\n",
    "        xanchor=\"left\",\n",
    "        font=dict(family=\"Georgia\", size=18),\n",
    "        pad=dict(b=10),\n",
    "    ),\n",
    "    geo=dict(\n",
    "        showframe=False, # Rand runt jorden \n",
    "        showcoastlines=False, \n",
    "        projection_type=\"natural earth\"\n",
    "        ),\n",
    "    height=600,\n",
    "    width=900,\n",
    ")\n",
    "\n",
    "fig.show()"
   ]
  },
  {
   "cell_type": "code",
   "execution_count": 25,
   "id": "9e012798",
   "metadata": {},
   "outputs": [
    {
     "name": "stdout",
     "output_type": "stream",
     "text": [
      "Index(['Entity', 'Code', 'Year', 'Fixed broadband subscriptions',\n",
      "       'log_subscriptions'],\n",
      "      dtype='object')\n"
     ]
    }
   ],
   "source": [
    "print(df_2023.columns)\n"
   ]
  },
  {
   "cell_type": "code",
   "execution_count": 26,
   "id": "1b3497bb",
   "metadata": {},
   "outputs": [
    {
     "name": "stdout",
     "output_type": "stream",
     "text": [
      "Index(['Entity', 'Code', 'Year', 'Fixed broadband subscriptions'], dtype='object')\n"
     ]
    }
   ],
   "source": [
    "print(df.columns)\n"
   ]
  }
 ],
 "metadata": {
  "kernelspec": {
   "display_name": ".venv",
   "language": "python",
   "name": "python3"
  },
  "language_info": {
   "codemirror_mode": {
    "name": "ipython",
    "version": 3
   },
   "file_extension": ".py",
   "mimetype": "text/x-python",
   "name": "python",
   "nbconvert_exporter": "python",
   "pygments_lexer": "ipython3",
   "version": "3.12.6"
  }
 },
 "nbformat": 4,
 "nbformat_minor": 5
}
