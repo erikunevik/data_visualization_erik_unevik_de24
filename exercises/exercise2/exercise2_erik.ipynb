{
 "cells": [
  {
   "cell_type": "markdown",
   "id": "255485b5",
   "metadata": {},
   "source": [
    "#0)"
   ]
  },
  {
   "cell_type": "code",
   "execution_count": 1,
   "id": "7cd9561c",
   "metadata": {},
   "outputs": [
    {
     "data": {
      "text/html": [
       "<div>\n",
       "<style scoped>\n",
       "    .dataframe tbody tr th:only-of-type {\n",
       "        vertical-align: middle;\n",
       "    }\n",
       "\n",
       "    .dataframe tbody tr th {\n",
       "        vertical-align: top;\n",
       "    }\n",
       "\n",
       "    .dataframe thead th {\n",
       "        text-align: right;\n",
       "    }\n",
       "</style>\n",
       "<table border=\"1\" class=\"dataframe\">\n",
       "  <thead>\n",
       "    <tr style=\"text-align: right;\">\n",
       "      <th></th>\n",
       "      <th>Entity</th>\n",
       "      <th>Code</th>\n",
       "      <th>Year</th>\n",
       "      <th>Individuals using the Internet (% of population)</th>\n",
       "    </tr>\n",
       "  </thead>\n",
       "  <tbody>\n",
       "    <tr>\n",
       "      <th>0</th>\n",
       "      <td>Afghanistan</td>\n",
       "      <td>AFG</td>\n",
       "      <td>1990</td>\n",
       "      <td>0.0000</td>\n",
       "    </tr>\n",
       "    <tr>\n",
       "      <th>1</th>\n",
       "      <td>Afghanistan</td>\n",
       "      <td>AFG</td>\n",
       "      <td>1991</td>\n",
       "      <td>0.0000</td>\n",
       "    </tr>\n",
       "    <tr>\n",
       "      <th>2</th>\n",
       "      <td>Afghanistan</td>\n",
       "      <td>AFG</td>\n",
       "      <td>1992</td>\n",
       "      <td>0.0000</td>\n",
       "    </tr>\n",
       "    <tr>\n",
       "      <th>3</th>\n",
       "      <td>Afghanistan</td>\n",
       "      <td>AFG</td>\n",
       "      <td>1993</td>\n",
       "      <td>0.0000</td>\n",
       "    </tr>\n",
       "    <tr>\n",
       "      <th>4</th>\n",
       "      <td>Afghanistan</td>\n",
       "      <td>AFG</td>\n",
       "      <td>1994</td>\n",
       "      <td>0.0000</td>\n",
       "    </tr>\n",
       "    <tr>\n",
       "      <th>...</th>\n",
       "      <td>...</td>\n",
       "      <td>...</td>\n",
       "      <td>...</td>\n",
       "      <td>...</td>\n",
       "    </tr>\n",
       "    <tr>\n",
       "      <th>7179</th>\n",
       "      <td>Zimbabwe</td>\n",
       "      <td>ZWE</td>\n",
       "      <td>2018</td>\n",
       "      <td>25.0000</td>\n",
       "    </tr>\n",
       "    <tr>\n",
       "      <th>7180</th>\n",
       "      <td>Zimbabwe</td>\n",
       "      <td>ZWE</td>\n",
       "      <td>2019</td>\n",
       "      <td>26.5883</td>\n",
       "    </tr>\n",
       "    <tr>\n",
       "      <th>7181</th>\n",
       "      <td>Zimbabwe</td>\n",
       "      <td>ZWE</td>\n",
       "      <td>2020</td>\n",
       "      <td>29.2986</td>\n",
       "    </tr>\n",
       "    <tr>\n",
       "      <th>7182</th>\n",
       "      <td>Zimbabwe</td>\n",
       "      <td>ZWE</td>\n",
       "      <td>2021</td>\n",
       "      <td>32.4616</td>\n",
       "    </tr>\n",
       "    <tr>\n",
       "      <th>7183</th>\n",
       "      <td>Zimbabwe</td>\n",
       "      <td>ZWE</td>\n",
       "      <td>2022</td>\n",
       "      <td>32.5615</td>\n",
       "    </tr>\n",
       "  </tbody>\n",
       "</table>\n",
       "<p>7184 rows × 4 columns</p>\n",
       "</div>"
      ],
      "text/plain": [
       "           Entity Code  Year  Individuals using the Internet (% of population)\n",
       "0     Afghanistan  AFG  1990                                            0.0000\n",
       "1     Afghanistan  AFG  1991                                            0.0000\n",
       "2     Afghanistan  AFG  1992                                            0.0000\n",
       "3     Afghanistan  AFG  1993                                            0.0000\n",
       "4     Afghanistan  AFG  1994                                            0.0000\n",
       "...           ...  ...   ...                                               ...\n",
       "7179     Zimbabwe  ZWE  2018                                           25.0000\n",
       "7180     Zimbabwe  ZWE  2019                                           26.5883\n",
       "7181     Zimbabwe  ZWE  2020                                           29.2986\n",
       "7182     Zimbabwe  ZWE  2021                                           32.4616\n",
       "7183     Zimbabwe  ZWE  2022                                           32.5615\n",
       "\n",
       "[7184 rows x 4 columns]"
      ]
     },
     "execution_count": 1,
     "metadata": {},
     "output_type": "execute_result"
    }
   ],
   "source": [
    "import plotly.express as px\n",
    "\n",
    "import pandas as pd\n",
    "\n",
    "df = pd.read_csv(\"data/share-of-individuals-using-the-internet.csv\")\n",
    "\n",
    "df"
   ]
  },
  {
   "cell_type": "code",
   "execution_count": 2,
   "id": "6b3ca8c7",
   "metadata": {},
   "outputs": [
    {
     "data": {
      "text/plain": [
       "Index(['Entity', 'Code', 'Year',\n",
       "       'Individuals using the Internet (% of population)'],\n",
       "      dtype='object')"
      ]
     },
     "execution_count": 2,
     "metadata": {},
     "output_type": "execute_result"
    }
   ],
   "source": [
    "df.columns"
   ]
  },
  {
   "cell_type": "code",
   "execution_count": 3,
   "id": "20f3fb6a",
   "metadata": {},
   "outputs": [
    {
     "data": {
      "text/plain": [
       "Entity                                               object\n",
       "Code                                                 object\n",
       "Year                                                  int64\n",
       "Individuals using the Internet (% of population)    float64\n",
       "dtype: object"
      ]
     },
     "execution_count": 3,
     "metadata": {},
     "output_type": "execute_result"
    }
   ],
   "source": [
    "df.dtypes"
   ]
  },
  {
   "cell_type": "code",
   "execution_count": 4,
   "id": "4654ae6a",
   "metadata": {},
   "outputs": [
    {
     "name": "stdout",
     "output_type": "stream",
     "text": [
      "['Afghanistan' 'Albania' 'Algeria' 'American Samoa' 'Andorra' 'Angola'\n",
      " 'Antigua and Barbuda' 'Argentina' 'Armenia' 'Aruba' 'Australia' 'Austria'\n",
      " 'Azerbaijan' 'Bahamas' 'Bahrain' 'Bangladesh' 'Barbados' 'Belarus'\n",
      " 'Belgium' 'Belize' 'Benin' 'Bermuda' 'Bhutan' 'Bolivia'\n",
      " 'Bosnia and Herzegovina' 'Botswana' 'Brazil' 'British Virgin Islands'\n",
      " 'Brunei' 'Bulgaria' 'Burkina Faso' 'Burundi' 'Cambodia' 'Cameroon'\n",
      " 'Canada' 'Cape Verde' 'Cayman Islands' 'Central African Republic' 'Chad'\n",
      " 'Chile' 'China' 'Colombia' 'Comoros' 'Congo' 'Costa Rica' \"Cote d'Ivoire\"\n",
      " 'Croatia' 'Cuba' 'Curacao' 'Cyprus' 'Czechia'\n",
      " 'Democratic Republic of Congo' 'Denmark' 'Djibouti' 'Dominica'\n",
      " 'Dominican Republic' 'East Asia and Pacific (WB)' 'East Timor' 'Ecuador'\n",
      " 'Egypt' 'El Salvador' 'Equatorial Guinea' 'Eritrea' 'Estonia' 'Eswatini'\n",
      " 'Ethiopia' 'Europe and Central Asia (WB)' 'European Union (27)'\n",
      " 'Faeroe Islands' 'Fiji' 'Finland' 'France' 'French Polynesia' 'Gabon'\n",
      " 'Gambia' 'Georgia' 'Germany' 'Ghana' 'Gibraltar' 'Greece' 'Greenland'\n",
      " 'Grenada' 'Guam' 'Guatemala' 'Guinea' 'Guinea-Bissau' 'Guyana' 'Haiti'\n",
      " 'High-income countries' 'Honduras' 'Hong Kong' 'Hungary' 'Iceland'\n",
      " 'India' 'Indonesia' 'Iran' 'Iraq' 'Ireland' 'Israel' 'Italy' 'Jamaica'\n",
      " 'Japan' 'Jordan' 'Kazakhstan' 'Kenya' 'Kiribati' 'Kosovo' 'Kuwait'\n",
      " 'Kyrgyzstan' 'Laos' 'Latin America and Caribbean (WB)' 'Latvia' 'Lebanon'\n",
      " 'Lesotho' 'Liberia' 'Libya' 'Liechtenstein' 'Lithuania'\n",
      " 'Low-income countries' 'Lower-middle-income countries' 'Luxembourg'\n",
      " 'Macao' 'Madagascar' 'Malawi' 'Malaysia' 'Maldives' 'Mali' 'Malta'\n",
      " 'Marshall Islands' 'Mauritania' 'Mauritius' 'Mexico'\n",
      " 'Micronesia (country)' 'Middle East and North Africa (WB)'\n",
      " 'Middle-income countries' 'Moldova' 'Monaco' 'Mongolia' 'Montenegro'\n",
      " 'Morocco' 'Mozambique' 'Myanmar' 'Namibia' 'Nauru' 'Nepal' 'Netherlands'\n",
      " 'New Caledonia' 'New Zealand' 'Nicaragua' 'Niger' 'Nigeria'\n",
      " 'North America (WB)' 'North Korea' 'North Macedonia'\n",
      " 'Northern Mariana Islands' 'Norway' 'Oman' 'Pakistan' 'Palau' 'Palestine'\n",
      " 'Panama' 'Papua New Guinea' 'Paraguay' 'Peru' 'Philippines' 'Poland'\n",
      " 'Portugal' 'Puerto Rico' 'Qatar' 'Romania' 'Russia' 'Rwanda'\n",
      " 'Saint Kitts and Nevis' 'Saint Lucia' 'Saint Vincent and the Grenadines'\n",
      " 'Samoa' 'San Marino' 'Sao Tome and Principe' 'Saudi Arabia' 'Senegal'\n",
      " 'Serbia' 'Seychelles' 'Sierra Leone' 'Singapore' 'Slovakia' 'Slovenia'\n",
      " 'Solomon Islands' 'Somalia' 'South Africa' 'South Asia (WB)'\n",
      " 'South Korea' 'South Sudan' 'Spain' 'Sri Lanka' 'Sub-Saharan Africa (WB)'\n",
      " 'Sudan' 'Suriname' 'Sweden' 'Switzerland' 'Syria' 'Tajikistan' 'Tanzania'\n",
      " 'Thailand' 'Togo' 'Tonga' 'Trinidad and Tobago' 'Tunisia' 'Turkey'\n",
      " 'Turkmenistan' 'Turks and Caicos Islands' 'Tuvalu' 'Uganda' 'Ukraine'\n",
      " 'United Arab Emirates' 'United Kingdom' 'United States'\n",
      " 'United States Virgin Islands' 'Upper-middle-income countries' 'Uruguay'\n",
      " 'Uzbekistan' 'Vanuatu' 'Venezuela' 'Vietnam' 'World' 'Yemen' 'Zambia'\n",
      " 'Zimbabwe']\n"
     ]
    }
   ],
   "source": [
    "print(df['Entity'].unique())"
   ]
  },
  {
   "cell_type": "code",
   "execution_count": 5,
   "id": "78125f65",
   "metadata": {},
   "outputs": [
    {
     "data": {
      "text/html": [
       "<div>\n",
       "<style scoped>\n",
       "    .dataframe tbody tr th:only-of-type {\n",
       "        vertical-align: middle;\n",
       "    }\n",
       "\n",
       "    .dataframe tbody tr th {\n",
       "        vertical-align: top;\n",
       "    }\n",
       "\n",
       "    .dataframe thead th {\n",
       "        text-align: right;\n",
       "    }\n",
       "</style>\n",
       "<table border=\"1\" class=\"dataframe\">\n",
       "  <thead>\n",
       "    <tr style=\"text-align: right;\">\n",
       "      <th></th>\n",
       "      <th>Entity</th>\n",
       "      <th>Code</th>\n",
       "      <th>Year</th>\n",
       "      <th>Individuals using the Internet (% of population)</th>\n",
       "    </tr>\n",
       "  </thead>\n",
       "  <tbody>\n",
       "    <tr>\n",
       "      <th>1761</th>\n",
       "      <td>East Asia and Pacific (WB)</td>\n",
       "      <td>NaN</td>\n",
       "      <td>1990</td>\n",
       "      <td>0.007348</td>\n",
       "    </tr>\n",
       "    <tr>\n",
       "      <th>1762</th>\n",
       "      <td>East Asia and Pacific (WB)</td>\n",
       "      <td>NaN</td>\n",
       "      <td>1991</td>\n",
       "      <td>0.015138</td>\n",
       "    </tr>\n",
       "    <tr>\n",
       "      <th>1763</th>\n",
       "      <td>East Asia and Pacific (WB)</td>\n",
       "      <td>NaN</td>\n",
       "      <td>1992</td>\n",
       "      <td>0.031765</td>\n",
       "    </tr>\n",
       "    <tr>\n",
       "      <th>1764</th>\n",
       "      <td>East Asia and Pacific (WB)</td>\n",
       "      <td>NaN</td>\n",
       "      <td>1993</td>\n",
       "      <td>0.063062</td>\n",
       "    </tr>\n",
       "    <tr>\n",
       "      <th>1765</th>\n",
       "      <td>East Asia and Pacific (WB)</td>\n",
       "      <td>NaN</td>\n",
       "      <td>1994</td>\n",
       "      <td>0.109100</td>\n",
       "    </tr>\n",
       "    <tr>\n",
       "      <th>...</th>\n",
       "      <td>...</td>\n",
       "      <td>...</td>\n",
       "      <td>...</td>\n",
       "      <td>...</td>\n",
       "    </tr>\n",
       "    <tr>\n",
       "      <th>7082</th>\n",
       "      <td>World</td>\n",
       "      <td>OWID_WRL</td>\n",
       "      <td>2019</td>\n",
       "      <td>53.200000</td>\n",
       "    </tr>\n",
       "    <tr>\n",
       "      <th>7083</th>\n",
       "      <td>World</td>\n",
       "      <td>OWID_WRL</td>\n",
       "      <td>2020</td>\n",
       "      <td>59.300000</td>\n",
       "    </tr>\n",
       "    <tr>\n",
       "      <th>7084</th>\n",
       "      <td>World</td>\n",
       "      <td>OWID_WRL</td>\n",
       "      <td>2021</td>\n",
       "      <td>62.200000</td>\n",
       "    </tr>\n",
       "    <tr>\n",
       "      <th>7085</th>\n",
       "      <td>World</td>\n",
       "      <td>OWID_WRL</td>\n",
       "      <td>2022</td>\n",
       "      <td>64.400000</td>\n",
       "    </tr>\n",
       "    <tr>\n",
       "      <th>7086</th>\n",
       "      <td>World</td>\n",
       "      <td>OWID_WRL</td>\n",
       "      <td>2023</td>\n",
       "      <td>67.400000</td>\n",
       "    </tr>\n",
       "  </tbody>\n",
       "</table>\n",
       "<p>270 rows × 4 columns</p>\n",
       "</div>"
      ],
      "text/plain": [
       "                          Entity      Code  Year  \\\n",
       "1761  East Asia and Pacific (WB)       NaN  1990   \n",
       "1762  East Asia and Pacific (WB)       NaN  1991   \n",
       "1763  East Asia and Pacific (WB)       NaN  1992   \n",
       "1764  East Asia and Pacific (WB)       NaN  1993   \n",
       "1765  East Asia and Pacific (WB)       NaN  1994   \n",
       "...                          ...       ...   ...   \n",
       "7082                       World  OWID_WRL  2019   \n",
       "7083                       World  OWID_WRL  2020   \n",
       "7084                       World  OWID_WRL  2021   \n",
       "7085                       World  OWID_WRL  2022   \n",
       "7086                       World  OWID_WRL  2023   \n",
       "\n",
       "      Individuals using the Internet (% of population)  \n",
       "1761                                          0.007348  \n",
       "1762                                          0.015138  \n",
       "1763                                          0.031765  \n",
       "1764                                          0.063062  \n",
       "1765                                          0.109100  \n",
       "...                                                ...  \n",
       "7082                                         53.200000  \n",
       "7083                                         59.300000  \n",
       "7084                                         62.200000  \n",
       "7085                                         64.400000  \n",
       "7086                                         67.400000  \n",
       "\n",
       "[270 rows x 4 columns]"
      ]
     },
     "execution_count": 5,
     "metadata": {},
     "output_type": "execute_result"
    }
   ],
   "source": [
    "df_regions = df[df['Entity'].isin([\n",
    "    \"North America (WB)\",\n",
    "    \"Europe and Central Asia (WB)\",\n",
    "    \"Latin America and Caribbean (WB)\",\n",
    "    \"East Asia and Pacific (WB)\",\n",
    "    \"Middle East and North Africa (WB)\",\n",
    "    \"World\",\n",
    "    \"South Asia (WB)\",\n",
    "    \"Sub-Saharan Africa (WB)\"\n",
    "])]\n",
    "\n",
    "\n",
    "df_regions"
   ]
  },
  {
   "cell_type": "code",
   "execution_count": 6,
   "id": "e548b62c",
   "metadata": {},
   "outputs": [
    {
     "data": {
      "text/html": [
       "<div>\n",
       "<style scoped>\n",
       "    .dataframe tbody tr th:only-of-type {\n",
       "        vertical-align: middle;\n",
       "    }\n",
       "\n",
       "    .dataframe tbody tr th {\n",
       "        vertical-align: top;\n",
       "    }\n",
       "\n",
       "    .dataframe thead th {\n",
       "        text-align: right;\n",
       "    }\n",
       "</style>\n",
       "<table border=\"1\" class=\"dataframe\">\n",
       "  <thead>\n",
       "    <tr style=\"text-align: right;\">\n",
       "      <th></th>\n",
       "      <th>Entity</th>\n",
       "      <th>Code</th>\n",
       "      <th>Year</th>\n",
       "      <th>Individuals using the Internet (% of population)</th>\n",
       "    </tr>\n",
       "  </thead>\n",
       "  <tbody>\n",
       "    <tr>\n",
       "      <th>6136</th>\n",
       "      <td>Sub-Saharan Africa (WB)</td>\n",
       "      <td>NaN</td>\n",
       "      <td>2023</td>\n",
       "      <td>36.7</td>\n",
       "    </tr>\n",
       "    <tr>\n",
       "      <th>7086</th>\n",
       "      <td>World</td>\n",
       "      <td>OWID_WRL</td>\n",
       "      <td>2023</td>\n",
       "      <td>67.4</td>\n",
       "    </tr>\n",
       "    <tr>\n",
       "      <th>4286</th>\n",
       "      <td>Middle East and North Africa (WB)</td>\n",
       "      <td>NaN</td>\n",
       "      <td>2023</td>\n",
       "      <td>77.7</td>\n",
       "    </tr>\n",
       "    <tr>\n",
       "      <th>1794</th>\n",
       "      <td>East Asia and Pacific (WB)</td>\n",
       "      <td>NaN</td>\n",
       "      <td>2023</td>\n",
       "      <td>79.0</td>\n",
       "    </tr>\n",
       "    <tr>\n",
       "      <th>3521</th>\n",
       "      <td>Latin America and Caribbean (WB)</td>\n",
       "      <td>NaN</td>\n",
       "      <td>2023</td>\n",
       "      <td>81.0</td>\n",
       "    </tr>\n",
       "    <tr>\n",
       "      <th>2115</th>\n",
       "      <td>Europe and Central Asia (WB)</td>\n",
       "      <td>NaN</td>\n",
       "      <td>2023</td>\n",
       "      <td>90.1</td>\n",
       "    </tr>\n",
       "    <tr>\n",
       "      <th>4828</th>\n",
       "      <td>North America (WB)</td>\n",
       "      <td>NaN</td>\n",
       "      <td>2023</td>\n",
       "      <td>97.3</td>\n",
       "    </tr>\n",
       "  </tbody>\n",
       "</table>\n",
       "</div>"
      ],
      "text/plain": [
       "                                 Entity      Code  Year  \\\n",
       "6136            Sub-Saharan Africa (WB)       NaN  2023   \n",
       "7086                              World  OWID_WRL  2023   \n",
       "4286  Middle East and North Africa (WB)       NaN  2023   \n",
       "1794         East Asia and Pacific (WB)       NaN  2023   \n",
       "3521   Latin America and Caribbean (WB)       NaN  2023   \n",
       "2115       Europe and Central Asia (WB)       NaN  2023   \n",
       "4828                 North America (WB)       NaN  2023   \n",
       "\n",
       "      Individuals using the Internet (% of population)  \n",
       "6136                                              36.7  \n",
       "7086                                              67.4  \n",
       "4286                                              77.7  \n",
       "1794                                              79.0  \n",
       "3521                                              81.0  \n",
       "2115                                              90.1  \n",
       "4828                                              97.3  "
      ]
     },
     "execution_count": 6,
     "metadata": {},
     "output_type": "execute_result"
    }
   ],
   "source": [
    "df_2023 = df_regions[df_regions[\"Year\"] == 2023]\n",
    "\n",
    "df_2023_sorted = df_2023.sort_values(by=\"Individuals using the Internet (% of population)\", ascending=True)\n",
    "\n",
    "df_2023_sorted"
   ]
  },
  {
   "cell_type": "code",
   "execution_count": 7,
   "id": "80144a6d",
   "metadata": {},
   "outputs": [
    {
     "ename": "SyntaxError",
     "evalue": "positional argument follows keyword argument (3640086993.py, line 58)",
     "output_type": "error",
     "traceback": [
      "\u001b[1;36m  Cell \u001b[1;32mIn[7], line 58\u001b[1;36m\u001b[0m\n\u001b[1;33m    )\u001b[0m\n\u001b[1;37m    ^\u001b[0m\n\u001b[1;31mSyntaxError\u001b[0m\u001b[1;31m:\u001b[0m positional argument follows keyword argument\n"
     ]
    }
   ],
   "source": [
    "fig = px.bar(\n",
    "    df_2023_sorted,\n",
    "    y=\"Entity\",\n",
    "    x=\"Individuals using the Internet (% of population)\",\n",
    ")\n",
    "\n",
    "fig.update_traces(\n",
    "    marker_color=\"steelblue\",\n",
    "    marker_line_width=1.5,\n",
    "    opacity=1,\n",
    "    textposition=\"outside\",  # Makes bar text outside the bar\n",
    "    texttemplate=\"%{x:.0f}%\",  # Gives percentage at the bars\n",
    ")\n",
    "\n",
    "fig.update_layout(\n",
    "    title=dict(\n",
    "        text=(\n",
    "            \"<b>Share of the population using the Internet, 2023</b><br>\"\n",
    "            \"<span style='font-size:12px; font-weight:normal'>\"\n",
    "            \"Share of the population who used the Internet in the last three months\"\n",
    "            \"</span>\"\n",
    "        ),\n",
    "        x=0.025,\n",
    "        xanchor='left',\n",
    "        yanchor='top',\n",
    "        font=dict(family=\"Georgia\", size=18, color=\"black\"),\n",
    "        pad=dict(b=20)  # Space below the title\n",
    "    ),\n",
    "    height=400,\n",
    "    width=750,\n",
    "    bargap=0.3,\n",
    "    plot_bgcolor=\"white\",\n",
    "    font=dict(size=14, family=\"Georgia\", color=\"black\"),\n",
    "    yaxis=dict(\n",
    "        tickfont=dict(family=\"Georgia\", size=11, color=\"black\")\n",
    "    ),\n",
    "\n",
    "    # yaxis_title=None,\n",
    "    #   xaxis=dict(\n",
    "    #   title=dict(\n",
    "    #       text=\"<b>Data source</b><br>\" \"<span style='font-weight:normal'>\"\n",
    "    #         \"Interantional Telecommunication Union (via World Bank) (2005)\"\n",
    "    #         \"</span>\"\n",
    "    #       font=dict(family=\"Georgia\", size=10, color=\"black\")\n",
    "\n",
    "    fig.add_annotation(\n",
    "    text=(\n",
    "        \"<b>Data source:</b> International Telecommunication Union (via World Bank) (2025)\"\n",
    "        \"<span style='float:right'>OurWorldInData.org/internet | CC BY</span>\"\n",
    "    ),\n",
    "    xref=\"paper\", yref=\"paper\",\n",
    "    x=0, y=-0.25,  # position below the chart\n",
    "    showarrow=False,\n",
    "    font=dict(family=\"Georgia\", size=11, color=\"gray\"),\n",
    "    align=\"left\",\n",
    "    xanchor=\"left\"\n",
    "  )\n",
    ")\n",
    "\n",
    "fig.show()\n",
    "fig.write_html(\"interactive_figures/gdp_nordic_2007_bar.html\")"
   ]
  },
  {
   "cell_type": "code",
   "execution_count": null,
   "id": "2b2c7679",
   "metadata": {},
   "outputs": [
    {
     "data": {
      "application/vnd.plotly.v1+json": {
       "config": {
        "plotlyServerURL": "https://plot.ly"
       },
       "data": [
        {
         "hovertemplate": "Individuals using the Internet (% of population)=%{x}<br>Entity=%{y}<extra></extra>",
         "legendgroup": "",
         "marker": {
          "color": "#738FBE",
          "line": {
           "width": 1.5
          },
          "pattern": {
           "shape": ""
          }
         },
         "name": "",
         "opacity": 1,
         "orientation": "h",
         "showlegend": false,
         "textposition": "outside",
         "texttemplate": "%{x:.0f}%",
         "type": "bar",
         "x": {
          "bdata": "mpmZmZlZQkCamZmZmdlQQM3MzMzMbFNAAAAAAADAU0AAAAAAAEBUQGZmZmZmhlZAMzMzMzNTWEA=",
          "dtype": "f8"
         },
         "xaxis": "x",
         "y": [
          "Sub-Saharan Africa (WB)",
          "World",
          "Middle East and North Africa (WB)",
          "East Asia and Pacific (WB)",
          "Latin America and Caribbean (WB)",
          "Europe and Central Asia (WB)",
          "North America (WB)"
         ],
         "yaxis": "y"
        }
       ],
       "layout": {
        "annotations": [
         {
          "align": "left",
          "font": {
           "color": "#666666",
           "family": "Georgia",
           "size": 9
          },
          "showarrow": false,
          "text": "<b>Data source:</b> International Telecommunication Union (via World Bank) (2025) &nbsp;&nbsp;&nbsp;&nbsp;&nbsp;&nbsp;&nbsp;&nbsp;&nbsp;&nbsp;&nbsp;&nbsp;&nbsp;&nbsp;&nbsp;&nbsp;&nbsp;&nbsp;&nbsp;&nbsp;&nbsp;&nbsp;&nbsp;&nbsp;&nbsp;&nbsp;&nbsp;&nbsp;&nbsp;&nbsp;&nbsp;&nbsp;&nbsp;&nbsp;&nbsp;&nbsp;&nbsp;&nbsp;&nbsp;&nbsp;&nbsp;&nbsp;&nbsp;&nbsp;&nbsp;&nbsp;&nbsp;&nbsp;&nbsp;&nbsp;&nbsp;&nbsp;&nbsp;&nbsp;&nbsp;&nbsp;&nbsp;&nbsp;&nbsp;&nbsp;&nbsp;&nbsp;&nbsp;&nbsp;&nbsp;&nbsp;&nbsp;&nbsp;&nbsp;&nbsp;&nbsp;&nbsp;&nbsp;&nbsp;&nbsp;&nbsp;&nbsp;&nbsp;<span style='float:right'; color:#666666'>OurWorldInData.org/internet | CC BY</span>",
          "x": -0.35,
          "xanchor": "left",
          "xref": "paper",
          "y": -0.25,
          "yref": "paper"
         }
        ],
        "bargap": 0.3,
        "barmode": "relative",
        "font": {
         "color": "black",
         "family": "Georgia",
         "size": 14
        },
        "height": 400,
        "images": [
         {
          "layer": "above",
          "sizex": 0.1,
          "sizey": 0.1,
          "source": "data:image/png;base64,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",
          "x": 1.15,
          "xanchor": "right",
          "xref": "paper",
          "y": 1.15,
          "yanchor": "top",
          "yref": "paper"
         }
        ],
        "legend": {
         "tracegroupgap": 0
        },
        "margin": {
         "t": 60
        },
        "plot_bgcolor": "white",
        "template": {
         "data": {
          "bar": [
           {
            "error_x": {
             "color": "#2a3f5f"
            },
            "error_y": {
             "color": "#2a3f5f"
            },
            "marker": {
             "line": {
              "color": "#E5ECF6",
              "width": 0.5
             },
             "pattern": {
              "fillmode": "overlay",
              "size": 10,
              "solidity": 0.2
             }
            },
            "type": "bar"
           }
          ],
          "barpolar": [
           {
            "marker": {
             "line": {
              "color": "#E5ECF6",
              "width": 0.5
             },
             "pattern": {
              "fillmode": "overlay",
              "size": 10,
              "solidity": 0.2
             }
            },
            "type": "barpolar"
           }
          ],
          "carpet": [
           {
            "aaxis": {
             "endlinecolor": "#2a3f5f",
             "gridcolor": "white",
             "linecolor": "white",
             "minorgridcolor": "white",
             "startlinecolor": "#2a3f5f"
            },
            "baxis": {
             "endlinecolor": "#2a3f5f",
             "gridcolor": "white",
             "linecolor": "white",
             "minorgridcolor": "white",
             "startlinecolor": "#2a3f5f"
            },
            "type": "carpet"
           }
          ],
          "choropleth": [
           {
            "colorbar": {
             "outlinewidth": 0,
             "ticks": ""
            },
            "type": "choropleth"
           }
          ],
          "contour": [
           {
            "colorbar": {
             "outlinewidth": 0,
             "ticks": ""
            },
            "colorscale": [
             [
              0,
              "#0d0887"
             ],
             [
              0.1111111111111111,
              "#46039f"
             ],
             [
              0.2222222222222222,
              "#7201a8"
             ],
             [
              0.3333333333333333,
              "#9c179e"
             ],
             [
              0.4444444444444444,
              "#bd3786"
             ],
             [
              0.5555555555555556,
              "#d8576b"
             ],
             [
              0.6666666666666666,
              "#ed7953"
             ],
             [
              0.7777777777777778,
              "#fb9f3a"
             ],
             [
              0.8888888888888888,
              "#fdca26"
             ],
             [
              1,
              "#f0f921"
             ]
            ],
            "type": "contour"
           }
          ],
          "contourcarpet": [
           {
            "colorbar": {
             "outlinewidth": 0,
             "ticks": ""
            },
            "type": "contourcarpet"
           }
          ],
          "heatmap": [
           {
            "colorbar": {
             "outlinewidth": 0,
             "ticks": ""
            },
            "colorscale": [
             [
              0,
              "#0d0887"
             ],
             [
              0.1111111111111111,
              "#46039f"
             ],
             [
              0.2222222222222222,
              "#7201a8"
             ],
             [
              0.3333333333333333,
              "#9c179e"
             ],
             [
              0.4444444444444444,
              "#bd3786"
             ],
             [
              0.5555555555555556,
              "#d8576b"
             ],
             [
              0.6666666666666666,
              "#ed7953"
             ],
             [
              0.7777777777777778,
              "#fb9f3a"
             ],
             [
              0.8888888888888888,
              "#fdca26"
             ],
             [
              1,
              "#f0f921"
             ]
            ],
            "type": "heatmap"
           }
          ],
          "histogram": [
           {
            "marker": {
             "pattern": {
              "fillmode": "overlay",
              "size": 10,
              "solidity": 0.2
             }
            },
            "type": "histogram"
           }
          ],
          "histogram2d": [
           {
            "colorbar": {
             "outlinewidth": 0,
             "ticks": ""
            },
            "colorscale": [
             [
              0,
              "#0d0887"
             ],
             [
              0.1111111111111111,
              "#46039f"
             ],
             [
              0.2222222222222222,
              "#7201a8"
             ],
             [
              0.3333333333333333,
              "#9c179e"
             ],
             [
              0.4444444444444444,
              "#bd3786"
             ],
             [
              0.5555555555555556,
              "#d8576b"
             ],
             [
              0.6666666666666666,
              "#ed7953"
             ],
             [
              0.7777777777777778,
              "#fb9f3a"
             ],
             [
              0.8888888888888888,
              "#fdca26"
             ],
             [
              1,
              "#f0f921"
             ]
            ],
            "type": "histogram2d"
           }
          ],
          "histogram2dcontour": [
           {
            "colorbar": {
             "outlinewidth": 0,
             "ticks": ""
            },
            "colorscale": [
             [
              0,
              "#0d0887"
             ],
             [
              0.1111111111111111,
              "#46039f"
             ],
             [
              0.2222222222222222,
              "#7201a8"
             ],
             [
              0.3333333333333333,
              "#9c179e"
             ],
             [
              0.4444444444444444,
              "#bd3786"
             ],
             [
              0.5555555555555556,
              "#d8576b"
             ],
             [
              0.6666666666666666,
              "#ed7953"
             ],
             [
              0.7777777777777778,
              "#fb9f3a"
             ],
             [
              0.8888888888888888,
              "#fdca26"
             ],
             [
              1,
              "#f0f921"
             ]
            ],
            "type": "histogram2dcontour"
           }
          ],
          "mesh3d": [
           {
            "colorbar": {
             "outlinewidth": 0,
             "ticks": ""
            },
            "type": "mesh3d"
           }
          ],
          "parcoords": [
           {
            "line": {
             "colorbar": {
              "outlinewidth": 0,
              "ticks": ""
             }
            },
            "type": "parcoords"
           }
          ],
          "pie": [
           {
            "automargin": true,
            "type": "pie"
           }
          ],
          "scatter": [
           {
            "fillpattern": {
             "fillmode": "overlay",
             "size": 10,
             "solidity": 0.2
            },
            "type": "scatter"
           }
          ],
          "scatter3d": [
           {
            "line": {
             "colorbar": {
              "outlinewidth": 0,
              "ticks": ""
             }
            },
            "marker": {
             "colorbar": {
              "outlinewidth": 0,
              "ticks": ""
             }
            },
            "type": "scatter3d"
           }
          ],
          "scattercarpet": [
           {
            "marker": {
             "colorbar": {
              "outlinewidth": 0,
              "ticks": ""
             }
            },
            "type": "scattercarpet"
           }
          ],
          "scattergeo": [
           {
            "marker": {
             "colorbar": {
              "outlinewidth": 0,
              "ticks": ""
             }
            },
            "type": "scattergeo"
           }
          ],
          "scattergl": [
           {
            "marker": {
             "colorbar": {
              "outlinewidth": 0,
              "ticks": ""
             }
            },
            "type": "scattergl"
           }
          ],
          "scattermap": [
           {
            "marker": {
             "colorbar": {
              "outlinewidth": 0,
              "ticks": ""
             }
            },
            "type": "scattermap"
           }
          ],
          "scattermapbox": [
           {
            "marker": {
             "colorbar": {
              "outlinewidth": 0,
              "ticks": ""
             }
            },
            "type": "scattermapbox"
           }
          ],
          "scatterpolar": [
           {
            "marker": {
             "colorbar": {
              "outlinewidth": 0,
              "ticks": ""
             }
            },
            "type": "scatterpolar"
           }
          ],
          "scatterpolargl": [
           {
            "marker": {
             "colorbar": {
              "outlinewidth": 0,
              "ticks": ""
             }
            },
            "type": "scatterpolargl"
           }
          ],
          "scatterternary": [
           {
            "marker": {
             "colorbar": {
              "outlinewidth": 0,
              "ticks": ""
             }
            },
            "type": "scatterternary"
           }
          ],
          "surface": [
           {
            "colorbar": {
             "outlinewidth": 0,
             "ticks": ""
            },
            "colorscale": [
             [
              0,
              "#0d0887"
             ],
             [
              0.1111111111111111,
              "#46039f"
             ],
             [
              0.2222222222222222,
              "#7201a8"
             ],
             [
              0.3333333333333333,
              "#9c179e"
             ],
             [
              0.4444444444444444,
              "#bd3786"
             ],
             [
              0.5555555555555556,
              "#d8576b"
             ],
             [
              0.6666666666666666,
              "#ed7953"
             ],
             [
              0.7777777777777778,
              "#fb9f3a"
             ],
             [
              0.8888888888888888,
              "#fdca26"
             ],
             [
              1,
              "#f0f921"
             ]
            ],
            "type": "surface"
           }
          ],
          "table": [
           {
            "cells": {
             "fill": {
              "color": "#EBF0F8"
             },
             "line": {
              "color": "white"
             }
            },
            "header": {
             "fill": {
              "color": "#C8D4E3"
             },
             "line": {
              "color": "white"
             }
            },
            "type": "table"
           }
          ]
         },
         "layout": {
          "annotationdefaults": {
           "arrowcolor": "#2a3f5f",
           "arrowhead": 0,
           "arrowwidth": 1
          },
          "autotypenumbers": "strict",
          "coloraxis": {
           "colorbar": {
            "outlinewidth": 0,
            "ticks": ""
           }
          },
          "colorscale": {
           "diverging": [
            [
             0,
             "#8e0152"
            ],
            [
             0.1,
             "#c51b7d"
            ],
            [
             0.2,
             "#de77ae"
            ],
            [
             0.3,
             "#f1b6da"
            ],
            [
             0.4,
             "#fde0ef"
            ],
            [
             0.5,
             "#f7f7f7"
            ],
            [
             0.6,
             "#e6f5d0"
            ],
            [
             0.7,
             "#b8e186"
            ],
            [
             0.8,
             "#7fbc41"
            ],
            [
             0.9,
             "#4d9221"
            ],
            [
             1,
             "#276419"
            ]
           ],
           "sequential": [
            [
             0,
             "#0d0887"
            ],
            [
             0.1111111111111111,
             "#46039f"
            ],
            [
             0.2222222222222222,
             "#7201a8"
            ],
            [
             0.3333333333333333,
             "#9c179e"
            ],
            [
             0.4444444444444444,
             "#bd3786"
            ],
            [
             0.5555555555555556,
             "#d8576b"
            ],
            [
             0.6666666666666666,
             "#ed7953"
            ],
            [
             0.7777777777777778,
             "#fb9f3a"
            ],
            [
             0.8888888888888888,
             "#fdca26"
            ],
            [
             1,
             "#f0f921"
            ]
           ],
           "sequentialminus": [
            [
             0,
             "#0d0887"
            ],
            [
             0.1111111111111111,
             "#46039f"
            ],
            [
             0.2222222222222222,
             "#7201a8"
            ],
            [
             0.3333333333333333,
             "#9c179e"
            ],
            [
             0.4444444444444444,
             "#bd3786"
            ],
            [
             0.5555555555555556,
             "#d8576b"
            ],
            [
             0.6666666666666666,
             "#ed7953"
            ],
            [
             0.7777777777777778,
             "#fb9f3a"
            ],
            [
             0.8888888888888888,
             "#fdca26"
            ],
            [
             1,
             "#f0f921"
            ]
           ]
          },
          "colorway": [
           "#636efa",
           "#EF553B",
           "#00cc96",
           "#ab63fa",
           "#FFA15A",
           "#19d3f3",
           "#FF6692",
           "#B6E880",
           "#FF97FF",
           "#FECB52"
          ],
          "font": {
           "color": "#2a3f5f"
          },
          "geo": {
           "bgcolor": "white",
           "lakecolor": "white",
           "landcolor": "#E5ECF6",
           "showlakes": true,
           "showland": true,
           "subunitcolor": "white"
          },
          "hoverlabel": {
           "align": "left"
          },
          "hovermode": "closest",
          "mapbox": {
           "style": "light"
          },
          "paper_bgcolor": "white",
          "plot_bgcolor": "#E5ECF6",
          "polar": {
           "angularaxis": {
            "gridcolor": "white",
            "linecolor": "white",
            "ticks": ""
           },
           "bgcolor": "#E5ECF6",
           "radialaxis": {
            "gridcolor": "white",
            "linecolor": "white",
            "ticks": ""
           }
          },
          "scene": {
           "xaxis": {
            "backgroundcolor": "#E5ECF6",
            "gridcolor": "white",
            "gridwidth": 2,
            "linecolor": "white",
            "showbackground": true,
            "ticks": "",
            "zerolinecolor": "white"
           },
           "yaxis": {
            "backgroundcolor": "#E5ECF6",
            "gridcolor": "white",
            "gridwidth": 2,
            "linecolor": "white",
            "showbackground": true,
            "ticks": "",
            "zerolinecolor": "white"
           },
           "zaxis": {
            "backgroundcolor": "#E5ECF6",
            "gridcolor": "white",
            "gridwidth": 2,
            "linecolor": "white",
            "showbackground": true,
            "ticks": "",
            "zerolinecolor": "white"
           }
          },
          "shapedefaults": {
           "line": {
            "color": "#2a3f5f"
           }
          },
          "ternary": {
           "aaxis": {
            "gridcolor": "white",
            "linecolor": "white",
            "ticks": ""
           },
           "baxis": {
            "gridcolor": "white",
            "linecolor": "white",
            "ticks": ""
           },
           "bgcolor": "#E5ECF6",
           "caxis": {
            "gridcolor": "white",
            "linecolor": "white",
            "ticks": ""
           }
          },
          "title": {
           "x": 0.05
          },
          "xaxis": {
           "automargin": true,
           "gridcolor": "white",
           "linecolor": "white",
           "ticks": "",
           "title": {
            "standoff": 15
           },
           "zerolinecolor": "white",
           "zerolinewidth": 2
          },
          "yaxis": {
           "automargin": true,
           "gridcolor": "white",
           "linecolor": "white",
           "ticks": "",
           "title": {
            "standoff": 15
           },
           "zerolinecolor": "white",
           "zerolinewidth": 2
          }
         }
        },
        "title": {
         "font": {
          "color": "black",
          "family": "Georgia",
          "size": 18
         },
         "pad": {
          "b": 20
         },
         "text": "<b>Share of the population using the Internet, 2023</b><br><span style='font-size:12px; font-weight:normal; color:#666666'>Share of the population who used the Internet in the last three months.</span>",
         "x": 0.025,
         "xanchor": "left",
         "yanchor": "top"
        },
        "width": 700,
        "xaxis": {
         "anchor": "y",
         "domain": [
          0,
          1
         ],
         "title": {}
        },
        "yaxis": {
         "anchor": "x",
         "domain": [
          0,
          1
         ],
         "tickfont": {
          "color": "black",
          "family": "Georgia",
          "size": 11
         },
         "title": {}
        }
       }
      }
     },
     "metadata": {},
     "output_type": "display_data"
    }
   ],
   "source": [
    "from PIL import Image\n",
    "import base64\n",
    "from io import BytesIO\n",
    "\n",
    "fig = px.bar(\n",
    "    df_2023_sorted,\n",
    "    y=\"Entity\",\n",
    "    x=\"Individuals using the Internet (% of population)\",\n",
    ")\n",
    "\n",
    "fig.update_traces(\n",
    "    marker_color=\"#738FBE\",\n",
    "    marker_line_width=1.5,\n",
    "    opacity=1,\n",
    "    textposition=\"outside\",\n",
    "    texttemplate=\"%{x:.0f}%\",\n",
    ")\n",
    "\n",
    "fig.update_layout(\n",
    "    title=dict(\n",
    "        text=(\n",
    "            \"<b>Share of the population using the Internet, 2023</b><br>\"\n",
    "            \"<span style='font-size:12px; font-weight:normal; color:#666666'>\"\n",
    "            \"Share of the population who used the Internet in the last three months.\"\n",
    "            \"</span>\"\n",
    "        ),\n",
    "        x=0.025,\n",
    "        xanchor='left',\n",
    "        yanchor='top',\n",
    "        font=dict(family=\"Georgia\", size=18, color=\"black\"),\n",
    "        pad=dict(b=20)\n",
    "    ),\n",
    "    height=400,\n",
    "    width=700,\n",
    "    bargap=0.3,\n",
    "    plot_bgcolor=\"white\",\n",
    "    font=dict(size=14, family=\"Georgia\", color=\"black\"),\n",
    "    yaxis=dict(\n",
    "        tickfont=dict(family=\"Georgia\", size=11, color=\"black\")\n",
    "    ),\n",
    "\n",
    "    xaxis_title=None,\n",
    "    yaxis_title=None\n",
    ")\n",
    " \n",
    "fig.add_annotation(\n",
    "    text=(\n",
    "        \"<b>Data source:</b> International Telecommunication Union (via World Bank) (2025) \"\n",
    "        \"&nbsp;&nbsp;&nbsp;&nbsp;&nbsp;&nbsp;&nbsp;&nbsp;&nbsp;&nbsp;&nbsp;&nbsp;&nbsp;&nbsp;&nbsp;&nbsp;&nbsp;&nbsp;&nbsp;&nbsp;&nbsp;&nbsp;&nbsp;&nbsp;&nbsp;&nbsp;&nbsp;&nbsp;&nbsp;&nbsp;&nbsp;&nbsp;&nbsp;&nbsp;&nbsp;&nbsp;&nbsp;&nbsp;&nbsp;&nbsp;&nbsp;&nbsp;&nbsp;&nbsp;&nbsp;&nbsp;&nbsp;&nbsp;&nbsp;&nbsp;&nbsp;&nbsp;&nbsp;&nbsp;&nbsp;&nbsp;&nbsp;&nbsp;&nbsp;&nbsp;&nbsp;&nbsp;&nbsp;&nbsp;&nbsp;&nbsp;&nbsp;&nbsp;&nbsp;&nbsp;&nbsp;&nbsp;&nbsp;&nbsp;&nbsp;&nbsp;&nbsp;&nbsp;\"\n",
    "        \"<span style='float:right'; color:#666666'>OurWorldInData.org/internet | CC BY</span>\"\n",
    "    ),\n",
    "    xref=\"paper\", yref=\"paper\",\n",
    "    x=-0.35, y=-0.25,\n",
    "    showarrow=False,\n",
    "    font=dict(family=\"Georgia\", size=9, color=\"#666666\"),\n",
    "    align=\"left\",\n",
    "    xanchor=\"left\"\n",
    ")\n",
    "\n",
    "image_path = \"assets/world_logo.png\"\n",
    "img = Image.open(image_path)\n",
    "buffer = BytesIO()\n",
    "img.save(buffer, format=\"PNG\")\n",
    "encoded_image = \"data:image/png;base64,\" + base64.b64encode(buffer.getvalue()).decode()\n",
    "\n",
    "fig.add_layout_image(\n",
    "    dict(\n",
    "        source=encoded_image,\n",
    "        xref=\"paper\", yref=\"paper\",\n",
    "        x=1.15, y=1.15,\n",
    "        sizex=0.1, sizey=0.1,\n",
    "        xanchor=\"right\", yanchor=\"top\",\n",
    "        layer=\"above\"\n",
    "    )\n",
    ")\n",
    "\n",
    "fig.show()\n",
    "fig.write_html(\"interactive_figures/internet_use.html\")\n"
   ]
  },
  {
   "cell_type": "markdown",
   "id": "981b409b",
   "metadata": {},
   "source": [
    "#1)"
   ]
  },
  {
   "cell_type": "code",
   "execution_count": 8,
   "id": "b691d76d",
   "metadata": {},
   "outputs": [
    {
     "data": {
      "text/html": [
       "<div>\n",
       "<style scoped>\n",
       "    .dataframe tbody tr th:only-of-type {\n",
       "        vertical-align: middle;\n",
       "    }\n",
       "\n",
       "    .dataframe tbody tr th {\n",
       "        vertical-align: top;\n",
       "    }\n",
       "\n",
       "    .dataframe thead th {\n",
       "        text-align: right;\n",
       "    }\n",
       "</style>\n",
       "<table border=\"1\" class=\"dataframe\">\n",
       "  <thead>\n",
       "    <tr style=\"text-align: right;\">\n",
       "      <th></th>\n",
       "      <th>Entity</th>\n",
       "      <th>Code</th>\n",
       "      <th>Year</th>\n",
       "      <th>Historical price of memory</th>\n",
       "      <th>Historical price of flash memory</th>\n",
       "      <th>Historical price of disk drives</th>\n",
       "      <th>Historical price of solid-state drives</th>\n",
       "    </tr>\n",
       "  </thead>\n",
       "  <tbody>\n",
       "    <tr>\n",
       "      <th>0</th>\n",
       "      <td>World</td>\n",
       "      <td>OWID_WRL</td>\n",
       "      <td>1957</td>\n",
       "      <td>3.786967e+15</td>\n",
       "      <td>NaN</td>\n",
       "      <td>NaN</td>\n",
       "      <td>NaN</td>\n",
       "    </tr>\n",
       "    <tr>\n",
       "      <th>1</th>\n",
       "      <td>World</td>\n",
       "      <td>OWID_WRL</td>\n",
       "      <td>1959</td>\n",
       "      <td>6.032806e+14</td>\n",
       "      <td>NaN</td>\n",
       "      <td>6.747736e+10</td>\n",
       "      <td>NaN</td>\n",
       "    </tr>\n",
       "    <tr>\n",
       "      <th>2</th>\n",
       "      <td>World</td>\n",
       "      <td>OWID_WRL</td>\n",
       "      <td>1960</td>\n",
       "      <td>4.588051e+13</td>\n",
       "      <td>NaN</td>\n",
       "      <td>3.150364e+10</td>\n",
       "      <td>NaN</td>\n",
       "    </tr>\n",
       "    <tr>\n",
       "      <th>3</th>\n",
       "      <td>World</td>\n",
       "      <td>OWID_WRL</td>\n",
       "      <td>1965</td>\n",
       "      <td>2.170492e+13</td>\n",
       "      <td>NaN</td>\n",
       "      <td>NaN</td>\n",
       "      <td>NaN</td>\n",
       "    </tr>\n",
       "    <tr>\n",
       "      <th>4</th>\n",
       "      <td>World</td>\n",
       "      <td>OWID_WRL</td>\n",
       "      <td>1970</td>\n",
       "      <td>4.892936e+12</td>\n",
       "      <td>NaN</td>\n",
       "      <td>1.731185e+09</td>\n",
       "      <td>NaN</td>\n",
       "    </tr>\n",
       "    <tr>\n",
       "      <th>5</th>\n",
       "      <td>World</td>\n",
       "      <td>OWID_WRL</td>\n",
       "      <td>1973</td>\n",
       "      <td>2.327902e+12</td>\n",
       "      <td>NaN</td>\n",
       "      <td>1.513812e+09</td>\n",
       "      <td>NaN</td>\n",
       "    </tr>\n",
       "    <tr>\n",
       "      <th>6</th>\n",
       "      <td>World</td>\n",
       "      <td>OWID_WRL</td>\n",
       "      <td>1974</td>\n",
       "      <td>1.651140e+12</td>\n",
       "      <td>NaN</td>\n",
       "      <td>9.710340e+08</td>\n",
       "      <td>NaN</td>\n",
       "    </tr>\n",
       "    <tr>\n",
       "      <th>7</th>\n",
       "      <td>World</td>\n",
       "      <td>OWID_WRL</td>\n",
       "      <td>1975</td>\n",
       "      <td>2.400716e+11</td>\n",
       "      <td>NaN</td>\n",
       "      <td>8.896885e+08</td>\n",
       "      <td>NaN</td>\n",
       "    </tr>\n",
       "    <tr>\n",
       "      <th>8</th>\n",
       "      <td>World</td>\n",
       "      <td>OWID_WRL</td>\n",
       "      <td>1976</td>\n",
       "      <td>1.047827e+11</td>\n",
       "      <td>NaN</td>\n",
       "      <td>NaN</td>\n",
       "      <td>NaN</td>\n",
       "    </tr>\n",
       "    <tr>\n",
       "      <th>9</th>\n",
       "      <td>World</td>\n",
       "      <td>OWID_WRL</td>\n",
       "      <td>1977</td>\n",
       "      <td>9.838598e+10</td>\n",
       "      <td>NaN</td>\n",
       "      <td>NaN</td>\n",
       "      <td>NaN</td>\n",
       "    </tr>\n",
       "    <tr>\n",
       "      <th>10</th>\n",
       "      <td>World</td>\n",
       "      <td>OWID_WRL</td>\n",
       "      <td>1978</td>\n",
       "      <td>6.030552e+10</td>\n",
       "      <td>NaN</td>\n",
       "      <td>NaN</td>\n",
       "      <td>NaN</td>\n",
       "    </tr>\n",
       "    <tr>\n",
       "      <th>11</th>\n",
       "      <td>World</td>\n",
       "      <td>OWID_WRL</td>\n",
       "      <td>1979</td>\n",
       "      <td>2.390727e+10</td>\n",
       "      <td>NaN</td>\n",
       "      <td>6.597322e+08</td>\n",
       "      <td>NaN</td>\n",
       "    </tr>\n",
       "    <tr>\n",
       "      <th>12</th>\n",
       "      <td>World</td>\n",
       "      <td>OWID_WRL</td>\n",
       "      <td>1980</td>\n",
       "      <td>2.035106e+10</td>\n",
       "      <td>NaN</td>\n",
       "      <td>5.810100e+08</td>\n",
       "      <td>NaN</td>\n",
       "    </tr>\n",
       "    <tr>\n",
       "      <th>13</th>\n",
       "      <td>World</td>\n",
       "      <td>OWID_WRL</td>\n",
       "      <td>1981</td>\n",
       "      <td>1.274971e+10</td>\n",
       "      <td>NaN</td>\n",
       "      <td>5.265886e+08</td>\n",
       "      <td>NaN</td>\n",
       "    </tr>\n",
       "    <tr>\n",
       "      <th>14</th>\n",
       "      <td>World</td>\n",
       "      <td>OWID_WRL</td>\n",
       "      <td>1982</td>\n",
       "      <td>5.310323e+09</td>\n",
       "      <td>NaN</td>\n",
       "      <td>4.961665e+08</td>\n",
       "      <td>NaN</td>\n",
       "    </tr>\n",
       "    <tr>\n",
       "      <th>15</th>\n",
       "      <td>World</td>\n",
       "      <td>OWID_WRL</td>\n",
       "      <td>1983</td>\n",
       "      <td>5.145041e+09</td>\n",
       "      <td>NaN</td>\n",
       "      <td>3.115609e+08</td>\n",
       "      <td>NaN</td>\n",
       "    </tr>\n",
       "    <tr>\n",
       "      <th>16</th>\n",
       "      <td>World</td>\n",
       "      <td>OWID_WRL</td>\n",
       "      <td>1984</td>\n",
       "      <td>3.315175e+09</td>\n",
       "      <td>NaN</td>\n",
       "      <td>9.342615e+07</td>\n",
       "      <td>NaN</td>\n",
       "    </tr>\n",
       "    <tr>\n",
       "      <th>17</th>\n",
       "      <td>World</td>\n",
       "      <td>OWID_WRL</td>\n",
       "      <td>1985</td>\n",
       "      <td>7.206131e+08</td>\n",
       "      <td>NaN</td>\n",
       "      <td>7.553290e+07</td>\n",
       "      <td>NaN</td>\n",
       "    </tr>\n",
       "    <tr>\n",
       "      <th>18</th>\n",
       "      <td>World</td>\n",
       "      <td>OWID_WRL</td>\n",
       "      <td>1986</td>\n",
       "      <td>4.474543e+08</td>\n",
       "      <td>NaN</td>\n",
       "      <td>4.356481e+07</td>\n",
       "      <td>NaN</td>\n",
       "    </tr>\n",
       "    <tr>\n",
       "      <th>19</th>\n",
       "      <td>World</td>\n",
       "      <td>OWID_WRL</td>\n",
       "      <td>1987</td>\n",
       "      <td>3.029429e+08</td>\n",
       "      <td>NaN</td>\n",
       "      <td>3.409057e+07</td>\n",
       "      <td>NaN</td>\n",
       "    </tr>\n",
       "    <tr>\n",
       "      <th>20</th>\n",
       "      <td>World</td>\n",
       "      <td>OWID_WRL</td>\n",
       "      <td>1988</td>\n",
       "      <td>2.910737e+08</td>\n",
       "      <td>NaN</td>\n",
       "      <td>2.181229e+07</td>\n",
       "      <td>NaN</td>\n",
       "    </tr>\n",
       "    <tr>\n",
       "      <th>21</th>\n",
       "      <td>World</td>\n",
       "      <td>OWID_WRL</td>\n",
       "      <td>1989</td>\n",
       "      <td>2.361765e+08</td>\n",
       "      <td>NaN</td>\n",
       "      <td>1.562332e+07</td>\n",
       "      <td>NaN</td>\n",
       "    </tr>\n",
       "    <tr>\n",
       "      <th>22</th>\n",
       "      <td>World</td>\n",
       "      <td>OWID_WRL</td>\n",
       "      <td>1990</td>\n",
       "      <td>9.012750e+07</td>\n",
       "      <td>NaN</td>\n",
       "      <td>6.475771e+06</td>\n",
       "      <td>NaN</td>\n",
       "    </tr>\n",
       "    <tr>\n",
       "      <th>23</th>\n",
       "      <td>World</td>\n",
       "      <td>OWID_WRL</td>\n",
       "      <td>1991</td>\n",
       "      <td>7.553873e+07</td>\n",
       "      <td>NaN</td>\n",
       "      <td>5.305764e+06</td>\n",
       "      <td>NaN</td>\n",
       "    </tr>\n",
       "    <tr>\n",
       "      <th>24</th>\n",
       "      <td>World</td>\n",
       "      <td>OWID_WRL</td>\n",
       "      <td>1992</td>\n",
       "      <td>4.841758e+07</td>\n",
       "      <td>NaN</td>\n",
       "      <td>2.581349e+06</td>\n",
       "      <td>NaN</td>\n",
       "    </tr>\n",
       "    <tr>\n",
       "      <th>25</th>\n",
       "      <td>World</td>\n",
       "      <td>OWID_WRL</td>\n",
       "      <td>1993</td>\n",
       "      <td>4.702944e+07</td>\n",
       "      <td>NaN</td>\n",
       "      <td>1.285969e+06</td>\n",
       "      <td>NaN</td>\n",
       "    </tr>\n",
       "    <tr>\n",
       "      <th>26</th>\n",
       "      <td>World</td>\n",
       "      <td>OWID_WRL</td>\n",
       "      <td>1994</td>\n",
       "      <td>4.583433e+07</td>\n",
       "      <td>NaN</td>\n",
       "      <td>7.564362e+05</td>\n",
       "      <td>NaN</td>\n",
       "    </tr>\n",
       "    <tr>\n",
       "      <th>27</th>\n",
       "      <td>World</td>\n",
       "      <td>OWID_WRL</td>\n",
       "      <td>1995</td>\n",
       "      <td>4.458358e+07</td>\n",
       "      <td>NaN</td>\n",
       "      <td>3.632010e+05</td>\n",
       "      <td>NaN</td>\n",
       "    </tr>\n",
       "    <tr>\n",
       "      <th>28</th>\n",
       "      <td>World</td>\n",
       "      <td>OWID_WRL</td>\n",
       "      <td>1996</td>\n",
       "      <td>8.662792e+06</td>\n",
       "      <td>NaN</td>\n",
       "      <td>2.105471e+05</td>\n",
       "      <td>NaN</td>\n",
       "    </tr>\n",
       "    <tr>\n",
       "      <th>29</th>\n",
       "      <td>World</td>\n",
       "      <td>OWID_WRL</td>\n",
       "      <td>1997</td>\n",
       "      <td>3.476658e+06</td>\n",
       "      <td>NaN</td>\n",
       "      <td>7.801758e+04</td>\n",
       "      <td>NaN</td>\n",
       "    </tr>\n",
       "    <tr>\n",
       "      <th>30</th>\n",
       "      <td>World</td>\n",
       "      <td>OWID_WRL</td>\n",
       "      <td>1998</td>\n",
       "      <td>1.339637e+06</td>\n",
       "      <td>NaN</td>\n",
       "      <td>3.944486e+04</td>\n",
       "      <td>NaN</td>\n",
       "    </tr>\n",
       "    <tr>\n",
       "      <th>31</th>\n",
       "      <td>World</td>\n",
       "      <td>OWID_WRL</td>\n",
       "      <td>1999</td>\n",
       "      <td>1.213724e+06</td>\n",
       "      <td>NaN</td>\n",
       "      <td>1.373056e+04</td>\n",
       "      <td>NaN</td>\n",
       "    </tr>\n",
       "    <tr>\n",
       "      <th>32</th>\n",
       "      <td>World</td>\n",
       "      <td>OWID_WRL</td>\n",
       "      <td>2000</td>\n",
       "      <td>1.045033e+06</td>\n",
       "      <td>NaN</td>\n",
       "      <td>6.119577e+03</td>\n",
       "      <td>NaN</td>\n",
       "    </tr>\n",
       "    <tr>\n",
       "      <th>33</th>\n",
       "      <td>World</td>\n",
       "      <td>OWID_WRL</td>\n",
       "      <td>2001</td>\n",
       "      <td>2.157090e+05</td>\n",
       "      <td>NaN</td>\n",
       "      <td>3.785698e+03</td>\n",
       "      <td>NaN</td>\n",
       "    </tr>\n",
       "    <tr>\n",
       "      <th>34</th>\n",
       "      <td>World</td>\n",
       "      <td>OWID_WRL</td>\n",
       "      <td>2002</td>\n",
       "      <td>1.921637e+05</td>\n",
       "      <td>NaN</td>\n",
       "      <td>1.750592e+03</td>\n",
       "      <td>NaN</td>\n",
       "    </tr>\n",
       "    <tr>\n",
       "      <th>35</th>\n",
       "      <td>World</td>\n",
       "      <td>OWID_WRL</td>\n",
       "      <td>2003</td>\n",
       "      <td>1.071663e+05</td>\n",
       "      <td>269289.70000</td>\n",
       "      <td>1.055063e+03</td>\n",
       "      <td>NaN</td>\n",
       "    </tr>\n",
       "    <tr>\n",
       "      <th>36</th>\n",
       "      <td>World</td>\n",
       "      <td>OWID_WRL</td>\n",
       "      <td>2004</td>\n",
       "      <td>1.043720e+05</td>\n",
       "      <td>262268.12000</td>\n",
       "      <td>8.349828e+02</td>\n",
       "      <td>NaN</td>\n",
       "    </tr>\n",
       "    <tr>\n",
       "      <th>37</th>\n",
       "      <td>World</td>\n",
       "      <td>OWID_WRL</td>\n",
       "      <td>2005</td>\n",
       "      <td>1.009471e+05</td>\n",
       "      <td>100921.24000</td>\n",
       "      <td>5.383847e+02</td>\n",
       "      <td>NaN</td>\n",
       "    </tr>\n",
       "    <tr>\n",
       "      <th>38</th>\n",
       "      <td>World</td>\n",
       "      <td>OWID_WRL</td>\n",
       "      <td>2006</td>\n",
       "      <td>9.339802e+04</td>\n",
       "      <td>18793.69000</td>\n",
       "      <td>2.808012e+02</td>\n",
       "      <td>NaN</td>\n",
       "    </tr>\n",
       "    <tr>\n",
       "      <th>39</th>\n",
       "      <td>World</td>\n",
       "      <td>OWID_WRL</td>\n",
       "      <td>2007</td>\n",
       "      <td>3.044391e+04</td>\n",
       "      <td>9139.27050</td>\n",
       "      <td>2.496212e+02</td>\n",
       "      <td>NaN</td>\n",
       "    </tr>\n",
       "    <tr>\n",
       "      <th>40</th>\n",
       "      <td>World</td>\n",
       "      <td>OWID_WRL</td>\n",
       "      <td>2008</td>\n",
       "      <td>1.173614e+04</td>\n",
       "      <td>2200.71120</td>\n",
       "      <td>1.201961e+02</td>\n",
       "      <td>NaN</td>\n",
       "    </tr>\n",
       "    <tr>\n",
       "      <th>41</th>\n",
       "      <td>World</td>\n",
       "      <td>OWID_WRL</td>\n",
       "      <td>2009</td>\n",
       "      <td>1.177802e+04</td>\n",
       "      <td>1950.48450</td>\n",
       "      <td>8.443390e+01</td>\n",
       "      <td>NaN</td>\n",
       "    </tr>\n",
       "    <tr>\n",
       "      <th>42</th>\n",
       "      <td>World</td>\n",
       "      <td>OWID_WRL</td>\n",
       "      <td>2010</td>\n",
       "      <td>1.158797e+04</td>\n",
       "      <td>1412.27470</td>\n",
       "      <td>5.341073e+01</td>\n",
       "      <td>NaN</td>\n",
       "    </tr>\n",
       "    <tr>\n",
       "      <th>43</th>\n",
       "      <td>World</td>\n",
       "      <td>OWID_WRL</td>\n",
       "      <td>2011</td>\n",
       "      <td>5.897578e+03</td>\n",
       "      <td>1158.37260</td>\n",
       "      <td>4.218038e+01</td>\n",
       "      <td>NaN</td>\n",
       "    </tr>\n",
       "    <tr>\n",
       "      <th>44</th>\n",
       "      <td>World</td>\n",
       "      <td>OWID_WRL</td>\n",
       "      <td>2012</td>\n",
       "      <td>4.126761e+03</td>\n",
       "      <td>653.27890</td>\n",
       "      <td>4.132522e+01</td>\n",
       "      <td>NaN</td>\n",
       "    </tr>\n",
       "    <tr>\n",
       "      <th>45</th>\n",
       "      <td>World</td>\n",
       "      <td>OWID_WRL</td>\n",
       "      <td>2013</td>\n",
       "      <td>4.067184e+03</td>\n",
       "      <td>508.39658</td>\n",
       "      <td>4.072861e+01</td>\n",
       "      <td>694.319460</td>\n",
       "    </tr>\n",
       "    <tr>\n",
       "      <th>46</th>\n",
       "      <td>World</td>\n",
       "      <td>OWID_WRL</td>\n",
       "      <td>2014</td>\n",
       "      <td>4.002258e+03</td>\n",
       "      <td>366.16135</td>\n",
       "      <td>3.826366e+01</td>\n",
       "      <td>409.945920</td>\n",
       "    </tr>\n",
       "    <tr>\n",
       "      <th>47</th>\n",
       "      <td>World</td>\n",
       "      <td>OWID_WRL</td>\n",
       "      <td>2015</td>\n",
       "      <td>3.997516e+03</td>\n",
       "      <td>158.12556</td>\n",
       "      <td>3.093500e+01</td>\n",
       "      <td>272.944300</td>\n",
       "    </tr>\n",
       "    <tr>\n",
       "      <th>48</th>\n",
       "      <td>World</td>\n",
       "      <td>OWID_WRL</td>\n",
       "      <td>2016</td>\n",
       "      <td>2.961111e+03</td>\n",
       "      <td>156.15555</td>\n",
       "      <td>2.987024e+01</td>\n",
       "      <td>219.023220</td>\n",
       "    </tr>\n",
       "    <tr>\n",
       "      <th>49</th>\n",
       "      <td>World</td>\n",
       "      <td>OWID_WRL</td>\n",
       "      <td>2017</td>\n",
       "      <td>2.899351e+03</td>\n",
       "      <td>152.89864</td>\n",
       "      <td>2.639642e+01</td>\n",
       "      <td>214.455080</td>\n",
       "    </tr>\n",
       "    <tr>\n",
       "      <th>50</th>\n",
       "      <td>World</td>\n",
       "      <td>OWID_WRL</td>\n",
       "      <td>2018</td>\n",
       "      <td>2.830221e+03</td>\n",
       "      <td>NaN</td>\n",
       "      <td>2.408703e+01</td>\n",
       "      <td>107.345490</td>\n",
       "    </tr>\n",
       "    <tr>\n",
       "      <th>51</th>\n",
       "      <td>World</td>\n",
       "      <td>OWID_WRL</td>\n",
       "      <td>2019</td>\n",
       "      <td>2.779844e+03</td>\n",
       "      <td>NaN</td>\n",
       "      <td>1.898130e+01</td>\n",
       "      <td>80.136510</td>\n",
       "    </tr>\n",
       "    <tr>\n",
       "      <th>52</th>\n",
       "      <td>World</td>\n",
       "      <td>OWID_WRL</td>\n",
       "      <td>2020</td>\n",
       "      <td>2.745970e+03</td>\n",
       "      <td>NaN</td>\n",
       "      <td>1.625000e+01</td>\n",
       "      <td>74.990000</td>\n",
       "    </tr>\n",
       "    <tr>\n",
       "      <th>53</th>\n",
       "      <td>World</td>\n",
       "      <td>OWID_WRL</td>\n",
       "      <td>2021</td>\n",
       "      <td>2.477310e+03</td>\n",
       "      <td>NaN</td>\n",
       "      <td>1.552085e+01</td>\n",
       "      <td>71.625150</td>\n",
       "    </tr>\n",
       "    <tr>\n",
       "      <th>54</th>\n",
       "      <td>World</td>\n",
       "      <td>OWID_WRL</td>\n",
       "      <td>2022</td>\n",
       "      <td>1.861932e+03</td>\n",
       "      <td>NaN</td>\n",
       "      <td>1.263745e+01</td>\n",
       "      <td>39.796032</td>\n",
       "    </tr>\n",
       "    <tr>\n",
       "      <th>55</th>\n",
       "      <td>World</td>\n",
       "      <td>OWID_WRL</td>\n",
       "      <td>2023</td>\n",
       "      <td>1.088437e+03</td>\n",
       "      <td>NaN</td>\n",
       "      <td>1.061740e+01</td>\n",
       "      <td>25.906467</td>\n",
       "    </tr>\n",
       "    <tr>\n",
       "      <th>56</th>\n",
       "      <td>World</td>\n",
       "      <td>OWID_WRL</td>\n",
       "      <td>1956</td>\n",
       "      <td>NaN</td>\n",
       "      <td>NaN</td>\n",
       "      <td>8.759275e+10</td>\n",
       "      <td>NaN</td>\n",
       "    </tr>\n",
       "    <tr>\n",
       "      <th>57</th>\n",
       "      <td>World</td>\n",
       "      <td>OWID_WRL</td>\n",
       "      <td>1964</td>\n",
       "      <td>NaN</td>\n",
       "      <td>NaN</td>\n",
       "      <td>2.936028e+10</td>\n",
       "      <td>NaN</td>\n",
       "    </tr>\n",
       "    <tr>\n",
       "      <th>58</th>\n",
       "      <td>World</td>\n",
       "      <td>OWID_WRL</td>\n",
       "      <td>1966</td>\n",
       "      <td>NaN</td>\n",
       "      <td>NaN</td>\n",
       "      <td>8.350479e+09</td>\n",
       "      <td>NaN</td>\n",
       "    </tr>\n",
       "  </tbody>\n",
       "</table>\n",
       "</div>"
      ],
      "text/plain": [
       "   Entity      Code  Year  Historical price of memory  \\\n",
       "0   World  OWID_WRL  1957                3.786967e+15   \n",
       "1   World  OWID_WRL  1959                6.032806e+14   \n",
       "2   World  OWID_WRL  1960                4.588051e+13   \n",
       "3   World  OWID_WRL  1965                2.170492e+13   \n",
       "4   World  OWID_WRL  1970                4.892936e+12   \n",
       "5   World  OWID_WRL  1973                2.327902e+12   \n",
       "6   World  OWID_WRL  1974                1.651140e+12   \n",
       "7   World  OWID_WRL  1975                2.400716e+11   \n",
       "8   World  OWID_WRL  1976                1.047827e+11   \n",
       "9   World  OWID_WRL  1977                9.838598e+10   \n",
       "10  World  OWID_WRL  1978                6.030552e+10   \n",
       "11  World  OWID_WRL  1979                2.390727e+10   \n",
       "12  World  OWID_WRL  1980                2.035106e+10   \n",
       "13  World  OWID_WRL  1981                1.274971e+10   \n",
       "14  World  OWID_WRL  1982                5.310323e+09   \n",
       "15  World  OWID_WRL  1983                5.145041e+09   \n",
       "16  World  OWID_WRL  1984                3.315175e+09   \n",
       "17  World  OWID_WRL  1985                7.206131e+08   \n",
       "18  World  OWID_WRL  1986                4.474543e+08   \n",
       "19  World  OWID_WRL  1987                3.029429e+08   \n",
       "20  World  OWID_WRL  1988                2.910737e+08   \n",
       "21  World  OWID_WRL  1989                2.361765e+08   \n",
       "22  World  OWID_WRL  1990                9.012750e+07   \n",
       "23  World  OWID_WRL  1991                7.553873e+07   \n",
       "24  World  OWID_WRL  1992                4.841758e+07   \n",
       "25  World  OWID_WRL  1993                4.702944e+07   \n",
       "26  World  OWID_WRL  1994                4.583433e+07   \n",
       "27  World  OWID_WRL  1995                4.458358e+07   \n",
       "28  World  OWID_WRL  1996                8.662792e+06   \n",
       "29  World  OWID_WRL  1997                3.476658e+06   \n",
       "30  World  OWID_WRL  1998                1.339637e+06   \n",
       "31  World  OWID_WRL  1999                1.213724e+06   \n",
       "32  World  OWID_WRL  2000                1.045033e+06   \n",
       "33  World  OWID_WRL  2001                2.157090e+05   \n",
       "34  World  OWID_WRL  2002                1.921637e+05   \n",
       "35  World  OWID_WRL  2003                1.071663e+05   \n",
       "36  World  OWID_WRL  2004                1.043720e+05   \n",
       "37  World  OWID_WRL  2005                1.009471e+05   \n",
       "38  World  OWID_WRL  2006                9.339802e+04   \n",
       "39  World  OWID_WRL  2007                3.044391e+04   \n",
       "40  World  OWID_WRL  2008                1.173614e+04   \n",
       "41  World  OWID_WRL  2009                1.177802e+04   \n",
       "42  World  OWID_WRL  2010                1.158797e+04   \n",
       "43  World  OWID_WRL  2011                5.897578e+03   \n",
       "44  World  OWID_WRL  2012                4.126761e+03   \n",
       "45  World  OWID_WRL  2013                4.067184e+03   \n",
       "46  World  OWID_WRL  2014                4.002258e+03   \n",
       "47  World  OWID_WRL  2015                3.997516e+03   \n",
       "48  World  OWID_WRL  2016                2.961111e+03   \n",
       "49  World  OWID_WRL  2017                2.899351e+03   \n",
       "50  World  OWID_WRL  2018                2.830221e+03   \n",
       "51  World  OWID_WRL  2019                2.779844e+03   \n",
       "52  World  OWID_WRL  2020                2.745970e+03   \n",
       "53  World  OWID_WRL  2021                2.477310e+03   \n",
       "54  World  OWID_WRL  2022                1.861932e+03   \n",
       "55  World  OWID_WRL  2023                1.088437e+03   \n",
       "56  World  OWID_WRL  1956                         NaN   \n",
       "57  World  OWID_WRL  1964                         NaN   \n",
       "58  World  OWID_WRL  1966                         NaN   \n",
       "\n",
       "    Historical price of flash memory  Historical price of disk drives  \\\n",
       "0                                NaN                              NaN   \n",
       "1                                NaN                     6.747736e+10   \n",
       "2                                NaN                     3.150364e+10   \n",
       "3                                NaN                              NaN   \n",
       "4                                NaN                     1.731185e+09   \n",
       "5                                NaN                     1.513812e+09   \n",
       "6                                NaN                     9.710340e+08   \n",
       "7                                NaN                     8.896885e+08   \n",
       "8                                NaN                              NaN   \n",
       "9                                NaN                              NaN   \n",
       "10                               NaN                              NaN   \n",
       "11                               NaN                     6.597322e+08   \n",
       "12                               NaN                     5.810100e+08   \n",
       "13                               NaN                     5.265886e+08   \n",
       "14                               NaN                     4.961665e+08   \n",
       "15                               NaN                     3.115609e+08   \n",
       "16                               NaN                     9.342615e+07   \n",
       "17                               NaN                     7.553290e+07   \n",
       "18                               NaN                     4.356481e+07   \n",
       "19                               NaN                     3.409057e+07   \n",
       "20                               NaN                     2.181229e+07   \n",
       "21                               NaN                     1.562332e+07   \n",
       "22                               NaN                     6.475771e+06   \n",
       "23                               NaN                     5.305764e+06   \n",
       "24                               NaN                     2.581349e+06   \n",
       "25                               NaN                     1.285969e+06   \n",
       "26                               NaN                     7.564362e+05   \n",
       "27                               NaN                     3.632010e+05   \n",
       "28                               NaN                     2.105471e+05   \n",
       "29                               NaN                     7.801758e+04   \n",
       "30                               NaN                     3.944486e+04   \n",
       "31                               NaN                     1.373056e+04   \n",
       "32                               NaN                     6.119577e+03   \n",
       "33                               NaN                     3.785698e+03   \n",
       "34                               NaN                     1.750592e+03   \n",
       "35                      269289.70000                     1.055063e+03   \n",
       "36                      262268.12000                     8.349828e+02   \n",
       "37                      100921.24000                     5.383847e+02   \n",
       "38                       18793.69000                     2.808012e+02   \n",
       "39                        9139.27050                     2.496212e+02   \n",
       "40                        2200.71120                     1.201961e+02   \n",
       "41                        1950.48450                     8.443390e+01   \n",
       "42                        1412.27470                     5.341073e+01   \n",
       "43                        1158.37260                     4.218038e+01   \n",
       "44                         653.27890                     4.132522e+01   \n",
       "45                         508.39658                     4.072861e+01   \n",
       "46                         366.16135                     3.826366e+01   \n",
       "47                         158.12556                     3.093500e+01   \n",
       "48                         156.15555                     2.987024e+01   \n",
       "49                         152.89864                     2.639642e+01   \n",
       "50                               NaN                     2.408703e+01   \n",
       "51                               NaN                     1.898130e+01   \n",
       "52                               NaN                     1.625000e+01   \n",
       "53                               NaN                     1.552085e+01   \n",
       "54                               NaN                     1.263745e+01   \n",
       "55                               NaN                     1.061740e+01   \n",
       "56                               NaN                     8.759275e+10   \n",
       "57                               NaN                     2.936028e+10   \n",
       "58                               NaN                     8.350479e+09   \n",
       "\n",
       "    Historical price of solid-state drives  \n",
       "0                                      NaN  \n",
       "1                                      NaN  \n",
       "2                                      NaN  \n",
       "3                                      NaN  \n",
       "4                                      NaN  \n",
       "5                                      NaN  \n",
       "6                                      NaN  \n",
       "7                                      NaN  \n",
       "8                                      NaN  \n",
       "9                                      NaN  \n",
       "10                                     NaN  \n",
       "11                                     NaN  \n",
       "12                                     NaN  \n",
       "13                                     NaN  \n",
       "14                                     NaN  \n",
       "15                                     NaN  \n",
       "16                                     NaN  \n",
       "17                                     NaN  \n",
       "18                                     NaN  \n",
       "19                                     NaN  \n",
       "20                                     NaN  \n",
       "21                                     NaN  \n",
       "22                                     NaN  \n",
       "23                                     NaN  \n",
       "24                                     NaN  \n",
       "25                                     NaN  \n",
       "26                                     NaN  \n",
       "27                                     NaN  \n",
       "28                                     NaN  \n",
       "29                                     NaN  \n",
       "30                                     NaN  \n",
       "31                                     NaN  \n",
       "32                                     NaN  \n",
       "33                                     NaN  \n",
       "34                                     NaN  \n",
       "35                                     NaN  \n",
       "36                                     NaN  \n",
       "37                                     NaN  \n",
       "38                                     NaN  \n",
       "39                                     NaN  \n",
       "40                                     NaN  \n",
       "41                                     NaN  \n",
       "42                                     NaN  \n",
       "43                                     NaN  \n",
       "44                                     NaN  \n",
       "45                              694.319460  \n",
       "46                              409.945920  \n",
       "47                              272.944300  \n",
       "48                              219.023220  \n",
       "49                              214.455080  \n",
       "50                              107.345490  \n",
       "51                               80.136510  \n",
       "52                               74.990000  \n",
       "53                               71.625150  \n",
       "54                               39.796032  \n",
       "55                               25.906467  \n",
       "56                                     NaN  \n",
       "57                                     NaN  \n",
       "58                                     NaN  "
      ]
     },
     "execution_count": 8,
     "metadata": {},
     "output_type": "execute_result"
    }
   ],
   "source": [
    "import plotly.express as px\n",
    "\n",
    "import pandas as pd\n",
    "\n",
    "df = pd.read_csv(\"data/historical-cost-of-computer-memory-and-storage.csv\")\n",
    "\n",
    "df"
   ]
  },
  {
   "cell_type": "code",
   "execution_count": 10,
   "id": "3bff51b1",
   "metadata": {},
   "outputs": [
    {
     "data": {
      "text/plain": [
       "<bound method DataFrame.info of    Entity      Code  Year  Historical price of memory  \\\n",
       "0   World  OWID_WRL  1957                3.786967e+15   \n",
       "1   World  OWID_WRL  1959                6.032806e+14   \n",
       "2   World  OWID_WRL  1960                4.588051e+13   \n",
       "3   World  OWID_WRL  1965                2.170492e+13   \n",
       "4   World  OWID_WRL  1970                4.892936e+12   \n",
       "5   World  OWID_WRL  1973                2.327902e+12   \n",
       "6   World  OWID_WRL  1974                1.651140e+12   \n",
       "7   World  OWID_WRL  1975                2.400716e+11   \n",
       "8   World  OWID_WRL  1976                1.047827e+11   \n",
       "9   World  OWID_WRL  1977                9.838598e+10   \n",
       "10  World  OWID_WRL  1978                6.030552e+10   \n",
       "11  World  OWID_WRL  1979                2.390727e+10   \n",
       "12  World  OWID_WRL  1980                2.035106e+10   \n",
       "13  World  OWID_WRL  1981                1.274971e+10   \n",
       "14  World  OWID_WRL  1982                5.310323e+09   \n",
       "15  World  OWID_WRL  1983                5.145041e+09   \n",
       "16  World  OWID_WRL  1984                3.315175e+09   \n",
       "17  World  OWID_WRL  1985                7.206131e+08   \n",
       "18  World  OWID_WRL  1986                4.474543e+08   \n",
       "19  World  OWID_WRL  1987                3.029429e+08   \n",
       "20  World  OWID_WRL  1988                2.910737e+08   \n",
       "21  World  OWID_WRL  1989                2.361765e+08   \n",
       "22  World  OWID_WRL  1990                9.012750e+07   \n",
       "23  World  OWID_WRL  1991                7.553873e+07   \n",
       "24  World  OWID_WRL  1992                4.841758e+07   \n",
       "25  World  OWID_WRL  1993                4.702944e+07   \n",
       "26  World  OWID_WRL  1994                4.583433e+07   \n",
       "27  World  OWID_WRL  1995                4.458358e+07   \n",
       "28  World  OWID_WRL  1996                8.662792e+06   \n",
       "29  World  OWID_WRL  1997                3.476658e+06   \n",
       "30  World  OWID_WRL  1998                1.339637e+06   \n",
       "31  World  OWID_WRL  1999                1.213724e+06   \n",
       "32  World  OWID_WRL  2000                1.045033e+06   \n",
       "33  World  OWID_WRL  2001                2.157090e+05   \n",
       "34  World  OWID_WRL  2002                1.921637e+05   \n",
       "35  World  OWID_WRL  2003                1.071663e+05   \n",
       "36  World  OWID_WRL  2004                1.043720e+05   \n",
       "37  World  OWID_WRL  2005                1.009471e+05   \n",
       "38  World  OWID_WRL  2006                9.339802e+04   \n",
       "39  World  OWID_WRL  2007                3.044391e+04   \n",
       "40  World  OWID_WRL  2008                1.173614e+04   \n",
       "41  World  OWID_WRL  2009                1.177802e+04   \n",
       "42  World  OWID_WRL  2010                1.158797e+04   \n",
       "43  World  OWID_WRL  2011                5.897578e+03   \n",
       "44  World  OWID_WRL  2012                4.126761e+03   \n",
       "45  World  OWID_WRL  2013                4.067184e+03   \n",
       "46  World  OWID_WRL  2014                4.002258e+03   \n",
       "47  World  OWID_WRL  2015                3.997516e+03   \n",
       "48  World  OWID_WRL  2016                2.961111e+03   \n",
       "49  World  OWID_WRL  2017                2.899351e+03   \n",
       "50  World  OWID_WRL  2018                2.830221e+03   \n",
       "51  World  OWID_WRL  2019                2.779844e+03   \n",
       "52  World  OWID_WRL  2020                2.745970e+03   \n",
       "53  World  OWID_WRL  2021                2.477310e+03   \n",
       "54  World  OWID_WRL  2022                1.861932e+03   \n",
       "55  World  OWID_WRL  2023                1.088437e+03   \n",
       "56  World  OWID_WRL  1956                         NaN   \n",
       "57  World  OWID_WRL  1964                         NaN   \n",
       "58  World  OWID_WRL  1966                         NaN   \n",
       "\n",
       "    Historical price of flash memory  Historical price of disk drives  \\\n",
       "0                                NaN                              NaN   \n",
       "1                                NaN                     6.747736e+10   \n",
       "2                                NaN                     3.150364e+10   \n",
       "3                                NaN                              NaN   \n",
       "4                                NaN                     1.731185e+09   \n",
       "5                                NaN                     1.513812e+09   \n",
       "6                                NaN                     9.710340e+08   \n",
       "7                                NaN                     8.896885e+08   \n",
       "8                                NaN                              NaN   \n",
       "9                                NaN                              NaN   \n",
       "10                               NaN                              NaN   \n",
       "11                               NaN                     6.597322e+08   \n",
       "12                               NaN                     5.810100e+08   \n",
       "13                               NaN                     5.265886e+08   \n",
       "14                               NaN                     4.961665e+08   \n",
       "15                               NaN                     3.115609e+08   \n",
       "16                               NaN                     9.342615e+07   \n",
       "17                               NaN                     7.553290e+07   \n",
       "18                               NaN                     4.356481e+07   \n",
       "19                               NaN                     3.409057e+07   \n",
       "20                               NaN                     2.181229e+07   \n",
       "21                               NaN                     1.562332e+07   \n",
       "22                               NaN                     6.475771e+06   \n",
       "23                               NaN                     5.305764e+06   \n",
       "24                               NaN                     2.581349e+06   \n",
       "25                               NaN                     1.285969e+06   \n",
       "26                               NaN                     7.564362e+05   \n",
       "27                               NaN                     3.632010e+05   \n",
       "28                               NaN                     2.105471e+05   \n",
       "29                               NaN                     7.801758e+04   \n",
       "30                               NaN                     3.944486e+04   \n",
       "31                               NaN                     1.373056e+04   \n",
       "32                               NaN                     6.119577e+03   \n",
       "33                               NaN                     3.785698e+03   \n",
       "34                               NaN                     1.750592e+03   \n",
       "35                      269289.70000                     1.055063e+03   \n",
       "36                      262268.12000                     8.349828e+02   \n",
       "37                      100921.24000                     5.383847e+02   \n",
       "38                       18793.69000                     2.808012e+02   \n",
       "39                        9139.27050                     2.496212e+02   \n",
       "40                        2200.71120                     1.201961e+02   \n",
       "41                        1950.48450                     8.443390e+01   \n",
       "42                        1412.27470                     5.341073e+01   \n",
       "43                        1158.37260                     4.218038e+01   \n",
       "44                         653.27890                     4.132522e+01   \n",
       "45                         508.39658                     4.072861e+01   \n",
       "46                         366.16135                     3.826366e+01   \n",
       "47                         158.12556                     3.093500e+01   \n",
       "48                         156.15555                     2.987024e+01   \n",
       "49                         152.89864                     2.639642e+01   \n",
       "50                               NaN                     2.408703e+01   \n",
       "51                               NaN                     1.898130e+01   \n",
       "52                               NaN                     1.625000e+01   \n",
       "53                               NaN                     1.552085e+01   \n",
       "54                               NaN                     1.263745e+01   \n",
       "55                               NaN                     1.061740e+01   \n",
       "56                               NaN                     8.759275e+10   \n",
       "57                               NaN                     2.936028e+10   \n",
       "58                               NaN                     8.350479e+09   \n",
       "\n",
       "    Historical price of solid-state drives  \n",
       "0                                      NaN  \n",
       "1                                      NaN  \n",
       "2                                      NaN  \n",
       "3                                      NaN  \n",
       "4                                      NaN  \n",
       "5                                      NaN  \n",
       "6                                      NaN  \n",
       "7                                      NaN  \n",
       "8                                      NaN  \n",
       "9                                      NaN  \n",
       "10                                     NaN  \n",
       "11                                     NaN  \n",
       "12                                     NaN  \n",
       "13                                     NaN  \n",
       "14                                     NaN  \n",
       "15                                     NaN  \n",
       "16                                     NaN  \n",
       "17                                     NaN  \n",
       "18                                     NaN  \n",
       "19                                     NaN  \n",
       "20                                     NaN  \n",
       "21                                     NaN  \n",
       "22                                     NaN  \n",
       "23                                     NaN  \n",
       "24                                     NaN  \n",
       "25                                     NaN  \n",
       "26                                     NaN  \n",
       "27                                     NaN  \n",
       "28                                     NaN  \n",
       "29                                     NaN  \n",
       "30                                     NaN  \n",
       "31                                     NaN  \n",
       "32                                     NaN  \n",
       "33                                     NaN  \n",
       "34                                     NaN  \n",
       "35                                     NaN  \n",
       "36                                     NaN  \n",
       "37                                     NaN  \n",
       "38                                     NaN  \n",
       "39                                     NaN  \n",
       "40                                     NaN  \n",
       "41                                     NaN  \n",
       "42                                     NaN  \n",
       "43                                     NaN  \n",
       "44                                     NaN  \n",
       "45                              694.319460  \n",
       "46                              409.945920  \n",
       "47                              272.944300  \n",
       "48                              219.023220  \n",
       "49                              214.455080  \n",
       "50                              107.345490  \n",
       "51                               80.136510  \n",
       "52                               74.990000  \n",
       "53                               71.625150  \n",
       "54                               39.796032  \n",
       "55                               25.906467  \n",
       "56                                     NaN  \n",
       "57                                     NaN  \n",
       "58                                     NaN  >"
      ]
     },
     "execution_count": 10,
     "metadata": {},
     "output_type": "execute_result"
    }
   ],
   "source": [
    "df.info"
   ]
  },
  {
   "cell_type": "code",
   "execution_count": 13,
   "id": "b3947257",
   "metadata": {},
   "outputs": [
    {
     "data": {
      "text/plain": [
       "Entity                                     object\n",
       "Code                                       object\n",
       "Year                                        int64\n",
       "Historical price of memory                float64\n",
       "Historical price of flash memory          float64\n",
       "Historical price of disk drives           float64\n",
       "Historical price of solid-state drives    float64\n",
       "dtype: object"
      ]
     },
     "execution_count": 13,
     "metadata": {},
     "output_type": "execute_result"
    }
   ],
   "source": [
    "df.dtypes"
   ]
  },
  {
   "cell_type": "code",
   "execution_count": 14,
   "id": "782fd187",
   "metadata": {},
   "outputs": [
    {
     "data": {
      "text/html": [
       "<div>\n",
       "<style scoped>\n",
       "    .dataframe tbody tr th:only-of-type {\n",
       "        vertical-align: middle;\n",
       "    }\n",
       "\n",
       "    .dataframe tbody tr th {\n",
       "        vertical-align: top;\n",
       "    }\n",
       "\n",
       "    .dataframe thead th {\n",
       "        text-align: right;\n",
       "    }\n",
       "</style>\n",
       "<table border=\"1\" class=\"dataframe\">\n",
       "  <thead>\n",
       "    <tr style=\"text-align: right;\">\n",
       "      <th></th>\n",
       "      <th>Entity</th>\n",
       "      <th>Code</th>\n",
       "      <th>Year</th>\n",
       "      <th>Historical price of memory</th>\n",
       "      <th>Historical price of flash memory</th>\n",
       "      <th>Historical price of disk drives</th>\n",
       "      <th>Historical price of solid-state drives</th>\n",
       "    </tr>\n",
       "  </thead>\n",
       "  <tbody>\n",
       "    <tr>\n",
       "      <th>0</th>\n",
       "      <td>World</td>\n",
       "      <td>OWID_WRL</td>\n",
       "      <td>1957</td>\n",
       "      <td>3.786967e+15</td>\n",
       "      <td>NaN</td>\n",
       "      <td>NaN</td>\n",
       "      <td>NaN</td>\n",
       "    </tr>\n",
       "    <tr>\n",
       "      <th>1</th>\n",
       "      <td>World</td>\n",
       "      <td>OWID_WRL</td>\n",
       "      <td>1959</td>\n",
       "      <td>6.032806e+14</td>\n",
       "      <td>NaN</td>\n",
       "      <td>6.747736e+10</td>\n",
       "      <td>NaN</td>\n",
       "    </tr>\n",
       "    <tr>\n",
       "      <th>2</th>\n",
       "      <td>World</td>\n",
       "      <td>OWID_WRL</td>\n",
       "      <td>1960</td>\n",
       "      <td>4.588051e+13</td>\n",
       "      <td>NaN</td>\n",
       "      <td>3.150364e+10</td>\n",
       "      <td>NaN</td>\n",
       "    </tr>\n",
       "    <tr>\n",
       "      <th>3</th>\n",
       "      <td>World</td>\n",
       "      <td>OWID_WRL</td>\n",
       "      <td>1965</td>\n",
       "      <td>2.170492e+13</td>\n",
       "      <td>NaN</td>\n",
       "      <td>NaN</td>\n",
       "      <td>NaN</td>\n",
       "    </tr>\n",
       "    <tr>\n",
       "      <th>4</th>\n",
       "      <td>World</td>\n",
       "      <td>OWID_WRL</td>\n",
       "      <td>1970</td>\n",
       "      <td>4.892936e+12</td>\n",
       "      <td>NaN</td>\n",
       "      <td>1.731185e+09</td>\n",
       "      <td>NaN</td>\n",
       "    </tr>\n",
       "    <tr>\n",
       "      <th>5</th>\n",
       "      <td>World</td>\n",
       "      <td>OWID_WRL</td>\n",
       "      <td>1973</td>\n",
       "      <td>2.327902e+12</td>\n",
       "      <td>NaN</td>\n",
       "      <td>1.513812e+09</td>\n",
       "      <td>NaN</td>\n",
       "    </tr>\n",
       "    <tr>\n",
       "      <th>6</th>\n",
       "      <td>World</td>\n",
       "      <td>OWID_WRL</td>\n",
       "      <td>1974</td>\n",
       "      <td>1.651140e+12</td>\n",
       "      <td>NaN</td>\n",
       "      <td>9.710340e+08</td>\n",
       "      <td>NaN</td>\n",
       "    </tr>\n",
       "    <tr>\n",
       "      <th>7</th>\n",
       "      <td>World</td>\n",
       "      <td>OWID_WRL</td>\n",
       "      <td>1975</td>\n",
       "      <td>2.400716e+11</td>\n",
       "      <td>NaN</td>\n",
       "      <td>8.896885e+08</td>\n",
       "      <td>NaN</td>\n",
       "    </tr>\n",
       "    <tr>\n",
       "      <th>8</th>\n",
       "      <td>World</td>\n",
       "      <td>OWID_WRL</td>\n",
       "      <td>1976</td>\n",
       "      <td>1.047827e+11</td>\n",
       "      <td>NaN</td>\n",
       "      <td>NaN</td>\n",
       "      <td>NaN</td>\n",
       "    </tr>\n",
       "    <tr>\n",
       "      <th>9</th>\n",
       "      <td>World</td>\n",
       "      <td>OWID_WRL</td>\n",
       "      <td>1977</td>\n",
       "      <td>9.838598e+10</td>\n",
       "      <td>NaN</td>\n",
       "      <td>NaN</td>\n",
       "      <td>NaN</td>\n",
       "    </tr>\n",
       "    <tr>\n",
       "      <th>10</th>\n",
       "      <td>World</td>\n",
       "      <td>OWID_WRL</td>\n",
       "      <td>1978</td>\n",
       "      <td>6.030552e+10</td>\n",
       "      <td>NaN</td>\n",
       "      <td>NaN</td>\n",
       "      <td>NaN</td>\n",
       "    </tr>\n",
       "    <tr>\n",
       "      <th>11</th>\n",
       "      <td>World</td>\n",
       "      <td>OWID_WRL</td>\n",
       "      <td>1979</td>\n",
       "      <td>2.390727e+10</td>\n",
       "      <td>NaN</td>\n",
       "      <td>6.597322e+08</td>\n",
       "      <td>NaN</td>\n",
       "    </tr>\n",
       "    <tr>\n",
       "      <th>12</th>\n",
       "      <td>World</td>\n",
       "      <td>OWID_WRL</td>\n",
       "      <td>1980</td>\n",
       "      <td>2.035106e+10</td>\n",
       "      <td>NaN</td>\n",
       "      <td>5.810100e+08</td>\n",
       "      <td>NaN</td>\n",
       "    </tr>\n",
       "    <tr>\n",
       "      <th>13</th>\n",
       "      <td>World</td>\n",
       "      <td>OWID_WRL</td>\n",
       "      <td>1981</td>\n",
       "      <td>1.274971e+10</td>\n",
       "      <td>NaN</td>\n",
       "      <td>5.265886e+08</td>\n",
       "      <td>NaN</td>\n",
       "    </tr>\n",
       "    <tr>\n",
       "      <th>14</th>\n",
       "      <td>World</td>\n",
       "      <td>OWID_WRL</td>\n",
       "      <td>1982</td>\n",
       "      <td>5.310323e+09</td>\n",
       "      <td>NaN</td>\n",
       "      <td>4.961665e+08</td>\n",
       "      <td>NaN</td>\n",
       "    </tr>\n",
       "    <tr>\n",
       "      <th>15</th>\n",
       "      <td>World</td>\n",
       "      <td>OWID_WRL</td>\n",
       "      <td>1983</td>\n",
       "      <td>5.145041e+09</td>\n",
       "      <td>NaN</td>\n",
       "      <td>3.115609e+08</td>\n",
       "      <td>NaN</td>\n",
       "    </tr>\n",
       "    <tr>\n",
       "      <th>16</th>\n",
       "      <td>World</td>\n",
       "      <td>OWID_WRL</td>\n",
       "      <td>1984</td>\n",
       "      <td>3.315175e+09</td>\n",
       "      <td>NaN</td>\n",
       "      <td>9.342615e+07</td>\n",
       "      <td>NaN</td>\n",
       "    </tr>\n",
       "    <tr>\n",
       "      <th>17</th>\n",
       "      <td>World</td>\n",
       "      <td>OWID_WRL</td>\n",
       "      <td>1985</td>\n",
       "      <td>7.206131e+08</td>\n",
       "      <td>NaN</td>\n",
       "      <td>7.553290e+07</td>\n",
       "      <td>NaN</td>\n",
       "    </tr>\n",
       "    <tr>\n",
       "      <th>18</th>\n",
       "      <td>World</td>\n",
       "      <td>OWID_WRL</td>\n",
       "      <td>1986</td>\n",
       "      <td>4.474543e+08</td>\n",
       "      <td>NaN</td>\n",
       "      <td>4.356481e+07</td>\n",
       "      <td>NaN</td>\n",
       "    </tr>\n",
       "    <tr>\n",
       "      <th>19</th>\n",
       "      <td>World</td>\n",
       "      <td>OWID_WRL</td>\n",
       "      <td>1987</td>\n",
       "      <td>3.029429e+08</td>\n",
       "      <td>NaN</td>\n",
       "      <td>3.409057e+07</td>\n",
       "      <td>NaN</td>\n",
       "    </tr>\n",
       "    <tr>\n",
       "      <th>20</th>\n",
       "      <td>World</td>\n",
       "      <td>OWID_WRL</td>\n",
       "      <td>1988</td>\n",
       "      <td>2.910737e+08</td>\n",
       "      <td>NaN</td>\n",
       "      <td>2.181229e+07</td>\n",
       "      <td>NaN</td>\n",
       "    </tr>\n",
       "    <tr>\n",
       "      <th>21</th>\n",
       "      <td>World</td>\n",
       "      <td>OWID_WRL</td>\n",
       "      <td>1989</td>\n",
       "      <td>2.361765e+08</td>\n",
       "      <td>NaN</td>\n",
       "      <td>1.562332e+07</td>\n",
       "      <td>NaN</td>\n",
       "    </tr>\n",
       "    <tr>\n",
       "      <th>22</th>\n",
       "      <td>World</td>\n",
       "      <td>OWID_WRL</td>\n",
       "      <td>1990</td>\n",
       "      <td>9.012750e+07</td>\n",
       "      <td>NaN</td>\n",
       "      <td>6.475771e+06</td>\n",
       "      <td>NaN</td>\n",
       "    </tr>\n",
       "    <tr>\n",
       "      <th>23</th>\n",
       "      <td>World</td>\n",
       "      <td>OWID_WRL</td>\n",
       "      <td>1991</td>\n",
       "      <td>7.553873e+07</td>\n",
       "      <td>NaN</td>\n",
       "      <td>5.305764e+06</td>\n",
       "      <td>NaN</td>\n",
       "    </tr>\n",
       "    <tr>\n",
       "      <th>24</th>\n",
       "      <td>World</td>\n",
       "      <td>OWID_WRL</td>\n",
       "      <td>1992</td>\n",
       "      <td>4.841758e+07</td>\n",
       "      <td>NaN</td>\n",
       "      <td>2.581349e+06</td>\n",
       "      <td>NaN</td>\n",
       "    </tr>\n",
       "    <tr>\n",
       "      <th>25</th>\n",
       "      <td>World</td>\n",
       "      <td>OWID_WRL</td>\n",
       "      <td>1993</td>\n",
       "      <td>4.702944e+07</td>\n",
       "      <td>NaN</td>\n",
       "      <td>1.285969e+06</td>\n",
       "      <td>NaN</td>\n",
       "    </tr>\n",
       "    <tr>\n",
       "      <th>26</th>\n",
       "      <td>World</td>\n",
       "      <td>OWID_WRL</td>\n",
       "      <td>1994</td>\n",
       "      <td>4.583433e+07</td>\n",
       "      <td>NaN</td>\n",
       "      <td>7.564362e+05</td>\n",
       "      <td>NaN</td>\n",
       "    </tr>\n",
       "    <tr>\n",
       "      <th>27</th>\n",
       "      <td>World</td>\n",
       "      <td>OWID_WRL</td>\n",
       "      <td>1995</td>\n",
       "      <td>4.458358e+07</td>\n",
       "      <td>NaN</td>\n",
       "      <td>3.632010e+05</td>\n",
       "      <td>NaN</td>\n",
       "    </tr>\n",
       "    <tr>\n",
       "      <th>28</th>\n",
       "      <td>World</td>\n",
       "      <td>OWID_WRL</td>\n",
       "      <td>1996</td>\n",
       "      <td>8.662792e+06</td>\n",
       "      <td>NaN</td>\n",
       "      <td>2.105471e+05</td>\n",
       "      <td>NaN</td>\n",
       "    </tr>\n",
       "    <tr>\n",
       "      <th>29</th>\n",
       "      <td>World</td>\n",
       "      <td>OWID_WRL</td>\n",
       "      <td>1997</td>\n",
       "      <td>3.476658e+06</td>\n",
       "      <td>NaN</td>\n",
       "      <td>7.801758e+04</td>\n",
       "      <td>NaN</td>\n",
       "    </tr>\n",
       "    <tr>\n",
       "      <th>30</th>\n",
       "      <td>World</td>\n",
       "      <td>OWID_WRL</td>\n",
       "      <td>1998</td>\n",
       "      <td>1.339637e+06</td>\n",
       "      <td>NaN</td>\n",
       "      <td>3.944486e+04</td>\n",
       "      <td>NaN</td>\n",
       "    </tr>\n",
       "    <tr>\n",
       "      <th>31</th>\n",
       "      <td>World</td>\n",
       "      <td>OWID_WRL</td>\n",
       "      <td>1999</td>\n",
       "      <td>1.213724e+06</td>\n",
       "      <td>NaN</td>\n",
       "      <td>1.373056e+04</td>\n",
       "      <td>NaN</td>\n",
       "    </tr>\n",
       "    <tr>\n",
       "      <th>32</th>\n",
       "      <td>World</td>\n",
       "      <td>OWID_WRL</td>\n",
       "      <td>2000</td>\n",
       "      <td>1.045033e+06</td>\n",
       "      <td>NaN</td>\n",
       "      <td>6.119577e+03</td>\n",
       "      <td>NaN</td>\n",
       "    </tr>\n",
       "    <tr>\n",
       "      <th>33</th>\n",
       "      <td>World</td>\n",
       "      <td>OWID_WRL</td>\n",
       "      <td>2001</td>\n",
       "      <td>2.157090e+05</td>\n",
       "      <td>NaN</td>\n",
       "      <td>3.785698e+03</td>\n",
       "      <td>NaN</td>\n",
       "    </tr>\n",
       "    <tr>\n",
       "      <th>34</th>\n",
       "      <td>World</td>\n",
       "      <td>OWID_WRL</td>\n",
       "      <td>2002</td>\n",
       "      <td>1.921637e+05</td>\n",
       "      <td>NaN</td>\n",
       "      <td>1.750592e+03</td>\n",
       "      <td>NaN</td>\n",
       "    </tr>\n",
       "    <tr>\n",
       "      <th>35</th>\n",
       "      <td>World</td>\n",
       "      <td>OWID_WRL</td>\n",
       "      <td>2003</td>\n",
       "      <td>1.071663e+05</td>\n",
       "      <td>269289.70000</td>\n",
       "      <td>1.055063e+03</td>\n",
       "      <td>NaN</td>\n",
       "    </tr>\n",
       "    <tr>\n",
       "      <th>36</th>\n",
       "      <td>World</td>\n",
       "      <td>OWID_WRL</td>\n",
       "      <td>2004</td>\n",
       "      <td>1.043720e+05</td>\n",
       "      <td>262268.12000</td>\n",
       "      <td>8.349828e+02</td>\n",
       "      <td>NaN</td>\n",
       "    </tr>\n",
       "    <tr>\n",
       "      <th>37</th>\n",
       "      <td>World</td>\n",
       "      <td>OWID_WRL</td>\n",
       "      <td>2005</td>\n",
       "      <td>1.009471e+05</td>\n",
       "      <td>100921.24000</td>\n",
       "      <td>5.383847e+02</td>\n",
       "      <td>NaN</td>\n",
       "    </tr>\n",
       "    <tr>\n",
       "      <th>38</th>\n",
       "      <td>World</td>\n",
       "      <td>OWID_WRL</td>\n",
       "      <td>2006</td>\n",
       "      <td>9.339802e+04</td>\n",
       "      <td>18793.69000</td>\n",
       "      <td>2.808012e+02</td>\n",
       "      <td>NaN</td>\n",
       "    </tr>\n",
       "    <tr>\n",
       "      <th>39</th>\n",
       "      <td>World</td>\n",
       "      <td>OWID_WRL</td>\n",
       "      <td>2007</td>\n",
       "      <td>3.044391e+04</td>\n",
       "      <td>9139.27050</td>\n",
       "      <td>2.496212e+02</td>\n",
       "      <td>NaN</td>\n",
       "    </tr>\n",
       "    <tr>\n",
       "      <th>40</th>\n",
       "      <td>World</td>\n",
       "      <td>OWID_WRL</td>\n",
       "      <td>2008</td>\n",
       "      <td>1.173614e+04</td>\n",
       "      <td>2200.71120</td>\n",
       "      <td>1.201961e+02</td>\n",
       "      <td>NaN</td>\n",
       "    </tr>\n",
       "    <tr>\n",
       "      <th>41</th>\n",
       "      <td>World</td>\n",
       "      <td>OWID_WRL</td>\n",
       "      <td>2009</td>\n",
       "      <td>1.177802e+04</td>\n",
       "      <td>1950.48450</td>\n",
       "      <td>8.443390e+01</td>\n",
       "      <td>NaN</td>\n",
       "    </tr>\n",
       "    <tr>\n",
       "      <th>42</th>\n",
       "      <td>World</td>\n",
       "      <td>OWID_WRL</td>\n",
       "      <td>2010</td>\n",
       "      <td>1.158797e+04</td>\n",
       "      <td>1412.27470</td>\n",
       "      <td>5.341073e+01</td>\n",
       "      <td>NaN</td>\n",
       "    </tr>\n",
       "    <tr>\n",
       "      <th>43</th>\n",
       "      <td>World</td>\n",
       "      <td>OWID_WRL</td>\n",
       "      <td>2011</td>\n",
       "      <td>5.897578e+03</td>\n",
       "      <td>1158.37260</td>\n",
       "      <td>4.218038e+01</td>\n",
       "      <td>NaN</td>\n",
       "    </tr>\n",
       "    <tr>\n",
       "      <th>44</th>\n",
       "      <td>World</td>\n",
       "      <td>OWID_WRL</td>\n",
       "      <td>2012</td>\n",
       "      <td>4.126761e+03</td>\n",
       "      <td>653.27890</td>\n",
       "      <td>4.132522e+01</td>\n",
       "      <td>NaN</td>\n",
       "    </tr>\n",
       "    <tr>\n",
       "      <th>45</th>\n",
       "      <td>World</td>\n",
       "      <td>OWID_WRL</td>\n",
       "      <td>2013</td>\n",
       "      <td>4.067184e+03</td>\n",
       "      <td>508.39658</td>\n",
       "      <td>4.072861e+01</td>\n",
       "      <td>694.319460</td>\n",
       "    </tr>\n",
       "    <tr>\n",
       "      <th>46</th>\n",
       "      <td>World</td>\n",
       "      <td>OWID_WRL</td>\n",
       "      <td>2014</td>\n",
       "      <td>4.002258e+03</td>\n",
       "      <td>366.16135</td>\n",
       "      <td>3.826366e+01</td>\n",
       "      <td>409.945920</td>\n",
       "    </tr>\n",
       "    <tr>\n",
       "      <th>47</th>\n",
       "      <td>World</td>\n",
       "      <td>OWID_WRL</td>\n",
       "      <td>2015</td>\n",
       "      <td>3.997516e+03</td>\n",
       "      <td>158.12556</td>\n",
       "      <td>3.093500e+01</td>\n",
       "      <td>272.944300</td>\n",
       "    </tr>\n",
       "    <tr>\n",
       "      <th>48</th>\n",
       "      <td>World</td>\n",
       "      <td>OWID_WRL</td>\n",
       "      <td>2016</td>\n",
       "      <td>2.961111e+03</td>\n",
       "      <td>156.15555</td>\n",
       "      <td>2.987024e+01</td>\n",
       "      <td>219.023220</td>\n",
       "    </tr>\n",
       "    <tr>\n",
       "      <th>49</th>\n",
       "      <td>World</td>\n",
       "      <td>OWID_WRL</td>\n",
       "      <td>2017</td>\n",
       "      <td>2.899351e+03</td>\n",
       "      <td>152.89864</td>\n",
       "      <td>2.639642e+01</td>\n",
       "      <td>214.455080</td>\n",
       "    </tr>\n",
       "    <tr>\n",
       "      <th>50</th>\n",
       "      <td>World</td>\n",
       "      <td>OWID_WRL</td>\n",
       "      <td>2018</td>\n",
       "      <td>2.830221e+03</td>\n",
       "      <td>NaN</td>\n",
       "      <td>2.408703e+01</td>\n",
       "      <td>107.345490</td>\n",
       "    </tr>\n",
       "    <tr>\n",
       "      <th>51</th>\n",
       "      <td>World</td>\n",
       "      <td>OWID_WRL</td>\n",
       "      <td>2019</td>\n",
       "      <td>2.779844e+03</td>\n",
       "      <td>NaN</td>\n",
       "      <td>1.898130e+01</td>\n",
       "      <td>80.136510</td>\n",
       "    </tr>\n",
       "    <tr>\n",
       "      <th>52</th>\n",
       "      <td>World</td>\n",
       "      <td>OWID_WRL</td>\n",
       "      <td>2020</td>\n",
       "      <td>2.745970e+03</td>\n",
       "      <td>NaN</td>\n",
       "      <td>1.625000e+01</td>\n",
       "      <td>74.990000</td>\n",
       "    </tr>\n",
       "    <tr>\n",
       "      <th>53</th>\n",
       "      <td>World</td>\n",
       "      <td>OWID_WRL</td>\n",
       "      <td>2021</td>\n",
       "      <td>2.477310e+03</td>\n",
       "      <td>NaN</td>\n",
       "      <td>1.552085e+01</td>\n",
       "      <td>71.625150</td>\n",
       "    </tr>\n",
       "    <tr>\n",
       "      <th>54</th>\n",
       "      <td>World</td>\n",
       "      <td>OWID_WRL</td>\n",
       "      <td>2022</td>\n",
       "      <td>1.861932e+03</td>\n",
       "      <td>NaN</td>\n",
       "      <td>1.263745e+01</td>\n",
       "      <td>39.796032</td>\n",
       "    </tr>\n",
       "    <tr>\n",
       "      <th>55</th>\n",
       "      <td>World</td>\n",
       "      <td>OWID_WRL</td>\n",
       "      <td>2023</td>\n",
       "      <td>1.088437e+03</td>\n",
       "      <td>NaN</td>\n",
       "      <td>1.061740e+01</td>\n",
       "      <td>25.906467</td>\n",
       "    </tr>\n",
       "    <tr>\n",
       "      <th>56</th>\n",
       "      <td>World</td>\n",
       "      <td>OWID_WRL</td>\n",
       "      <td>1956</td>\n",
       "      <td>NaN</td>\n",
       "      <td>NaN</td>\n",
       "      <td>8.759275e+10</td>\n",
       "      <td>NaN</td>\n",
       "    </tr>\n",
       "    <tr>\n",
       "      <th>57</th>\n",
       "      <td>World</td>\n",
       "      <td>OWID_WRL</td>\n",
       "      <td>1964</td>\n",
       "      <td>NaN</td>\n",
       "      <td>NaN</td>\n",
       "      <td>2.936028e+10</td>\n",
       "      <td>NaN</td>\n",
       "    </tr>\n",
       "    <tr>\n",
       "      <th>58</th>\n",
       "      <td>World</td>\n",
       "      <td>OWID_WRL</td>\n",
       "      <td>1966</td>\n",
       "      <td>NaN</td>\n",
       "      <td>NaN</td>\n",
       "      <td>8.350479e+09</td>\n",
       "      <td>NaN</td>\n",
       "    </tr>\n",
       "  </tbody>\n",
       "</table>\n",
       "</div>"
      ],
      "text/plain": [
       "   Entity      Code  Year  Historical price of memory  \\\n",
       "0   World  OWID_WRL  1957                3.786967e+15   \n",
       "1   World  OWID_WRL  1959                6.032806e+14   \n",
       "2   World  OWID_WRL  1960                4.588051e+13   \n",
       "3   World  OWID_WRL  1965                2.170492e+13   \n",
       "4   World  OWID_WRL  1970                4.892936e+12   \n",
       "5   World  OWID_WRL  1973                2.327902e+12   \n",
       "6   World  OWID_WRL  1974                1.651140e+12   \n",
       "7   World  OWID_WRL  1975                2.400716e+11   \n",
       "8   World  OWID_WRL  1976                1.047827e+11   \n",
       "9   World  OWID_WRL  1977                9.838598e+10   \n",
       "10  World  OWID_WRL  1978                6.030552e+10   \n",
       "11  World  OWID_WRL  1979                2.390727e+10   \n",
       "12  World  OWID_WRL  1980                2.035106e+10   \n",
       "13  World  OWID_WRL  1981                1.274971e+10   \n",
       "14  World  OWID_WRL  1982                5.310323e+09   \n",
       "15  World  OWID_WRL  1983                5.145041e+09   \n",
       "16  World  OWID_WRL  1984                3.315175e+09   \n",
       "17  World  OWID_WRL  1985                7.206131e+08   \n",
       "18  World  OWID_WRL  1986                4.474543e+08   \n",
       "19  World  OWID_WRL  1987                3.029429e+08   \n",
       "20  World  OWID_WRL  1988                2.910737e+08   \n",
       "21  World  OWID_WRL  1989                2.361765e+08   \n",
       "22  World  OWID_WRL  1990                9.012750e+07   \n",
       "23  World  OWID_WRL  1991                7.553873e+07   \n",
       "24  World  OWID_WRL  1992                4.841758e+07   \n",
       "25  World  OWID_WRL  1993                4.702944e+07   \n",
       "26  World  OWID_WRL  1994                4.583433e+07   \n",
       "27  World  OWID_WRL  1995                4.458358e+07   \n",
       "28  World  OWID_WRL  1996                8.662792e+06   \n",
       "29  World  OWID_WRL  1997                3.476658e+06   \n",
       "30  World  OWID_WRL  1998                1.339637e+06   \n",
       "31  World  OWID_WRL  1999                1.213724e+06   \n",
       "32  World  OWID_WRL  2000                1.045033e+06   \n",
       "33  World  OWID_WRL  2001                2.157090e+05   \n",
       "34  World  OWID_WRL  2002                1.921637e+05   \n",
       "35  World  OWID_WRL  2003                1.071663e+05   \n",
       "36  World  OWID_WRL  2004                1.043720e+05   \n",
       "37  World  OWID_WRL  2005                1.009471e+05   \n",
       "38  World  OWID_WRL  2006                9.339802e+04   \n",
       "39  World  OWID_WRL  2007                3.044391e+04   \n",
       "40  World  OWID_WRL  2008                1.173614e+04   \n",
       "41  World  OWID_WRL  2009                1.177802e+04   \n",
       "42  World  OWID_WRL  2010                1.158797e+04   \n",
       "43  World  OWID_WRL  2011                5.897578e+03   \n",
       "44  World  OWID_WRL  2012                4.126761e+03   \n",
       "45  World  OWID_WRL  2013                4.067184e+03   \n",
       "46  World  OWID_WRL  2014                4.002258e+03   \n",
       "47  World  OWID_WRL  2015                3.997516e+03   \n",
       "48  World  OWID_WRL  2016                2.961111e+03   \n",
       "49  World  OWID_WRL  2017                2.899351e+03   \n",
       "50  World  OWID_WRL  2018                2.830221e+03   \n",
       "51  World  OWID_WRL  2019                2.779844e+03   \n",
       "52  World  OWID_WRL  2020                2.745970e+03   \n",
       "53  World  OWID_WRL  2021                2.477310e+03   \n",
       "54  World  OWID_WRL  2022                1.861932e+03   \n",
       "55  World  OWID_WRL  2023                1.088437e+03   \n",
       "56  World  OWID_WRL  1956                         NaN   \n",
       "57  World  OWID_WRL  1964                         NaN   \n",
       "58  World  OWID_WRL  1966                         NaN   \n",
       "\n",
       "    Historical price of flash memory  Historical price of disk drives  \\\n",
       "0                                NaN                              NaN   \n",
       "1                                NaN                     6.747736e+10   \n",
       "2                                NaN                     3.150364e+10   \n",
       "3                                NaN                              NaN   \n",
       "4                                NaN                     1.731185e+09   \n",
       "5                                NaN                     1.513812e+09   \n",
       "6                                NaN                     9.710340e+08   \n",
       "7                                NaN                     8.896885e+08   \n",
       "8                                NaN                              NaN   \n",
       "9                                NaN                              NaN   \n",
       "10                               NaN                              NaN   \n",
       "11                               NaN                     6.597322e+08   \n",
       "12                               NaN                     5.810100e+08   \n",
       "13                               NaN                     5.265886e+08   \n",
       "14                               NaN                     4.961665e+08   \n",
       "15                               NaN                     3.115609e+08   \n",
       "16                               NaN                     9.342615e+07   \n",
       "17                               NaN                     7.553290e+07   \n",
       "18                               NaN                     4.356481e+07   \n",
       "19                               NaN                     3.409057e+07   \n",
       "20                               NaN                     2.181229e+07   \n",
       "21                               NaN                     1.562332e+07   \n",
       "22                               NaN                     6.475771e+06   \n",
       "23                               NaN                     5.305764e+06   \n",
       "24                               NaN                     2.581349e+06   \n",
       "25                               NaN                     1.285969e+06   \n",
       "26                               NaN                     7.564362e+05   \n",
       "27                               NaN                     3.632010e+05   \n",
       "28                               NaN                     2.105471e+05   \n",
       "29                               NaN                     7.801758e+04   \n",
       "30                               NaN                     3.944486e+04   \n",
       "31                               NaN                     1.373056e+04   \n",
       "32                               NaN                     6.119577e+03   \n",
       "33                               NaN                     3.785698e+03   \n",
       "34                               NaN                     1.750592e+03   \n",
       "35                      269289.70000                     1.055063e+03   \n",
       "36                      262268.12000                     8.349828e+02   \n",
       "37                      100921.24000                     5.383847e+02   \n",
       "38                       18793.69000                     2.808012e+02   \n",
       "39                        9139.27050                     2.496212e+02   \n",
       "40                        2200.71120                     1.201961e+02   \n",
       "41                        1950.48450                     8.443390e+01   \n",
       "42                        1412.27470                     5.341073e+01   \n",
       "43                        1158.37260                     4.218038e+01   \n",
       "44                         653.27890                     4.132522e+01   \n",
       "45                         508.39658                     4.072861e+01   \n",
       "46                         366.16135                     3.826366e+01   \n",
       "47                         158.12556                     3.093500e+01   \n",
       "48                         156.15555                     2.987024e+01   \n",
       "49                         152.89864                     2.639642e+01   \n",
       "50                               NaN                     2.408703e+01   \n",
       "51                               NaN                     1.898130e+01   \n",
       "52                               NaN                     1.625000e+01   \n",
       "53                               NaN                     1.552085e+01   \n",
       "54                               NaN                     1.263745e+01   \n",
       "55                               NaN                     1.061740e+01   \n",
       "56                               NaN                     8.759275e+10   \n",
       "57                               NaN                     2.936028e+10   \n",
       "58                               NaN                     8.350479e+09   \n",
       "\n",
       "    Historical price of solid-state drives  \n",
       "0                                      NaN  \n",
       "1                                      NaN  \n",
       "2                                      NaN  \n",
       "3                                      NaN  \n",
       "4                                      NaN  \n",
       "5                                      NaN  \n",
       "6                                      NaN  \n",
       "7                                      NaN  \n",
       "8                                      NaN  \n",
       "9                                      NaN  \n",
       "10                                     NaN  \n",
       "11                                     NaN  \n",
       "12                                     NaN  \n",
       "13                                     NaN  \n",
       "14                                     NaN  \n",
       "15                                     NaN  \n",
       "16                                     NaN  \n",
       "17                                     NaN  \n",
       "18                                     NaN  \n",
       "19                                     NaN  \n",
       "20                                     NaN  \n",
       "21                                     NaN  \n",
       "22                                     NaN  \n",
       "23                                     NaN  \n",
       "24                                     NaN  \n",
       "25                                     NaN  \n",
       "26                                     NaN  \n",
       "27                                     NaN  \n",
       "28                                     NaN  \n",
       "29                                     NaN  \n",
       "30                                     NaN  \n",
       "31                                     NaN  \n",
       "32                                     NaN  \n",
       "33                                     NaN  \n",
       "34                                     NaN  \n",
       "35                                     NaN  \n",
       "36                                     NaN  \n",
       "37                                     NaN  \n",
       "38                                     NaN  \n",
       "39                                     NaN  \n",
       "40                                     NaN  \n",
       "41                                     NaN  \n",
       "42                                     NaN  \n",
       "43                                     NaN  \n",
       "44                                     NaN  \n",
       "45                              694.319460  \n",
       "46                              409.945920  \n",
       "47                              272.944300  \n",
       "48                              219.023220  \n",
       "49                              214.455080  \n",
       "50                              107.345490  \n",
       "51                               80.136510  \n",
       "52                               74.990000  \n",
       "53                               71.625150  \n",
       "54                               39.796032  \n",
       "55                               25.906467  \n",
       "56                                     NaN  \n",
       "57                                     NaN  \n",
       "58                                     NaN  "
      ]
     },
     "execution_count": 14,
     "metadata": {},
     "output_type": "execute_result"
    }
   ],
   "source": [
    "df_regions = df[df['Entity'].isin([\n",
    "    \"North America (WB)\",\n",
    "    \"Europe and Central Asia (WB)\",\n",
    "    \"Latin America and Caribbean (WB)\",\n",
    "    \"East Asia and Pacific (WB)\",\n",
    "    \"Middle East and North Africa (WB)\",\n",
    "    \"World\",\n",
    "    \"South Asia (WB)\",\n",
    "    \"Sub-Saharan Africa (WB)\"\n",
    "])]\n",
    "\n",
    "\n",
    "df_regions"
   ]
  },
  {
   "cell_type": "code",
   "execution_count": 15,
   "id": "9a61bffa",
   "metadata": {},
   "outputs": [],
   "source": [
    "# df_2023 = df_regions[df_regions[\"Year\"] == 2023]\n",
    "\n",
    "# df_2023_sorted = df_2023.sort_values(by=\"Individuals using the Internet (% of population)\", ascending=True)\n",
    "\n",
    "# df_2023_sorted"
   ]
  },
  {
   "cell_type": "code",
   "execution_count": 21,
   "id": "7bb8e9a3",
   "metadata": {},
   "outputs": [
    {
     "data": {
      "application/vnd.plotly.v1+json": {
       "config": {
        "plotlyServerURL": "https://plot.ly"
       },
       "data": [
        {
         "hovertemplate": "variable=Historical price of memory<br>Year=%{x}<br>value=%{y}<extra></extra>",
         "legendgroup": "Historical price of memory",
         "line": {
          "color": "#636efa",
          "dash": "solid"
         },
         "marker": {
          "color": "#738FBE",
          "line": {
           "width": 1.5
          },
          "symbol": "circle"
         },
         "mode": "lines",
         "name": "Historical price of memory",
         "opacity": 1,
         "orientation": "v",
         "showlegend": true,
         "textposition": "top center",
         "texttemplate": "%{x:.0f}%",
         "type": "scatter",
         "x": {
          "bdata": "pQenB6gHrQeyB7UHtge3B7gHuQe6B7sHvAe9B74HvwfAB8EHwgfDB8QHxQfGB8cHyAfJB8oHywfMB80HzgfPB9AH0QfSB9MH1AfVB9YH1wfYB9kH2gfbB9wH3QfeB98H4AfhB+IH4wfkB+UH5gfnB6QHrAeuBw==",
          "dtype": "i2"
         },
         "xaxis": "x",
         "y": {
          "bdata": "AEyf7XPoKkMAAPrBcSUBQwDAFcAx3cRCAMCav5G9s0IAAN7A5syRQgAAyPsN8IBCAAD65/kGeEIAANAasfJLQgAAAGyJZThCAABg6kLoNkIAAHCC+hQsQgAAIObvQxZCAAAA4hH0EkIAAMC3iL8HQgAAwIBRyPNBAACAn7Eq80EAAADLMbPoQQAAAGLXecVBAAAAXJyrukEAAAC0ig6yQQAAAHxuWbFBAAAA/IgnrEEAAAAg8nyVQQAAAKiEApJBAAAAYFkWh0EAAADg5WyGQQAAAOAC24VBAAAAwFRChUEAAAAA4YVgQZqZmRlZhkpBmpmZmfRwNEGamZmZG4UyQc3MzMxR5C9BKVyPwudUCkEpXI/CHXUHQVyPwvXkKfpATDeJQUB7+UDXo3A9MqX4QEw3iUFgzfZAfT81Xvq63UBeukkMEuzGQF66SQwCAcdA6SYxCPyhxkAX2c73kwm3QEJg5dDCHrBAF7fRAF7Gr0AdyeU/hESvQAN4CyQIO69A4C2QoDgip0DLoUW2s6amQHQkl/9wHKZAppvEILC3pUA9Ctej8HOlQK8l5IOeWqNAPujZrLoXnUB9rrZivwGRQAAAAAAAAPh/AAAAAAAA+H8AAAAAAAD4fw==",
          "dtype": "f8"
         },
         "yaxis": "y"
        },
        {
         "hovertemplate": "variable=Historical price of flash memory<br>Year=%{x}<br>value=%{y}<extra></extra>",
         "legendgroup": "Historical price of flash memory",
         "line": {
          "color": "#EF553B",
          "dash": "solid"
         },
         "marker": {
          "color": "#738FBE",
          "line": {
           "width": 1.5
          },
          "symbol": "circle"
         },
         "mode": "lines",
         "name": "Historical price of flash memory",
         "opacity": 1,
         "orientation": "v",
         "showlegend": true,
         "textposition": "top center",
         "texttemplate": "%{x:.0f}%",
         "type": "scatter",
         "x": {
          "bdata": "pQenB6gHrQeyB7UHtge3B7gHuQe6B7sHvAe9B74HvwfAB8EHwgfDB8QHxQfGB8cHyAfJB8oHywfMB80HzgfPB9AH0QfSB9MH1AfVB9YH1wfYB9kH2gfbB9wH3QfeB98H4AfhB+IH4wfkB+UH5gfnB6QHrAeuBw==",
          "dtype": "i2"
         },
         "xaxis": "x",
         "y": {
          "bdata": "AAAAAAAA+H8AAAAAAAD4fwAAAAAAAPh/AAAAAAAA+H8AAAAAAAD4fwAAAAAAAPh/AAAAAAAA+H8AAAAAAAD4fwAAAAAAAPh/AAAAAAAA+H8AAAAAAAD4fwAAAAAAAPh/AAAAAAAA+H8AAAAAAAD4fwAAAAAAAPh/AAAAAAAA+H8AAAAAAAD4fwAAAAAAAPh/AAAAAAAA+H8AAAAAAAD4fwAAAAAAAPh/AAAAAAAA+H8AAAAAAAD4fwAAAAAAAPh/AAAAAAAA+H8AAAAAAAD4fwAAAAAAAPh/AAAAAAAA+H8AAAAAAAD4fwAAAAAAAPh/AAAAAAAA+H8AAAAAAAD4fwAAAAAAAPh/AAAAAAAA+H8AAAAAAAD4f83MzMymbxBBrkfhevABEEFxPQrXk6P4QI/C9ShsWtJAyXa+n6LZwUDVCWgibDGhQKabxCDweZ5A2PD0ShkRlkD1udqKfRmSQNZW7C87aoRA9iNFZFjGf0Bb07zjlOJ2QPK1Z5YExGNAklz+Q/qEY0AUXKyowRxjQAAAAAAAAPh/AAAAAAAA+H8AAAAAAAD4fwAAAAAAAPh/AAAAAAAA+H8AAAAAAAD4fwAAAAAAAPh/AAAAAAAA+H8AAAAAAAD4fw==",
          "dtype": "f8"
         },
         "yaxis": "y"
        },
        {
         "hovertemplate": "variable=Historical price of disk drives<br>Year=%{x}<br>value=%{y}<extra></extra>",
         "legendgroup": "Historical price of disk drives",
         "line": {
          "color": "#00cc96",
          "dash": "solid"
         },
         "marker": {
          "color": "#738FBE",
          "line": {
           "width": 1.5
          },
          "symbol": "circle"
         },
         "mode": "lines",
         "name": "Historical price of disk drives",
         "opacity": 1,
         "orientation": "v",
         "showlegend": true,
         "textposition": "top center",
         "texttemplate": "%{x:.0f}%",
         "type": "scatter",
         "x": {
          "bdata": "pQenB6gHrQeyB7UHtge3B7gHuQe6B7sHvAe9B74HvwfAB8EHwgfDB8QHxQfGB8cHyAfJB8oHywfMB80HzgfPB9AH0QfSB9MH1AfVB9YH1wfYB9kH2gfbB9wH3QfeB98H4AfhB+IH4wfkB+UH5gfnB6QHrAeuBw==",
          "dtype": "i2"
         },
         "xaxis": "x",
         "y": {
          "bdata": "AAAAAAAA+H8AAACb7WsvQgAAIOUNVx1CAAAAAAAA+H8AAACM8svZQQAAAGy8jtZBAAAAyGbwzEEAAADayIPKQQAAAAAAAPh/AAAAAAAA+H8AAAAAAAD4fwAAAHRbqcNBAAAAQcFQwUEAAADgGmO/QQAAAILmkr1BAAAAnAqSskEAAACYR0aWQQAAAKApApJBAAAAYPjFhEEAAABQckGAQQAAACBEzXRBAAAAgJLMbUEAAADA/rNYQQAAAABpPVRBAAAAgLKxQ0FmZmbmUJ8zQQAAAICoFSdBAAAAAAQrFkE9CtejmLMJQXsUrkcZDPNAUrgehZtC40B56SYxSNHKQMuhRbaT57dAg8DKoWWTrUCaCBueXlqbQET67etAfJBA/fZ14NwXikAr9pfdE9OAQOJYF7fRjHFANGjon+Azb0CgU5CfjQxeQABvgQTFG1VA2bW93ZK0SkB9dVWgFhdFQKgAGM+gqURA8MSsF0NdREC2oWKcvyFDQI/C9Shc7z5AptWQuMfePUCXcr7Ye2U6QLjNVIhHFjhAVaGBWDb7MkAAAAAAAEAwQMUcBB2tCi9An6ut2F9GKUAVxhaCHDwlQAAAsEvvZDRCAACAhQlYG0IAAIApoxv/QQ==",
          "dtype": "f8"
         },
         "yaxis": "y"
        },
        {
         "hovertemplate": "variable=Historical price of solid-state drives<br>Year=%{x}<br>value=%{y}<extra></extra>",
         "legendgroup": "Historical price of solid-state drives",
         "line": {
          "color": "#ab63fa",
          "dash": "solid"
         },
         "marker": {
          "color": "#738FBE",
          "line": {
           "width": 1.5
          },
          "symbol": "circle"
         },
         "mode": "lines",
         "name": "Historical price of solid-state drives",
         "opacity": 1,
         "orientation": "v",
         "showlegend": true,
         "textposition": "top center",
         "texttemplate": "%{x:.0f}%",
         "type": "scatter",
         "x": {
          "bdata": "pQenB6gHrQeyB7UHtge3B7gHuQe6B7sHvAe9B74HvwfAB8EHwgfDB8QHxQfGB8cHyAfJB8oHywfMB80HzgfPB9AH0QfSB9MH1AfVB9YH1wfYB9kH2gfbB9wH3QfeB98H4AfhB+IH4wfkB+UH5gfnB6QHrAeuBw==",
          "dtype": "i2"
         },
         "xaxis": "x",
         "y": {
          "bdata": "AAAAAAAA+H8AAAAAAAD4fwAAAAAAAPh/AAAAAAAA+H8AAAAAAAD4fwAAAAAAAPh/AAAAAAAA+H8AAAAAAAD4fwAAAAAAAPh/AAAAAAAA+H8AAAAAAAD4fwAAAAAAAPh/AAAAAAAA+H8AAAAAAAD4fwAAAAAAAPh/AAAAAAAA+H8AAAAAAAD4fwAAAAAAAPh/AAAAAAAA+H8AAAAAAAD4fwAAAAAAAPh/AAAAAAAA+H8AAAAAAAD4fwAAAAAAAPh/AAAAAAAA+H8AAAAAAAD4fwAAAAAAAPh/AAAAAAAA+H8AAAAAAAD4fwAAAAAAAPh/AAAAAAAA+H8AAAAAAAD4fwAAAAAAAPh/AAAAAAAA+H8AAAAAAAD4fwAAAAAAAPh/AAAAAAAA+H8AAAAAAAD4fwAAAAAAAPh/AAAAAAAA+H8AAAAAAAD4fwAAAAAAAPh/AAAAAAAA+H8AAAAAAAD4fwAAAAAAAPh/C2MLQY6yhUAeigJ9Ip95QM4ZUdobD3FAn5PeN75ga0AKou4DkM5qQBXGFoIc1lpA7WRwlLwIVECPwvUoXL9SQAtGJXUC6FFA5EhnYOTlQ0A656c4Dug5QAAAAAAAAPh/AAAAAAAA+H8AAAAAAAD4fw==",
          "dtype": "f8"
         },
         "yaxis": "y"
        }
       ],
       "layout": {
        "annotations": [
         {
          "align": "left",
          "font": {
           "color": "#666666",
           "family": "Georgia",
           "size": 9
          },
          "showarrow": false,
          "text": "<b>Data source:</b> International Telecommunication Union (via World Bank) (2025) &nbsp;&nbsp;&nbsp;&nbsp;&nbsp;&nbsp;&nbsp;&nbsp;&nbsp;&nbsp;&nbsp;&nbsp;&nbsp;&nbsp;&nbsp;&nbsp;&nbsp;&nbsp;&nbsp;&nbsp;&nbsp;&nbsp;&nbsp;&nbsp;&nbsp;&nbsp;&nbsp;&nbsp;&nbsp;&nbsp;&nbsp;&nbsp;&nbsp;&nbsp;&nbsp;&nbsp;&nbsp;&nbsp;&nbsp;&nbsp;&nbsp;&nbsp;&nbsp;&nbsp;&nbsp;&nbsp;&nbsp;&nbsp;&nbsp;&nbsp;&nbsp;&nbsp;&nbsp;&nbsp;&nbsp;&nbsp;&nbsp;&nbsp;&nbsp;&nbsp;&nbsp;&nbsp;&nbsp;&nbsp;&nbsp;&nbsp;&nbsp;&nbsp;&nbsp;&nbsp;&nbsp;&nbsp;&nbsp;&nbsp;&nbsp;&nbsp;&nbsp;&nbsp;<span style='float:right'; color:#666666'>OurWorldInData.org/internet | CC BY</span>",
          "x": -0.35,
          "xanchor": "left",
          "xref": "paper",
          "y": -0.25,
          "yref": "paper"
         }
        ],
        "bargap": 0.3,
        "font": {
         "color": "black",
         "family": "Georgia",
         "size": 14
        },
        "height": 400,
        "images": [
         {
          "layer": "above",
          "sizex": 0.1,
          "sizey": 0.1,
          "source": "data:image/png;base64,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",
          "x": 1.15,
          "xanchor": "right",
          "xref": "paper",
          "y": 1.15,
          "yanchor": "top",
          "yref": "paper"
         }
        ],
        "legend": {
         "title": {
          "text": "variable"
         },
         "tracegroupgap": 0
        },
        "margin": {
         "t": 60
        },
        "plot_bgcolor": "white",
        "template": {
         "data": {
          "bar": [
           {
            "error_x": {
             "color": "#2a3f5f"
            },
            "error_y": {
             "color": "#2a3f5f"
            },
            "marker": {
             "line": {
              "color": "#E5ECF6",
              "width": 0.5
             },
             "pattern": {
              "fillmode": "overlay",
              "size": 10,
              "solidity": 0.2
             }
            },
            "type": "bar"
           }
          ],
          "barpolar": [
           {
            "marker": {
             "line": {
              "color": "#E5ECF6",
              "width": 0.5
             },
             "pattern": {
              "fillmode": "overlay",
              "size": 10,
              "solidity": 0.2
             }
            },
            "type": "barpolar"
           }
          ],
          "carpet": [
           {
            "aaxis": {
             "endlinecolor": "#2a3f5f",
             "gridcolor": "white",
             "linecolor": "white",
             "minorgridcolor": "white",
             "startlinecolor": "#2a3f5f"
            },
            "baxis": {
             "endlinecolor": "#2a3f5f",
             "gridcolor": "white",
             "linecolor": "white",
             "minorgridcolor": "white",
             "startlinecolor": "#2a3f5f"
            },
            "type": "carpet"
           }
          ],
          "choropleth": [
           {
            "colorbar": {
             "outlinewidth": 0,
             "ticks": ""
            },
            "type": "choropleth"
           }
          ],
          "contour": [
           {
            "colorbar": {
             "outlinewidth": 0,
             "ticks": ""
            },
            "colorscale": [
             [
              0,
              "#0d0887"
             ],
             [
              0.1111111111111111,
              "#46039f"
             ],
             [
              0.2222222222222222,
              "#7201a8"
             ],
             [
              0.3333333333333333,
              "#9c179e"
             ],
             [
              0.4444444444444444,
              "#bd3786"
             ],
             [
              0.5555555555555556,
              "#d8576b"
             ],
             [
              0.6666666666666666,
              "#ed7953"
             ],
             [
              0.7777777777777778,
              "#fb9f3a"
             ],
             [
              0.8888888888888888,
              "#fdca26"
             ],
             [
              1,
              "#f0f921"
             ]
            ],
            "type": "contour"
           }
          ],
          "contourcarpet": [
           {
            "colorbar": {
             "outlinewidth": 0,
             "ticks": ""
            },
            "type": "contourcarpet"
           }
          ],
          "heatmap": [
           {
            "colorbar": {
             "outlinewidth": 0,
             "ticks": ""
            },
            "colorscale": [
             [
              0,
              "#0d0887"
             ],
             [
              0.1111111111111111,
              "#46039f"
             ],
             [
              0.2222222222222222,
              "#7201a8"
             ],
             [
              0.3333333333333333,
              "#9c179e"
             ],
             [
              0.4444444444444444,
              "#bd3786"
             ],
             [
              0.5555555555555556,
              "#d8576b"
             ],
             [
              0.6666666666666666,
              "#ed7953"
             ],
             [
              0.7777777777777778,
              "#fb9f3a"
             ],
             [
              0.8888888888888888,
              "#fdca26"
             ],
             [
              1,
              "#f0f921"
             ]
            ],
            "type": "heatmap"
           }
          ],
          "histogram": [
           {
            "marker": {
             "pattern": {
              "fillmode": "overlay",
              "size": 10,
              "solidity": 0.2
             }
            },
            "type": "histogram"
           }
          ],
          "histogram2d": [
           {
            "colorbar": {
             "outlinewidth": 0,
             "ticks": ""
            },
            "colorscale": [
             [
              0,
              "#0d0887"
             ],
             [
              0.1111111111111111,
              "#46039f"
             ],
             [
              0.2222222222222222,
              "#7201a8"
             ],
             [
              0.3333333333333333,
              "#9c179e"
             ],
             [
              0.4444444444444444,
              "#bd3786"
             ],
             [
              0.5555555555555556,
              "#d8576b"
             ],
             [
              0.6666666666666666,
              "#ed7953"
             ],
             [
              0.7777777777777778,
              "#fb9f3a"
             ],
             [
              0.8888888888888888,
              "#fdca26"
             ],
             [
              1,
              "#f0f921"
             ]
            ],
            "type": "histogram2d"
           }
          ],
          "histogram2dcontour": [
           {
            "colorbar": {
             "outlinewidth": 0,
             "ticks": ""
            },
            "colorscale": [
             [
              0,
              "#0d0887"
             ],
             [
              0.1111111111111111,
              "#46039f"
             ],
             [
              0.2222222222222222,
              "#7201a8"
             ],
             [
              0.3333333333333333,
              "#9c179e"
             ],
             [
              0.4444444444444444,
              "#bd3786"
             ],
             [
              0.5555555555555556,
              "#d8576b"
             ],
             [
              0.6666666666666666,
              "#ed7953"
             ],
             [
              0.7777777777777778,
              "#fb9f3a"
             ],
             [
              0.8888888888888888,
              "#fdca26"
             ],
             [
              1,
              "#f0f921"
             ]
            ],
            "type": "histogram2dcontour"
           }
          ],
          "mesh3d": [
           {
            "colorbar": {
             "outlinewidth": 0,
             "ticks": ""
            },
            "type": "mesh3d"
           }
          ],
          "parcoords": [
           {
            "line": {
             "colorbar": {
              "outlinewidth": 0,
              "ticks": ""
             }
            },
            "type": "parcoords"
           }
          ],
          "pie": [
           {
            "automargin": true,
            "type": "pie"
           }
          ],
          "scatter": [
           {
            "fillpattern": {
             "fillmode": "overlay",
             "size": 10,
             "solidity": 0.2
            },
            "type": "scatter"
           }
          ],
          "scatter3d": [
           {
            "line": {
             "colorbar": {
              "outlinewidth": 0,
              "ticks": ""
             }
            },
            "marker": {
             "colorbar": {
              "outlinewidth": 0,
              "ticks": ""
             }
            },
            "type": "scatter3d"
           }
          ],
          "scattercarpet": [
           {
            "marker": {
             "colorbar": {
              "outlinewidth": 0,
              "ticks": ""
             }
            },
            "type": "scattercarpet"
           }
          ],
          "scattergeo": [
           {
            "marker": {
             "colorbar": {
              "outlinewidth": 0,
              "ticks": ""
             }
            },
            "type": "scattergeo"
           }
          ],
          "scattergl": [
           {
            "marker": {
             "colorbar": {
              "outlinewidth": 0,
              "ticks": ""
             }
            },
            "type": "scattergl"
           }
          ],
          "scattermap": [
           {
            "marker": {
             "colorbar": {
              "outlinewidth": 0,
              "ticks": ""
             }
            },
            "type": "scattermap"
           }
          ],
          "scattermapbox": [
           {
            "marker": {
             "colorbar": {
              "outlinewidth": 0,
              "ticks": ""
             }
            },
            "type": "scattermapbox"
           }
          ],
          "scatterpolar": [
           {
            "marker": {
             "colorbar": {
              "outlinewidth": 0,
              "ticks": ""
             }
            },
            "type": "scatterpolar"
           }
          ],
          "scatterpolargl": [
           {
            "marker": {
             "colorbar": {
              "outlinewidth": 0,
              "ticks": ""
             }
            },
            "type": "scatterpolargl"
           }
          ],
          "scatterternary": [
           {
            "marker": {
             "colorbar": {
              "outlinewidth": 0,
              "ticks": ""
             }
            },
            "type": "scatterternary"
           }
          ],
          "surface": [
           {
            "colorbar": {
             "outlinewidth": 0,
             "ticks": ""
            },
            "colorscale": [
             [
              0,
              "#0d0887"
             ],
             [
              0.1111111111111111,
              "#46039f"
             ],
             [
              0.2222222222222222,
              "#7201a8"
             ],
             [
              0.3333333333333333,
              "#9c179e"
             ],
             [
              0.4444444444444444,
              "#bd3786"
             ],
             [
              0.5555555555555556,
              "#d8576b"
             ],
             [
              0.6666666666666666,
              "#ed7953"
             ],
             [
              0.7777777777777778,
              "#fb9f3a"
             ],
             [
              0.8888888888888888,
              "#fdca26"
             ],
             [
              1,
              "#f0f921"
             ]
            ],
            "type": "surface"
           }
          ],
          "table": [
           {
            "cells": {
             "fill": {
              "color": "#EBF0F8"
             },
             "line": {
              "color": "white"
             }
            },
            "header": {
             "fill": {
              "color": "#C8D4E3"
             },
             "line": {
              "color": "white"
             }
            },
            "type": "table"
           }
          ]
         },
         "layout": {
          "annotationdefaults": {
           "arrowcolor": "#2a3f5f",
           "arrowhead": 0,
           "arrowwidth": 1
          },
          "autotypenumbers": "strict",
          "coloraxis": {
           "colorbar": {
            "outlinewidth": 0,
            "ticks": ""
           }
          },
          "colorscale": {
           "diverging": [
            [
             0,
             "#8e0152"
            ],
            [
             0.1,
             "#c51b7d"
            ],
            [
             0.2,
             "#de77ae"
            ],
            [
             0.3,
             "#f1b6da"
            ],
            [
             0.4,
             "#fde0ef"
            ],
            [
             0.5,
             "#f7f7f7"
            ],
            [
             0.6,
             "#e6f5d0"
            ],
            [
             0.7,
             "#b8e186"
            ],
            [
             0.8,
             "#7fbc41"
            ],
            [
             0.9,
             "#4d9221"
            ],
            [
             1,
             "#276419"
            ]
           ],
           "sequential": [
            [
             0,
             "#0d0887"
            ],
            [
             0.1111111111111111,
             "#46039f"
            ],
            [
             0.2222222222222222,
             "#7201a8"
            ],
            [
             0.3333333333333333,
             "#9c179e"
            ],
            [
             0.4444444444444444,
             "#bd3786"
            ],
            [
             0.5555555555555556,
             "#d8576b"
            ],
            [
             0.6666666666666666,
             "#ed7953"
            ],
            [
             0.7777777777777778,
             "#fb9f3a"
            ],
            [
             0.8888888888888888,
             "#fdca26"
            ],
            [
             1,
             "#f0f921"
            ]
           ],
           "sequentialminus": [
            [
             0,
             "#0d0887"
            ],
            [
             0.1111111111111111,
             "#46039f"
            ],
            [
             0.2222222222222222,
             "#7201a8"
            ],
            [
             0.3333333333333333,
             "#9c179e"
            ],
            [
             0.4444444444444444,
             "#bd3786"
            ],
            [
             0.5555555555555556,
             "#d8576b"
            ],
            [
             0.6666666666666666,
             "#ed7953"
            ],
            [
             0.7777777777777778,
             "#fb9f3a"
            ],
            [
             0.8888888888888888,
             "#fdca26"
            ],
            [
             1,
             "#f0f921"
            ]
           ]
          },
          "colorway": [
           "#636efa",
           "#EF553B",
           "#00cc96",
           "#ab63fa",
           "#FFA15A",
           "#19d3f3",
           "#FF6692",
           "#B6E880",
           "#FF97FF",
           "#FECB52"
          ],
          "font": {
           "color": "#2a3f5f"
          },
          "geo": {
           "bgcolor": "white",
           "lakecolor": "white",
           "landcolor": "#E5ECF6",
           "showlakes": true,
           "showland": true,
           "subunitcolor": "white"
          },
          "hoverlabel": {
           "align": "left"
          },
          "hovermode": "closest",
          "mapbox": {
           "style": "light"
          },
          "paper_bgcolor": "white",
          "plot_bgcolor": "#E5ECF6",
          "polar": {
           "angularaxis": {
            "gridcolor": "white",
            "linecolor": "white",
            "ticks": ""
           },
           "bgcolor": "#E5ECF6",
           "radialaxis": {
            "gridcolor": "white",
            "linecolor": "white",
            "ticks": ""
           }
          },
          "scene": {
           "xaxis": {
            "backgroundcolor": "#E5ECF6",
            "gridcolor": "white",
            "gridwidth": 2,
            "linecolor": "white",
            "showbackground": true,
            "ticks": "",
            "zerolinecolor": "white"
           },
           "yaxis": {
            "backgroundcolor": "#E5ECF6",
            "gridcolor": "white",
            "gridwidth": 2,
            "linecolor": "white",
            "showbackground": true,
            "ticks": "",
            "zerolinecolor": "white"
           },
           "zaxis": {
            "backgroundcolor": "#E5ECF6",
            "gridcolor": "white",
            "gridwidth": 2,
            "linecolor": "white",
            "showbackground": true,
            "ticks": "",
            "zerolinecolor": "white"
           }
          },
          "shapedefaults": {
           "line": {
            "color": "#2a3f5f"
           }
          },
          "ternary": {
           "aaxis": {
            "gridcolor": "white",
            "linecolor": "white",
            "ticks": ""
           },
           "baxis": {
            "gridcolor": "white",
            "linecolor": "white",
            "ticks": ""
           },
           "bgcolor": "#E5ECF6",
           "caxis": {
            "gridcolor": "white",
            "linecolor": "white",
            "ticks": ""
           }
          },
          "title": {
           "x": 0.05
          },
          "xaxis": {
           "automargin": true,
           "gridcolor": "white",
           "linecolor": "white",
           "ticks": "",
           "title": {
            "standoff": 15
           },
           "zerolinecolor": "white",
           "zerolinewidth": 2
          },
          "yaxis": {
           "automargin": true,
           "gridcolor": "white",
           "linecolor": "white",
           "ticks": "",
           "title": {
            "standoff": 15
           },
           "zerolinecolor": "white",
           "zerolinewidth": 2
          }
         }
        },
        "title": {
         "font": {
          "color": "black",
          "family": "Georgia",
          "size": 18
         },
         "pad": {
          "b": 20
         },
         "text": "<b>Share of the population using the Internet, 2023</b><br><span style='font-size:12px; font-weight:normal; color:#666666'>Share of the population who used the Internet in the last three months.</span>",
         "x": 0.025,
         "xanchor": "left",
         "yanchor": "top"
        },
        "width": 700,
        "xaxis": {
         "anchor": "y",
         "domain": [
          0,
          1
         ],
         "title": {}
        },
        "yaxis": {
         "anchor": "x",
         "domain": [
          0,
          1
         ],
         "tickfont": {
          "color": "black",
          "family": "Georgia",
          "size": 11
         },
         "title": {}
        }
       }
      }
     },
     "metadata": {},
     "output_type": "display_data"
    }
   ],
   "source": [
    "from PIL import Image\n",
    "import base64\n",
    "from io import BytesIO\n",
    "\n",
    "fig = px.line(\n",
    "    df_regions,\n",
    "    y=[\n",
    "        \"Historical price of memory\",\n",
    "        \"Historical price of flash memory\",\n",
    "        \"Historical price of disk drives\",\n",
    "        \"Historical price of solid-state drives\",\n",
    "    ],\n",
    "    x=\"Year\",\n",
    ")\n",
    "\n",
    "fig.update_traces(\n",
    "    marker_color=\"#738FBE\",\n",
    "    marker_line_width=1.5,\n",
    "    opacity=1,\n",
    "    textposition=\"top center\",\n",
    "    texttemplate=\"%{x:.0f}%\",\n",
    ")\n",
    "\n",
    "fig.update_layout(\n",
    "    title=dict(\n",
    "        text=(\n",
    "            \"<b>Share of the population using the Internet, 2023</b><br>\"\n",
    "            \"<span style='font-size:12px; font-weight:normal; color:#666666'>\"\n",
    "            \"Share of the population who used the Internet in the last three months.\"\n",
    "            \"</span>\"\n",
    "        ),\n",
    "        x=0.025,\n",
    "        xanchor='left',\n",
    "        yanchor='top',\n",
    "        font=dict(family=\"Georgia\", size=18, color=\"black\"),\n",
    "        pad=dict(b=20)\n",
    "    ),\n",
    "    height=400,\n",
    "    width=700,\n",
    "    bargap=0.3,\n",
    "    plot_bgcolor=\"white\",\n",
    "    font=dict(size=14, family=\"Georgia\", color=\"black\"),\n",
    "    yaxis=dict(\n",
    "        tickfont=dict(family=\"Georgia\", size=11, color=\"black\")\n",
    "    ),\n",
    "\n",
    "    xaxis_title=None,\n",
    "    yaxis_title=None\n",
    ")\n",
    " \n",
    "fig.add_annotation(\n",
    "    text=(\n",
    "        \"<b>Data source:</b> International Telecommunication Union (via World Bank) (2025) \"\n",
    "        \"&nbsp;&nbsp;&nbsp;&nbsp;&nbsp;&nbsp;&nbsp;&nbsp;&nbsp;&nbsp;&nbsp;&nbsp;&nbsp;&nbsp;&nbsp;&nbsp;&nbsp;&nbsp;&nbsp;&nbsp;&nbsp;&nbsp;&nbsp;&nbsp;&nbsp;&nbsp;&nbsp;&nbsp;&nbsp;&nbsp;&nbsp;&nbsp;&nbsp;&nbsp;&nbsp;&nbsp;&nbsp;&nbsp;&nbsp;&nbsp;&nbsp;&nbsp;&nbsp;&nbsp;&nbsp;&nbsp;&nbsp;&nbsp;&nbsp;&nbsp;&nbsp;&nbsp;&nbsp;&nbsp;&nbsp;&nbsp;&nbsp;&nbsp;&nbsp;&nbsp;&nbsp;&nbsp;&nbsp;&nbsp;&nbsp;&nbsp;&nbsp;&nbsp;&nbsp;&nbsp;&nbsp;&nbsp;&nbsp;&nbsp;&nbsp;&nbsp;&nbsp;&nbsp;\"\n",
    "        \"<span style='float:right'; color:#666666'>OurWorldInData.org/internet | CC BY</span>\"\n",
    "    ),\n",
    "    xref=\"paper\", yref=\"paper\",\n",
    "    x=-0.35, y=-0.25,\n",
    "    showarrow=False,\n",
    "    font=dict(family=\"Georgia\", size=9, color=\"#666666\"),\n",
    "    align=\"left\",\n",
    "    xanchor=\"left\"\n",
    ")\n",
    "\n",
    "image_path = \"assets/world_logo.png\"\n",
    "img = Image.open(image_path)\n",
    "buffer = BytesIO()\n",
    "img.save(buffer, format=\"PNG\")\n",
    "encoded_image = \"data:image/png;base64,\" + base64.b64encode(buffer.getvalue()).decode()\n",
    "\n",
    "fig.add_layout_image(\n",
    "    dict(\n",
    "        source=encoded_image,\n",
    "        xref=\"paper\", yref=\"paper\",\n",
    "        x=1.15, y=1.15,\n",
    "        sizex=0.1, sizey=0.1,\n",
    "        xanchor=\"right\", yanchor=\"top\",\n",
    "        layer=\"above\"\n",
    "    )\n",
    ")\n",
    "\n",
    "fig.show()\n",
    "fig.write_html(\"interactive_figures/internet_use.html\")"
   ]
  },
  {
   "cell_type": "code",
   "execution_count": 23,
   "id": "8a9bb822",
   "metadata": {},
   "outputs": [
    {
     "data": {
      "application/vnd.plotly.v1+json": {
       "config": {
        "plotlyServerURL": "https://plot.ly"
       },
       "data": [
        {
         "hovertemplate": "Type of storage=Historical price of memory<br>Year=%{x}<br>Price ($/TB)=%{y}<extra></extra>",
         "legendgroup": "Historical price of memory",
         "line": {
          "color": "#636efa",
          "dash": "solid"
         },
         "marker": {
          "line": {
           "width": 2
          },
          "symbol": "circle"
         },
         "mode": "lines",
         "name": "Historical price of memory",
         "orientation": "v",
         "showlegend": true,
         "type": "scatter",
         "x": {
          "bdata": "pQenB6gHrQeyB7UHtge3B7gHuQe6B7sHvAe9B74HvwfAB8EHwgfDB8QHxQfGB8cHyAfJB8oHywfMB80HzgfPB9AH0QfSB9MH1AfVB9YH1wfYB9kH2gfbB9wH3QfeB98H4AfhB+IH4wfkB+UH5gfnB6QHrAeuBw==",
          "dtype": "i2"
         },
         "xaxis": "x",
         "y": {
          "bdata": "AEyf7XPoKkMAAPrBcSUBQwDAFcAx3cRCAMCav5G9s0IAAN7A5syRQgAAyPsN8IBCAAD65/kGeEIAANAasfJLQgAAAGyJZThCAABg6kLoNkIAAHCC+hQsQgAAIObvQxZCAAAA4hH0EkIAAMC3iL8HQgAAwIBRyPNBAACAn7Eq80EAAADLMbPoQQAAAGLXecVBAAAAXJyrukEAAAC0ig6yQQAAAHxuWbFBAAAA/IgnrEEAAAAg8nyVQQAAAKiEApJBAAAAYFkWh0EAAADg5WyGQQAAAOAC24VBAAAAwFRChUEAAAAA4YVgQZqZmRlZhkpBmpmZmfRwNEGamZmZG4UyQc3MzMxR5C9BKVyPwudUCkEpXI/CHXUHQVyPwvXkKfpATDeJQUB7+UDXo3A9MqX4QEw3iUFgzfZAfT81Xvq63UBeukkMEuzGQF66SQwCAcdA6SYxCPyhxkAX2c73kwm3QEJg5dDCHrBAF7fRAF7Gr0AdyeU/hESvQAN4CyQIO69A4C2QoDgip0DLoUW2s6amQHQkl/9wHKZAppvEILC3pUA9Ctej8HOlQK8l5IOeWqNAPujZrLoXnUB9rrZivwGRQAAAAAAAAPh/AAAAAAAA+H8AAAAAAAD4fw==",
          "dtype": "f8"
         },
         "yaxis": "y"
        },
        {
         "hovertemplate": "Type of storage=Historical price of flash memory<br>Year=%{x}<br>Price ($/TB)=%{y}<extra></extra>",
         "legendgroup": "Historical price of flash memory",
         "line": {
          "color": "#EF553B",
          "dash": "solid"
         },
         "marker": {
          "line": {
           "width": 2
          },
          "symbol": "circle"
         },
         "mode": "lines",
         "name": "Historical price of flash memory",
         "orientation": "v",
         "showlegend": true,
         "type": "scatter",
         "x": {
          "bdata": "pQenB6gHrQeyB7UHtge3B7gHuQe6B7sHvAe9B74HvwfAB8EHwgfDB8QHxQfGB8cHyAfJB8oHywfMB80HzgfPB9AH0QfSB9MH1AfVB9YH1wfYB9kH2gfbB9wH3QfeB98H4AfhB+IH4wfkB+UH5gfnB6QHrAeuBw==",
          "dtype": "i2"
         },
         "xaxis": "x",
         "y": {
          "bdata": "AAAAAAAA+H8AAAAAAAD4fwAAAAAAAPh/AAAAAAAA+H8AAAAAAAD4fwAAAAAAAPh/AAAAAAAA+H8AAAAAAAD4fwAAAAAAAPh/AAAAAAAA+H8AAAAAAAD4fwAAAAAAAPh/AAAAAAAA+H8AAAAAAAD4fwAAAAAAAPh/AAAAAAAA+H8AAAAAAAD4fwAAAAAAAPh/AAAAAAAA+H8AAAAAAAD4fwAAAAAAAPh/AAAAAAAA+H8AAAAAAAD4fwAAAAAAAPh/AAAAAAAA+H8AAAAAAAD4fwAAAAAAAPh/AAAAAAAA+H8AAAAAAAD4fwAAAAAAAPh/AAAAAAAA+H8AAAAAAAD4fwAAAAAAAPh/AAAAAAAA+H8AAAAAAAD4f83MzMymbxBBrkfhevABEEFxPQrXk6P4QI/C9ShsWtJAyXa+n6LZwUDVCWgibDGhQKabxCDweZ5A2PD0ShkRlkD1udqKfRmSQNZW7C87aoRA9iNFZFjGf0Bb07zjlOJ2QPK1Z5YExGNAklz+Q/qEY0AUXKyowRxjQAAAAAAAAPh/AAAAAAAA+H8AAAAAAAD4fwAAAAAAAPh/AAAAAAAA+H8AAAAAAAD4fwAAAAAAAPh/AAAAAAAA+H8AAAAAAAD4fw==",
          "dtype": "f8"
         },
         "yaxis": "y"
        },
        {
         "hovertemplate": "Type of storage=Historical price of disk drives<br>Year=%{x}<br>Price ($/TB)=%{y}<extra></extra>",
         "legendgroup": "Historical price of disk drives",
         "line": {
          "color": "#00cc96",
          "dash": "solid"
         },
         "marker": {
          "line": {
           "width": 2
          },
          "symbol": "circle"
         },
         "mode": "lines",
         "name": "Historical price of disk drives",
         "orientation": "v",
         "showlegend": true,
         "type": "scatter",
         "x": {
          "bdata": "pQenB6gHrQeyB7UHtge3B7gHuQe6B7sHvAe9B74HvwfAB8EHwgfDB8QHxQfGB8cHyAfJB8oHywfMB80HzgfPB9AH0QfSB9MH1AfVB9YH1wfYB9kH2gfbB9wH3QfeB98H4AfhB+IH4wfkB+UH5gfnB6QHrAeuBw==",
          "dtype": "i2"
         },
         "xaxis": "x",
         "y": {
          "bdata": "AAAAAAAA+H8AAACb7WsvQgAAIOUNVx1CAAAAAAAA+H8AAACM8svZQQAAAGy8jtZBAAAAyGbwzEEAAADayIPKQQAAAAAAAPh/AAAAAAAA+H8AAAAAAAD4fwAAAHRbqcNBAAAAQcFQwUEAAADgGmO/QQAAAILmkr1BAAAAnAqSskEAAACYR0aWQQAAAKApApJBAAAAYPjFhEEAAABQckGAQQAAACBEzXRBAAAAgJLMbUEAAADA/rNYQQAAAABpPVRBAAAAgLKxQ0FmZmbmUJ8zQQAAAICoFSdBAAAAAAQrFkE9CtejmLMJQXsUrkcZDPNAUrgehZtC40B56SYxSNHKQMuhRbaT57dAg8DKoWWTrUCaCBueXlqbQET67etAfJBA/fZ14NwXikAr9pfdE9OAQOJYF7fRjHFANGjon+Azb0CgU5CfjQxeQABvgQTFG1VA2bW93ZK0SkB9dVWgFhdFQKgAGM+gqURA8MSsF0NdREC2oWKcvyFDQI/C9Shc7z5AptWQuMfePUCXcr7Ye2U6QLjNVIhHFjhAVaGBWDb7MkAAAAAAAEAwQMUcBB2tCi9An6ut2F9GKUAVxhaCHDwlQAAAsEvvZDRCAACAhQlYG0IAAIApoxv/QQ==",
          "dtype": "f8"
         },
         "yaxis": "y"
        },
        {
         "hovertemplate": "Type of storage=Historical price of solid-state drives<br>Year=%{x}<br>Price ($/TB)=%{y}<extra></extra>",
         "legendgroup": "Historical price of solid-state drives",
         "line": {
          "color": "#ab63fa",
          "dash": "solid"
         },
         "marker": {
          "line": {
           "width": 2
          },
          "symbol": "circle"
         },
         "mode": "lines",
         "name": "Historical price of solid-state drives",
         "orientation": "v",
         "showlegend": true,
         "type": "scatter",
         "x": {
          "bdata": "pQenB6gHrQeyB7UHtge3B7gHuQe6B7sHvAe9B74HvwfAB8EHwgfDB8QHxQfGB8cHyAfJB8oHywfMB80HzgfPB9AH0QfSB9MH1AfVB9YH1wfYB9kH2gfbB9wH3QfeB98H4AfhB+IH4wfkB+UH5gfnB6QHrAeuBw==",
          "dtype": "i2"
         },
         "xaxis": "x",
         "y": {
          "bdata": "AAAAAAAA+H8AAAAAAAD4fwAAAAAAAPh/AAAAAAAA+H8AAAAAAAD4fwAAAAAAAPh/AAAAAAAA+H8AAAAAAAD4fwAAAAAAAPh/AAAAAAAA+H8AAAAAAAD4fwAAAAAAAPh/AAAAAAAA+H8AAAAAAAD4fwAAAAAAAPh/AAAAAAAA+H8AAAAAAAD4fwAAAAAAAPh/AAAAAAAA+H8AAAAAAAD4fwAAAAAAAPh/AAAAAAAA+H8AAAAAAAD4fwAAAAAAAPh/AAAAAAAA+H8AAAAAAAD4fwAAAAAAAPh/AAAAAAAA+H8AAAAAAAD4fwAAAAAAAPh/AAAAAAAA+H8AAAAAAAD4fwAAAAAAAPh/AAAAAAAA+H8AAAAAAAD4fwAAAAAAAPh/AAAAAAAA+H8AAAAAAAD4fwAAAAAAAPh/AAAAAAAA+H8AAAAAAAD4fwAAAAAAAPh/AAAAAAAA+H8AAAAAAAD4fwAAAAAAAPh/C2MLQY6yhUAeigJ9Ip95QM4ZUdobD3FAn5PeN75ga0AKou4DkM5qQBXGFoIc1lpA7WRwlLwIVECPwvUoXL9SQAtGJXUC6FFA5EhnYOTlQ0A656c4Dug5QAAAAAAAAPh/AAAAAAAA+H8AAAAAAAD4fw==",
          "dtype": "f8"
         },
         "yaxis": "y"
        }
       ],
       "layout": {
        "font": {
         "family": "Georgia",
         "size": 14
        },
        "height": 600,
        "legend": {
         "title": {
          "text": ""
         },
         "tracegroupgap": 0
        },
        "margin": {
         "t": 60
        },
        "plot_bgcolor": "white",
        "template": {
         "data": {
          "bar": [
           {
            "error_x": {
             "color": "#2a3f5f"
            },
            "error_y": {
             "color": "#2a3f5f"
            },
            "marker": {
             "line": {
              "color": "#E5ECF6",
              "width": 0.5
             },
             "pattern": {
              "fillmode": "overlay",
              "size": 10,
              "solidity": 0.2
             }
            },
            "type": "bar"
           }
          ],
          "barpolar": [
           {
            "marker": {
             "line": {
              "color": "#E5ECF6",
              "width": 0.5
             },
             "pattern": {
              "fillmode": "overlay",
              "size": 10,
              "solidity": 0.2
             }
            },
            "type": "barpolar"
           }
          ],
          "carpet": [
           {
            "aaxis": {
             "endlinecolor": "#2a3f5f",
             "gridcolor": "white",
             "linecolor": "white",
             "minorgridcolor": "white",
             "startlinecolor": "#2a3f5f"
            },
            "baxis": {
             "endlinecolor": "#2a3f5f",
             "gridcolor": "white",
             "linecolor": "white",
             "minorgridcolor": "white",
             "startlinecolor": "#2a3f5f"
            },
            "type": "carpet"
           }
          ],
          "choropleth": [
           {
            "colorbar": {
             "outlinewidth": 0,
             "ticks": ""
            },
            "type": "choropleth"
           }
          ],
          "contour": [
           {
            "colorbar": {
             "outlinewidth": 0,
             "ticks": ""
            },
            "colorscale": [
             [
              0,
              "#0d0887"
             ],
             [
              0.1111111111111111,
              "#46039f"
             ],
             [
              0.2222222222222222,
              "#7201a8"
             ],
             [
              0.3333333333333333,
              "#9c179e"
             ],
             [
              0.4444444444444444,
              "#bd3786"
             ],
             [
              0.5555555555555556,
              "#d8576b"
             ],
             [
              0.6666666666666666,
              "#ed7953"
             ],
             [
              0.7777777777777778,
              "#fb9f3a"
             ],
             [
              0.8888888888888888,
              "#fdca26"
             ],
             [
              1,
              "#f0f921"
             ]
            ],
            "type": "contour"
           }
          ],
          "contourcarpet": [
           {
            "colorbar": {
             "outlinewidth": 0,
             "ticks": ""
            },
            "type": "contourcarpet"
           }
          ],
          "heatmap": [
           {
            "colorbar": {
             "outlinewidth": 0,
             "ticks": ""
            },
            "colorscale": [
             [
              0,
              "#0d0887"
             ],
             [
              0.1111111111111111,
              "#46039f"
             ],
             [
              0.2222222222222222,
              "#7201a8"
             ],
             [
              0.3333333333333333,
              "#9c179e"
             ],
             [
              0.4444444444444444,
              "#bd3786"
             ],
             [
              0.5555555555555556,
              "#d8576b"
             ],
             [
              0.6666666666666666,
              "#ed7953"
             ],
             [
              0.7777777777777778,
              "#fb9f3a"
             ],
             [
              0.8888888888888888,
              "#fdca26"
             ],
             [
              1,
              "#f0f921"
             ]
            ],
            "type": "heatmap"
           }
          ],
          "histogram": [
           {
            "marker": {
             "pattern": {
              "fillmode": "overlay",
              "size": 10,
              "solidity": 0.2
             }
            },
            "type": "histogram"
           }
          ],
          "histogram2d": [
           {
            "colorbar": {
             "outlinewidth": 0,
             "ticks": ""
            },
            "colorscale": [
             [
              0,
              "#0d0887"
             ],
             [
              0.1111111111111111,
              "#46039f"
             ],
             [
              0.2222222222222222,
              "#7201a8"
             ],
             [
              0.3333333333333333,
              "#9c179e"
             ],
             [
              0.4444444444444444,
              "#bd3786"
             ],
             [
              0.5555555555555556,
              "#d8576b"
             ],
             [
              0.6666666666666666,
              "#ed7953"
             ],
             [
              0.7777777777777778,
              "#fb9f3a"
             ],
             [
              0.8888888888888888,
              "#fdca26"
             ],
             [
              1,
              "#f0f921"
             ]
            ],
            "type": "histogram2d"
           }
          ],
          "histogram2dcontour": [
           {
            "colorbar": {
             "outlinewidth": 0,
             "ticks": ""
            },
            "colorscale": [
             [
              0,
              "#0d0887"
             ],
             [
              0.1111111111111111,
              "#46039f"
             ],
             [
              0.2222222222222222,
              "#7201a8"
             ],
             [
              0.3333333333333333,
              "#9c179e"
             ],
             [
              0.4444444444444444,
              "#bd3786"
             ],
             [
              0.5555555555555556,
              "#d8576b"
             ],
             [
              0.6666666666666666,
              "#ed7953"
             ],
             [
              0.7777777777777778,
              "#fb9f3a"
             ],
             [
              0.8888888888888888,
              "#fdca26"
             ],
             [
              1,
              "#f0f921"
             ]
            ],
            "type": "histogram2dcontour"
           }
          ],
          "mesh3d": [
           {
            "colorbar": {
             "outlinewidth": 0,
             "ticks": ""
            },
            "type": "mesh3d"
           }
          ],
          "parcoords": [
           {
            "line": {
             "colorbar": {
              "outlinewidth": 0,
              "ticks": ""
             }
            },
            "type": "parcoords"
           }
          ],
          "pie": [
           {
            "automargin": true,
            "type": "pie"
           }
          ],
          "scatter": [
           {
            "fillpattern": {
             "fillmode": "overlay",
             "size": 10,
             "solidity": 0.2
            },
            "type": "scatter"
           }
          ],
          "scatter3d": [
           {
            "line": {
             "colorbar": {
              "outlinewidth": 0,
              "ticks": ""
             }
            },
            "marker": {
             "colorbar": {
              "outlinewidth": 0,
              "ticks": ""
             }
            },
            "type": "scatter3d"
           }
          ],
          "scattercarpet": [
           {
            "marker": {
             "colorbar": {
              "outlinewidth": 0,
              "ticks": ""
             }
            },
            "type": "scattercarpet"
           }
          ],
          "scattergeo": [
           {
            "marker": {
             "colorbar": {
              "outlinewidth": 0,
              "ticks": ""
             }
            },
            "type": "scattergeo"
           }
          ],
          "scattergl": [
           {
            "marker": {
             "colorbar": {
              "outlinewidth": 0,
              "ticks": ""
             }
            },
            "type": "scattergl"
           }
          ],
          "scattermap": [
           {
            "marker": {
             "colorbar": {
              "outlinewidth": 0,
              "ticks": ""
             }
            },
            "type": "scattermap"
           }
          ],
          "scattermapbox": [
           {
            "marker": {
             "colorbar": {
              "outlinewidth": 0,
              "ticks": ""
             }
            },
            "type": "scattermapbox"
           }
          ],
          "scatterpolar": [
           {
            "marker": {
             "colorbar": {
              "outlinewidth": 0,
              "ticks": ""
             }
            },
            "type": "scatterpolar"
           }
          ],
          "scatterpolargl": [
           {
            "marker": {
             "colorbar": {
              "outlinewidth": 0,
              "ticks": ""
             }
            },
            "type": "scatterpolargl"
           }
          ],
          "scatterternary": [
           {
            "marker": {
             "colorbar": {
              "outlinewidth": 0,
              "ticks": ""
             }
            },
            "type": "scatterternary"
           }
          ],
          "surface": [
           {
            "colorbar": {
             "outlinewidth": 0,
             "ticks": ""
            },
            "colorscale": [
             [
              0,
              "#0d0887"
             ],
             [
              0.1111111111111111,
              "#46039f"
             ],
             [
              0.2222222222222222,
              "#7201a8"
             ],
             [
              0.3333333333333333,
              "#9c179e"
             ],
             [
              0.4444444444444444,
              "#bd3786"
             ],
             [
              0.5555555555555556,
              "#d8576b"
             ],
             [
              0.6666666666666666,
              "#ed7953"
             ],
             [
              0.7777777777777778,
              "#fb9f3a"
             ],
             [
              0.8888888888888888,
              "#fdca26"
             ],
             [
              1,
              "#f0f921"
             ]
            ],
            "type": "surface"
           }
          ],
          "table": [
           {
            "cells": {
             "fill": {
              "color": "#EBF0F8"
             },
             "line": {
              "color": "white"
             }
            },
            "header": {
             "fill": {
              "color": "#C8D4E3"
             },
             "line": {
              "color": "white"
             }
            },
            "type": "table"
           }
          ]
         },
         "layout": {
          "annotationdefaults": {
           "arrowcolor": "#2a3f5f",
           "arrowhead": 0,
           "arrowwidth": 1
          },
          "autotypenumbers": "strict",
          "coloraxis": {
           "colorbar": {
            "outlinewidth": 0,
            "ticks": ""
           }
          },
          "colorscale": {
           "diverging": [
            [
             0,
             "#8e0152"
            ],
            [
             0.1,
             "#c51b7d"
            ],
            [
             0.2,
             "#de77ae"
            ],
            [
             0.3,
             "#f1b6da"
            ],
            [
             0.4,
             "#fde0ef"
            ],
            [
             0.5,
             "#f7f7f7"
            ],
            [
             0.6,
             "#e6f5d0"
            ],
            [
             0.7,
             "#b8e186"
            ],
            [
             0.8,
             "#7fbc41"
            ],
            [
             0.9,
             "#4d9221"
            ],
            [
             1,
             "#276419"
            ]
           ],
           "sequential": [
            [
             0,
             "#0d0887"
            ],
            [
             0.1111111111111111,
             "#46039f"
            ],
            [
             0.2222222222222222,
             "#7201a8"
            ],
            [
             0.3333333333333333,
             "#9c179e"
            ],
            [
             0.4444444444444444,
             "#bd3786"
            ],
            [
             0.5555555555555556,
             "#d8576b"
            ],
            [
             0.6666666666666666,
             "#ed7953"
            ],
            [
             0.7777777777777778,
             "#fb9f3a"
            ],
            [
             0.8888888888888888,
             "#fdca26"
            ],
            [
             1,
             "#f0f921"
            ]
           ],
           "sequentialminus": [
            [
             0,
             "#0d0887"
            ],
            [
             0.1111111111111111,
             "#46039f"
            ],
            [
             0.2222222222222222,
             "#7201a8"
            ],
            [
             0.3333333333333333,
             "#9c179e"
            ],
            [
             0.4444444444444444,
             "#bd3786"
            ],
            [
             0.5555555555555556,
             "#d8576b"
            ],
            [
             0.6666666666666666,
             "#ed7953"
            ],
            [
             0.7777777777777778,
             "#fb9f3a"
            ],
            [
             0.8888888888888888,
             "#fdca26"
            ],
            [
             1,
             "#f0f921"
            ]
           ]
          },
          "colorway": [
           "#636efa",
           "#EF553B",
           "#00cc96",
           "#ab63fa",
           "#FFA15A",
           "#19d3f3",
           "#FF6692",
           "#B6E880",
           "#FF97FF",
           "#FECB52"
          ],
          "font": {
           "color": "#2a3f5f"
          },
          "geo": {
           "bgcolor": "white",
           "lakecolor": "white",
           "landcolor": "#E5ECF6",
           "showlakes": true,
           "showland": true,
           "subunitcolor": "white"
          },
          "hoverlabel": {
           "align": "left"
          },
          "hovermode": "closest",
          "mapbox": {
           "style": "light"
          },
          "paper_bgcolor": "white",
          "plot_bgcolor": "#E5ECF6",
          "polar": {
           "angularaxis": {
            "gridcolor": "white",
            "linecolor": "white",
            "ticks": ""
           },
           "bgcolor": "#E5ECF6",
           "radialaxis": {
            "gridcolor": "white",
            "linecolor": "white",
            "ticks": ""
           }
          },
          "scene": {
           "xaxis": {
            "backgroundcolor": "#E5ECF6",
            "gridcolor": "white",
            "gridwidth": 2,
            "linecolor": "white",
            "showbackground": true,
            "ticks": "",
            "zerolinecolor": "white"
           },
           "yaxis": {
            "backgroundcolor": "#E5ECF6",
            "gridcolor": "white",
            "gridwidth": 2,
            "linecolor": "white",
            "showbackground": true,
            "ticks": "",
            "zerolinecolor": "white"
           },
           "zaxis": {
            "backgroundcolor": "#E5ECF6",
            "gridcolor": "white",
            "gridwidth": 2,
            "linecolor": "white",
            "showbackground": true,
            "ticks": "",
            "zerolinecolor": "white"
           }
          },
          "shapedefaults": {
           "line": {
            "color": "#2a3f5f"
           }
          },
          "ternary": {
           "aaxis": {
            "gridcolor": "white",
            "linecolor": "white",
            "ticks": ""
           },
           "baxis": {
            "gridcolor": "white",
            "linecolor": "white",
            "ticks": ""
           },
           "bgcolor": "#E5ECF6",
           "caxis": {
            "gridcolor": "white",
            "linecolor": "white",
            "ticks": ""
           }
          },
          "title": {
           "x": 0.05
          },
          "xaxis": {
           "automargin": true,
           "gridcolor": "white",
           "linecolor": "white",
           "ticks": "",
           "title": {
            "standoff": 15
           },
           "zerolinecolor": "white",
           "zerolinewidth": 2
          },
          "yaxis": {
           "automargin": true,
           "gridcolor": "white",
           "linecolor": "white",
           "ticks": "",
           "title": {
            "standoff": 15
           },
           "zerolinecolor": "white",
           "zerolinewidth": 2
          }
         }
        },
        "title": {
         "text": "<b>Historical price of computer memory and storage</b>",
         "x": 0.02,
         "xanchor": "left"
        },
        "width": 900,
        "xaxis": {
         "anchor": "y",
         "domain": [
          0,
          1
         ],
         "title": {
          "text": "Year"
         }
        },
        "yaxis": {
         "anchor": "x",
         "domain": [
          0,
          1
         ],
         "title": {
          "text": "Price (log scale, $/TB)"
         },
         "type": "log"
        }
       }
      }
     },
     "metadata": {},
     "output_type": "display_data"
    }
   ],
   "source": [
    "import plotly.express as px\n",
    "import pandas as pd\n",
    "\n",
    "# Load your dataset\n",
    "df = pd.read_csv(\"data/historical-cost-of-computer-memory-and-storage.csv\")\n",
    "\n",
    "# Create the figure\n",
    "fig = px.line(\n",
    "    df,\n",
    "    x=\"Year\",\n",
    "    y=[\"Historical price of memory\", \"Historical price of flash memory\", \"Historical price of disk drives\", \"Historical price of solid-state drives\"],\n",
    "    labels={\n",
    "        \"value\": \"Price ($/TB)\",\n",
    "        \"variable\": \"Type of storage\",\n",
    "        \"Year\": \"Year\",\n",
    "    },\n",
    ")\n",
    "\n",
    "# Update traces: make the lines nicer\n",
    "fig.update_traces(marker_line_width=2)\n",
    "\n",
    "# Update layout\n",
    "fig.update_layout(\n",
    "    title={\n",
    "        \"text\": \"<b>Historical price of computer memory and storage</b>\",\n",
    "        \"x\": 0.02,\n",
    "        \"xanchor\": \"left\",\n",
    "    },\n",
    "    yaxis_type=\"log\",  # THIS is key!\n",
    "    yaxis_title=\"Price (log scale, $/TB)\",\n",
    "    xaxis_title=\"Year\",\n",
    "    height=600,\n",
    "    width=900,\n",
    "    font=dict(family=\"Georgia\", size=14),\n",
    "    legend_title_text=\"\",\n",
    "    plot_bgcolor=\"white\",\n",
    ")\n",
    "\n",
    "# Show the figure\n",
    "fig.show()\n"
   ]
  },
  {
   "cell_type": "markdown",
   "id": "5f2e8f01",
   "metadata": {},
   "source": [
    "#3) Spiderchart "
   ]
  },
  {
   "cell_type": "code",
   "execution_count": null,
   "id": "f83e57c0",
   "metadata": {},
   "outputs": [
    {
     "data": {
      "text/plain": [
       "<bound method DataFrame.info of    Entity      Code  Year  Historical price of memory  \\\n",
       "0   World  OWID_WRL  1957                3.786967e+15   \n",
       "1   World  OWID_WRL  1959                6.032806e+14   \n",
       "2   World  OWID_WRL  1960                4.588051e+13   \n",
       "3   World  OWID_WRL  1965                2.170492e+13   \n",
       "4   World  OWID_WRL  1970                4.892936e+12   \n",
       "5   World  OWID_WRL  1973                2.327902e+12   \n",
       "6   World  OWID_WRL  1974                1.651140e+12   \n",
       "7   World  OWID_WRL  1975                2.400716e+11   \n",
       "8   World  OWID_WRL  1976                1.047827e+11   \n",
       "9   World  OWID_WRL  1977                9.838598e+10   \n",
       "10  World  OWID_WRL  1978                6.030552e+10   \n",
       "11  World  OWID_WRL  1979                2.390727e+10   \n",
       "12  World  OWID_WRL  1980                2.035106e+10   \n",
       "13  World  OWID_WRL  1981                1.274971e+10   \n",
       "14  World  OWID_WRL  1982                5.310323e+09   \n",
       "15  World  OWID_WRL  1983                5.145041e+09   \n",
       "16  World  OWID_WRL  1984                3.315175e+09   \n",
       "17  World  OWID_WRL  1985                7.206131e+08   \n",
       "18  World  OWID_WRL  1986                4.474543e+08   \n",
       "19  World  OWID_WRL  1987                3.029429e+08   \n",
       "20  World  OWID_WRL  1988                2.910737e+08   \n",
       "21  World  OWID_WRL  1989                2.361765e+08   \n",
       "22  World  OWID_WRL  1990                9.012750e+07   \n",
       "23  World  OWID_WRL  1991                7.553873e+07   \n",
       "24  World  OWID_WRL  1992                4.841758e+07   \n",
       "25  World  OWID_WRL  1993                4.702944e+07   \n",
       "26  World  OWID_WRL  1994                4.583433e+07   \n",
       "27  World  OWID_WRL  1995                4.458358e+07   \n",
       "28  World  OWID_WRL  1996                8.662792e+06   \n",
       "29  World  OWID_WRL  1997                3.476658e+06   \n",
       "30  World  OWID_WRL  1998                1.339637e+06   \n",
       "31  World  OWID_WRL  1999                1.213724e+06   \n",
       "32  World  OWID_WRL  2000                1.045033e+06   \n",
       "33  World  OWID_WRL  2001                2.157090e+05   \n",
       "34  World  OWID_WRL  2002                1.921637e+05   \n",
       "35  World  OWID_WRL  2003                1.071663e+05   \n",
       "36  World  OWID_WRL  2004                1.043720e+05   \n",
       "37  World  OWID_WRL  2005                1.009471e+05   \n",
       "38  World  OWID_WRL  2006                9.339802e+04   \n",
       "39  World  OWID_WRL  2007                3.044391e+04   \n",
       "40  World  OWID_WRL  2008                1.173614e+04   \n",
       "41  World  OWID_WRL  2009                1.177802e+04   \n",
       "42  World  OWID_WRL  2010                1.158797e+04   \n",
       "43  World  OWID_WRL  2011                5.897578e+03   \n",
       "44  World  OWID_WRL  2012                4.126761e+03   \n",
       "45  World  OWID_WRL  2013                4.067184e+03   \n",
       "46  World  OWID_WRL  2014                4.002258e+03   \n",
       "47  World  OWID_WRL  2015                3.997516e+03   \n",
       "48  World  OWID_WRL  2016                2.961111e+03   \n",
       "49  World  OWID_WRL  2017                2.899351e+03   \n",
       "50  World  OWID_WRL  2018                2.830221e+03   \n",
       "51  World  OWID_WRL  2019                2.779844e+03   \n",
       "52  World  OWID_WRL  2020                2.745970e+03   \n",
       "53  World  OWID_WRL  2021                2.477310e+03   \n",
       "54  World  OWID_WRL  2022                1.861932e+03   \n",
       "55  World  OWID_WRL  2023                1.088437e+03   \n",
       "56  World  OWID_WRL  1956                         NaN   \n",
       "57  World  OWID_WRL  1964                         NaN   \n",
       "58  World  OWID_WRL  1966                         NaN   \n",
       "\n",
       "    Historical price of flash memory  Historical price of disk drives  \\\n",
       "0                                NaN                              NaN   \n",
       "1                                NaN                     6.747736e+10   \n",
       "2                                NaN                     3.150364e+10   \n",
       "3                                NaN                              NaN   \n",
       "4                                NaN                     1.731185e+09   \n",
       "5                                NaN                     1.513812e+09   \n",
       "6                                NaN                     9.710340e+08   \n",
       "7                                NaN                     8.896885e+08   \n",
       "8                                NaN                              NaN   \n",
       "9                                NaN                              NaN   \n",
       "10                               NaN                              NaN   \n",
       "11                               NaN                     6.597322e+08   \n",
       "12                               NaN                     5.810100e+08   \n",
       "13                               NaN                     5.265886e+08   \n",
       "14                               NaN                     4.961665e+08   \n",
       "15                               NaN                     3.115609e+08   \n",
       "16                               NaN                     9.342615e+07   \n",
       "17                               NaN                     7.553290e+07   \n",
       "18                               NaN                     4.356481e+07   \n",
       "19                               NaN                     3.409057e+07   \n",
       "20                               NaN                     2.181229e+07   \n",
       "21                               NaN                     1.562332e+07   \n",
       "22                               NaN                     6.475771e+06   \n",
       "23                               NaN                     5.305764e+06   \n",
       "24                               NaN                     2.581349e+06   \n",
       "25                               NaN                     1.285969e+06   \n",
       "26                               NaN                     7.564362e+05   \n",
       "27                               NaN                     3.632010e+05   \n",
       "28                               NaN                     2.105471e+05   \n",
       "29                               NaN                     7.801758e+04   \n",
       "30                               NaN                     3.944486e+04   \n",
       "31                               NaN                     1.373056e+04   \n",
       "32                               NaN                     6.119577e+03   \n",
       "33                               NaN                     3.785698e+03   \n",
       "34                               NaN                     1.750592e+03   \n",
       "35                      269289.70000                     1.055063e+03   \n",
       "36                      262268.12000                     8.349828e+02   \n",
       "37                      100921.24000                     5.383847e+02   \n",
       "38                       18793.69000                     2.808012e+02   \n",
       "39                        9139.27050                     2.496212e+02   \n",
       "40                        2200.71120                     1.201961e+02   \n",
       "41                        1950.48450                     8.443390e+01   \n",
       "42                        1412.27470                     5.341073e+01   \n",
       "43                        1158.37260                     4.218038e+01   \n",
       "44                         653.27890                     4.132522e+01   \n",
       "45                         508.39658                     4.072861e+01   \n",
       "46                         366.16135                     3.826366e+01   \n",
       "47                         158.12556                     3.093500e+01   \n",
       "48                         156.15555                     2.987024e+01   \n",
       "49                         152.89864                     2.639642e+01   \n",
       "50                               NaN                     2.408703e+01   \n",
       "51                               NaN                     1.898130e+01   \n",
       "52                               NaN                     1.625000e+01   \n",
       "53                               NaN                     1.552085e+01   \n",
       "54                               NaN                     1.263745e+01   \n",
       "55                               NaN                     1.061740e+01   \n",
       "56                               NaN                     8.759275e+10   \n",
       "57                               NaN                     2.936028e+10   \n",
       "58                               NaN                     8.350479e+09   \n",
       "\n",
       "    Historical price of solid-state drives  \n",
       "0                                      NaN  \n",
       "1                                      NaN  \n",
       "2                                      NaN  \n",
       "3                                      NaN  \n",
       "4                                      NaN  \n",
       "5                                      NaN  \n",
       "6                                      NaN  \n",
       "7                                      NaN  \n",
       "8                                      NaN  \n",
       "9                                      NaN  \n",
       "10                                     NaN  \n",
       "11                                     NaN  \n",
       "12                                     NaN  \n",
       "13                                     NaN  \n",
       "14                                     NaN  \n",
       "15                                     NaN  \n",
       "16                                     NaN  \n",
       "17                                     NaN  \n",
       "18                                     NaN  \n",
       "19                                     NaN  \n",
       "20                                     NaN  \n",
       "21                                     NaN  \n",
       "22                                     NaN  \n",
       "23                                     NaN  \n",
       "24                                     NaN  \n",
       "25                                     NaN  \n",
       "26                                     NaN  \n",
       "27                                     NaN  \n",
       "28                                     NaN  \n",
       "29                                     NaN  \n",
       "30                                     NaN  \n",
       "31                                     NaN  \n",
       "32                                     NaN  \n",
       "33                                     NaN  \n",
       "34                                     NaN  \n",
       "35                                     NaN  \n",
       "36                                     NaN  \n",
       "37                                     NaN  \n",
       "38                                     NaN  \n",
       "39                                     NaN  \n",
       "40                                     NaN  \n",
       "41                                     NaN  \n",
       "42                                     NaN  \n",
       "43                                     NaN  \n",
       "44                                     NaN  \n",
       "45                              694.319460  \n",
       "46                              409.945920  \n",
       "47                              272.944300  \n",
       "48                              219.023220  \n",
       "49                              214.455080  \n",
       "50                              107.345490  \n",
       "51                               80.136510  \n",
       "52                               74.990000  \n",
       "53                               71.625150  \n",
       "54                               39.796032  \n",
       "55                               25.906467  \n",
       "56                                     NaN  \n",
       "57                                     NaN  \n",
       "58                                     NaN  >"
      ]
     },
     "metadata": {},
     "output_type": "display_data"
    }
   ],
   "source": [
    "df.info"
   ]
  },
  {
   "cell_type": "code",
   "execution_count": null,
   "id": "514bb161",
   "metadata": {},
   "outputs": [
    {
     "data": {
      "application/vnd.plotly.v1+json": {
       "config": {
        "plotlyServerURL": "https://plot.ly"
       },
       "data": [
        {
         "fill": "tonext",
         "hovertemplate": "<b>%{meta[0]}</b><br>%{theta}<br>Skill level %{r}<extra></extra>",
         "meta": [
          "Data engineer"
         ],
         "name": "Skills",
         "opacity": 0.5,
         "r": [
          8,
          6,
          7,
          6,
          6,
          6,
          6,
          6,
          6,
          6,
          7,
          7
         ],
         "theta": [
          "Phyton",
          "Pandas",
          "SQL",
          "PostgreSQL",
          "Docker",
          "CI/CD",
          "Azure",
          "Modern Data Stack",
          "Data Lakes",
          "LLms och RAGs",
          "Data Visualization",
          "Phyton"
         ],
         "type": "scatterpolar"
        }
       ],
       "layout": {
        "template": {
         "data": {
          "bar": [
           {
            "error_x": {
             "color": "#2a3f5f"
            },
            "error_y": {
             "color": "#2a3f5f"
            },
            "marker": {
             "line": {
              "color": "#E5ECF6",
              "width": 0.5
             },
             "pattern": {
              "fillmode": "overlay",
              "size": 10,
              "solidity": 0.2
             }
            },
            "type": "bar"
           }
          ],
          "barpolar": [
           {
            "marker": {
             "line": {
              "color": "#E5ECF6",
              "width": 0.5
             },
             "pattern": {
              "fillmode": "overlay",
              "size": 10,
              "solidity": 0.2
             }
            },
            "type": "barpolar"
           }
          ],
          "carpet": [
           {
            "aaxis": {
             "endlinecolor": "#2a3f5f",
             "gridcolor": "white",
             "linecolor": "white",
             "minorgridcolor": "white",
             "startlinecolor": "#2a3f5f"
            },
            "baxis": {
             "endlinecolor": "#2a3f5f",
             "gridcolor": "white",
             "linecolor": "white",
             "minorgridcolor": "white",
             "startlinecolor": "#2a3f5f"
            },
            "type": "carpet"
           }
          ],
          "choropleth": [
           {
            "colorbar": {
             "outlinewidth": 0,
             "ticks": ""
            },
            "type": "choropleth"
           }
          ],
          "contour": [
           {
            "colorbar": {
             "outlinewidth": 0,
             "ticks": ""
            },
            "colorscale": [
             [
              0,
              "#0d0887"
             ],
             [
              0.1111111111111111,
              "#46039f"
             ],
             [
              0.2222222222222222,
              "#7201a8"
             ],
             [
              0.3333333333333333,
              "#9c179e"
             ],
             [
              0.4444444444444444,
              "#bd3786"
             ],
             [
              0.5555555555555556,
              "#d8576b"
             ],
             [
              0.6666666666666666,
              "#ed7953"
             ],
             [
              0.7777777777777778,
              "#fb9f3a"
             ],
             [
              0.8888888888888888,
              "#fdca26"
             ],
             [
              1,
              "#f0f921"
             ]
            ],
            "type": "contour"
           }
          ],
          "contourcarpet": [
           {
            "colorbar": {
             "outlinewidth": 0,
             "ticks": ""
            },
            "type": "contourcarpet"
           }
          ],
          "heatmap": [
           {
            "colorbar": {
             "outlinewidth": 0,
             "ticks": ""
            },
            "colorscale": [
             [
              0,
              "#0d0887"
             ],
             [
              0.1111111111111111,
              "#46039f"
             ],
             [
              0.2222222222222222,
              "#7201a8"
             ],
             [
              0.3333333333333333,
              "#9c179e"
             ],
             [
              0.4444444444444444,
              "#bd3786"
             ],
             [
              0.5555555555555556,
              "#d8576b"
             ],
             [
              0.6666666666666666,
              "#ed7953"
             ],
             [
              0.7777777777777778,
              "#fb9f3a"
             ],
             [
              0.8888888888888888,
              "#fdca26"
             ],
             [
              1,
              "#f0f921"
             ]
            ],
            "type": "heatmap"
           }
          ],
          "histogram": [
           {
            "marker": {
             "pattern": {
              "fillmode": "overlay",
              "size": 10,
              "solidity": 0.2
             }
            },
            "type": "histogram"
           }
          ],
          "histogram2d": [
           {
            "colorbar": {
             "outlinewidth": 0,
             "ticks": ""
            },
            "colorscale": [
             [
              0,
              "#0d0887"
             ],
             [
              0.1111111111111111,
              "#46039f"
             ],
             [
              0.2222222222222222,
              "#7201a8"
             ],
             [
              0.3333333333333333,
              "#9c179e"
             ],
             [
              0.4444444444444444,
              "#bd3786"
             ],
             [
              0.5555555555555556,
              "#d8576b"
             ],
             [
              0.6666666666666666,
              "#ed7953"
             ],
             [
              0.7777777777777778,
              "#fb9f3a"
             ],
             [
              0.8888888888888888,
              "#fdca26"
             ],
             [
              1,
              "#f0f921"
             ]
            ],
            "type": "histogram2d"
           }
          ],
          "histogram2dcontour": [
           {
            "colorbar": {
             "outlinewidth": 0,
             "ticks": ""
            },
            "colorscale": [
             [
              0,
              "#0d0887"
             ],
             [
              0.1111111111111111,
              "#46039f"
             ],
             [
              0.2222222222222222,
              "#7201a8"
             ],
             [
              0.3333333333333333,
              "#9c179e"
             ],
             [
              0.4444444444444444,
              "#bd3786"
             ],
             [
              0.5555555555555556,
              "#d8576b"
             ],
             [
              0.6666666666666666,
              "#ed7953"
             ],
             [
              0.7777777777777778,
              "#fb9f3a"
             ],
             [
              0.8888888888888888,
              "#fdca26"
             ],
             [
              1,
              "#f0f921"
             ]
            ],
            "type": "histogram2dcontour"
           }
          ],
          "mesh3d": [
           {
            "colorbar": {
             "outlinewidth": 0,
             "ticks": ""
            },
            "type": "mesh3d"
           }
          ],
          "parcoords": [
           {
            "line": {
             "colorbar": {
              "outlinewidth": 0,
              "ticks": ""
             }
            },
            "type": "parcoords"
           }
          ],
          "pie": [
           {
            "automargin": true,
            "type": "pie"
           }
          ],
          "scatter": [
           {
            "fillpattern": {
             "fillmode": "overlay",
             "size": 10,
             "solidity": 0.2
            },
            "type": "scatter"
           }
          ],
          "scatter3d": [
           {
            "line": {
             "colorbar": {
              "outlinewidth": 0,
              "ticks": ""
             }
            },
            "marker": {
             "colorbar": {
              "outlinewidth": 0,
              "ticks": ""
             }
            },
            "type": "scatter3d"
           }
          ],
          "scattercarpet": [
           {
            "marker": {
             "colorbar": {
              "outlinewidth": 0,
              "ticks": ""
             }
            },
            "type": "scattercarpet"
           }
          ],
          "scattergeo": [
           {
            "marker": {
             "colorbar": {
              "outlinewidth": 0,
              "ticks": ""
             }
            },
            "type": "scattergeo"
           }
          ],
          "scattergl": [
           {
            "marker": {
             "colorbar": {
              "outlinewidth": 0,
              "ticks": ""
             }
            },
            "type": "scattergl"
           }
          ],
          "scattermap": [
           {
            "marker": {
             "colorbar": {
              "outlinewidth": 0,
              "ticks": ""
             }
            },
            "type": "scattermap"
           }
          ],
          "scattermapbox": [
           {
            "marker": {
             "colorbar": {
              "outlinewidth": 0,
              "ticks": ""
             }
            },
            "type": "scattermapbox"
           }
          ],
          "scatterpolar": [
           {
            "marker": {
             "colorbar": {
              "outlinewidth": 0,
              "ticks": ""
             }
            },
            "type": "scatterpolar"
           }
          ],
          "scatterpolargl": [
           {
            "marker": {
             "colorbar": {
              "outlinewidth": 0,
              "ticks": ""
             }
            },
            "type": "scatterpolargl"
           }
          ],
          "scatterternary": [
           {
            "marker": {
             "colorbar": {
              "outlinewidth": 0,
              "ticks": ""
             }
            },
            "type": "scatterternary"
           }
          ],
          "surface": [
           {
            "colorbar": {
             "outlinewidth": 0,
             "ticks": ""
            },
            "colorscale": [
             [
              0,
              "#0d0887"
             ],
             [
              0.1111111111111111,
              "#46039f"
             ],
             [
              0.2222222222222222,
              "#7201a8"
             ],
             [
              0.3333333333333333,
              "#9c179e"
             ],
             [
              0.4444444444444444,
              "#bd3786"
             ],
             [
              0.5555555555555556,
              "#d8576b"
             ],
             [
              0.6666666666666666,
              "#ed7953"
             ],
             [
              0.7777777777777778,
              "#fb9f3a"
             ],
             [
              0.8888888888888888,
              "#fdca26"
             ],
             [
              1,
              "#f0f921"
             ]
            ],
            "type": "surface"
           }
          ],
          "table": [
           {
            "cells": {
             "fill": {
              "color": "#EBF0F8"
             },
             "line": {
              "color": "white"
             }
            },
            "header": {
             "fill": {
              "color": "#C8D4E3"
             },
             "line": {
              "color": "white"
             }
            },
            "type": "table"
           }
          ]
         },
         "layout": {
          "annotationdefaults": {
           "arrowcolor": "#2a3f5f",
           "arrowhead": 0,
           "arrowwidth": 1
          },
          "autotypenumbers": "strict",
          "coloraxis": {
           "colorbar": {
            "outlinewidth": 0,
            "ticks": ""
           }
          },
          "colorscale": {
           "diverging": [
            [
             0,
             "#8e0152"
            ],
            [
             0.1,
             "#c51b7d"
            ],
            [
             0.2,
             "#de77ae"
            ],
            [
             0.3,
             "#f1b6da"
            ],
            [
             0.4,
             "#fde0ef"
            ],
            [
             0.5,
             "#f7f7f7"
            ],
            [
             0.6,
             "#e6f5d0"
            ],
            [
             0.7,
             "#b8e186"
            ],
            [
             0.8,
             "#7fbc41"
            ],
            [
             0.9,
             "#4d9221"
            ],
            [
             1,
             "#276419"
            ]
           ],
           "sequential": [
            [
             0,
             "#0d0887"
            ],
            [
             0.1111111111111111,
             "#46039f"
            ],
            [
             0.2222222222222222,
             "#7201a8"
            ],
            [
             0.3333333333333333,
             "#9c179e"
            ],
            [
             0.4444444444444444,
             "#bd3786"
            ],
            [
             0.5555555555555556,
             "#d8576b"
            ],
            [
             0.6666666666666666,
             "#ed7953"
            ],
            [
             0.7777777777777778,
             "#fb9f3a"
            ],
            [
             0.8888888888888888,
             "#fdca26"
            ],
            [
             1,
             "#f0f921"
            ]
           ],
           "sequentialminus": [
            [
             0,
             "#0d0887"
            ],
            [
             0.1111111111111111,
             "#46039f"
            ],
            [
             0.2222222222222222,
             "#7201a8"
            ],
            [
             0.3333333333333333,
             "#9c179e"
            ],
            [
             0.4444444444444444,
             "#bd3786"
            ],
            [
             0.5555555555555556,
             "#d8576b"
            ],
            [
             0.6666666666666666,
             "#ed7953"
            ],
            [
             0.7777777777777778,
             "#fb9f3a"
            ],
            [
             0.8888888888888888,
             "#fdca26"
            ],
            [
             1,
             "#f0f921"
            ]
           ]
          },
          "colorway": [
           "#636efa",
           "#EF553B",
           "#00cc96",
           "#ab63fa",
           "#FFA15A",
           "#19d3f3",
           "#FF6692",
           "#B6E880",
           "#FF97FF",
           "#FECB52"
          ],
          "font": {
           "color": "#2a3f5f"
          },
          "geo": {
           "bgcolor": "white",
           "lakecolor": "white",
           "landcolor": "#E5ECF6",
           "showlakes": true,
           "showland": true,
           "subunitcolor": "white"
          },
          "hoverlabel": {
           "align": "left"
          },
          "hovermode": "closest",
          "mapbox": {
           "style": "light"
          },
          "paper_bgcolor": "white",
          "plot_bgcolor": "#E5ECF6",
          "polar": {
           "angularaxis": {
            "gridcolor": "white",
            "linecolor": "white",
            "ticks": ""
           },
           "bgcolor": "#E5ECF6",
           "radialaxis": {
            "gridcolor": "white",
            "linecolor": "white",
            "ticks": ""
           }
          },
          "scene": {
           "xaxis": {
            "backgroundcolor": "#E5ECF6",
            "gridcolor": "white",
            "gridwidth": 2,
            "linecolor": "white",
            "showbackground": true,
            "ticks": "",
            "zerolinecolor": "white"
           },
           "yaxis": {
            "backgroundcolor": "#E5ECF6",
            "gridcolor": "white",
            "gridwidth": 2,
            "linecolor": "white",
            "showbackground": true,
            "ticks": "",
            "zerolinecolor": "white"
           },
           "zaxis": {
            "backgroundcolor": "#E5ECF6",
            "gridcolor": "white",
            "gridwidth": 2,
            "linecolor": "white",
            "showbackground": true,
            "ticks": "",
            "zerolinecolor": "white"
           }
          },
          "shapedefaults": {
           "line": {
            "color": "#2a3f5f"
           }
          },
          "ternary": {
           "aaxis": {
            "gridcolor": "white",
            "linecolor": "white",
            "ticks": ""
           },
           "baxis": {
            "gridcolor": "white",
            "linecolor": "white",
            "ticks": ""
           },
           "bgcolor": "#E5ECF6",
           "caxis": {
            "gridcolor": "white",
            "linecolor": "white",
            "ticks": ""
           }
          },
          "title": {
           "x": 0.05
          },
          "xaxis": {
           "automargin": true,
           "gridcolor": "white",
           "linecolor": "white",
           "ticks": "",
           "title": {
            "standoff": 15
           },
           "zerolinecolor": "white",
           "zerolinewidth": 2
          },
          "yaxis": {
           "automargin": true,
           "gridcolor": "white",
           "linecolor": "white",
           "ticks": "",
           "title": {
            "standoff": 15
           },
           "zerolinecolor": "white",
           "zerolinewidth": 2
          }
         }
        }
       }
      }
     },
     "metadata": {},
     "output_type": "display_data"
    }
   ],
   "source": [
    "import plotly.graph_objects as go\n",
    "skills = [\n",
    "    \"Phyton\",\n",
    "    \"Pandas\",\n",
    "    \"SQL\",\n",
    "    \"PostgreSQL\",\n",
    "    \"Docker\",\n",
    "    \"CI/CD\",\n",
    "    \"Azure\",\n",
    "    \"Modern Data Stack\",\n",
    "    \"Data Lakes\",\n",
    "    \"LLms och RAGs\",\n",
    "    \"Data Visualization\",\n",
    "]\n",
    "\n",
    "data = {\n",
    "    \"Skills\": [8, 6, 7, 6, 6, 6, 6, 6, 6, 6, 7],\n",
    "}\n",
    "\n",
    "colors = {\n",
    "    \"Skills\": \"green\",\n",
    "}\n",
    "\n",
    "fig = go.Figure()\n",
    "\n",
    "fig.add_trace(\n",
    "    go.Scatterpolar(\n",
    "        r=[8, 6, 7, 6, 6, 6, 6, 6, 6, 6, 7] + [7],\n",
    "        theta=skills + [skills[0]],\n",
    "        fill=\"tonext\",\n",
    "        name=\"Skills\",\n",
    "        meta=[\"Data engineer\"],\n",
    "        opacity=0.5,\n",
    "        hovertemplate=\"<b>%{meta[0]}</b><br>%{theta}<br>Skill level %{r}<extra></extra>\",  # Mest dataengineer visas, plocka ut värdet av theta\n",
    "    )\n",
    ")\n"
   ]
  },
  {
   "cell_type": "markdown",
   "id": "e80dfa63",
   "metadata": {},
   "source": [
    "#4) Internet data"
   ]
  },
  {
   "cell_type": "code",
   "execution_count": null,
   "id": "f3767e88",
   "metadata": {},
   "outputs": [],
   "source": [
    "import pandas as pd\n",
    "\n",
    "df = pd.read_csv(\"data/landline-internet-subscriptions.csv\")\n",
    "df\n",
    "\n",
    "df.columns = df.columns.str.strip()  # Removes leading/trailing spaces"
   ]
  },
  {
   "cell_type": "code",
   "execution_count": null,
   "id": "a9e80f66",
   "metadata": {},
   "outputs": [
    {
     "data": {
      "text/plain": [
       "Entity                           object\n",
       "Code                             object\n",
       "Year                              int64\n",
       "Fixed broadband subscriptions     int64\n",
       "dtype: object"
      ]
     },
     "execution_count": 12,
     "metadata": {},
     "output_type": "execute_result"
    }
   ],
   "source": [
    "df.dtypes"
   ]
  },
  {
   "cell_type": "code",
   "execution_count": null,
   "id": "97961d24",
   "metadata": {},
   "outputs": [
    {
     "data": {
      "text/plain": [
       "Index(['Entity', 'Code', 'Year', 'Fixed broadband subscriptions'], dtype='object')"
      ]
     },
     "execution_count": 13,
     "metadata": {},
     "output_type": "execute_result"
    }
   ],
   "source": [
    "df.columns"
   ]
  },
  {
   "cell_type": "code",
   "execution_count": null,
   "id": "5bd31d39",
   "metadata": {},
   "outputs": [],
   "source": [
    "# df_2023 = df[\"Year\"] == 2023\n",
    "# df_2023"
   ]
  },
  {
   "cell_type": "code",
   "execution_count": null,
   "id": "545fd496",
   "metadata": {},
   "outputs": [],
   "source": [
    "\n"
   ]
  },
  {
   "cell_type": "code",
   "execution_count": null,
   "id": "c638cf76",
   "metadata": {},
   "outputs": [],
   "source": [
    "import duckdb\n",
    "\n",
    "# df_2023 = duckdb.query(\n",
    "#     \"\"\"--sql\n",
    "\n",
    "#     SELECT\n",
    "#         Entity,\n",
    "#         Code,\n",
    "#         Year,\n",
    "#         \"Fixed broadband subscriptions\"\n",
    "#     FROM df\n",
    "\n",
    "#     WHERE Year ='2023';\n",
    "# \"\"\"\n",
    "# ).df()\n",
    "\n",
    "duckdb.register(\"df\", df)  \n",
    "\n",
    "df_2023 = duckdb.query(\n",
    "    \"\"\"--sql\n",
    "    SELECT\n",
    "        Entity,\n",
    "        Code,\n",
    "        Year,\n",
    "        \"Fixed broadband subscriptions\"\n",
    "    FROM df\n",
    "    WHERE Year = 2023\n",
    "    \"\"\"\n",
    ").df()\n"
   ]
  },
  {
   "cell_type": "code",
   "execution_count": null,
   "id": "e16eb948",
   "metadata": {},
   "outputs": [
    {
     "data": {
      "text/html": [
       "<div>\n",
       "<style scoped>\n",
       "    .dataframe tbody tr th:only-of-type {\n",
       "        vertical-align: middle;\n",
       "    }\n",
       "\n",
       "    .dataframe tbody tr th {\n",
       "        vertical-align: top;\n",
       "    }\n",
       "\n",
       "    .dataframe thead th {\n",
       "        text-align: right;\n",
       "    }\n",
       "</style>\n",
       "<table border=\"1\" class=\"dataframe\">\n",
       "  <thead>\n",
       "    <tr style=\"text-align: right;\">\n",
       "      <th></th>\n",
       "      <th>Entity</th>\n",
       "      <th>Code</th>\n",
       "      <th>Year</th>\n",
       "      <th>Fixed broadband subscriptions</th>\n",
       "    </tr>\n",
       "  </thead>\n",
       "  <tbody>\n",
       "    <tr>\n",
       "      <th>0</th>\n",
       "      <td>Afghanistan</td>\n",
       "      <td>AFG</td>\n",
       "      <td>2023</td>\n",
       "      <td>33200</td>\n",
       "    </tr>\n",
       "    <tr>\n",
       "      <th>1</th>\n",
       "      <td>Albania</td>\n",
       "      <td>ALB</td>\n",
       "      <td>2023</td>\n",
       "      <td>632000</td>\n",
       "    </tr>\n",
       "    <tr>\n",
       "      <th>2</th>\n",
       "      <td>Algeria</td>\n",
       "      <td>DZA</td>\n",
       "      <td>2023</td>\n",
       "      <td>5540000</td>\n",
       "    </tr>\n",
       "    <tr>\n",
       "      <th>3</th>\n",
       "      <td>Andorra</td>\n",
       "      <td>AND</td>\n",
       "      <td>2023</td>\n",
       "      <td>41800</td>\n",
       "    </tr>\n",
       "    <tr>\n",
       "      <th>4</th>\n",
       "      <td>Angola</td>\n",
       "      <td>AGO</td>\n",
       "      <td>2023</td>\n",
       "      <td>137000</td>\n",
       "    </tr>\n",
       "    <tr>\n",
       "      <th>...</th>\n",
       "      <td>...</td>\n",
       "      <td>...</td>\n",
       "      <td>...</td>\n",
       "      <td>...</td>\n",
       "    </tr>\n",
       "    <tr>\n",
       "      <th>147</th>\n",
       "      <td>Uzbekistan</td>\n",
       "      <td>UZB</td>\n",
       "      <td>2023</td>\n",
       "      <td>10800000</td>\n",
       "    </tr>\n",
       "    <tr>\n",
       "      <th>148</th>\n",
       "      <td>Vietnam</td>\n",
       "      <td>VNM</td>\n",
       "      <td>2023</td>\n",
       "      <td>22800000</td>\n",
       "    </tr>\n",
       "    <tr>\n",
       "      <th>149</th>\n",
       "      <td>World</td>\n",
       "      <td>OWID_WRL</td>\n",
       "      <td>2023</td>\n",
       "      <td>1495600000</td>\n",
       "    </tr>\n",
       "    <tr>\n",
       "      <th>150</th>\n",
       "      <td>Zambia</td>\n",
       "      <td>ZMB</td>\n",
       "      <td>2023</td>\n",
       "      <td>99000</td>\n",
       "    </tr>\n",
       "    <tr>\n",
       "      <th>151</th>\n",
       "      <td>Zimbabwe</td>\n",
       "      <td>ZWE</td>\n",
       "      <td>2023</td>\n",
       "      <td>269000</td>\n",
       "    </tr>\n",
       "  </tbody>\n",
       "</table>\n",
       "<p>152 rows × 4 columns</p>\n",
       "</div>"
      ],
      "text/plain": [
       "          Entity      Code  Year  Fixed broadband subscriptions\n",
       "0    Afghanistan       AFG  2023                          33200\n",
       "1        Albania       ALB  2023                         632000\n",
       "2        Algeria       DZA  2023                        5540000\n",
       "3        Andorra       AND  2023                          41800\n",
       "4         Angola       AGO  2023                         137000\n",
       "..           ...       ...   ...                            ...\n",
       "147   Uzbekistan       UZB  2023                       10800000\n",
       "148      Vietnam       VNM  2023                       22800000\n",
       "149        World  OWID_WRL  2023                     1495600000\n",
       "150       Zambia       ZMB  2023                          99000\n",
       "151     Zimbabwe       ZWE  2023                         269000\n",
       "\n",
       "[152 rows x 4 columns]"
      ]
     },
     "execution_count": 15,
     "metadata": {},
     "output_type": "execute_result"
    }
   ],
   "source": [
    "df_2023"
   ]
  },
  {
   "cell_type": "code",
   "execution_count": null,
   "id": "c69092b0",
   "metadata": {},
   "outputs": [
    {
     "data": {
      "application/vnd.plotly.v1+json": {
       "config": {
        "plotlyServerURL": "https://plot.ly"
       },
       "data": [
        {
         "colorbar": {
          "orientation": "h",
          "x": 0.5,
          "xanchor": "center",
          "y": -0.15
         },
         "colorscale": [
          [
           0,
           "rgb(255,245,235)"
          ],
          [
           0.125,
           "rgb(254,230,206)"
          ],
          [
           0.25,
           "rgb(253,208,162)"
          ],
          [
           0.375,
           "rgb(253,174,107)"
          ],
          [
           0.5,
           "rgb(253,141,60)"
          ],
          [
           0.625,
           "rgb(241,105,19)"
          ],
          [
           0.75,
           "rgb(217,72,1)"
          ],
          [
           0.875,
           "rgb(166,54,3)"
          ],
          [
           1,
           "rgb(127,39,4)"
          ]
         ],
         "locations": [
          "AFG",
          "ALB",
          "DZA",
          "AND",
          "AGO",
          "ARG",
          "ARM",
          "AUS",
          "AUT",
          "AZE",
          "BHS",
          "BHR",
          "BGD",
          "BLR",
          "BEL",
          "BEN",
          "BTN",
          "BIH",
          "BWA",
          "BRA",
          "BRN",
          "BGR",
          "BDI",
          "CAN",
          "CPV",
          "CHL",
          "CHN",
          "COL",
          "COM",
          "COG",
          "CRI",
          "CIV",
          "HRV",
          "CUB",
          "CYP",
          "CZE",
          "DNK",
          "DJI",
          "DOM",
          null,
          "TLS",
          "ECU",
          "EGY",
          "EST",
          "SWZ",
          null,
          "FIN",
          "FRA",
          "GEO",
          "DEU",
          "GHA",
          "GRC",
          "GTM",
          "GNB",
          null,
          "HND",
          "HKG",
          "HUN",
          "ISL",
          "IND",
          "IDN",
          "IRN",
          "IRQ",
          "IRL",
          "ISR",
          "ITA",
          "JAM",
          "JPN",
          "JOR",
          "KAZ",
          "KEN",
          "KIR",
          "KWT",
          "KGZ",
          null,
          "LVA",
          "LSO",
          "LIE",
          "LTU",
          null,
          null,
          "MAC",
          "MDG",
          "MWI",
          "MYS",
          "MDV",
          "MLT",
          "MUS",
          "MEX",
          null,
          "MDA",
          "MCO",
          "MNG",
          "MNE",
          "MMR",
          "NAM",
          "NLD",
          "NZL",
          "NIC",
          "NGA",
          null,
          "OMN",
          "PAK",
          "PLW",
          "PSE",
          "PAN",
          "PRY",
          "PER",
          "PHL",
          "POL",
          "PRT",
          "PRI",
          "QAT",
          "ROU",
          "RWA",
          "VCT",
          "STP",
          "SAU",
          "SEN",
          "SRB",
          "SYC",
          "SGP",
          "SVK",
          "SVN",
          "ZAF",
          null,
          "KOR",
          "SSD",
          "ESP",
          "LKA",
          null,
          "SWE",
          "CHE",
          "SYR",
          "TZA",
          "THA",
          "TGO",
          "TTO",
          "TUN",
          "TUR",
          "UGA",
          "UKR",
          "ARE",
          "GBR",
          "USA",
          null,
          "URY",
          "UZB",
          "VNM",
          "OWID_WRL",
          "ZMB",
          "ZWE"
         ],
         "marker": {
          "line": {
           "color": "white"
          }
         },
         "text": [
          "Afghanistan",
          "Albania",
          "Algeria",
          "Andorra",
          "Angola",
          "Argentina",
          "Armenia",
          "Australia",
          "Austria",
          "Azerbaijan",
          "Bahamas",
          "Bahrain",
          "Bangladesh",
          "Belarus",
          "Belgium",
          "Benin",
          "Bhutan",
          "Bosnia and Herzegovina",
          "Botswana",
          "Brazil",
          "Brunei",
          "Bulgaria",
          "Burundi",
          "Canada",
          "Cape Verde",
          "Chile",
          "China",
          "Colombia",
          "Comoros",
          "Congo",
          "Costa Rica",
          "Cote d'Ivoire",
          "Croatia",
          "Cuba",
          "Cyprus",
          "Czechia",
          "Denmark",
          "Djibouti",
          "Dominican Republic",
          "East Asia and Pacific (WB)",
          "East Timor",
          "Ecuador",
          "Egypt",
          "Estonia",
          "Eswatini",
          "Europe and Central Asia (WB)",
          "Finland",
          "France",
          "Georgia",
          "Germany",
          "Ghana",
          "Greece",
          "Guatemala",
          "Guinea-Bissau",
          "High-income countries",
          "Honduras",
          "Hong Kong",
          "Hungary",
          "Iceland",
          "India",
          "Indonesia",
          "Iran",
          "Iraq",
          "Ireland",
          "Israel",
          "Italy",
          "Jamaica",
          "Japan",
          "Jordan",
          "Kazakhstan",
          "Kenya",
          "Kiribati",
          "Kuwait",
          "Kyrgyzstan",
          "Latin America and Caribbean (WB)",
          "Latvia",
          "Lesotho",
          "Liechtenstein",
          "Lithuania",
          "Low-income countries",
          "Lower-middle-income countries",
          "Macao",
          "Madagascar",
          "Malawi",
          "Malaysia",
          "Maldives",
          "Malta",
          "Mauritius",
          "Mexico",
          "Middle East and North Africa (WB)",
          "Moldova",
          "Monaco",
          "Mongolia",
          "Montenegro",
          "Myanmar",
          "Namibia",
          "Netherlands",
          "New Zealand",
          "Nicaragua",
          "Nigeria",
          "North America (WB)",
          "Oman",
          "Pakistan",
          "Palau",
          "Palestine",
          "Panama",
          "Paraguay",
          "Peru",
          "Philippines",
          "Poland",
          "Portugal",
          "Puerto Rico",
          "Qatar",
          "Romania",
          "Rwanda",
          "Saint Vincent and the Grenadines",
          "Sao Tome and Principe",
          "Saudi Arabia",
          "Senegal",
          "Serbia",
          "Seychelles",
          "Singapore",
          "Slovakia",
          "Slovenia",
          "South Africa",
          "South Asia (WB)",
          "South Korea",
          "South Sudan",
          "Spain",
          "Sri Lanka",
          "Sub-Saharan Africa (WB)",
          "Sweden",
          "Switzerland",
          "Syria",
          "Tanzania",
          "Thailand",
          "Togo",
          "Trinidad and Tobago",
          "Tunisia",
          "Turkey",
          "Uganda",
          "Ukraine",
          "United Arab Emirates",
          "United Kingdom",
          "United States",
          "Upper-middle-income countries",
          "Uruguay",
          "Uzbekistan",
          "Vietnam",
          "World",
          "Zambia",
          "Zimbabwe"
         ],
         "type": "choropleth",
         "z": {
          "bdata": "pw2ipqgVEkCh2Z9b7zMXQHvV8aRa+RpA5LbaWxh8EkDVDq9OAYwUQNHRpZUnPhxAFx8u1uLyFkCshcG9O+8bQLwXA1hcuxlAhF7zzGpUGUCUdL5ZqekTQId9amRpthVAS2sWcD5xHEDSb00SRgUaQLX0CuNK1hpAZDYRMzSHEUB+C1IifBEQQHm5AZUU1RdANosS7KG1E0DBedYaSL0eQMpGnB/G3hNAb5a5mYGOGUA6tnyI6pALQB/DCc/66xxAkp2tBV1PEkAhKZKi3J4aQDTDLLtemyFACYrtwKzMG0BDuemfLyYMQMzWxArJkxNAwPR0rCc+GEDgf9KneIMWQBZQ4D9pLhhAYXpI9OUOFkByb8r57jUWQDtMnKN9cxpAYmvKaGexGUBMhK9/AewQQOKRZKDHZhhAEcRX8dHMIUD91U+WJ4n+P7Zyu6T11xlA7GKVbr6IHEBkf2MQwdkWQOgALLWfHRJAttY0gd32IEDbYaAOyS8ZQEHOuGNsCR5APAeT8mIqGECQD23tWlYeQPwwYYqqZBVAFVUspuiaGkC9TAcAZ9sXQMLJgwqbmg5Ail63NpNvIUBxhBDW3rUWQPRSE04a5BlA/IIaV680GkAluFBwPqUUQJE+kXGoYB5Ae61NOXaFHEBLJG8kUyYcQFruzYrKjxtAMxsZLrTeGEACOS+2fcMZQObJbgh5Nh1ABy254OiaFkDMdA3gqbgeQGmYwBiJnxdAnaX5tWo4GkD9eqHRd3sYQJ9bUGvPJwVAFXOoFcXCEkA17Ovtx6IWQKWOfK0EKiBA/AQVatrBFkBU7MqlcpUPQIQgVFWOLRFAeg44bxagF0Cj4bg0IC0aQEPwEyT/OSBAyrFihitOFUA+3mES/BoSQLEzt0C+5hBA2mTZ8bmkGkBcpcWASPkTQDoHYyDdfRVAls9FeSQkFkC2fxAtFLMdQHj0QzALWR9Atmpd2/2yF0DFErKPmVoRQBM5+xjbyhZAfSdczeA6FUBblurORbcYQOAiSkhyERRAuLRCTDaTG0B2J7cxaSQZQLfI0kIKRxZAbADTfNNFFEDdJWkKuVYgQC/6SxS7/xZAyYeot/gaGkAqQhs3CuoIQGXAdKy0iRZAXr/hZb2hF0Dl8ViOI8YXQMF/duLrMBpAXIJTxaeAG0CEAV/VbAQcQKLxhgOqphpAee1A6KeAF0Dl7Tp1TCkWQO48DNw6SRtA9UaJN9ksE0B+eSZcu/URQDteRwOVGA5AwHBTqT2lHEByb8r57jUWQNf2GXOyRRlACbespsxhEkAw47H9mcgYQMnhaQrADBlA2rQxjHJWF0CEXvPMalQZQDzMzwcbFh9AvhX3ei+HHUBXLfcN8mwCQGMJAilQCh1AvZZ7FXk2GUDABqCF2O0bQD4xNvuriBpARaxngsOLGkBSjpssi9YYQOmETRVk4RhA0dGllSc+HEDuDJZDRjoUQEFRtITvbBZAyUxobMLzGEC0zW4uRSsdQFbsGyDulhJA3YFReKOgG0D1Trtg6mIaQNS3NRsOzR1A/63T+wo8IECwRqqirtohQDwHk/JiKhhAmb/12DkiHEDlGj96hm4dQNBYW2mBWSJADKpC8Yj7E0AVbqhnEbgVQA==",
          "dtype": "f8"
         }
        }
       ],
       "layout": {
        "geo": {
         "projection": {
          "type": "natural earth"
         },
         "showcoastlines": false,
         "showframe": false
        },
        "height": 600,
        "template": {
         "data": {
          "bar": [
           {
            "error_x": {
             "color": "#2a3f5f"
            },
            "error_y": {
             "color": "#2a3f5f"
            },
            "marker": {
             "line": {
              "color": "#E5ECF6",
              "width": 0.5
             },
             "pattern": {
              "fillmode": "overlay",
              "size": 10,
              "solidity": 0.2
             }
            },
            "type": "bar"
           }
          ],
          "barpolar": [
           {
            "marker": {
             "line": {
              "color": "#E5ECF6",
              "width": 0.5
             },
             "pattern": {
              "fillmode": "overlay",
              "size": 10,
              "solidity": 0.2
             }
            },
            "type": "barpolar"
           }
          ],
          "carpet": [
           {
            "aaxis": {
             "endlinecolor": "#2a3f5f",
             "gridcolor": "white",
             "linecolor": "white",
             "minorgridcolor": "white",
             "startlinecolor": "#2a3f5f"
            },
            "baxis": {
             "endlinecolor": "#2a3f5f",
             "gridcolor": "white",
             "linecolor": "white",
             "minorgridcolor": "white",
             "startlinecolor": "#2a3f5f"
            },
            "type": "carpet"
           }
          ],
          "choropleth": [
           {
            "colorbar": {
             "outlinewidth": 0,
             "ticks": ""
            },
            "type": "choropleth"
           }
          ],
          "contour": [
           {
            "colorbar": {
             "outlinewidth": 0,
             "ticks": ""
            },
            "colorscale": [
             [
              0,
              "#0d0887"
             ],
             [
              0.1111111111111111,
              "#46039f"
             ],
             [
              0.2222222222222222,
              "#7201a8"
             ],
             [
              0.3333333333333333,
              "#9c179e"
             ],
             [
              0.4444444444444444,
              "#bd3786"
             ],
             [
              0.5555555555555556,
              "#d8576b"
             ],
             [
              0.6666666666666666,
              "#ed7953"
             ],
             [
              0.7777777777777778,
              "#fb9f3a"
             ],
             [
              0.8888888888888888,
              "#fdca26"
             ],
             [
              1,
              "#f0f921"
             ]
            ],
            "type": "contour"
           }
          ],
          "contourcarpet": [
           {
            "colorbar": {
             "outlinewidth": 0,
             "ticks": ""
            },
            "type": "contourcarpet"
           }
          ],
          "heatmap": [
           {
            "colorbar": {
             "outlinewidth": 0,
             "ticks": ""
            },
            "colorscale": [
             [
              0,
              "#0d0887"
             ],
             [
              0.1111111111111111,
              "#46039f"
             ],
             [
              0.2222222222222222,
              "#7201a8"
             ],
             [
              0.3333333333333333,
              "#9c179e"
             ],
             [
              0.4444444444444444,
              "#bd3786"
             ],
             [
              0.5555555555555556,
              "#d8576b"
             ],
             [
              0.6666666666666666,
              "#ed7953"
             ],
             [
              0.7777777777777778,
              "#fb9f3a"
             ],
             [
              0.8888888888888888,
              "#fdca26"
             ],
             [
              1,
              "#f0f921"
             ]
            ],
            "type": "heatmap"
           }
          ],
          "histogram": [
           {
            "marker": {
             "pattern": {
              "fillmode": "overlay",
              "size": 10,
              "solidity": 0.2
             }
            },
            "type": "histogram"
           }
          ],
          "histogram2d": [
           {
            "colorbar": {
             "outlinewidth": 0,
             "ticks": ""
            },
            "colorscale": [
             [
              0,
              "#0d0887"
             ],
             [
              0.1111111111111111,
              "#46039f"
             ],
             [
              0.2222222222222222,
              "#7201a8"
             ],
             [
              0.3333333333333333,
              "#9c179e"
             ],
             [
              0.4444444444444444,
              "#bd3786"
             ],
             [
              0.5555555555555556,
              "#d8576b"
             ],
             [
              0.6666666666666666,
              "#ed7953"
             ],
             [
              0.7777777777777778,
              "#fb9f3a"
             ],
             [
              0.8888888888888888,
              "#fdca26"
             ],
             [
              1,
              "#f0f921"
             ]
            ],
            "type": "histogram2d"
           }
          ],
          "histogram2dcontour": [
           {
            "colorbar": {
             "outlinewidth": 0,
             "ticks": ""
            },
            "colorscale": [
             [
              0,
              "#0d0887"
             ],
             [
              0.1111111111111111,
              "#46039f"
             ],
             [
              0.2222222222222222,
              "#7201a8"
             ],
             [
              0.3333333333333333,
              "#9c179e"
             ],
             [
              0.4444444444444444,
              "#bd3786"
             ],
             [
              0.5555555555555556,
              "#d8576b"
             ],
             [
              0.6666666666666666,
              "#ed7953"
             ],
             [
              0.7777777777777778,
              "#fb9f3a"
             ],
             [
              0.8888888888888888,
              "#fdca26"
             ],
             [
              1,
              "#f0f921"
             ]
            ],
            "type": "histogram2dcontour"
           }
          ],
          "mesh3d": [
           {
            "colorbar": {
             "outlinewidth": 0,
             "ticks": ""
            },
            "type": "mesh3d"
           }
          ],
          "parcoords": [
           {
            "line": {
             "colorbar": {
              "outlinewidth": 0,
              "ticks": ""
             }
            },
            "type": "parcoords"
           }
          ],
          "pie": [
           {
            "automargin": true,
            "type": "pie"
           }
          ],
          "scatter": [
           {
            "fillpattern": {
             "fillmode": "overlay",
             "size": 10,
             "solidity": 0.2
            },
            "type": "scatter"
           }
          ],
          "scatter3d": [
           {
            "line": {
             "colorbar": {
              "outlinewidth": 0,
              "ticks": ""
             }
            },
            "marker": {
             "colorbar": {
              "outlinewidth": 0,
              "ticks": ""
             }
            },
            "type": "scatter3d"
           }
          ],
          "scattercarpet": [
           {
            "marker": {
             "colorbar": {
              "outlinewidth": 0,
              "ticks": ""
             }
            },
            "type": "scattercarpet"
           }
          ],
          "scattergeo": [
           {
            "marker": {
             "colorbar": {
              "outlinewidth": 0,
              "ticks": ""
             }
            },
            "type": "scattergeo"
           }
          ],
          "scattergl": [
           {
            "marker": {
             "colorbar": {
              "outlinewidth": 0,
              "ticks": ""
             }
            },
            "type": "scattergl"
           }
          ],
          "scattermap": [
           {
            "marker": {
             "colorbar": {
              "outlinewidth": 0,
              "ticks": ""
             }
            },
            "type": "scattermap"
           }
          ],
          "scattermapbox": [
           {
            "marker": {
             "colorbar": {
              "outlinewidth": 0,
              "ticks": ""
             }
            },
            "type": "scattermapbox"
           }
          ],
          "scatterpolar": [
           {
            "marker": {
             "colorbar": {
              "outlinewidth": 0,
              "ticks": ""
             }
            },
            "type": "scatterpolar"
           }
          ],
          "scatterpolargl": [
           {
            "marker": {
             "colorbar": {
              "outlinewidth": 0,
              "ticks": ""
             }
            },
            "type": "scatterpolargl"
           }
          ],
          "scatterternary": [
           {
            "marker": {
             "colorbar": {
              "outlinewidth": 0,
              "ticks": ""
             }
            },
            "type": "scatterternary"
           }
          ],
          "surface": [
           {
            "colorbar": {
             "outlinewidth": 0,
             "ticks": ""
            },
            "colorscale": [
             [
              0,
              "#0d0887"
             ],
             [
              0.1111111111111111,
              "#46039f"
             ],
             [
              0.2222222222222222,
              "#7201a8"
             ],
             [
              0.3333333333333333,
              "#9c179e"
             ],
             [
              0.4444444444444444,
              "#bd3786"
             ],
             [
              0.5555555555555556,
              "#d8576b"
             ],
             [
              0.6666666666666666,
              "#ed7953"
             ],
             [
              0.7777777777777778,
              "#fb9f3a"
             ],
             [
              0.8888888888888888,
              "#fdca26"
             ],
             [
              1,
              "#f0f921"
             ]
            ],
            "type": "surface"
           }
          ],
          "table": [
           {
            "cells": {
             "fill": {
              "color": "#EBF0F8"
             },
             "line": {
              "color": "white"
             }
            },
            "header": {
             "fill": {
              "color": "#C8D4E3"
             },
             "line": {
              "color": "white"
             }
            },
            "type": "table"
           }
          ]
         },
         "layout": {
          "annotationdefaults": {
           "arrowcolor": "#2a3f5f",
           "arrowhead": 0,
           "arrowwidth": 1
          },
          "autotypenumbers": "strict",
          "coloraxis": {
           "colorbar": {
            "outlinewidth": 0,
            "ticks": ""
           }
          },
          "colorscale": {
           "diverging": [
            [
             0,
             "#8e0152"
            ],
            [
             0.1,
             "#c51b7d"
            ],
            [
             0.2,
             "#de77ae"
            ],
            [
             0.3,
             "#f1b6da"
            ],
            [
             0.4,
             "#fde0ef"
            ],
            [
             0.5,
             "#f7f7f7"
            ],
            [
             0.6,
             "#e6f5d0"
            ],
            [
             0.7,
             "#b8e186"
            ],
            [
             0.8,
             "#7fbc41"
            ],
            [
             0.9,
             "#4d9221"
            ],
            [
             1,
             "#276419"
            ]
           ],
           "sequential": [
            [
             0,
             "#0d0887"
            ],
            [
             0.1111111111111111,
             "#46039f"
            ],
            [
             0.2222222222222222,
             "#7201a8"
            ],
            [
             0.3333333333333333,
             "#9c179e"
            ],
            [
             0.4444444444444444,
             "#bd3786"
            ],
            [
             0.5555555555555556,
             "#d8576b"
            ],
            [
             0.6666666666666666,
             "#ed7953"
            ],
            [
             0.7777777777777778,
             "#fb9f3a"
            ],
            [
             0.8888888888888888,
             "#fdca26"
            ],
            [
             1,
             "#f0f921"
            ]
           ],
           "sequentialminus": [
            [
             0,
             "#0d0887"
            ],
            [
             0.1111111111111111,
             "#46039f"
            ],
            [
             0.2222222222222222,
             "#7201a8"
            ],
            [
             0.3333333333333333,
             "#9c179e"
            ],
            [
             0.4444444444444444,
             "#bd3786"
            ],
            [
             0.5555555555555556,
             "#d8576b"
            ],
            [
             0.6666666666666666,
             "#ed7953"
            ],
            [
             0.7777777777777778,
             "#fb9f3a"
            ],
            [
             0.8888888888888888,
             "#fdca26"
            ],
            [
             1,
             "#f0f921"
            ]
           ]
          },
          "colorway": [
           "#636efa",
           "#EF553B",
           "#00cc96",
           "#ab63fa",
           "#FFA15A",
           "#19d3f3",
           "#FF6692",
           "#B6E880",
           "#FF97FF",
           "#FECB52"
          ],
          "font": {
           "color": "#2a3f5f"
          },
          "geo": {
           "bgcolor": "white",
           "lakecolor": "white",
           "landcolor": "#E5ECF6",
           "showlakes": true,
           "showland": true,
           "subunitcolor": "white"
          },
          "hoverlabel": {
           "align": "left"
          },
          "hovermode": "closest",
          "mapbox": {
           "style": "light"
          },
          "paper_bgcolor": "white",
          "plot_bgcolor": "#E5ECF6",
          "polar": {
           "angularaxis": {
            "gridcolor": "white",
            "linecolor": "white",
            "ticks": ""
           },
           "bgcolor": "#E5ECF6",
           "radialaxis": {
            "gridcolor": "white",
            "linecolor": "white",
            "ticks": ""
           }
          },
          "scene": {
           "xaxis": {
            "backgroundcolor": "#E5ECF6",
            "gridcolor": "white",
            "gridwidth": 2,
            "linecolor": "white",
            "showbackground": true,
            "ticks": "",
            "zerolinecolor": "white"
           },
           "yaxis": {
            "backgroundcolor": "#E5ECF6",
            "gridcolor": "white",
            "gridwidth": 2,
            "linecolor": "white",
            "showbackground": true,
            "ticks": "",
            "zerolinecolor": "white"
           },
           "zaxis": {
            "backgroundcolor": "#E5ECF6",
            "gridcolor": "white",
            "gridwidth": 2,
            "linecolor": "white",
            "showbackground": true,
            "ticks": "",
            "zerolinecolor": "white"
           }
          },
          "shapedefaults": {
           "line": {
            "color": "#2a3f5f"
           }
          },
          "ternary": {
           "aaxis": {
            "gridcolor": "white",
            "linecolor": "white",
            "ticks": ""
           },
           "baxis": {
            "gridcolor": "white",
            "linecolor": "white",
            "ticks": ""
           },
           "bgcolor": "#E5ECF6",
           "caxis": {
            "gridcolor": "white",
            "linecolor": "white",
            "ticks": ""
           }
          },
          "title": {
           "x": 0.05
          },
          "xaxis": {
           "automargin": true,
           "gridcolor": "white",
           "linecolor": "white",
           "ticks": "",
           "title": {
            "standoff": 15
           },
           "zerolinecolor": "white",
           "zerolinewidth": 2
          },
          "yaxis": {
           "automargin": true,
           "gridcolor": "white",
           "linecolor": "white",
           "ticks": "",
           "title": {
            "standoff": 15
           },
           "zerolinecolor": "white",
           "zerolinewidth": 2
          }
         }
        },
        "title": {
         "font": {
          "family": "Georgia",
          "size": 18
         },
         "pad": {
          "b": 10
         },
         "text": "<b>Landline Internet subscriptions, 2023</b><br><span style='font-size:13px; font-weight:normal; color:#666'>Subscriptions to fixed access to the public Internet with a download speed of at least 256 kbit/s.</span>",
         "x": 0.01,
         "xanchor": "left"
        },
        "width": 900
       }
      }
     },
     "metadata": {},
     "output_type": "display_data"
    }
   ],
   "source": [
    "import plotly.graph_objects as go\n",
    "import numpy as np\n",
    "\n",
    "df_2023[\"log_subscriptions\"] = np.log10(df_2023[\"Fixed broadband subscriptions\"] + 1)\n",
    "\n",
    "fig = go.Figure(\n",
    "    data=go.Choropleth(\n",
    "        locations=df_2023[\"Code\"],  # ISO-3 country codes (e.g. SWE, USA)\n",
    "        z=df_2023[\"log_subscriptions\"],  # Values to color by\n",
    "        text=df_2023[\"Entity\"],  # Hover text\n",
    "        colorscale=\"Oranges\",\n",
    "        colorbar=dict(\n",
    "            orientation=\"h\",  # Makes the bar horizontal\n",
    "            x=0.5,  # centers it\n",
    "            xanchor=\"center\",\n",
    "            y=-0.15,\n",
    "        \n",
    "        ),\n",
    "        marker_line_color=\"white\",  # Country borders\n",
    "    )\n",
    ")\n",
    "\n",
    "fig.update_layout(\n",
    "    title=dict(\n",
    "        text=\"<b>Landline Internet subscriptions, 2023</b><br><span style='font-size:13px; font-weight:normal; color:#666'>Subscriptions to fixed access to the public Internet with a download speed of at least 256 kbit/s.</span>\",\n",
    "        x=0.01,\n",
    "        xanchor=\"left\",\n",
    "        font=dict(family=\"Georgia\", size=18),\n",
    "        pad=dict(b=10),\n",
    "    ),\n",
    "    geo=dict(\n",
    "        showframe=False, # Rand runt jorden \n",
    "        showcoastlines=False, \n",
    "        projection_type=\"natural earth\"\n",
    "        ),\n",
    "    height=600,\n",
    "    width=900,\n",
    ")\n",
    "\n",
    "fig.show()"
   ]
  },
  {
   "cell_type": "code",
   "execution_count": null,
   "id": "9e012798",
   "metadata": {},
   "outputs": [
    {
     "name": "stdout",
     "output_type": "stream",
     "text": [
      "Index(['Entity', 'Code', 'Year', 'Fixed broadband subscriptions',\n",
      "       'log_subscriptions'],\n",
      "      dtype='object')\n"
     ]
    }
   ],
   "source": [
    "print(df_2023.columns)\n"
   ]
  },
  {
   "cell_type": "code",
   "execution_count": null,
   "id": "1b3497bb",
   "metadata": {},
   "outputs": [
    {
     "name": "stdout",
     "output_type": "stream",
     "text": [
      "Index(['Entity', 'Code', 'Year', 'Fixed broadband subscriptions'], dtype='object')\n"
     ]
    }
   ],
   "source": [
    "print(df.columns)\n"
   ]
  },
  {
   "cell_type": "markdown",
   "id": "97ba50d5",
   "metadata": {},
   "source": [
    "#Theory questions"
   ]
  },
  {
   "cell_type": "markdown",
   "id": "e827be77",
   "metadata": {},
   "source": [
    "  #a) What is the difference between plotly graph objects and plotly express\n",
    "\n",
    "| Plotly Graph Objects (`go`) | Plotly Express (`px`) |\n",
    "|:----------------------------|:----------------------|\n",
    "| **Low-level**: You manually build the figure step-by-step (add traces, layouts, annotations). | **High-level**: Quick, automatic chart creation in one line of code. |\n",
    "| **Very flexible**: You control every tiny detail (great for customizations like multiple axes, polar charts, etc.) | **Less flexible**: Good defaults, but less control unless you manually tweak the figure afterwards. |\n",
    "| **More verbose**: You have to specify more code even for simple charts. | **More concise**: Easy to create common charts quickly (bar, line, scatter, etc.). |\n",
    "| **Used for**: Complex, highly customized plots. | **Used for**: Quick analysis, prototyping, simple dashboards. |\n",
    "\n",
    "\n",
    "  #b) How do customize the hover in your visualizations?\n",
    "\n",
    "  In plotly: fig.update_traces(hovertemplate=\"GDP: %{x}<br>Life Expectancy: %{y}<extra></extra>\")\n",
    "\n",
    "  In Graph objects: go.Scatter(x=..., y=..., hovertemplate=\"GDP: %{x}<br>Life Expectancy: %{y}<extra></extra>\")\n",
    "\n",
    "  #c) When should you use plotly vs matplotlib?\n",
    "\n",
    "  | Use **Plotly** when... | Use **Matplotlib** when... |\n",
    "|:------------------------|:---------------------------|\n",
    "| You need **interactive** charts (hover, zoom, click). | You need **static** charts (for PDFs, printed reports). |\n",
    "| You are building **dashboards** (like in Dash, Streamlit). | You want **fine-tuned control** for scientific plots. |\n",
    "| You want **beautiful visuals quickly** with less code. | You are following a **classic academic publishing style**. |\n",
    "| Your audience will **explore** the charts online. | Your output needs to be **simple PNGs** or needs **LaTeX** support. |\n"
   ]
  },
  {
   "cell_type": "markdown",
   "id": "ef3dd1b0",
   "metadata": {},
   "source": []
  },
  {
   "cell_type": "markdown",
   "id": "2cc47c1f",
   "metadata": {},
   "source": [
    "#Glossary\n",
    "\n",
    "| Terminology       | Explanation |\n",
    "|:------------------|:------------|\n",
    "| **choropleth**    | A map where areas (countries, regions) are colored based on a data value, like population or GDP. |\n",
    "| **fig.update_layout** | A method to update the layout of a Plotly figure, like titles, fonts, axes, and background color. |\n",
    "| **radar chart**   | A circular chart that displays multivariate data, where each variable is a spoke and values are plotted on axes starting from the center. |\n",
    "| **spider chart**  | Another name for a radar chart; looks like a spider web when multiple series are plotted. |\n",
    "| **mapbox**        | A mapping service supported by Plotly for creating advanced, interactive map visualizations, often used for detailed street or satellite maps. |\n",
    "| **geojson**       | A format for encoding geographic data structures (points, lines, polygons) in JSON, often used for mapping regions. |\n",
    "| **bubble chart**  | A scatter plot where each point’s size represents a third variable (besides x and y). |\n",
    "| **pie chart**     | A circular chart divided into slices to illustrate proportional data (percentages or parts of a whole). |\n",
    "| **hovertemplate** | A Plotly property that customizes exactly what information appears when hovering over a chart element. |\n",
    "| **trace**         | A Plotly term for a single set of data points or graphical elements on a chart (like one line, one bar group, or one map layer). |\n"
   ]
  },
  {
   "cell_type": "markdown",
   "id": "43e07423",
   "metadata": {},
   "source": []
  }
 ],
 "metadata": {
  "kernelspec": {
   "display_name": ".venv",
   "language": "python",
   "name": "python3"
  },
  "language_info": {
   "codemirror_mode": {
    "name": "ipython",
    "version": 3
   },
   "file_extension": ".py",
   "mimetype": "text/x-python",
   "name": "python",
   "nbconvert_exporter": "python",
   "pygments_lexer": "ipython3",
   "version": "3.12.6"
  }
 },
 "nbformat": 4,
 "nbformat_minor": 5
}
